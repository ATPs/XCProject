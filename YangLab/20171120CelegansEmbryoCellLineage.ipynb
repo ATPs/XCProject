{
 "cells": [
  {
   "cell_type": "markdown",
   "metadata": {},
   "source": [
    "# 20171120CelegansCellLineageComparison\n",
    "\n",
    "Author: \"Xiaolong Cao\" \n",
    "Date: \"2017/11/20\"\n",
    "\n",
    "-----------"
   ]
  },
  {
   "cell_type": "markdown",
   "metadata": {},
   "source": [
    "1,000,000 subtree were generated in the alignment of embryonic cell lineage of C. elegans. \n",
    "# Aims\n",
    "1. Summarize the score matrix\n",
    "1. Summarize the 1,000,000 trees\n",
    "1. Calculate enrichment of paired nodes in aligned trees\n",
    "1. Combine aligned tree with EPIC data"
   ]
  },
  {
   "cell_type": "markdown",
   "metadata": {},
   "source": [
    "## set up working directory and load required packages"
   ]
  },
  {
   "cell_type": "code",
   "execution_count": 2,
   "metadata": {},
   "outputs": [
    {
     "data": {
      "text/html": [
       "'C:/Users/ATPs/OneDrive/Lab/YangLab/YangLabSharedProject_Xiaolong/Celegans/Lineages'"
      ],
      "text/latex": [
       "'C:/Users/ATPs/OneDrive/Lab/YangLab/YangLabSharedProject\\_Xiaolong/Celegans/Lineages'"
      ],
      "text/markdown": [
       "'C:/Users/ATPs/OneDrive/Lab/YangLab/YangLabSharedProject_Xiaolong/Celegans/Lineages'"
      ],
      "text/plain": [
       "[1] \"C:/Users/ATPs/OneDrive/Lab/YangLab/YangLabSharedProject_Xiaolong/Celegans/Lineages\""
      ]
     },
     "metadata": {},
     "output_type": "display_data"
    }
   ],
   "source": [
    "setwd(\"C:\\\\Users\\\\ATPs\\\\OneDrive\\\\Lab\\\\YangLab\\\\YangLabSharedProject_Xiaolong\\\\Celegans\\\\Lineages\")\n",
    "getwd()"
   ]
  },
  {
   "cell_type": "code",
   "execution_count": 3,
   "metadata": {},
   "outputs": [],
   "source": [
    "source(\"C:\\\\Users\\\\ATPs\\\\Documents\\\\GitHub\\\\XCProject\\\\YangLab\\\\20171121TreeAlignmentFunctions.R\")\n",
    "library(ggplot2)\n",
    "library(dplyr)\n",
    "library(ggtree)\n",
    "library(gplots)"
   ]
  },
  {
   "cell_type": "markdown",
   "metadata": {},
   "source": [
    "## set up files to use"
   ]
  },
  {
   "cell_type": "code",
   "execution_count": 365,
   "metadata": {},
   "outputs": [],
   "source": [
    "fname.referenceTree = \"fun.alm\"\n",
    "fname.symmetry = \"symmetry-sisters.csv\"\n",
    "fname.alignments = \"fun1000000.alml\"\n",
    "fname.matrix = \"20171126CelegansLineageTreeScoreMatrix.txt\"\n",
    "fname.epic = \"20171207EpicTable.txt\""
   ]
  },
  {
   "cell_type": "markdown",
   "metadata": {},
   "source": [
    "## 1 summarize the scoring matrix"
   ]
  },
  {
   "cell_type": "markdown",
   "metadata": {},
   "source": [
    "### read in the score matrix"
   ]
  },
  {
   "cell_type": "code",
   "execution_count": 5,
   "metadata": {
    "scrolled": true
   },
   "outputs": [],
   "source": [
    "df.matrix <- read.csv(fname.matrix, header = FALSE, sep = \" \")"
   ]
  },
  {
   "cell_type": "markdown",
   "metadata": {},
   "source": [
    "drop the last column, which is \"NA\""
   ]
  },
  {
   "cell_type": "code",
   "execution_count": 6,
   "metadata": {
    "scrolled": false
   },
   "outputs": [
    {
     "data": {
      "text/html": [
       "<ol class=list-inline>\n",
       "\t<li>1341</li>\n",
       "\t<li>1341</li>\n",
       "</ol>\n"
      ],
      "text/latex": [
       "\\begin{enumerate*}\n",
       "\\item 1341\n",
       "\\item 1341\n",
       "\\end{enumerate*}\n"
      ],
      "text/markdown": [
       "1. 1341\n",
       "2. 1341\n",
       "\n",
       "\n"
      ],
      "text/plain": [
       "[1] 1341 1341"
      ]
     },
     "metadata": {},
     "output_type": "display_data"
    },
    {
     "data": {
      "text/html": [
       "<table>\n",
       "<thead><tr><th></th><th scope=col>V1</th><th scope=col>V2</th><th scope=col>V3</th><th scope=col>V4</th><th scope=col>V5</th><th scope=col>V6</th><th scope=col>V7</th><th scope=col>V8</th><th scope=col>V9</th><th scope=col>V10</th><th scope=col>...</th><th scope=col>V1332</th><th scope=col>V1333</th><th scope=col>V1334</th><th scope=col>V1335</th><th scope=col>V1336</th><th scope=col>V1337</th><th scope=col>V1338</th><th scope=col>V1339</th><th scope=col>V1340</th><th scope=col>V1341</th></tr></thead>\n",
       "<tbody>\n",
       "\t<tr><th scope=row>1336</th><td>0   </td><td>0   </td><td>0   </td><td>0   </td><td>0   </td><td>0   </td><td>0   </td><td>0   </td><td>0   </td><td>0   </td><td>... </td><td>109 </td><td> 41 </td><td>114 </td><td>146 </td><td>270 </td><td> 41 </td><td>162 </td><td>112 </td><td> 39 </td><td>  18</td></tr>\n",
       "\t<tr><th scope=row>1337</th><td>0   </td><td>0   </td><td>0   </td><td>0   </td><td>0   </td><td>0   </td><td>0   </td><td>0   </td><td>0   </td><td>0   </td><td>... </td><td> 42 </td><td>168 </td><td> 24 </td><td> 25 </td><td> 41 </td><td>368 </td><td> 73 </td><td> 43 </td><td> 61 </td><td> 168</td></tr>\n",
       "\t<tr><th scope=row>1338</th><td>0   </td><td>0   </td><td>0   </td><td>0   </td><td>0   </td><td>0   </td><td>0   </td><td>0   </td><td>0   </td><td>0   </td><td>... </td><td>110 </td><td> 52 </td><td> 90 </td><td>108 </td><td>162 </td><td> 73 </td><td>486 </td><td>268 </td><td>242 </td><td>  81</td></tr>\n",
       "\t<tr><th scope=row>1339</th><td>0   </td><td>0   </td><td>0   </td><td>0   </td><td>0   </td><td>0   </td><td>0   </td><td>0   </td><td>0   </td><td>0   </td><td>... </td><td> 70 </td><td> 44 </td><td>125 </td><td>137 </td><td>112 </td><td> 43 </td><td>268 </td><td>488 </td><td>245 </td><td>  66</td></tr>\n",
       "\t<tr><th scope=row>1340</th><td>0   </td><td>0   </td><td>0   </td><td>0   </td><td>0   </td><td>0   </td><td>0   </td><td>0   </td><td>0   </td><td>0   </td><td>... </td><td> 23 </td><td> 39 </td><td> 38 </td><td> 42 </td><td> 39 </td><td> 61 </td><td>242 </td><td>245 </td><td>974 </td><td> 790</td></tr>\n",
       "\t<tr><th scope=row>1341</th><td>0   </td><td>0   </td><td>0   </td><td>0   </td><td>0   </td><td>0   </td><td>0   </td><td>0   </td><td>0   </td><td>0   </td><td>... </td><td> 20 </td><td> 98 </td><td> 14 </td><td> 15 </td><td> 18 </td><td>168 </td><td> 81 </td><td> 66 </td><td>790 </td><td>1342</td></tr>\n",
       "</tbody>\n",
       "</table>\n"
      ],
      "text/latex": [
       "\\begin{tabular}{r|lllllllllllllllllllllllllllllllllllllllllllllllllllllllllllllllllllllllllllllllllllllllllllllllllllllllllllllllllllllllllllllllllllllllllllllllllllllllllllllllllllllllllllllllllllllllllllllllllllllllllllllllllllllllllllllllllllllllllllllllllllllllllllllllllllllllllllllllllllllllllllllllllllllllllllllllllllllllllllllllllllllllllllllllllllllllllllllllllllllllllllllllllllllllllllllllllllllllllllllllllllllllllllllllllllllllllllllllllllllllllllllllllllllllllllllllllllllllllllllllllllllllllllllllllllllllllllllllllllllllllllllllllllllllllllllllllllllllllllllllllllllllllllllllllllllllllllllllllllllllllllllllllllllllllllllllllllllllllllllllllllllllllllllllllllllllllllllllllllllllllllllllllllllllllllllllllllllllllllllllllllllllllllllllllllllllllllllllllllllllllllllllllllllllllllllllllllllllllllllllllllllllllllllllllllllllllllllllllllllllllllllllllllllllllllllllllllllllllllllllllllllllllllllllllllllllllllllllllllllllllllllllllllllllllllllllllllllllllllllllllllllllllllllllllllllllllllllllllllllllllllllllllllllllllllllllllllllllllllllllllllllllllllllllllllllllllllllllllllllllllllllllllllllllllllllllllllllllllllllllllllllllllllllllllllllllllllllllllllllllllllllllllllllllllllllllllllllllllllllllllllllllllllllllllllllllllllllllllllllllllllllllllllllllllllllllllllllllllllllllllllllllllllllllllllllllllllllllllllllllllllllllllllllllllllll}\n",
       "  & V1 & V2 & V3 & V4 & V5 & V6 & V7 & V8 & V9 & V10 & ... & V1332 & V1333 & V1334 & V1335 & V1336 & V1337 & V1338 & V1339 & V1340 & V1341\\\\\n",
       "\\hline\n",
       "\t1336 & 0    & 0    & 0    & 0    & 0    & 0    & 0    & 0    & 0    & 0    & ...  & 109  &  41  & 114  & 146  & 270  &  41  & 162  & 112  &  39  &   18\\\\\n",
       "\t1337 & 0    & 0    & 0    & 0    & 0    & 0    & 0    & 0    & 0    & 0    & ...  &  42  & 168  &  24  &  25  &  41  & 368  &  73  &  43  &  61  &  168\\\\\n",
       "\t1338 & 0    & 0    & 0    & 0    & 0    & 0    & 0    & 0    & 0    & 0    & ...  & 110  &  52  &  90  & 108  & 162  &  73  & 486  & 268  & 242  &   81\\\\\n",
       "\t1339 & 0    & 0    & 0    & 0    & 0    & 0    & 0    & 0    & 0    & 0    & ...  &  70  &  44  & 125  & 137  & 112  &  43  & 268  & 488  & 245  &   66\\\\\n",
       "\t1340 & 0    & 0    & 0    & 0    & 0    & 0    & 0    & 0    & 0    & 0    & ...  &  23  &  39  &  38  &  42  &  39  &  61  & 242  & 245  & 974  &  790\\\\\n",
       "\t1341 & 0    & 0    & 0    & 0    & 0    & 0    & 0    & 0    & 0    & 0    & ...  &  20  &  98  &  14  &  15  &  18  & 168  &  81  &  66  & 790  & 1342\\\\\n",
       "\\end{tabular}\n"
      ],
      "text/markdown": [
       "\n",
       "| <!--/--> | V1 | V2 | V3 | V4 | V5 | V6 | V7 | V8 | V9 | V10 | ... | V1332 | V1333 | V1334 | V1335 | V1336 | V1337 | V1338 | V1339 | V1340 | V1341 | \n",
       "|---|---|---|---|---|---|\n",
       "| 1336 | 0    | 0    | 0    | 0    | 0    | 0    | 0    | 0    | 0    | 0    | ...  | 109  |  41  | 114  | 146  | 270  |  41  | 162  | 112  |  39  |   18 | \n",
       "| 1337 | 0    | 0    | 0    | 0    | 0    | 0    | 0    | 0    | 0    | 0    | ...  |  42  | 168  |  24  |  25  |  41  | 368  |  73  |  43  |  61  |  168 | \n",
       "| 1338 | 0    | 0    | 0    | 0    | 0    | 0    | 0    | 0    | 0    | 0    | ...  | 110  |  52  |  90  | 108  | 162  |  73  | 486  | 268  | 242  |   81 | \n",
       "| 1339 | 0    | 0    | 0    | 0    | 0    | 0    | 0    | 0    | 0    | 0    | ...  |  70  |  44  | 125  | 137  | 112  |  43  | 268  | 488  | 245  |   66 | \n",
       "| 1340 | 0    | 0    | 0    | 0    | 0    | 0    | 0    | 0    | 0    | 0    | ...  |  23  |  39  |  38  |  42  |  39  |  61  | 242  | 245  | 974  |  790 | \n",
       "| 1341 | 0    | 0    | 0    | 0    | 0    | 0    | 0    | 0    | 0    | 0    | ...  |  20  |  98  |  14  |  15  |  18  | 168  |  81  |  66  | 790  | 1342 | \n",
       "\n",
       "\n"
      ],
      "text/plain": [
       "     V1 V2 V3 V4 V5 V6 V7 V8 V9 V10 ... V1332 V1333 V1334 V1335 V1336 V1337\n",
       "1336 0  0  0  0  0  0  0  0  0  0   ... 109    41   114   146   270    41  \n",
       "1337 0  0  0  0  0  0  0  0  0  0   ...  42   168    24    25    41   368  \n",
       "1338 0  0  0  0  0  0  0  0  0  0   ... 110    52    90   108   162    73  \n",
       "1339 0  0  0  0  0  0  0  0  0  0   ...  70    44   125   137   112    43  \n",
       "1340 0  0  0  0  0  0  0  0  0  0   ...  23    39    38    42    39    61  \n",
       "1341 0  0  0  0  0  0  0  0  0  0   ...  20    98    14    15    18   168  \n",
       "     V1338 V1339 V1340 V1341\n",
       "1336 162   112    39     18 \n",
       "1337  73    43    61    168 \n",
       "1338 486   268   242     81 \n",
       "1339 268   488   245     66 \n",
       "1340 242   245   974    790 \n",
       "1341  81    66   790   1342 "
      ]
     },
     "metadata": {},
     "output_type": "display_data"
    }
   ],
   "source": [
    "df.matrix <- df.matrix[1:1341,1:1341]\n",
    "dim(df.matrix)\n",
    "tail(df.matrix)"
   ]
  },
  {
   "cell_type": "markdown",
   "metadata": {},
   "source": [
    "transform to matrix"
   ]
  },
  {
   "cell_type": "code",
   "execution_count": 7,
   "metadata": {
    "scrolled": false
   },
   "outputs": [
    {
     "data": {
      "text/html": [
       "<table>\n",
       "<thead><tr><th></th><th scope=col>V1</th><th scope=col>V2</th><th scope=col>V3</th><th scope=col>V4</th><th scope=col>V5</th><th scope=col>V6</th><th scope=col>V7</th><th scope=col>V8</th><th scope=col>V9</th><th scope=col>V10</th><th scope=col>...</th><th scope=col>V1332</th><th scope=col>V1333</th><th scope=col>V1334</th><th scope=col>V1335</th><th scope=col>V1336</th><th scope=col>V1337</th><th scope=col>V1338</th><th scope=col>V1339</th><th scope=col>V1340</th><th scope=col>V1341</th></tr></thead>\n",
       "<tbody>\n",
       "\t<tr><th scope=row>1336</th><td>0   </td><td>0   </td><td>0   </td><td>0   </td><td>0   </td><td>0   </td><td>0   </td><td>0   </td><td>0   </td><td>0   </td><td>... </td><td>109 </td><td> 41 </td><td>114 </td><td>146 </td><td>270 </td><td> 41 </td><td>162 </td><td>112 </td><td> 39 </td><td>  18</td></tr>\n",
       "\t<tr><th scope=row>1337</th><td>0   </td><td>0   </td><td>0   </td><td>0   </td><td>0   </td><td>0   </td><td>0   </td><td>0   </td><td>0   </td><td>0   </td><td>... </td><td> 42 </td><td>168 </td><td> 24 </td><td> 25 </td><td> 41 </td><td>368 </td><td> 73 </td><td> 43 </td><td> 61 </td><td> 168</td></tr>\n",
       "\t<tr><th scope=row>1338</th><td>0   </td><td>0   </td><td>0   </td><td>0   </td><td>0   </td><td>0   </td><td>0   </td><td>0   </td><td>0   </td><td>0   </td><td>... </td><td>110 </td><td> 52 </td><td> 90 </td><td>108 </td><td>162 </td><td> 73 </td><td>486 </td><td>268 </td><td>242 </td><td>  81</td></tr>\n",
       "\t<tr><th scope=row>1339</th><td>0   </td><td>0   </td><td>0   </td><td>0   </td><td>0   </td><td>0   </td><td>0   </td><td>0   </td><td>0   </td><td>0   </td><td>... </td><td> 70 </td><td> 44 </td><td>125 </td><td>137 </td><td>112 </td><td> 43 </td><td>268 </td><td>488 </td><td>245 </td><td>  66</td></tr>\n",
       "\t<tr><th scope=row>1340</th><td>0   </td><td>0   </td><td>0   </td><td>0   </td><td>0   </td><td>0   </td><td>0   </td><td>0   </td><td>0   </td><td>0   </td><td>... </td><td> 23 </td><td> 39 </td><td> 38 </td><td> 42 </td><td> 39 </td><td> 61 </td><td>242 </td><td>245 </td><td>974 </td><td> 790</td></tr>\n",
       "\t<tr><th scope=row>1341</th><td>0   </td><td>0   </td><td>0   </td><td>0   </td><td>0   </td><td>0   </td><td>0   </td><td>0   </td><td>0   </td><td>0   </td><td>... </td><td> 20 </td><td> 98 </td><td> 14 </td><td> 15 </td><td> 18 </td><td>168 </td><td> 81 </td><td> 66 </td><td>790 </td><td>1342</td></tr>\n",
       "</tbody>\n",
       "</table>\n"
      ],
      "text/latex": [
       "\\begin{tabular}{r|lllllllllllllllllllllllllllllllllllllllllllllllllllllllllllllllllllllllllllllllllllllllllllllllllllllllllllllllllllllllllllllllllllllllllllllllllllllllllllllllllllllllllllllllllllllllllllllllllllllllllllllllllllllllllllllllllllllllllllllllllllllllllllllllllllllllllllllllllllllllllllllllllllllllllllllllllllllllllllllllllllllllllllllllllllllllllllllllllllllllllllllllllllllllllllllllllllllllllllllllllllllllllllllllllllllllllllllllllllllllllllllllllllllllllllllllllllllllllllllllllllllllllllllllllllllllllllllllllllllllllllllllllllllllllllllllllllllllllllllllllllllllllllllllllllllllllllllllllllllllllllllllllllllllllllllllllllllllllllllllllllllllllllllllllllllllllllllllllllllllllllllllllllllllllllllllllllllllllllllllllllllllllllllllllllllllllllllllllllllllllllllllllllllllllllllllllllllllllllllllllllllllllllllllllllllllllllllllllllllllllllllllllllllllllllllllllllllllllllllllllllllllllllllllllllllllllllllllllllllllllllllllllllllllllllllllllllllllllllllllllllllllllllllllllllllllllllllllllllllllllllllllllllllllllllllllllllllllllllllllllllllllllllllllllllllllllllllllllllllllllllllllllllllllllllllllllllllllllllllllllllllllllllllllllllllllllllllllllllllllllllllllllllllllllllllllllllllllllllllllllllllllllllllllllllllllllllllllllllllllllllllllllllllllllllllllllllllllllllllllllllllllllllllllllllllllllllllllllllllllllllllllllllllllllllll}\n",
       "  & V1 & V2 & V3 & V4 & V5 & V6 & V7 & V8 & V9 & V10 & ... & V1332 & V1333 & V1334 & V1335 & V1336 & V1337 & V1338 & V1339 & V1340 & V1341\\\\\n",
       "\\hline\n",
       "\t1336 & 0    & 0    & 0    & 0    & 0    & 0    & 0    & 0    & 0    & 0    & ...  & 109  &  41  & 114  & 146  & 270  &  41  & 162  & 112  &  39  &   18\\\\\n",
       "\t1337 & 0    & 0    & 0    & 0    & 0    & 0    & 0    & 0    & 0    & 0    & ...  &  42  & 168  &  24  &  25  &  41  & 368  &  73  &  43  &  61  &  168\\\\\n",
       "\t1338 & 0    & 0    & 0    & 0    & 0    & 0    & 0    & 0    & 0    & 0    & ...  & 110  &  52  &  90  & 108  & 162  &  73  & 486  & 268  & 242  &   81\\\\\n",
       "\t1339 & 0    & 0    & 0    & 0    & 0    & 0    & 0    & 0    & 0    & 0    & ...  &  70  &  44  & 125  & 137  & 112  &  43  & 268  & 488  & 245  &   66\\\\\n",
       "\t1340 & 0    & 0    & 0    & 0    & 0    & 0    & 0    & 0    & 0    & 0    & ...  &  23  &  39  &  38  &  42  &  39  &  61  & 242  & 245  & 974  &  790\\\\\n",
       "\t1341 & 0    & 0    & 0    & 0    & 0    & 0    & 0    & 0    & 0    & 0    & ...  &  20  &  98  &  14  &  15  &  18  & 168  &  81  &  66  & 790  & 1342\\\\\n",
       "\\end{tabular}\n"
      ],
      "text/markdown": [
       "\n",
       "| <!--/--> | V1 | V2 | V3 | V4 | V5 | V6 | V7 | V8 | V9 | V10 | ... | V1332 | V1333 | V1334 | V1335 | V1336 | V1337 | V1338 | V1339 | V1340 | V1341 | \n",
       "|---|---|---|---|---|---|\n",
       "| 1336 | 0    | 0    | 0    | 0    | 0    | 0    | 0    | 0    | 0    | 0    | ...  | 109  |  41  | 114  | 146  | 270  |  41  | 162  | 112  |  39  |   18 | \n",
       "| 1337 | 0    | 0    | 0    | 0    | 0    | 0    | 0    | 0    | 0    | 0    | ...  |  42  | 168  |  24  |  25  |  41  | 368  |  73  |  43  |  61  |  168 | \n",
       "| 1338 | 0    | 0    | 0    | 0    | 0    | 0    | 0    | 0    | 0    | 0    | ...  | 110  |  52  |  90  | 108  | 162  |  73  | 486  | 268  | 242  |   81 | \n",
       "| 1339 | 0    | 0    | 0    | 0    | 0    | 0    | 0    | 0    | 0    | 0    | ...  |  70  |  44  | 125  | 137  | 112  |  43  | 268  | 488  | 245  |   66 | \n",
       "| 1340 | 0    | 0    | 0    | 0    | 0    | 0    | 0    | 0    | 0    | 0    | ...  |  23  |  39  |  38  |  42  |  39  |  61  | 242  | 245  | 974  |  790 | \n",
       "| 1341 | 0    | 0    | 0    | 0    | 0    | 0    | 0    | 0    | 0    | 0    | ...  |  20  |  98  |  14  |  15  |  18  | 168  |  81  |  66  | 790  | 1342 | \n",
       "\n",
       "\n"
      ],
      "text/plain": [
       "     V1 V2 V3 V4 V5 V6 V7 V8 V9 V10 ... V1332 V1333 V1334 V1335 V1336 V1337\n",
       "1336 0  0  0  0  0  0  0  0  0  0   ... 109    41   114   146   270    41  \n",
       "1337 0  0  0  0  0  0  0  0  0  0   ...  42   168    24    25    41   368  \n",
       "1338 0  0  0  0  0  0  0  0  0  0   ... 110    52    90   108   162    73  \n",
       "1339 0  0  0  0  0  0  0  0  0  0   ...  70    44   125   137   112    43  \n",
       "1340 0  0  0  0  0  0  0  0  0  0   ...  23    39    38    42    39    61  \n",
       "1341 0  0  0  0  0  0  0  0  0  0   ...  20    98    14    15    18   168  \n",
       "     V1338 V1339 V1340 V1341\n",
       "1336 162   112    39     18 \n",
       "1337  73    43    61    168 \n",
       "1338 486   268   242     81 \n",
       "1339 268   488   245     66 \n",
       "1340 242   245   974    790 \n",
       "1341  81    66   790   1342 "
      ]
     },
     "metadata": {},
     "output_type": "display_data"
    },
    {
     "data": {
      "text/html": [
       "<ol class=list-inline>\n",
       "\t<li>1341</li>\n",
       "\t<li>1341</li>\n",
       "</ol>\n"
      ],
      "text/latex": [
       "\\begin{enumerate*}\n",
       "\\item 1341\n",
       "\\item 1341\n",
       "\\end{enumerate*}\n"
      ],
      "text/markdown": [
       "1. 1341\n",
       "2. 1341\n",
       "\n",
       "\n"
      ],
      "text/plain": [
       "[1] 1341 1341"
      ]
     },
     "metadata": {},
     "output_type": "display_data"
    }
   ],
   "source": [
    "score.matrix <- as.matrix(df.matrix)\n",
    "tail(score.matrix)\n",
    "dim(score.matrix)"
   ]
  },
  {
   "cell_type": "markdown",
   "metadata": {},
   "source": [
    "### summary of the whole matrix"
   ]
  },
  {
   "cell_type": "code",
   "execution_count": 8,
   "metadata": {},
   "outputs": [
    {
     "name": "stdout",
     "output_type": "stream",
     "text": [
      "score.vector\n",
      "      0       1       2       3       4       5       6       7       8       9 \n",
      "1423936  163104  153247   18122   21209    4672    4801    2012    2133     784 \n",
      "     10      11      12      13      14      15      16      17      18      19 \n",
      "    939     402     452     300     365     182     203     116     175      80 \n",
      "     20      21      22      23      24      25      26      27      28      29 \n",
      "     89      60      83      52      78      48      57      22      38      38 \n",
      "     30      31      32      33      34      35      36      37      38      39 \n",
      "     15      24      27      22      30      12      27      16      20      10 \n",
      "     40      41      42      43      44      45      47      48      49      50 \n",
      "     16      12      10      16      14       4       4       5       4       4 \n",
      "     51      52      53      54      55      56      57      59      60      61 \n",
      "      6       8       6       8      12       5       6       2       3       4 \n",
      "     62      63      64      65      66      67      68      70      71      73 \n",
      "      3       4       2       2       7       6       2       5       6       2 \n",
      "     74      75      76      80      81      82      87      88      90      92 \n",
      "      6       2       2       1       4       2       2       2       2       1 \n",
      "     96      98     102     107     108     109     110     112     114     118 \n",
      "      4       4       1       2       2       2       2       2       2       2 \n",
      "    120     122     125     132     134     136     137     138     140     146 \n",
      "      1       2       2       2       1       1       2       1       1       2 \n",
      "    162     168     188     206     216     228     234     242     245     254 \n",
      "      2       6       1       2       1       1       1       2       2       1 \n",
      "    268     270     368     486     488     790     974    1342 \n",
      "      2       1       1       1       1       2       1       1 \n"
     ]
    }
   ],
   "source": [
    "score.vector <- as.vector(score.matrix)\n",
    "score.table <- table(score.vector)\n",
    "print(score.table)"
   ]
  },
  {
   "cell_type": "code",
   "execution_count": 9,
   "metadata": {},
   "outputs": [
    {
     "data": {
      "text/html": [
       "118"
      ],
      "text/latex": [
       "118"
      ],
      "text/markdown": [
       "118"
      ],
      "text/plain": [
       "[1] 118"
      ]
     },
     "metadata": {},
     "output_type": "display_data"
    }
   ],
   "source": [
    "n.uniquescore <- length(unique(as.vector(score.matrix)))\n",
    "n.uniquescore"
   ]
  },
  {
   "cell_type": "markdown",
   "metadata": {},
   "source": [
    "total unique values in score.matrix is 118."
   ]
  },
  {
   "cell_type": "code",
   "execution_count": 97,
   "metadata": {},
   "outputs": [
    {
     "data": {
      "text/html": [
       "<table>\n",
       "<thead><tr><th scope=col>Score</th><th scope=col>Freq</th><th scope=col>percentage</th></tr></thead>\n",
       "<tbody>\n",
       "\t<tr><td>0          </td><td>1423936    </td><td>0.791831755</td></tr>\n",
       "\t<tr><td>1          </td><td> 163104    </td><td>0.090699952</td></tr>\n",
       "\t<tr><td>2          </td><td> 153247    </td><td>0.085218606</td></tr>\n",
       "\t<tr><td>3          </td><td>  18122    </td><td>0.010077402</td></tr>\n",
       "\t<tr><td>4          </td><td>  21209    </td><td>0.011794041</td></tr>\n",
       "\t<tr><td>5          </td><td>   4672    </td><td>0.002598037</td></tr>\n",
       "</tbody>\n",
       "</table>\n"
      ],
      "text/latex": [
       "\\begin{tabular}{r|lll}\n",
       " Score & Freq & percentage\\\\\n",
       "\\hline\n",
       "\t 0           & 1423936     & 0.791831755\\\\\n",
       "\t 1           &  163104     & 0.090699952\\\\\n",
       "\t 2           &  153247     & 0.085218606\\\\\n",
       "\t 3           &   18122     & 0.010077402\\\\\n",
       "\t 4           &   21209     & 0.011794041\\\\\n",
       "\t 5           &    4672     & 0.002598037\\\\\n",
       "\\end{tabular}\n"
      ],
      "text/markdown": [
       "\n",
       "Score | Freq | percentage | \n",
       "|---|---|---|---|---|---|\n",
       "| 0           | 1423936     | 0.791831755 | \n",
       "| 1           |  163104     | 0.090699952 | \n",
       "| 2           |  153247     | 0.085218606 | \n",
       "| 3           |   18122     | 0.010077402 | \n",
       "| 4           |   21209     | 0.011794041 | \n",
       "| 5           |    4672     | 0.002598037 | \n",
       "\n",
       "\n"
      ],
      "text/plain": [
       "  Score Freq    percentage \n",
       "1 0     1423936 0.791831755\n",
       "2 1      163104 0.090699952\n",
       "3 2      153247 0.085218606\n",
       "4 3       18122 0.010077402\n",
       "5 4       21209 0.011794041\n",
       "6 5        4672 0.002598037"
      ]
     },
     "metadata": {},
     "output_type": "display_data"
    }
   ],
   "source": [
    "score.df <- as.data.frame(score.table)\n",
    "score.df$percentage <- score.df$Freq/sum(score.df$Freq)\n",
    "colnames(score.df) <- c(\"Score\",\"Freq\",\"percentage\")\n",
    "head(score.df)"
   ]
  },
  {
   "cell_type": "markdown",
   "metadata": {},
   "source": [
    "### matrix score histogram"
   ]
  },
  {
   "cell_type": "code",
   "execution_count": 125,
   "metadata": {},
   "outputs": [],
   "source": [
    "#sum(score.df[-c(1:50),]$Freq)\n",
    "#sum(score.df[-c(1:50),]$percentage)\n",
    "score.df2 <- score.df[1:50,]\n",
    "#tail(score.df2)\n",
    "score.df2[51,] <- c(51,sum(score.df[-c(1:50),]$Freq),sum(score.df[-c(1:50),]$percentage))\n",
    "score.df2$Score <- as.character(score.df2$Score)\n",
    "score.df2[51,1] <- \">50\"\n",
    "score.df2$Score <- factor(score.df2$Score, levels = score.df2$Score)"
   ]
  },
  {
   "cell_type": "code",
   "execution_count": 144,
   "metadata": {},
   "outputs": [
    {
     "data": {},
     "metadata": {},
     "output_type": "display_data"
    },
    {
     "data": {
      "image/png": "[encoded data removed]",
      "text/plain": [
       "plot without title"
      ]
     },
     "metadata": {},
     "output_type": "display_data"
    }
   ],
   "source": [
    "\n",
    "ggplot(score.df2) + \n",
    "    geom_bar(aes(x = Score, y = Freq, fill = Score),stat = \"identity\") + \n",
    "    scale_y_log10() + \n",
    "    theme(axis.text.x=element_text(angle=90, vjust=0.5,hjust=1)) +\n",
    "    geom_text(aes(x = Score, y = Freq, label = Freq), size=3,  hjust = -0.1, vjust = 0.4) +\n",
    "    theme(legend.position = \"none\") +\n",
    "    coord_flip()"
   ]
  },
  {
   "cell_type": "markdown",
   "metadata": {},
   "source": [
    "### label non-symetric parts in score.matrix"
   ]
  },
  {
   "cell_type": "code",
   "execution_count": 11,
   "metadata": {
    "scrolled": true
   },
   "outputs": [
    {
     "data": {
      "text/html": [
       "0"
      ],
      "text/latex": [
       "0"
      ],
      "text/markdown": [
       "0"
      ],
      "text/plain": [
       "[1] 0"
      ]
     },
     "metadata": {},
     "output_type": "display_data"
    }
   ],
   "source": [
    "sym.matrix = matrix(rep(0,1341*1341), ncol = 1341)\n",
    "for (i in 1:1341){\n",
    "    for (j in 1:i){\n",
    "        if (score.matrix[i,j] != score.matrix[j,i]) {\n",
    "            sym.matrix[i,j] <- sym.matrix[j,i] <- 1\n",
    "        }\n",
    "    }\n",
    "}\n",
    "sum(sym.matrix)"
   ]
  },
  {
   "cell_type": "markdown",
   "metadata": {},
   "source": [
    "conclusion: the score.matrix is symmetric"
   ]
  },
  {
   "cell_type": "markdown",
   "metadata": {},
   "source": [
    "### heatmap of score.matrix"
   ]
  },
  {
   "cell_type": "code",
   "execution_count": 12,
   "metadata": {},
   "outputs": [
    {
     "data": {
      "image/png": "[encoded data removed]",
      "text/plain": [
       "plot without title"
      ]
     },
     "metadata": {},
     "output_type": "display_data"
    }
   ],
   "source": [
    "heatmap.2(score.matrix[1:1341,1:1341],\n",
    "          dendrogram = \"none\", \n",
    "          labRow = FALSE, \n",
    "          labCol = FALSE, \n",
    "          Rowv=FALSE, \n",
    "          Colv=FALSE,\n",
    "          trace='none',\n",
    "          col = rev(rainbow(11)[1:8]), \n",
    "          key = FALSE, \n",
    "          keysize = 0.01, \n",
    "          margins = c(2,2), \n",
    "          breaks = 1.5^(0:8),\n",
    "          xlab = \"TreeT 1-1341\", \n",
    "          ylab = \"TreeS\")"
   ]
  },
  {
   "cell_type": "code",
   "execution_count": 13,
   "metadata": {},
   "outputs": [
    {
     "data": {
      "image/png": "[encoded data removed]",
      "text/plain": [
       "plot without title"
      ]
     },
     "metadata": {},
     "output_type": "display_data"
    }
   ],
   "source": [
    "heatmap.2(score.matrix[672:1341,672:1341],\n",
    "          dendrogram = \"none\", \n",
    "          labRow = FALSE, \n",
    "          labCol = FALSE, \n",
    "          Rowv=FALSE, \n",
    "          Colv=FALSE,\n",
    "          trace='none',\n",
    "          col = rev(rainbow(11)[1:8]), \n",
    "          key = FALSE, \n",
    "          keysize = 0.01, \n",
    "          margins = c(2,2), \n",
    "          breaks = 1.5^(0:8),\n",
    "          xlab = \"TreeT 672-1341\", \n",
    "          ylab = \"TreeS\")"
   ]
  },
  {
   "cell_type": "code",
   "execution_count": 14,
   "metadata": {},
   "outputs": [
    {
     "data": {
      "image/png": "[encoded data removed]",
      "text/plain": [
       "plot without title"
      ]
     },
     "metadata": {},
     "output_type": "display_data"
    }
   ],
   "source": [
    "heatmap.2(score.matrix[1000:1341,1000:1341],\n",
    "          dendrogram = \"none\", \n",
    "          labRow = FALSE, \n",
    "          labCol = FALSE, \n",
    "          Rowv=FALSE, \n",
    "          Colv=FALSE,\n",
    "          trace='none',\n",
    "          col = rev(rainbow(11)[1:8]), \n",
    "          key = FALSE, \n",
    "          keysize = 0.01, \n",
    "          margins = c(2,2), \n",
    "          breaks = 1.5^(0:8),\n",
    "          xlab = \"TreeT 1000-1341\", \n",
    "          ylab = \"TreeS\")"
   ]
  },
  {
   "cell_type": "markdown",
   "metadata": {},
   "source": [
    "## 2 Summarize the 1,000,000 trees"
   ]
  },
  {
   "cell_type": "markdown",
   "metadata": {},
   "source": [
    "### read in the file"
   ]
  },
  {
   "cell_type": "code",
   "execution_count": 15,
   "metadata": {},
   "outputs": [],
   "source": [
    "alignments <- ReadLocaTreeComparison(fname.alignments, 1000000)"
   ]
  },
  {
   "cell_type": "markdown",
   "metadata": {},
   "source": [
    "### summary matching score"
   ]
  },
  {
   "cell_type": "code",
   "execution_count": 21,
   "metadata": {},
   "outputs": [
    {
     "data": {
      "text/html": [
       "<ol class=list-inline>\n",
       "\t<li>'id'</li>\n",
       "\t<li>'Score'</li>\n",
       "\t<li>'RootS'</li>\n",
       "\t<li>'RootT'</li>\n",
       "\t<li>'PruneS'</li>\n",
       "\t<li>'PruneT'</li>\n",
       "\t<li>'MatchS'</li>\n",
       "\t<li>'MatchT'</li>\n",
       "\t<li>'MatchLength'</li>\n",
       "</ol>\n"
      ],
      "text/latex": [
       "\\begin{enumerate*}\n",
       "\\item 'id'\n",
       "\\item 'Score'\n",
       "\\item 'RootS'\n",
       "\\item 'RootT'\n",
       "\\item 'PruneS'\n",
       "\\item 'PruneT'\n",
       "\\item 'MatchS'\n",
       "\\item 'MatchT'\n",
       "\\item 'MatchLength'\n",
       "\\end{enumerate*}\n"
      ],
      "text/markdown": [
       "1. 'id'\n",
       "2. 'Score'\n",
       "3. 'RootS'\n",
       "4. 'RootT'\n",
       "5. 'PruneS'\n",
       "6. 'PruneT'\n",
       "7. 'MatchS'\n",
       "8. 'MatchT'\n",
       "9. 'MatchLength'\n",
       "\n",
       "\n"
      ],
      "text/plain": [
       "[1] \"id\"          \"Score\"       \"RootS\"       \"RootT\"       \"PruneS\"     \n",
       "[6] \"PruneT\"      \"MatchS\"      \"MatchT\"      \"MatchLength\""
      ]
     },
     "metadata": {},
     "output_type": "display_data"
    }
   ],
   "source": [
    "colnames(alignments)"
   ]
  },
  {
   "cell_type": "code",
   "execution_count": 22,
   "metadata": {},
   "outputs": [
    {
     "data": {
      "text/html": [
       "1000000"
      ],
      "text/latex": [
       "1000000"
      ],
      "text/markdown": [
       "1000000"
      ],
      "text/plain": [
       "[1] 1000000"
      ]
     },
     "metadata": {},
     "output_type": "display_data"
    }
   ],
   "source": [
    "length(alignments$id)"
   ]
  },
  {
   "cell_type": "code",
   "execution_count": 25,
   "metadata": {},
   "outputs": [
    {
     "data": {
      "text/html": [
       "<ol class=list-inline>\n",
       "\t<li>1342</li>\n",
       "\t<li>268</li>\n",
       "\t<li>268</li>\n",
       "\t<li>206</li>\n",
       "\t<li>206</li>\n",
       "\t<li>114</li>\n",
       "\t<li>114</li>\n",
       "\t<li>109</li>\n",
       "\t<li>109</li>\n",
       "\t<li>108</li>\n",
       "</ol>\n"
      ],
      "text/latex": [
       "\\begin{enumerate*}\n",
       "\\item 1342\n",
       "\\item 268\n",
       "\\item 268\n",
       "\\item 206\n",
       "\\item 206\n",
       "\\item 114\n",
       "\\item 114\n",
       "\\item 109\n",
       "\\item 109\n",
       "\\item 108\n",
       "\\end{enumerate*}\n"
      ],
      "text/markdown": [
       "1. 1342\n",
       "2. 268\n",
       "3. 268\n",
       "4. 206\n",
       "5. 206\n",
       "6. 114\n",
       "7. 114\n",
       "8. 109\n",
       "9. 109\n",
       "10. 108\n",
       "\n",
       "\n"
      ],
      "text/plain": [
       " [1] 1342  268  268  206  206  114  114  109  109  108"
      ]
     },
     "metadata": {},
     "output_type": "display_data"
    }
   ],
   "source": [
    "alignments$Score <- as.numeric(alignments$Score)\n",
    "alignments$Score[1:10]"
   ]
  },
  {
   "cell_type": "code",
   "execution_count": 28,
   "metadata": {},
   "outputs": [
    {
     "data": {
      "text/plain": [
       "\n",
       "     0      2      4      6      8     10     12     14     16     18     20 \n",
       "987895   5503   1072   2227    773    378    566    444    209    102     72 \n",
       "    22     24     26     28     30     32     34     36     38     40     42 \n",
       "    78     76     84    100     54     38     60     28     16     18      8 \n",
       "    44     46     48     50     52     54     56     58     60     62     64 \n",
       "    10     14     10      8     10     12     16     14      8      4      2 \n",
       "    66     68     70     72     76     78     84     86     90     92    100 \n",
       "     2      8      6     10      4      4      6      4      4      2      2 \n",
       "   104    106    108    114    116    118    124    170    178    182    194 \n",
       "     2      2      4      2      8      4      2      2      2      2      2 \n",
       "   224    230    400   1340 \n",
       "     2      2      2      1 "
      ]
     },
     "metadata": {},
     "output_type": "display_data"
    }
   ],
   "source": [
    "matchLength.tab <- table(alignments$MatchLength)\n",
    "matchLength.tab"
   ]
  },
  {
   "cell_type": "code",
   "execution_count": 38,
   "metadata": {},
   "outputs": [
    {
     "data": {
      "text/html": [
       "<table>\n",
       "<thead><tr><th scope=col>Score</th><th scope=col>Freq</th></tr></thead>\n",
       "<tbody>\n",
       "\t<tr><td>0     </td><td>987895</td></tr>\n",
       "\t<tr><td>2     </td><td>  5503</td></tr>\n",
       "\t<tr><td>4     </td><td>  1072</td></tr>\n",
       "\t<tr><td>6     </td><td>  2227</td></tr>\n",
       "\t<tr><td>8     </td><td>   773</td></tr>\n",
       "\t<tr><td>10    </td><td>   378</td></tr>\n",
       "</tbody>\n",
       "</table>\n"
      ],
      "text/latex": [
       "\\begin{tabular}{r|ll}\n",
       " Score & Freq\\\\\n",
       "\\hline\n",
       "\t 0      & 987895\\\\\n",
       "\t 2      &   5503\\\\\n",
       "\t 4      &   1072\\\\\n",
       "\t 6      &   2227\\\\\n",
       "\t 8      &    773\\\\\n",
       "\t 10     &    378\\\\\n",
       "\\end{tabular}\n"
      ],
      "text/markdown": [
       "\n",
       "Score | Freq | \n",
       "|---|---|---|---|---|---|\n",
       "| 0      | 987895 | \n",
       "| 2      |   5503 | \n",
       "| 4      |   1072 | \n",
       "| 6      |   2227 | \n",
       "| 8      |    773 | \n",
       "| 10     |    378 | \n",
       "\n",
       "\n"
      ],
      "text/plain": [
       "  Score Freq  \n",
       "1 0     987895\n",
       "2 2       5503\n",
       "3 4       1072\n",
       "4 6       2227\n",
       "5 8        773\n",
       "6 10       378"
      ]
     },
     "metadata": {},
     "output_type": "display_data"
    }
   ],
   "source": [
    "matchLength.df <- as.data.frame(matchLength.tab)\n",
    "colnames(matchLength.df) <- c(\"Score\",\"Freq\")\n",
    "head(matchLength.df)"
   ]
  },
  {
   "cell_type": "code",
   "execution_count": 142,
   "metadata": {},
   "outputs": [
    {
     "data": {},
     "metadata": {},
     "output_type": "display_data"
    },
    {
     "data": {
      "image/png": "[encoded data removed]",
      "text/plain": [
       "plot without title"
      ]
     },
     "metadata": {},
     "output_type": "display_data"
    }
   ],
   "source": [
    "ggplot(matchLength.df[-(1:1),]) + \n",
    "    geom_bar(aes(x = Score, y = Freq, fill = Score),stat = \"identity\") + \n",
    "    scale_y_log10() + \n",
    "    theme(axis.text.x=element_text(angle = 0, vjust=0.5,hjust=1)) +\n",
    "    geom_text(aes(x = Score, y = Freq, label = Freq), size=3, hjust = -0.1, vjust = 0.4) +\n",
    "    theme(legend.position = \"none\") +\n",
    "    coord_flip()"
   ]
  },
  {
   "cell_type": "markdown",
   "metadata": {},
   "source": [
    "of the 1,000,000 sub-alignments, 98.79%  of them have a score of **0**"
   ]
  },
  {
   "cell_type": "markdown",
   "metadata": {},
   "source": [
    "## 3 Calculate enrichment of paired nodes in aligned trees"
   ]
  },
  {
   "cell_type": "markdown",
   "metadata": {},
   "source": [
    "### read in the reference Tree"
   ]
  },
  {
   "cell_type": "code",
   "execution_count": 146,
   "metadata": {},
   "outputs": [
    {
     "data": {
      "text/html": [
       "<table>\n",
       "<thead><tr><th scope=col>Lineage</th><th scope=col>Name</th><th scope=col>Class</th></tr></thead>\n",
       "<tbody>\n",
       "\t<tr><td>0000000000</td><td>AINL      </td><td>Neu       </td></tr>\n",
       "\t<tr><td>0000000001</td><td>Dead      </td><td>Dea       </td></tr>\n",
       "\t<tr><td>0000000010</td><td>Dead      </td><td>Dea       </td></tr>\n",
       "\t<tr><td>0000000011</td><td>ILshL     </td><td>Str       </td></tr>\n",
       "\t<tr><td>0000000100</td><td>Dead      </td><td>Dea       </td></tr>\n",
       "\t<tr><td>0000000101</td><td>RMEL      </td><td>Neu       </td></tr>\n",
       "</tbody>\n",
       "</table>\n"
      ],
      "text/latex": [
       "\\begin{tabular}{r|lll}\n",
       " Lineage & Name & Class\\\\\n",
       "\\hline\n",
       "\t 0000000000 & AINL       & Neu       \\\\\n",
       "\t 0000000001 & Dead       & Dea       \\\\\n",
       "\t 0000000010 & Dead       & Dea       \\\\\n",
       "\t 0000000011 & ILshL      & Str       \\\\\n",
       "\t 0000000100 & Dead       & Dea       \\\\\n",
       "\t 0000000101 & RMEL       & Neu       \\\\\n",
       "\\end{tabular}\n"
      ],
      "text/markdown": [
       "\n",
       "Lineage | Name | Class | \n",
       "|---|---|---|---|---|---|\n",
       "| 0000000000 | AINL       | Neu        | \n",
       "| 0000000001 | Dead       | Dea        | \n",
       "| 0000000010 | Dead       | Dea        | \n",
       "| 0000000011 | ILshL      | Str        | \n",
       "| 0000000100 | Dead       | Dea        | \n",
       "| 0000000101 | RMEL       | Neu        | \n",
       "\n",
       "\n"
      ],
      "text/plain": [
       "  Lineage    Name  Class\n",
       "1 0000000000 AINL  Neu  \n",
       "2 0000000001 Dead  Dea  \n",
       "3 0000000010 Dead  Dea  \n",
       "4 0000000011 ILshL Str  \n",
       "5 0000000100 Dead  Dea  \n",
       "6 0000000101 RMEL  Neu  "
      ]
     },
     "metadata": {},
     "output_type": "display_data"
    },
    {
     "data": {
      "text/plain": [
       "   Lineage              Name              Class          \n",
       " Length:671         Length:671         Length:671        \n",
       " Class :character   Class :character   Class :character  \n",
       " Mode  :character   Mode  :character   Mode  :character  "
      ]
     },
     "metadata": {},
     "output_type": "display_data"
    }
   ],
   "source": [
    "referenceTree = ReadInputTree(fname.referenceTree)\n",
    "head(referenceTree)\n",
    "summary(referenceTree)"
   ]
  },
  {
   "cell_type": "code",
   "execution_count": 152,
   "metadata": {},
   "outputs": [
    {
     "data": {},
     "metadata": {},
     "output_type": "display_data"
    },
    {
     "data": {
      "image/png": "[encoded data removed]",
      "text/plain": [
       "plot without title"
      ]
     },
     "metadata": {},
     "output_type": "display_data"
    }
   ],
   "source": [
    "phyloTree <- BuildFullPhyloWithLineage(referenceTree$Lineage)\n",
    "ggtree(phyloTree)"
   ]
  },
  {
   "cell_type": "markdown",
   "metadata": {},
   "source": [
    "### set edge.length to 1"
   ]
  },
  {
   "cell_type": "code",
   "execution_count": 156,
   "metadata": {},
   "outputs": [
    {
     "data": {},
     "metadata": {},
     "output_type": "display_data"
    },
    {
     "data": {
      "image/png": "[encoded data removed]",
      "text/plain": [
       "plot without title"
      ]
     },
     "metadata": {},
     "output_type": "display_data"
    }
   ],
   "source": [
    "ftree <- phyloTree\n",
    "ftree$edge.length <- rep(1, dim(phyloTree$edge)[1])\n",
    "ggtree(ftree)"
   ]
  },
  {
   "cell_type": "markdown",
   "metadata": {},
   "source": [
    "### read in the paired nodes"
   ]
  },
  {
   "cell_type": "code",
   "execution_count": 159,
   "metadata": {},
   "outputs": [
    {
     "data": {
      "text/html": [
       "<table>\n",
       "<thead><tr><th scope=col>Sister1</th><th scope=col>Sister2</th><th scope=col>Sister1_binary</th><th scope=col>Sister2_binary</th></tr></thead>\n",
       "<tbody>\n",
       "\t<tr><td>P4a  </td><td>P4p  </td><td>11110</td><td>11111</td></tr>\n",
       "\t<tr><td>Da   </td><td>Dp   </td><td>11100</td><td>11101</td></tr>\n",
       "\t<tr><td>Ca   </td><td>Cp   </td><td>1100 </td><td>1101 </td></tr>\n",
       "\t<tr><td>Eal  </td><td>Ear  </td><td>10100</td><td>10101</td></tr>\n",
       "\t<tr><td>Epl  </td><td>Epr  </td><td>10110</td><td>10111</td></tr>\n",
       "\t<tr><td>MSa  </td><td>MSp  </td><td>1000 </td><td>1001 </td></tr>\n",
       "</tbody>\n",
       "</table>\n"
      ],
      "text/latex": [
       "\\begin{tabular}{r|llll}\n",
       " Sister1 & Sister2 & Sister1\\_binary & Sister2\\_binary\\\\\n",
       "\\hline\n",
       "\t P4a   & P4p   & 11110 & 11111\\\\\n",
       "\t Da    & Dp    & 11100 & 11101\\\\\n",
       "\t Ca    & Cp    & 1100  & 1101 \\\\\n",
       "\t Eal   & Ear   & 10100 & 10101\\\\\n",
       "\t Epl   & Epr   & 10110 & 10111\\\\\n",
       "\t MSa   & MSp   & 1000  & 1001 \\\\\n",
       "\\end{tabular}\n"
      ],
      "text/markdown": [
       "\n",
       "Sister1 | Sister2 | Sister1_binary | Sister2_binary | \n",
       "|---|---|---|---|---|---|\n",
       "| P4a   | P4p   | 11110 | 11111 | \n",
       "| Da    | Dp    | 11100 | 11101 | \n",
       "| Ca    | Cp    | 1100  | 1101  | \n",
       "| Eal   | Ear   | 10100 | 10101 | \n",
       "| Epl   | Epr   | 10110 | 10111 | \n",
       "| MSa   | MSp   | 1000  | 1001  | \n",
       "\n",
       "\n"
      ],
      "text/plain": [
       "  Sister1 Sister2 Sister1_binary Sister2_binary\n",
       "1 P4a     P4p     11110          11111         \n",
       "2 Da      Dp      11100          11101         \n",
       "3 Ca      Cp      1100           1101          \n",
       "4 Eal     Ear     10100          10101         \n",
       "5 Epl     Epr     10110          10111         \n",
       "6 MSa     MSp     1000           1001          "
      ]
     },
     "metadata": {},
     "output_type": "display_data"
    }
   ],
   "source": [
    "symmetryCells <- read.table(fname.symmetry, sep = ',', header = TRUE, as.is = TRUE, colClasses = \"character\")\n",
    "head(symmetryCells)"
   ]
  },
  {
   "cell_type": "code",
   "execution_count": 161,
   "metadata": {},
   "outputs": [
    {
     "data": {
      "text/html": [
       "<ol class=list-inline>\n",
       "\t<li>42</li>\n",
       "\t<li>4</li>\n",
       "</ol>\n"
      ],
      "text/latex": [
       "\\begin{enumerate*}\n",
       "\\item 42\n",
       "\\item 4\n",
       "\\end{enumerate*}\n"
      ],
      "text/markdown": [
       "1. 42\n",
       "2. 4\n",
       "\n",
       "\n"
      ],
      "text/plain": [
       "[1] 42  4"
      ]
     },
     "metadata": {},
     "output_type": "display_data"
    }
   ],
   "source": [
    "dim(symmetryCells)"
   ]
  },
  {
   "cell_type": "markdown",
   "metadata": {},
   "source": [
    "### remove duplicates in paired nodes\n",
    "symmetryCells.unique is all possible pairs. pairs (a, b) and (b, a) are different pairs.\n",
    "totally 60 pairs."
   ]
  },
  {
   "cell_type": "code",
   "execution_count": 160,
   "metadata": {},
   "outputs": [
    {
     "data": {
      "text/html": [
       "<ol class=list-inline>\n",
       "\t<li>60</li>\n",
       "\t<li>4</li>\n",
       "</ol>\n"
      ],
      "text/latex": [
       "\\begin{enumerate*}\n",
       "\\item 60\n",
       "\\item 4\n",
       "\\end{enumerate*}\n"
      ],
      "text/markdown": [
       "1. 60\n",
       "2. 4\n",
       "\n",
       "\n"
      ],
      "text/plain": [
       "[1] 60  4"
      ]
     },
     "metadata": {},
     "output_type": "display_data"
    }
   ],
   "source": [
    "symmetryCells.unique <- symmetryCells\n",
    "symmetryCells.verse <- symmetryCells\n",
    "colnames(symmetryCells.verse) <- colnames(symmetryCells)[c(2,1,4,3)]\n",
    "symmetryCells.pairs <- rbind(symmetryCells, symmetryCells.verse)\n",
    "symmetryCells.unique <- symmetryCells.pairs[!duplicated(paste(symmetryCells.pairs$Sister1_binary,symmetryCells.pairs$Sister2_binary, ' ')),]\n",
    "dim(symmetryCells.unique)"
   ]
  },
  {
   "cell_type": "markdown",
   "metadata": {},
   "source": [
    "### find pairs in in aligned trees"
   ]
  },
  {
   "cell_type": "markdown",
   "metadata": {},
   "source": [
    "#### use only alignments with at lease one pair"
   ]
  },
  {
   "cell_type": "code",
   "execution_count": 167,
   "metadata": {},
   "outputs": [
    {
     "data": {
      "text/html": [
       "<ol class=list-inline>\n",
       "\t<li>12105</li>\n",
       "\t<li>9</li>\n",
       "</ol>\n"
      ],
      "text/latex": [
       "\\begin{enumerate*}\n",
       "\\item 12105\n",
       "\\item 9\n",
       "\\end{enumerate*}\n"
      ],
      "text/markdown": [
       "1. 12105\n",
       "2. 9\n",
       "\n",
       "\n"
      ],
      "text/plain": [
       "[1] 12105     9"
      ]
     },
     "metadata": {},
     "output_type": "display_data"
    }
   ],
   "source": [
    "alignments.1more <- alignments[alignments$MatchLength >0,]\n",
    "dim(alignments.1more)"
   ]
  },
  {
   "cell_type": "code",
   "execution_count": 168,
   "metadata": {},
   "outputs": [],
   "source": [
    "sym1 <- symmetryCells.unique$Sister1_binary\n",
    "sym2 <- symmetryCells.unique$Sister2_binary\n",
    "sym.pairs <- paste(sym1, sym2)"
   ]
  },
  {
   "cell_type": "code",
   "execution_count": 174,
   "metadata": {},
   "outputs": [],
   "source": [
    "for (i in 1:dim(alignments.1more)[1]){\n",
    "  MatchS <- c(alignments.1more$RootS[[i]],alignments.1more$MatchS[[i]])\n",
    "  MatchT <- c(alignments.1more$RootT[[i]],alignments.1more$MatchT[[i]])\n",
    "  matchPairs <- data.frame(MatchS, MatchT,stringsAsFactors=FALSE)\n",
    "  matchLength <- length(MatchS)\n",
    "  matchPairs.asChr <- paste(MatchS, MatchT)\n",
    "  symPairs <- matchPairs[matchPairs.asChr %in% sym.pairs,]\n",
    "  symPairsL <- dim(symPairs)[1]\n",
    "  alignments.1more[i,\"matchLength\"] <- matchLength\n",
    "  alignments.1more[i,\"symPairsL\"] <- symPairsL\n",
    "  if (symPairsL != 0)\n",
    "    alignments.1more[i,\"symPairs\"][[1]] <- list(symPairs)\n",
    "  \n",
    "}"
   ]
  },
  {
   "cell_type": "code",
   "execution_count": 175,
   "metadata": {},
   "outputs": [
    {
     "data": {
      "text/html": [
       "54"
      ],
      "text/latex": [
       "54"
      ],
      "text/markdown": [
       "54"
      ],
      "text/plain": [
       "[1] 54"
      ]
     },
     "metadata": {},
     "output_type": "display_data"
    }
   ],
   "source": [
    "sum(alignments.1more$symPairsL)"
   ]
  },
  {
   "cell_type": "code",
   "execution_count": 196,
   "metadata": {},
   "outputs": [],
   "source": [
    "alignments.withPair <- alignments.1more[!unlist(lapply(alignments.1more$symPairs, is.null)),]"
   ]
  },
  {
   "cell_type": "code",
   "execution_count": 203,
   "metadata": {},
   "outputs": [
    {
     "data": {
      "text/html": [
       "<table>\n",
       "<thead><tr><th></th><th scope=col>id</th><th scope=col>Score</th><th scope=col>RootS</th><th scope=col>RootT</th><th scope=col>MatchLength</th><th scope=col>matchLength</th><th scope=col>symPairsL</th><th scope=col>symPairs</th></tr></thead>\n",
       "<tbody>\n",
       "\t<tr><th scope=row>2</th><td>2                             </td><td>268                           </td><td>00                            </td><td>01                            </td><td>400                           </td><td>401                           </td><td>2                             </td><td>000111, 001101, 011000, 010000</td></tr>\n",
       "\t<tr><th scope=row>3</th><td>3                             </td><td>268                           </td><td>01                            </td><td>00                            </td><td>400                           </td><td>401                           </td><td>2                             </td><td>010000, 011000, 001101, 000111</td></tr>\n",
       "\t<tr><th scope=row>4</th><td>4                                             </td><td>206                                           </td><td>010                                           </td><td>011                                           </td><td>224                                           </td><td>225                                           </td><td>3                                             </td><td>0101  , 01001 , 010001, 0111  , 01101 , 011001</td></tr>\n",
       "\t<tr><th scope=row>5</th><td>5                                             </td><td>206                                           </td><td>011                                           </td><td>010                                           </td><td>224                                           </td><td>225                                           </td><td>3                                             </td><td>0111  , 01101 , 011001, 0101  , 01001 , 010001</td></tr>\n",
       "\t<tr><th scope=row>8</th><td>8               </td><td>109             </td><td>001             </td><td>000             </td><td>178             </td><td>179             </td><td>1               </td><td>0010001, 0001001</td></tr>\n",
       "\t<tr><th scope=row>9</th><td>9               </td><td>109             </td><td>000             </td><td>001             </td><td>178             </td><td>179             </td><td>1               </td><td>0001001, 0010001</td></tr>\n",
       "\t<tr><th scope=row>18</th><td>18        </td><td> 67       </td><td>1001      </td><td>1000      </td><td> 84       </td><td> 85       </td><td>1         </td><td>1001, 1000</td></tr>\n",
       "\t<tr><th scope=row>19</th><td>19        </td><td> 67       </td><td>1000      </td><td>1001      </td><td> 84       </td><td> 85       </td><td>1         </td><td>1000, 1001</td></tr>\n",
       "\t<tr><th scope=row>48</th><td>48                </td><td> 43               </td><td>00000             </td><td>00011             </td><td> 58               </td><td> 59               </td><td>1                 </td><td>00000101, 00011001</td></tr>\n",
       "\t<tr><th scope=row>50</th><td>50                </td><td> 43               </td><td>00011             </td><td>00000             </td><td> 58               </td><td> 59               </td><td>1                 </td><td>00011001, 00000101</td></tr>\n",
       "\t<tr><th scope=row>54</th><td>54        </td><td> 42       </td><td>1101      </td><td>1100      </td><td> 44       </td><td> 45       </td><td>1         </td><td>1101, 1100</td></tr>\n",
       "\t<tr><th scope=row>55</th><td>55        </td><td> 42       </td><td>1100      </td><td>1101      </td><td> 44       </td><td> 45       </td><td>1         </td><td>1100, 1101</td></tr>\n",
       "\t<tr><th scope=row>60</th><td>60                                </td><td> 40                               </td><td>00010                             </td><td>00101                             </td><td> 58                               </td><td> 59                               </td><td>2                                 </td><td>0001000, 0001010, 0010100, 0010110</td></tr>\n",
       "\t<tr><th scope=row>61</th><td>61                                </td><td> 40                               </td><td>00101                             </td><td>00010                             </td><td> 58                               </td><td> 59                               </td><td>2                                 </td><td>0010100, 0010110, 0001000, 0001010</td></tr>\n",
       "\t<tr><th scope=row>110</th><td>110                                   </td><td> 28                                   </td><td>000011                                </td><td>000010                                </td><td> 30                                   </td><td> 31                                   </td><td>2                                     </td><td>0000111 , 00001101, 0000101 , 00001000</td></tr>\n",
       "\t<tr><th scope=row>111</th><td>111                                   </td><td> 28                                   </td><td>000010                                </td><td>000011                                </td><td> 30                                   </td><td> 31                                   </td><td>2                                     </td><td>0000101 , 00001000, 0000111 , 00001101</td></tr>\n",
       "\t<tr><th scope=row>152</th><td>152             </td><td> 24             </td><td>001010          </td><td>000101          </td><td> 32             </td><td> 33             </td><td>1               </td><td>0010101, 0001011</td></tr>\n",
       "\t<tr><th scope=row>159</th><td>159             </td><td> 24             </td><td>000101          </td><td>001010          </td><td> 32             </td><td> 33             </td><td>1               </td><td>0001011, 0010101</td></tr>\n",
       "\t<tr><th scope=row>170</th><td>170             </td><td> 23             </td><td>000110          </td><td>001011          </td><td> 28             </td><td> 29             </td><td>1               </td><td>0001101, 0010111</td></tr>\n",
       "\t<tr><th scope=row>171</th><td>171               </td><td> 23               </td><td>000001            </td><td>000010            </td><td> 28               </td><td> 29               </td><td>1                 </td><td>00000111, 00001001</td></tr>\n",
       "\t<tr><th scope=row>176</th><td>176             </td><td> 23             </td><td>001011          </td><td>000110          </td><td> 28             </td><td> 29             </td><td>1               </td><td>0010111, 0001101</td></tr>\n",
       "\t<tr><th scope=row>177</th><td>177               </td><td> 23               </td><td>000010            </td><td>000001            </td><td> 28               </td><td> 29               </td><td>1                 </td><td>00001001, 00000111</td></tr>\n",
       "\t<tr><th scope=row>230</th><td>230         </td><td> 20         </td><td>11100       </td><td>11101       </td><td> 18         </td><td> 19         </td><td>1           </td><td>11100, 11101</td></tr>\n",
       "\t<tr><th scope=row>231</th><td>231         </td><td> 20         </td><td>11101       </td><td>11100       </td><td> 18         </td><td> 19         </td><td>1           </td><td>11101, 11100</td></tr>\n",
       "\t<tr><th scope=row>236</th><td>236               </td><td> 20               </td><td>000001            </td><td>000000            </td><td> 26               </td><td> 27               </td><td>1                 </td><td>00000100, 00000000</td></tr>\n",
       "\t<tr><th scope=row>237</th><td>237               </td><td> 20               </td><td>000000            </td><td>000001            </td><td> 26               </td><td> 27               </td><td>1                 </td><td>00000000, 00000100</td></tr>\n",
       "\t<tr><th scope=row>280</th><td>280           </td><td> 18           </td><td>001110        </td><td>001111        </td><td> 16           </td><td> 17           </td><td>1             </td><td>001110, 001111</td></tr>\n",
       "\t<tr><th scope=row>281</th><td>281           </td><td> 18           </td><td>001111        </td><td>001110        </td><td> 16           </td><td> 17           </td><td>1             </td><td>001111, 001110</td></tr>\n",
       "\t<tr><th scope=row>371</th><td>371             </td><td> 16             </td><td>0010011         </td><td>0010010         </td><td> 16             </td><td> 17             </td><td>1               </td><td>0010011, 0010010</td></tr>\n",
       "\t<tr><th scope=row>372</th><td>372             </td><td> 16             </td><td>0010010         </td><td>0010011         </td><td> 16             </td><td> 17             </td><td>1               </td><td>0010010, 0010011</td></tr>\n",
       "\t<tr><th scope=row>866</th><td>866         </td><td> 10         </td><td>10111       </td><td>10110       </td><td>  8         </td><td>  9         </td><td>1           </td><td>10111, 10110</td></tr>\n",
       "\t<tr><th scope=row>868</th><td>868         </td><td> 10         </td><td>10110       </td><td>10111       </td><td>  8         </td><td>  9         </td><td>1           </td><td>10110, 10111</td></tr>\n",
       "\t<tr><th scope=row>871</th><td>871         </td><td> 10         </td><td>10101       </td><td>10100       </td><td>  8         </td><td>  9         </td><td>1           </td><td>10101, 10100</td></tr>\n",
       "\t<tr><th scope=row>873</th><td>873         </td><td> 10         </td><td>10100       </td><td>10101       </td><td>  8         </td><td>  9         </td><td>1           </td><td>10100, 10101</td></tr>\n",
       "\t<tr><th scope=row>1238</th><td>1238              </td><td>  8               </td><td>00000010          </td><td>00000011          </td><td>  6               </td><td>  7               </td><td>1                 </td><td>00000010, 00000011</td></tr>\n",
       "\t<tr><th scope=row>1239</th><td>1239              </td><td>  8               </td><td>00000011          </td><td>00000010          </td><td>  6               </td><td>  7               </td><td>1                 </td><td>00000011, 00000010</td></tr>\n",
       "\t<tr><th scope=row>1450</th><td>1450              </td><td>  8               </td><td>0001100           </td><td>0000011           </td><td> 10               </td><td> 11               </td><td>1                 </td><td>00011000, 00000110</td></tr>\n",
       "\t<tr><th scope=row>1484</th><td>1484              </td><td>  8               </td><td>0000011           </td><td>0001100           </td><td> 10               </td><td> 11               </td><td>1                 </td><td>00000110, 00011000</td></tr>\n",
       "\t<tr><th scope=row>4196</th><td>4196                </td><td>  4                 </td><td>000000010           </td><td>000000011           </td><td>  2                 </td><td>  3                 </td><td>1                   </td><td>000000010, 000000011</td></tr>\n",
       "\t<tr><th scope=row>4213</th><td>4213                </td><td>  4                 </td><td>000000011           </td><td>000000010           </td><td>  2                 </td><td>  3                 </td><td>1                   </td><td>000000011, 000000010</td></tr>\n",
       "\t<tr><th scope=row>5905</th><td>5905                </td><td>  4                 </td><td>001000000           </td><td>001000001           </td><td>  2                 </td><td>  3                 </td><td>1                   </td><td>001000000, 001000001</td></tr>\n",
       "\t<tr><th scope=row>5914</th><td>5914                </td><td>  4                 </td><td>001000001           </td><td>001000000           </td><td>  2                 </td><td>  3                 </td><td>1                   </td><td>001000001, 001000000</td></tr>\n",
       "\t<tr><th scope=row>6609</th><td>6609                </td><td>  4                 </td><td>001100001           </td><td>001100010           </td><td>  2                 </td><td>  3                 </td><td>1                   </td><td>001100001, 001100010</td></tr>\n",
       "\t<tr><th scope=row>6613</th><td>6613                </td><td>  4                 </td><td>001100010           </td><td>001100001           </td><td>  2                 </td><td>  3                 </td><td>1                   </td><td>001100010, 001100001</td></tr>\n",
       "</tbody>\n",
       "</table>\n"
      ],
      "text/latex": [
       "\\begin{tabular}{r|llllllll}\n",
       "  & id & Score & RootS & RootT & MatchLength & matchLength & symPairsL & symPairs\\\\\n",
       "\\hline\n",
       "\t2 & 2                              & 268                            & 00                             & 01                             & 400                            & 401                            & 2                              & 000111, 001101, 011000, 010000\\\\\n",
       "\t3 & 3                              & 268                            & 01                             & 00                             & 400                            & 401                            & 2                              & 010000, 011000, 001101, 000111\\\\\n",
       "\t4 & 4                                              & 206                                            & 010                                            & 011                                            & 224                                            & 225                                            & 3                                              & 0101  , 01001 , 010001, 0111  , 01101 , 011001\\\\\n",
       "\t5 & 5                                              & 206                                            & 011                                            & 010                                            & 224                                            & 225                                            & 3                                              & 0111  , 01101 , 011001, 0101  , 01001 , 010001\\\\\n",
       "\t8 & 8                & 109              & 001              & 000              & 178              & 179              & 1                & 0010001, 0001001\\\\\n",
       "\t9 & 9                & 109              & 000              & 001              & 178              & 179              & 1                & 0001001, 0010001\\\\\n",
       "\t18 & 18         &  67        & 1001       & 1000       &  84        &  85        & 1          & 1001, 1000\\\\\n",
       "\t19 & 19         &  67        & 1000       & 1001       &  84        &  85        & 1          & 1000, 1001\\\\\n",
       "\t48 & 48                 &  43                & 00000              & 00011              &  58                &  59                & 1                  & 00000101, 00011001\\\\\n",
       "\t50 & 50                 &  43                & 00011              & 00000              &  58                &  59                & 1                  & 00011001, 00000101\\\\\n",
       "\t54 & 54         &  42        & 1101       & 1100       &  44        &  45        & 1          & 1101, 1100\\\\\n",
       "\t55 & 55         &  42        & 1100       & 1101       &  44        &  45        & 1          & 1100, 1101\\\\\n",
       "\t60 & 60                                 &  40                                & 00010                              & 00101                              &  58                                &  59                                & 2                                  & 0001000, 0001010, 0010100, 0010110\\\\\n",
       "\t61 & 61                                 &  40                                & 00101                              & 00010                              &  58                                &  59                                & 2                                  & 0010100, 0010110, 0001000, 0001010\\\\\n",
       "\t110 & 110                                    &  28                                    & 000011                                 & 000010                                 &  30                                    &  31                                    & 2                                      & 0000111 , 00001101, 0000101 , 00001000\\\\\n",
       "\t111 & 111                                    &  28                                    & 000010                                 & 000011                                 &  30                                    &  31                                    & 2                                      & 0000101 , 00001000, 0000111 , 00001101\\\\\n",
       "\t152 & 152              &  24              & 001010           & 000101           &  32              &  33              & 1                & 0010101, 0001011\\\\\n",
       "\t159 & 159              &  24              & 000101           & 001010           &  32              &  33              & 1                & 0001011, 0010101\\\\\n",
       "\t170 & 170              &  23              & 000110           & 001011           &  28              &  29              & 1                & 0001101, 0010111\\\\\n",
       "\t171 & 171                &  23                & 000001             & 000010             &  28                &  29                & 1                  & 00000111, 00001001\\\\\n",
       "\t176 & 176              &  23              & 001011           & 000110           &  28              &  29              & 1                & 0010111, 0001101\\\\\n",
       "\t177 & 177                &  23                & 000010             & 000001             &  28                &  29                & 1                  & 00001001, 00000111\\\\\n",
       "\t230 & 230          &  20          & 11100        & 11101        &  18          &  19          & 1            & 11100, 11101\\\\\n",
       "\t231 & 231          &  20          & 11101        & 11100        &  18          &  19          & 1            & 11101, 11100\\\\\n",
       "\t236 & 236                &  20                & 000001             & 000000             &  26                &  27                & 1                  & 00000100, 00000000\\\\\n",
       "\t237 & 237                &  20                & 000000             & 000001             &  26                &  27                & 1                  & 00000000, 00000100\\\\\n",
       "\t280 & 280            &  18            & 001110         & 001111         &  16            &  17            & 1              & 001110, 001111\\\\\n",
       "\t281 & 281            &  18            & 001111         & 001110         &  16            &  17            & 1              & 001111, 001110\\\\\n",
       "\t371 & 371              &  16              & 0010011          & 0010010          &  16              &  17              & 1                & 0010011, 0010010\\\\\n",
       "\t372 & 372              &  16              & 0010010          & 0010011          &  16              &  17              & 1                & 0010010, 0010011\\\\\n",
       "\t866 & 866          &  10          & 10111        & 10110        &   8          &   9          & 1            & 10111, 10110\\\\\n",
       "\t868 & 868          &  10          & 10110        & 10111        &   8          &   9          & 1            & 10110, 10111\\\\\n",
       "\t871 & 871          &  10          & 10101        & 10100        &   8          &   9          & 1            & 10101, 10100\\\\\n",
       "\t873 & 873          &  10          & 10100        & 10101        &   8          &   9          & 1            & 10100, 10101\\\\\n",
       "\t1238 & 1238               &   8                & 00000010           & 00000011           &   6                &   7                & 1                  & 00000010, 00000011\\\\\n",
       "\t1239 & 1239               &   8                & 00000011           & 00000010           &   6                &   7                & 1                  & 00000011, 00000010\\\\\n",
       "\t1450 & 1450               &   8                & 0001100            & 0000011            &  10                &  11                & 1                  & 00011000, 00000110\\\\\n",
       "\t1484 & 1484               &   8                & 0000011            & 0001100            &  10                &  11                & 1                  & 00000110, 00011000\\\\\n",
       "\t4196 & 4196                 &   4                  & 000000010            & 000000011            &   2                  &   3                  & 1                    & 000000010, 000000011\\\\\n",
       "\t4213 & 4213                 &   4                  & 000000011            & 000000010            &   2                  &   3                  & 1                    & 000000011, 000000010\\\\\n",
       "\t5905 & 5905                 &   4                  & 001000000            & 001000001            &   2                  &   3                  & 1                    & 001000000, 001000001\\\\\n",
       "\t5914 & 5914                 &   4                  & 001000001            & 001000000            &   2                  &   3                  & 1                    & 001000001, 001000000\\\\\n",
       "\t6609 & 6609                 &   4                  & 001100001            & 001100010            &   2                  &   3                  & 1                    & 001100001, 001100010\\\\\n",
       "\t6613 & 6613                 &   4                  & 001100010            & 001100001            &   2                  &   3                  & 1                    & 001100010, 001100001\\\\\n",
       "\\end{tabular}\n"
      ],
      "text/markdown": [
       "\n",
       "| <!--/--> | id | Score | RootS | RootT | MatchLength | matchLength | symPairsL | symPairs | \n",
       "|---|---|---|---|---|---|---|---|---|---|---|---|---|---|---|---|---|---|---|---|---|---|---|---|---|---|---|---|---|---|---|---|---|---|---|---|---|---|---|---|---|---|---|---|\n",
       "| 2 | 2                              | 268                            | 00                             | 01                             | 400                            | 401                            | 2                              | 000111, 001101, 011000, 010000 | \n",
       "| 3 | 3                              | 268                            | 01                             | 00                             | 400                            | 401                            | 2                              | 010000, 011000, 001101, 000111 | \n",
       "| 4 | 4                                              | 206                                            | 010                                            | 011                                            | 224                                            | 225                                            | 3                                              | 0101  , 01001 , 010001, 0111  , 01101 , 011001 | \n",
       "| 5 | 5                                              | 206                                            | 011                                            | 010                                            | 224                                            | 225                                            | 3                                              | 0111  , 01101 , 011001, 0101  , 01001 , 010001 | \n",
       "| 8 | 8                | 109              | 001              | 000              | 178              | 179              | 1                | 0010001, 0001001 | \n",
       "| 9 | 9                | 109              | 000              | 001              | 178              | 179              | 1                | 0001001, 0010001 | \n",
       "| 18 | 18         |  67        | 1001       | 1000       |  84        |  85        | 1          | 1001, 1000 | \n",
       "| 19 | 19         |  67        | 1000       | 1001       |  84        |  85        | 1          | 1000, 1001 | \n",
       "| 48 | 48                 |  43                | 00000              | 00011              |  58                |  59                | 1                  | 00000101, 00011001 | \n",
       "| 50 | 50                 |  43                | 00011              | 00000              |  58                |  59                | 1                  | 00011001, 00000101 | \n",
       "| 54 | 54         |  42        | 1101       | 1100       |  44        |  45        | 1          | 1101, 1100 | \n",
       "| 55 | 55         |  42        | 1100       | 1101       |  44        |  45        | 1          | 1100, 1101 | \n",
       "| 60 | 60                                 |  40                                | 00010                              | 00101                              |  58                                |  59                                | 2                                  | 0001000, 0001010, 0010100, 0010110 | \n",
       "| 61 | 61                                 |  40                                | 00101                              | 00010                              |  58                                |  59                                | 2                                  | 0010100, 0010110, 0001000, 0001010 | \n",
       "| 110 | 110                                    |  28                                    | 000011                                 | 000010                                 |  30                                    |  31                                    | 2                                      | 0000111 , 00001101, 0000101 , 00001000 | \n",
       "| 111 | 111                                    |  28                                    | 000010                                 | 000011                                 |  30                                    |  31                                    | 2                                      | 0000101 , 00001000, 0000111 , 00001101 | \n",
       "| 152 | 152              |  24              | 001010           | 000101           |  32              |  33              | 1                | 0010101, 0001011 | \n",
       "| 159 | 159              |  24              | 000101           | 001010           |  32              |  33              | 1                | 0001011, 0010101 | \n",
       "| 170 | 170              |  23              | 000110           | 001011           |  28              |  29              | 1                | 0001101, 0010111 | \n",
       "| 171 | 171                |  23                | 000001             | 000010             |  28                |  29                | 1                  | 00000111, 00001001 | \n",
       "| 176 | 176              |  23              | 001011           | 000110           |  28              |  29              | 1                | 0010111, 0001101 | \n",
       "| 177 | 177                |  23                | 000010             | 000001             |  28                |  29                | 1                  | 00001001, 00000111 | \n",
       "| 230 | 230          |  20          | 11100        | 11101        |  18          |  19          | 1            | 11100, 11101 | \n",
       "| 231 | 231          |  20          | 11101        | 11100        |  18          |  19          | 1            | 11101, 11100 | \n",
       "| 236 | 236                |  20                | 000001             | 000000             |  26                |  27                | 1                  | 00000100, 00000000 | \n",
       "| 237 | 237                |  20                | 000000             | 000001             |  26                |  27                | 1                  | 00000000, 00000100 | \n",
       "| 280 | 280            |  18            | 001110         | 001111         |  16            |  17            | 1              | 001110, 001111 | \n",
       "| 281 | 281            |  18            | 001111         | 001110         |  16            |  17            | 1              | 001111, 001110 | \n",
       "| 371 | 371              |  16              | 0010011          | 0010010          |  16              |  17              | 1                | 0010011, 0010010 | \n",
       "| 372 | 372              |  16              | 0010010          | 0010011          |  16              |  17              | 1                | 0010010, 0010011 | \n",
       "| 866 | 866          |  10          | 10111        | 10110        |   8          |   9          | 1            | 10111, 10110 | \n",
       "| 868 | 868          |  10          | 10110        | 10111        |   8          |   9          | 1            | 10110, 10111 | \n",
       "| 871 | 871          |  10          | 10101        | 10100        |   8          |   9          | 1            | 10101, 10100 | \n",
       "| 873 | 873          |  10          | 10100        | 10101        |   8          |   9          | 1            | 10100, 10101 | \n",
       "| 1238 | 1238               |   8                | 00000010           | 00000011           |   6                |   7                | 1                  | 00000010, 00000011 | \n",
       "| 1239 | 1239               |   8                | 00000011           | 00000010           |   6                |   7                | 1                  | 00000011, 00000010 | \n",
       "| 1450 | 1450               |   8                | 0001100            | 0000011            |  10                |  11                | 1                  | 00011000, 00000110 | \n",
       "| 1484 | 1484               |   8                | 0000011            | 0001100            |  10                |  11                | 1                  | 00000110, 00011000 | \n",
       "| 4196 | 4196                 |   4                  | 000000010            | 000000011            |   2                  |   3                  | 1                    | 000000010, 000000011 | \n",
       "| 4213 | 4213                 |   4                  | 000000011            | 000000010            |   2                  |   3                  | 1                    | 000000011, 000000010 | \n",
       "| 5905 | 5905                 |   4                  | 001000000            | 001000001            |   2                  |   3                  | 1                    | 001000000, 001000001 | \n",
       "| 5914 | 5914                 |   4                  | 001000001            | 001000000            |   2                  |   3                  | 1                    | 001000001, 001000000 | \n",
       "| 6609 | 6609                 |   4                  | 001100001            | 001100010            |   2                  |   3                  | 1                    | 001100001, 001100010 | \n",
       "| 6613 | 6613                 |   4                  | 001100010            | 001100001            |   2                  |   3                  | 1                    | 001100010, 001100001 | \n",
       "\n",
       "\n"
      ],
      "text/plain": [
       "     id   Score RootS     RootT     MatchLength matchLength symPairsL\n",
       "2    2    268   00        01        400         401         2        \n",
       "3    3    268   01        00        400         401         2        \n",
       "4    4    206   010       011       224         225         3        \n",
       "5    5    206   011       010       224         225         3        \n",
       "8    8    109   001       000       178         179         1        \n",
       "9    9    109   000       001       178         179         1        \n",
       "18   18    67   1001      1000       84          85         1        \n",
       "19   19    67   1000      1001       84          85         1        \n",
       "48   48    43   00000     00011      58          59         1        \n",
       "50   50    43   00011     00000      58          59         1        \n",
       "54   54    42   1101      1100       44          45         1        \n",
       "55   55    42   1100      1101       44          45         1        \n",
       "60   60    40   00010     00101      58          59         2        \n",
       "61   61    40   00101     00010      58          59         2        \n",
       "110  110   28   000011    000010     30          31         2        \n",
       "111  111   28   000010    000011     30          31         2        \n",
       "152  152   24   001010    000101     32          33         1        \n",
       "159  159   24   000101    001010     32          33         1        \n",
       "170  170   23   000110    001011     28          29         1        \n",
       "171  171   23   000001    000010     28          29         1        \n",
       "176  176   23   001011    000110     28          29         1        \n",
       "177  177   23   000010    000001     28          29         1        \n",
       "230  230   20   11100     11101      18          19         1        \n",
       "231  231   20   11101     11100      18          19         1        \n",
       "236  236   20   000001    000000     26          27         1        \n",
       "237  237   20   000000    000001     26          27         1        \n",
       "280  280   18   001110    001111     16          17         1        \n",
       "281  281   18   001111    001110     16          17         1        \n",
       "371  371   16   0010011   0010010    16          17         1        \n",
       "372  372   16   0010010   0010011    16          17         1        \n",
       "866  866   10   10111     10110       8           9         1        \n",
       "868  868   10   10110     10111       8           9         1        \n",
       "871  871   10   10101     10100       8           9         1        \n",
       "873  873   10   10100     10101       8           9         1        \n",
       "1238 1238   8   00000010  00000011    6           7         1        \n",
       "1239 1239   8   00000011  00000010    6           7         1        \n",
       "1450 1450   8   0001100   0000011    10          11         1        \n",
       "1484 1484   8   0000011   0001100    10          11         1        \n",
       "4196 4196   4   000000010 000000011   2           3         1        \n",
       "4213 4213   4   000000011 000000010   2           3         1        \n",
       "5905 5905   4   001000000 001000001   2           3         1        \n",
       "5914 5914   4   001000001 001000000   2           3         1        \n",
       "6609 6609   4   001100001 001100010   2           3         1        \n",
       "6613 6613   4   001100010 001100001   2           3         1        \n",
       "     symPairs                                      \n",
       "2    000111, 001101, 011000, 010000                \n",
       "3    010000, 011000, 001101, 000111                \n",
       "4    0101  , 01001 , 010001, 0111  , 01101 , 011001\n",
       "5    0111  , 01101 , 011001, 0101  , 01001 , 010001\n",
       "8    0010001, 0001001                              \n",
       "9    0001001, 0010001                              \n",
       "18   1001, 1000                                    \n",
       "19   1000, 1001                                    \n",
       "48   00000101, 00011001                            \n",
       "50   00011001, 00000101                            \n",
       "54   1101, 1100                                    \n",
       "55   1100, 1101                                    \n",
       "60   0001000, 0001010, 0010100, 0010110            \n",
       "61   0010100, 0010110, 0001000, 0001010            \n",
       "110  0000111 , 00001101, 0000101 , 00001000        \n",
       "111  0000101 , 00001000, 0000111 , 00001101        \n",
       "152  0010101, 0001011                              \n",
       "159  0001011, 0010101                              \n",
       "170  0001101, 0010111                              \n",
       "171  00000111, 00001001                            \n",
       "176  0010111, 0001101                              \n",
       "177  00001001, 00000111                            \n",
       "230  11100, 11101                                  \n",
       "231  11101, 11100                                  \n",
       "236  00000100, 00000000                            \n",
       "237  00000000, 00000100                            \n",
       "280  001110, 001111                                \n",
       "281  001111, 001110                                \n",
       "371  0010011, 0010010                              \n",
       "372  0010010, 0010011                              \n",
       "866  10111, 10110                                  \n",
       "868  10110, 10111                                  \n",
       "871  10101, 10100                                  \n",
       "873  10100, 10101                                  \n",
       "1238 00000010, 00000011                            \n",
       "1239 00000011, 00000010                            \n",
       "1450 00011000, 00000110                            \n",
       "1484 00000110, 00011000                            \n",
       "4196 000000010, 000000011                          \n",
       "4213 000000011, 000000010                          \n",
       "5905 001000000, 001000001                          \n",
       "5914 001000001, 001000000                          \n",
       "6609 001100001, 001100010                          \n",
       "6613 001100010, 001100001                          "
      ]
     },
     "metadata": {},
     "output_type": "display_data"
    }
   ],
   "source": [
    "subset(alignments.withPair, select = -c(PruneS, PruneT,MatchS, MatchT))"
   ]
  },
  {
   "cell_type": "code",
   "execution_count": 197,
   "metadata": {
    "scrolled": true
   },
   "outputs": [
    {
     "data": {
      "text/html": [
       "<ol class=list-inline>\n",
       "\t<li>44</li>\n",
       "\t<li>12</li>\n",
       "</ol>\n"
      ],
      "text/latex": [
       "\\begin{enumerate*}\n",
       "\\item 44\n",
       "\\item 12\n",
       "\\end{enumerate*}\n"
      ],
      "text/markdown": [
       "1. 44\n",
       "2. 12\n",
       "\n",
       "\n"
      ],
      "text/plain": [
       "[1] 44 12"
      ]
     },
     "metadata": {},
     "output_type": "display_data"
    }
   ],
   "source": [
    "dim(alignments.withPair)"
   ]
  },
  {
   "cell_type": "code",
   "execution_count": 209,
   "metadata": {
    "scrolled": true
   },
   "outputs": [
    {
     "data": {
      "text/html": [
       "<ol class=list-inline>\n",
       "\t<li>54</li>\n",
       "\t<li>2</li>\n",
       "</ol>\n"
      ],
      "text/latex": [
       "\\begin{enumerate*}\n",
       "\\item 54\n",
       "\\item 2\n",
       "\\end{enumerate*}\n"
      ],
      "text/markdown": [
       "1. 54\n",
       "2. 2\n",
       "\n",
       "\n"
      ],
      "text/plain": [
       "[1] 54  2"
      ]
     },
     "metadata": {},
     "output_type": "display_data"
    }
   ],
   "source": [
    "symPairs.inAlignments <- do.call(rbind, alignments.withPair$symPairs)\n",
    "dim(symPairs.inAlignments)"
   ]
  },
  {
   "cell_type": "code",
   "execution_count": 211,
   "metadata": {},
   "outputs": [
    {
     "data": {
      "text/html": [
       "<ol class=list-inline>\n",
       "\t<li>54</li>\n",
       "\t<li>2</li>\n",
       "</ol>\n"
      ],
      "text/latex": [
       "\\begin{enumerate*}\n",
       "\\item 54\n",
       "\\item 2\n",
       "\\end{enumerate*}\n"
      ],
      "text/markdown": [
       "1. 54\n",
       "2. 2\n",
       "\n",
       "\n"
      ],
      "text/plain": [
       "[1] 54  2"
      ]
     },
     "metadata": {},
     "output_type": "display_data"
    }
   ],
   "source": [
    "dim(unique(symPairs.inAlignments))"
   ]
  },
  {
   "cell_type": "code",
   "execution_count": 219,
   "metadata": {},
   "outputs": [
    {
     "data": {
      "text/html": [
       "<table>\n",
       "<thead><tr><th></th><th scope=col>MatchS</th><th scope=col>MatchT</th></tr></thead>\n",
       "<tbody>\n",
       "\t<tr><th scope=row>23</th><td>000111</td><td>011000</td></tr>\n",
       "\t<tr><th scope=row>29</th><td>001101</td><td>010000</td></tr>\n",
       "\t<tr><th scope=row>16</th><td>010000</td><td>001101</td></tr>\n",
       "\t<tr><th scope=row>24</th><td>011000</td><td>000111</td></tr>\n",
       "\t<tr><th scope=row>3</th><td>0101  </td><td>0111  </td></tr>\n",
       "\t<tr><th scope=row>5</th><td>01001 </td><td>01101 </td></tr>\n",
       "</tbody>\n",
       "</table>\n"
      ],
      "text/latex": [
       "\\begin{tabular}{r|ll}\n",
       "  & MatchS & MatchT\\\\\n",
       "\\hline\n",
       "\t23 & 000111 & 011000\\\\\n",
       "\t29 & 001101 & 010000\\\\\n",
       "\t16 & 010000 & 001101\\\\\n",
       "\t24 & 011000 & 000111\\\\\n",
       "\t3 & 0101   & 0111  \\\\\n",
       "\t5 & 01001  & 01101 \\\\\n",
       "\\end{tabular}\n"
      ],
      "text/markdown": [
       "\n",
       "| <!--/--> | MatchS | MatchT | \n",
       "|---|---|---|---|---|---|\n",
       "| 23 | 000111 | 011000 | \n",
       "| 29 | 001101 | 010000 | \n",
       "| 16 | 010000 | 001101 | \n",
       "| 24 | 011000 | 000111 | \n",
       "| 3 | 0101   | 0111   | \n",
       "| 5 | 01001  | 01101  | \n",
       "\n",
       "\n"
      ],
      "text/plain": [
       "   MatchS MatchT\n",
       "23 000111 011000\n",
       "29 001101 010000\n",
       "16 010000 001101\n",
       "24 011000 000111\n",
       "3  0101   0111  \n",
       "5  01001  01101 "
      ]
     },
     "metadata": {},
     "output_type": "display_data"
    }
   ],
   "source": [
    "head(symPairs.inAlignments)"
   ]
  },
  {
   "cell_type": "markdown",
   "metadata": {},
   "source": [
    "**conclusion: the symPairs are all unique in these alignments**"
   ]
  },
  {
   "cell_type": "markdown",
   "metadata": {},
   "source": [
    "### symPairs not identified in alignments"
   ]
  },
  {
   "cell_type": "code",
   "execution_count": 224,
   "metadata": {},
   "outputs": [
    {
     "data": {
      "text/html": [
       "<table>\n",
       "<thead><tr><th></th><th scope=col>Sister1</th><th scope=col>Sister2</th><th scope=col>Sister1_binary</th><th scope=col>Sister2_binary</th></tr></thead>\n",
       "<tbody>\n",
       "\t<tr><th scope=row>1</th><td>P4a        </td><td>P4p        </td><td>11110      </td><td>11111      </td></tr>\n",
       "\t<tr><th scope=row>7</th><td>MSaaaaaar  </td><td>Msaaaaaal  </td><td>1000000001 </td><td>1000000000 </td></tr>\n",
       "\t<tr><th scope=row>19</th><td>ABarpaaaaar</td><td>ABarpaaaaal</td><td>0011000001 </td><td>0011000000 </td></tr>\n",
       "\t<tr><th scope=row>43</th><td>P4p        </td><td>P4a        </td><td>11111      </td><td>11110      </td></tr>\n",
       "\t<tr><th scope=row>49</th><td>Msaaaaaal  </td><td>MSaaaaaar  </td><td>1000000000 </td><td>1000000001 </td></tr>\n",
       "\t<tr><th scope=row>61</th><td>ABarpaaaaal</td><td>ABarpaaaaar</td><td>0011000000 </td><td>0011000001 </td></tr>\n",
       "</tbody>\n",
       "</table>\n"
      ],
      "text/latex": [
       "\\begin{tabular}{r|llll}\n",
       "  & Sister1 & Sister2 & Sister1\\_binary & Sister2\\_binary\\\\\n",
       "\\hline\n",
       "\t1 & P4a         & P4p         & 11110       & 11111      \\\\\n",
       "\t7 & MSaaaaaar   & Msaaaaaal   & 1000000001  & 1000000000 \\\\\n",
       "\t19 & ABarpaaaaar & ABarpaaaaal & 0011000001  & 0011000000 \\\\\n",
       "\t43 & P4p         & P4a         & 11111       & 11110      \\\\\n",
       "\t49 & Msaaaaaal   & MSaaaaaar   & 1000000000  & 1000000001 \\\\\n",
       "\t61 & ABarpaaaaal & ABarpaaaaar & 0011000000  & 0011000001 \\\\\n",
       "\\end{tabular}\n"
      ],
      "text/markdown": [
       "\n",
       "| <!--/--> | Sister1 | Sister2 | Sister1_binary | Sister2_binary | \n",
       "|---|---|---|---|---|---|\n",
       "| 1 | P4a         | P4p         | 11110       | 11111       | \n",
       "| 7 | MSaaaaaar   | Msaaaaaal   | 1000000001  | 1000000000  | \n",
       "| 19 | ABarpaaaaar | ABarpaaaaal | 0011000001  | 0011000000  | \n",
       "| 43 | P4p         | P4a         | 11111       | 11110       | \n",
       "| 49 | Msaaaaaal   | MSaaaaaar   | 1000000000  | 1000000001  | \n",
       "| 61 | ABarpaaaaal | ABarpaaaaar | 0011000000  | 0011000001  | \n",
       "\n",
       "\n"
      ],
      "text/plain": [
       "   Sister1     Sister2     Sister1_binary Sister2_binary\n",
       "1  P4a         P4p         11110          11111         \n",
       "7  MSaaaaaar   Msaaaaaal   1000000001     1000000000    \n",
       "19 ABarpaaaaar ABarpaaaaal 0011000001     0011000000    \n",
       "43 P4p         P4a         11111          11110         \n",
       "49 Msaaaaaal   MSaaaaaar   1000000000     1000000001    \n",
       "61 ABarpaaaaal ABarpaaaaar 0011000000     0011000001    "
      ]
     },
     "metadata": {},
     "output_type": "display_data"
    }
   ],
   "source": [
    "symmetryCells.notInAlignments <- symmetryCells.unique[!(sym.pairs %in% paste(symPairs.inAlignments$MatchS, symPairs.inAlignments$MatchT)),]\n",
    "symmetryCells.notInAlignments"
   ]
  },
  {
   "cell_type": "markdown",
   "metadata": {},
   "source": [
    "### Not sure how to calculate enrichment."
   ]
  },
  {
   "cell_type": "markdown",
   "metadata": {},
   "source": [
    "## 4 Combine aligned tree with EPIC data"
   ]
  },
  {
   "cell_type": "markdown",
   "metadata": {},
   "source": [
    "### set up folder and files"
   ]
  },
  {
   "cell_type": "code",
   "execution_count": 231,
   "metadata": {},
   "outputs": [],
   "source": [
    "folder.epic = \"X:\\\\Insects\\\\C_elegans\\\\201709Cell_lineage\\\\EPIC\"\n",
    "fnames.epic <- list.files(path = folder.epic,full.names = TRUE)"
   ]
  },
  {
   "cell_type": "markdown",
   "metadata": {},
   "source": [
    "### read in files to list, calculate average gene expression for each cell"
   ]
  },
  {
   "cell_type": "code",
   "execution_count": 287,
   "metadata": {},
   "outputs": [],
   "source": [
    "GetAverageBlotFromFile <- function(filename, minThres = 0){\n",
    "    ## given a filename of csv of gene expression of EPIC\n",
    "    ## return a data.frame with cell, and gene expression (column name is the filename)\n",
    "    ### read in the csv file\n",
    "    ks.df <- read.csv(filename)\n",
    "    ### convert the value less than minThres in blot column to 0\n",
    "    ks.df$blot <- unlist(lapply(ks.df$blot, function(x){if(x>=minThres){x}else{0}}))\n",
    "    ### calculate mean gene expression for a cell\n",
    "    ks.df.cell <- aggregate(ks.df$blot, by = list(cell = ks.df$cell), FUN = mean)\n",
    "    ### change the colname of x to filename\n",
    "    colnames(ks.df.cell) <- c(\"cell\",filename)\n",
    "    return(ks.df.cell)\n",
    "}"
   ]
  },
  {
   "cell_type": "code",
   "execution_count": 295,
   "metadata": {},
   "outputs": [],
   "source": [
    "ks.tempdf <- GetAverageBlotFromFile(fnames.epic[3],0)"
   ]
  },
  {
   "cell_type": "code",
   "execution_count": 298,
   "metadata": {
    "scrolled": false
   },
   "outputs": [
    {
     "data": {
      "text/html": [
       "<table>\n",
       "<thead><tr><th scope=col>cell</th><th scope=col>X:\\Insects\\C_elegans\\201709Cell_lineage\\EPIC/CD030906_dyf7red.csv</th></tr></thead>\n",
       "<tbody>\n",
       "\t<tr><td>ABa     </td><td> 0.00000</td></tr>\n",
       "\t<tr><td>ABal    </td><td>68.82353</td></tr>\n",
       "\t<tr><td>ABala   </td><td>35.50000</td></tr>\n",
       "\t<tr><td>ABalaa  </td><td>65.07692</td></tr>\n",
       "\t<tr><td>ABalaaa </td><td>19.19355</td></tr>\n",
       "\t<tr><td>ABalaaaa</td><td>41.10526</td></tr>\n",
       "</tbody>\n",
       "</table>\n"
      ],
      "text/latex": [
       "\\begin{tabular}{r|ll}\n",
       " cell & X:\\textbackslash{}Insects\\textbackslash{}C\\_elegans\\textbackslash{}201709Cell\\_lineage\\textbackslash{}EPIC/CD030906\\_dyf7red.csv\\\\\n",
       "\\hline\n",
       "\t ABa      &  0.00000\\\\\n",
       "\t ABal     & 68.82353\\\\\n",
       "\t ABala    & 35.50000\\\\\n",
       "\t ABalaa   & 65.07692\\\\\n",
       "\t ABalaaa  & 19.19355\\\\\n",
       "\t ABalaaaa & 41.10526\\\\\n",
       "\\end{tabular}\n"
      ],
      "text/markdown": [
       "\n",
       "cell | X:\\Insects\\C_elegans\\201709Cell_lineage\\EPIC/CD030906_dyf7red.csv | \n",
       "|---|---|---|---|---|---|\n",
       "| ABa      |  0.00000 | \n",
       "| ABal     | 68.82353 | \n",
       "| ABala    | 35.50000 | \n",
       "| ABalaa   | 65.07692 | \n",
       "| ABalaaa  | 19.19355 | \n",
       "| ABalaaaa | 41.10526 | \n",
       "\n",
       "\n"
      ],
      "text/plain": [
       "  cell    \n",
       "1 ABa     \n",
       "2 ABal    \n",
       "3 ABala   \n",
       "4 ABalaa  \n",
       "5 ABalaaa \n",
       "6 ABalaaaa\n",
       "  X:\\\\Insects\\\\C_elegans\\\\201709Cell_lineage\\\\EPIC/CD030906_dyf7red.csv\n",
       "1  0.00000                                                             \n",
       "2 68.82353                                                             \n",
       "3 35.50000                                                             \n",
       "4 65.07692                                                             \n",
       "5 19.19355                                                             \n",
       "6 41.10526                                                             "
      ]
     },
     "metadata": {},
     "output_type": "display_data"
    }
   ],
   "source": [
    "head(ks.tempdf)"
   ]
  },
  {
   "cell_type": "code",
   "execution_count": 300,
   "metadata": {},
   "outputs": [
    {
     "data": {
      "text/html": [
       "<ol class=list-inline>\n",
       "\t<li>'cell'</li>\n",
       "\t<li>'X:\\\\Insects\\\\C_elegans\\\\201709Cell_lineage\\\\EPIC/CD030906_dyf7red.csv'</li>\n",
       "</ol>\n"
      ],
      "text/latex": [
       "\\begin{enumerate*}\n",
       "\\item 'cell'\n",
       "\\item 'X:\\textbackslash{}\\textbackslash{}Insects\\textbackslash{}\\textbackslash{}C\\_elegans\\textbackslash{}\\textbackslash{}201709Cell\\_lineage\\textbackslash{}\\textbackslash{}EPIC/CD030906\\_dyf7red.csv'\n",
       "\\end{enumerate*}\n"
      ],
      "text/markdown": [
       "1. 'cell'\n",
       "2. 'X:\\\\Insects\\\\C_elegans\\\\201709Cell_lineage\\\\EPIC/CD030906_dyf7red.csv'\n",
       "\n",
       "\n"
      ],
      "text/plain": [
       "[1] \"cell\"                                                                 \n",
       "[2] \"X:\\\\Insects\\\\C_elegans\\\\201709Cell_lineage\\\\EPIC/CD030906_dyf7red.csv\""
      ]
     },
     "metadata": {},
     "output_type": "display_data"
    }
   ],
   "source": [
    "colnames(ks.tempdf)"
   ]
  },
  {
   "cell_type": "code",
   "execution_count": 316,
   "metadata": {},
   "outputs": [
    {
     "data": {
      "image/png": "[encoded data removed]",
      "text/plain": [
       "Plot with title \"Histogram of cells with different gene expression level\""
      ]
     },
     "metadata": {},
     "output_type": "display_data"
    }
   ],
   "source": [
    "hist(ks.tempdf[,2], main = \"Histogram of cells with different gene expression level\")"
   ]
  },
  {
   "cell_type": "code",
   "execution_count": 297,
   "metadata": {},
   "outputs": [
    {
     "data": {
      "text/html": [
       "260"
      ],
      "text/latex": [
       "260"
      ],
      "text/markdown": [
       "260"
      ],
      "text/plain": [
       "[1] 260"
      ]
     },
     "metadata": {},
     "output_type": "display_data"
    }
   ],
   "source": [
    "gene.ls  <- list()\n",
    "for (f in fnames.epic){\n",
    "    gene.ls[[f]] <- GetAverageBlotFromFile(f,0)\n",
    "}\n",
    "length(gene.ls)"
   ]
  },
  {
   "cell_type": "markdown",
   "metadata": {},
   "source": [
    "### Get cell.names to build the expression data.frame"
   ]
  },
  {
   "cell_type": "code",
   "execution_count": 301,
   "metadata": {},
   "outputs": [],
   "source": [
    "cell.names <- unique(unlist(lapply(gene.ls, function(x)x$cell)))"
   ]
  },
  {
   "cell_type": "code",
   "execution_count": 325,
   "metadata": {},
   "outputs": [
    {
     "data": {
      "text/html": [
       "2769"
      ],
      "text/latex": [
       "2769"
      ],
      "text/markdown": [
       "2769"
      ],
      "text/plain": [
       "[1] 2769"
      ]
     },
     "metadata": {},
     "output_type": "display_data"
    }
   ],
   "source": [
    "length(cell.names)"
   ]
  },
  {
   "cell_type": "code",
   "execution_count": 313,
   "metadata": {},
   "outputs": [
    {
     "name": "stdout",
     "output_type": "stream",
     "text": [
      "[1] \"2434\"                                                                        \n",
      "[2] \"X:\\\\Insects\\\\C_elegans\\\\201709Cell_lineage\\\\EPIC/CD20090319EGL-5_AF16_L1.csv\"\n"
     ]
    }
   ],
   "source": [
    "for (i in gene.ls){if (length(unique(i$cell))>1300)print(c(length(unique(i$cell)),colnames(i)[2]))}"
   ]
  },
  {
   "cell_type": "markdown",
   "metadata": {},
   "source": [
    "all epic files have less than 1300 cells, but \"CD20090319EGL-5_AF16_L1.csv\" contains 2434 cells."
   ]
  },
  {
   "cell_type": "code",
   "execution_count": 317,
   "metadata": {},
   "outputs": [],
   "source": [
    "cell.table <- table(unlist(lapply(gene.ls, function(x)x$cell)))"
   ]
  },
  {
   "cell_type": "code",
   "execution_count": 320,
   "metadata": {},
   "outputs": [
    {
     "data": {
      "image/png": "[encoded data removed]",
      "text/plain": [
       "Plot with title \"Histogram of cells based on number of detected genes\""
      ]
     },
     "metadata": {},
     "output_type": "display_data"
    }
   ],
   "source": [
    "hist(cell.table, main = \"Histogram of cells based on number of detected genes\")"
   ]
  },
  {
   "cell_type": "code",
   "execution_count": 321,
   "metadata": {},
   "outputs": [],
   "source": [
    "cell.namesMorethan10 <- names(cell.table[cell.table>=10])"
   ]
  },
  {
   "cell_type": "code",
   "execution_count": 323,
   "metadata": {},
   "outputs": [
    {
     "data": {
      "text/html": [
       "814"
      ],
      "text/latex": [
       "814"
      ],
      "text/markdown": [
       "814"
      ],
      "text/plain": [
       "[1] 814"
      ]
     },
     "metadata": {},
     "output_type": "display_data"
    }
   ],
   "source": [
    "length(cell.namesMorethan10)"
   ]
  },
  {
   "cell_type": "markdown",
   "metadata": {},
   "source": [
    "### convert list to data.frame"
   ]
  },
  {
   "cell_type": "code",
   "execution_count": 328,
   "metadata": {},
   "outputs": [],
   "source": [
    "cell.df.init <- data.frame(cell = cell.namesMorethan10)"
   ]
  },
  {
   "cell_type": "code",
   "execution_count": 329,
   "metadata": {},
   "outputs": [
    {
     "data": {
      "text/html": [
       "<table>\n",
       "<thead><tr><th scope=col>cell</th></tr></thead>\n",
       "<tbody>\n",
       "\t<tr><td>ABa     </td></tr>\n",
       "\t<tr><td>ABal    </td></tr>\n",
       "\t<tr><td>ABala   </td></tr>\n",
       "\t<tr><td>ABalaa  </td></tr>\n",
       "\t<tr><td>ABalaaa </td></tr>\n",
       "\t<tr><td>ABalaaaa</td></tr>\n",
       "</tbody>\n",
       "</table>\n"
      ],
      "text/latex": [
       "\\begin{tabular}{r|l}\n",
       " cell\\\\\n",
       "\\hline\n",
       "\t ABa     \\\\\n",
       "\t ABal    \\\\\n",
       "\t ABala   \\\\\n",
       "\t ABalaa  \\\\\n",
       "\t ABalaaa \\\\\n",
       "\t ABalaaaa\\\\\n",
       "\\end{tabular}\n"
      ],
      "text/markdown": [
       "\n",
       "cell | \n",
       "|---|---|---|---|---|---|\n",
       "| ABa      | \n",
       "| ABal     | \n",
       "| ABala    | \n",
       "| ABalaa   | \n",
       "| ABalaaa  | \n",
       "| ABalaaaa | \n",
       "\n",
       "\n"
      ],
      "text/plain": [
       "  cell    \n",
       "1 ABa     \n",
       "2 ABal    \n",
       "3 ABala   \n",
       "4 ABalaa  \n",
       "5 ABalaaa \n",
       "6 ABalaaaa"
      ]
     },
     "metadata": {},
     "output_type": "display_data"
    }
   ],
   "source": [
    "head(cell.df.init)"
   ]
  },
  {
   "cell_type": "code",
   "execution_count": 337,
   "metadata": {},
   "outputs": [],
   "source": [
    "cell.df <- Reduce(function(x,y){merge(x, y, all.x = TRUE, by = \"cell\")},x = gene.ls, init = cell.df.init)"
   ]
  },
  {
   "cell_type": "code",
   "execution_count": 338,
   "metadata": {},
   "outputs": [
    {
     "data": {
      "text/html": [
       "<ol class=list-inline>\n",
       "\t<li>814</li>\n",
       "\t<li>261</li>\n",
       "</ol>\n"
      ],
      "text/latex": [
       "\\begin{enumerate*}\n",
       "\\item 814\n",
       "\\item 261\n",
       "\\end{enumerate*}\n"
      ],
      "text/markdown": [
       "1. 814\n",
       "2. 261\n",
       "\n",
       "\n"
      ],
      "text/plain": [
       "[1] 814 261"
      ]
     },
     "metadata": {},
     "output_type": "display_data"
    }
   ],
   "source": [
    "dim(cell.df)"
   ]
  },
  {
   "cell_type": "markdown",
   "metadata": {},
   "source": [
    "### change column names from filepath to filename\n",
    "\"X:\\Insects\\C_elegans\\201709Cell_lineage\\EPIC/CD011505_end1red_bright.csv\" to \"011505_end1red_bright\""
   ]
  },
  {
   "cell_type": "code",
   "execution_count": 362,
   "metadata": {},
   "outputs": [],
   "source": [
    "colnames(cell.df) <- c(\"cell\", unlist(lapply(strsplit(colnames(cell.df)[-1], split=\"/|\\\\.|(CD)\"), function(x)x[3])))"
   ]
  },
  {
   "cell_type": "code",
   "execution_count": 363,
   "metadata": {
    "scrolled": true
   },
   "outputs": [
    {
     "data": {
      "text/html": [
       "<table>\n",
       "<thead><tr><th scope=col>cell</th><th scope=col>011505_end1red_bright</th><th scope=col>011605_5a_bright</th><th scope=col>030906_dyf7red</th><th scope=col>20060506_dyf7pJIM20</th><th scope=col>20060516_mi57</th><th scope=col>20060516_mir_57</th><th scope=col>20060627_cnd1_4-2</th><th scope=col>20060628_cnd1_4-2</th><th scope=col>20060629_pha4_b2</th><th scope=col>...</th><th scope=col>20090812_C05D10_1b_3_L1</th><th scope=col>20090813_nhr-49b_5_L1</th><th scope=col>20091023_dpy-31_3_L2</th><th scope=col>20091113_mel-28_2_L1</th><th scope=col>20091116_F17C11_5_12_L1</th><th scope=col>20091117_tag-185_b_6_L1</th><th scope=col>20091118_T22C8_3_11_L1</th><th scope=col>20091119_lir-2_OP175_L1</th><th scope=col>20091119_unc-130_9E1_4_L1</th><th scope=col>20091127_pgp-2_5_L2</th></tr></thead>\n",
       "<tbody>\n",
       "\t<tr><td>AB        </td><td>      NA  </td><td>12.555556 </td><td>      NA  </td><td> 4.933333 </td><td>       NA </td><td>       NA </td><td>      NA  </td><td>  0.000000</td><td>       NA </td><td>...       </td><td>      NA  </td><td>       NA </td><td>      NA  </td><td>       NA </td><td>      NA  </td><td>        NA</td><td>  0.00000 </td><td>        NA</td><td>       NA </td><td>       NA </td></tr>\n",
       "\t<tr><td>ABa       </td><td>29.88889  </td><td>45.533333 </td><td> 0.00000  </td><td> 0.000000 </td><td>0.0000000 </td><td>       NA </td><td>  0.0000  </td><td>271.692308</td><td> 21.57143 </td><td>...       </td><td> 0.00000  </td><td>16.571429 </td><td> 0.00000  </td><td>  0.00000 </td><td> 0.00000  </td><td> 2.4000000</td><td>114.62500 </td><td>  6.714286</td><td>0.0000000 </td><td>47.857143 </td></tr>\n",
       "\t<tr><td>ABal      </td><td>13.36842  </td><td>30.642857 </td><td>68.82353  </td><td>34.588235 </td><td>1.6666667 </td><td>1.7142857 </td><td> 41.3125  </td><td>214.142857</td><td>  0.00000 </td><td>...       </td><td>40.30000  </td><td>31.727273 </td><td>13.27273  </td><td> 41.55556 </td><td>11.12500  </td><td>37.2222222</td><td> 19.22222 </td><td> 32.200000</td><td>0.0000000 </td><td>31.333333 </td></tr>\n",
       "\t<tr><td>ABala     </td><td>18.00000  </td><td> 9.411765 </td><td>35.50000  </td><td> 0.000000 </td><td>1.0000000 </td><td>0.5294118 </td><td>102.0588  </td><td>159.941176</td><td> 50.05556 </td><td>...       </td><td>11.63636  </td><td> 0.000000 </td><td> 0.00000  </td><td> 10.58333 </td><td>28.72727  </td><td> 0.2727273</td><td>  0.00000 </td><td> 38.307692</td><td>0.0000000 </td><td> 0.000000 </td></tr>\n",
       "\t<tr><td>ABalaa    </td><td>20.59259  </td><td>17.259259 </td><td>65.07692  </td><td>11.500000 </td><td>0.8518519 </td><td>0.9583333 </td><td>163.0000  </td><td>  8.730769</td><td>106.68000 </td><td>...       </td><td> 0.00000  </td><td> 5.235294 </td><td>41.82353  </td><td> 92.05882 </td><td>19.27778  </td><td> 9.0000000</td><td> 26.94118 </td><td>149.722222</td><td>0.0000000 </td><td> 6.750000 </td></tr>\n",
       "\t<tr><td>ABalaaa   </td><td>25.93939  </td><td> 5.800000 </td><td>19.19355  </td><td>14.424242 </td><td>2.8965517 </td><td>0.8571429 </td><td>496.0000  </td><td>221.642857</td><td> 41.10345 </td><td>...       </td><td>32.00000  </td><td>16.956522 </td><td>33.30000  </td><td>111.00000 </td><td> 0.00000  </td><td>61.0526316</td><td>102.00000 </td><td>496.173913</td><td>0.4444444 </td><td> 9.210526 </td></tr>\n",
       "</tbody>\n",
       "</table>\n"
      ],
      "text/latex": [
       "\\begin{tabular}{r|lllllllllllllllllllllllllllllllllllllllllllllllllllllllllllllllllllllllllllllllllllllllllllllllllllllllllllllllllllllllllllllllllllllllllllllllllllllllllllllllllllllllllllllllllllllllllllllllllllllllllllllllllllllllllllllllllllllllllllllllllllllllllllllllllllll}\n",
       " cell & 011505\\_end1red\\_bright & 011605\\_5a\\_bright & 030906\\_dyf7red & 20060506\\_dyf7pJIM20 & 20060516\\_mi57 & 20060516\\_mir\\_57 & 20060627\\_cnd1\\_4-2 & 20060628\\_cnd1\\_4-2 & 20060629\\_pha4\\_b2 & ... & 20090812\\_C05D10\\_1b\\_3\\_L1 & 20090813\\_nhr-49b\\_5\\_L1 & 20091023\\_dpy-31\\_3\\_L2 & 20091113\\_mel-28\\_2\\_L1 & 20091116\\_F17C11\\_5\\_12\\_L1 & 20091117\\_tag-185\\_b\\_6\\_L1 & 20091118\\_T22C8\\_3\\_11\\_L1 & 20091119\\_lir-2\\_OP175\\_L1 & 20091119\\_unc-130\\_9E1\\_4\\_L1 & 20091127\\_pgp-2\\_5\\_L2\\\\\n",
       "\\hline\n",
       "\t AB         &       NA   & 12.555556  &       NA   &  4.933333  &        NA  &        NA  &       NA   &   0.000000 &        NA  & ...        &       NA   &        NA  &       NA   &        NA  &       NA   &         NA &   0.00000  &         NA &        NA  &        NA \\\\\n",
       "\t ABa        & 29.88889   & 45.533333  &  0.00000   &  0.000000  & 0.0000000  &        NA  &   0.0000   & 271.692308 &  21.57143  & ...        &  0.00000   & 16.571429  &  0.00000   &   0.00000  &  0.00000   &  2.4000000 & 114.62500  &   6.714286 & 0.0000000  & 47.857143 \\\\\n",
       "\t ABal       & 13.36842   & 30.642857  & 68.82353   & 34.588235  & 1.6666667  & 1.7142857  &  41.3125   & 214.142857 &   0.00000  & ...        & 40.30000   & 31.727273  & 13.27273   &  41.55556  & 11.12500   & 37.2222222 &  19.22222  &  32.200000 & 0.0000000  & 31.333333 \\\\\n",
       "\t ABala      & 18.00000   &  9.411765  & 35.50000   &  0.000000  & 1.0000000  & 0.5294118  & 102.0588   & 159.941176 &  50.05556  & ...        & 11.63636   &  0.000000  &  0.00000   &  10.58333  & 28.72727   &  0.2727273 &   0.00000  &  38.307692 & 0.0000000  &  0.000000 \\\\\n",
       "\t ABalaa     & 20.59259   & 17.259259  & 65.07692   & 11.500000  & 0.8518519  & 0.9583333  & 163.0000   &   8.730769 & 106.68000  & ...        &  0.00000   &  5.235294  & 41.82353   &  92.05882  & 19.27778   &  9.0000000 &  26.94118  & 149.722222 & 0.0000000  &  6.750000 \\\\\n",
       "\t ABalaaa    & 25.93939   &  5.800000  & 19.19355   & 14.424242  & 2.8965517  & 0.8571429  & 496.0000   & 221.642857 &  41.10345  & ...        & 32.00000   & 16.956522  & 33.30000   & 111.00000  &  0.00000   & 61.0526316 & 102.00000  & 496.173913 & 0.4444444  &  9.210526 \\\\\n",
       "\\end{tabular}\n"
      ],
      "text/markdown": [
       "\n",
       "cell | 011505_end1red_bright | 011605_5a_bright | 030906_dyf7red | 20060506_dyf7pJIM20 | 20060516_mi57 | 20060516_mir_57 | 20060627_cnd1_4-2 | 20060628_cnd1_4-2 | 20060629_pha4_b2 | ... | 20090812_C05D10_1b_3_L1 | 20090813_nhr-49b_5_L1 | 20091023_dpy-31_3_L2 | 20091113_mel-28_2_L1 | 20091116_F17C11_5_12_L1 | 20091117_tag-185_b_6_L1 | 20091118_T22C8_3_11_L1 | 20091119_lir-2_OP175_L1 | 20091119_unc-130_9E1_4_L1 | 20091127_pgp-2_5_L2 | \n",
       "|---|---|---|---|---|---|\n",
       "| AB         |       NA   | 12.555556  |       NA   |  4.933333  |        NA  |        NA  |       NA   |   0.000000 |        NA  | ...        |       NA   |        NA  |       NA   |        NA  |       NA   |         NA |   0.00000  |         NA |        NA  |        NA  | \n",
       "| ABa        | 29.88889   | 45.533333  |  0.00000   |  0.000000  | 0.0000000  |        NA  |   0.0000   | 271.692308 |  21.57143  | ...        |  0.00000   | 16.571429  |  0.00000   |   0.00000  |  0.00000   |  2.4000000 | 114.62500  |   6.714286 | 0.0000000  | 47.857143  | \n",
       "| ABal       | 13.36842   | 30.642857  | 68.82353   | 34.588235  | 1.6666667  | 1.7142857  |  41.3125   | 214.142857 |   0.00000  | ...        | 40.30000   | 31.727273  | 13.27273   |  41.55556  | 11.12500   | 37.2222222 |  19.22222  |  32.200000 | 0.0000000  | 31.333333  | \n",
       "| ABala      | 18.00000   |  9.411765  | 35.50000   |  0.000000  | 1.0000000  | 0.5294118  | 102.0588   | 159.941176 |  50.05556  | ...        | 11.63636   |  0.000000  |  0.00000   |  10.58333  | 28.72727   |  0.2727273 |   0.00000  |  38.307692 | 0.0000000  |  0.000000  | \n",
       "| ABalaa     | 20.59259   | 17.259259  | 65.07692   | 11.500000  | 0.8518519  | 0.9583333  | 163.0000   |   8.730769 | 106.68000  | ...        |  0.00000   |  5.235294  | 41.82353   |  92.05882  | 19.27778   |  9.0000000 |  26.94118  | 149.722222 | 0.0000000  |  6.750000  | \n",
       "| ABalaaa    | 25.93939   |  5.800000  | 19.19355   | 14.424242  | 2.8965517  | 0.8571429  | 496.0000   | 221.642857 |  41.10345  | ...        | 32.00000   | 16.956522  | 33.30000   | 111.00000  |  0.00000   | 61.0526316 | 102.00000  | 496.173913 | 0.4444444  |  9.210526  | \n",
       "\n",
       "\n"
      ],
      "text/plain": [
       "  cell    011505_end1red_bright 011605_5a_bright 030906_dyf7red\n",
       "1 AB            NA              12.555556              NA      \n",
       "2 ABa     29.88889              45.533333         0.00000      \n",
       "3 ABal    13.36842              30.642857        68.82353      \n",
       "4 ABala   18.00000               9.411765        35.50000      \n",
       "5 ABalaa  20.59259              17.259259        65.07692      \n",
       "6 ABalaaa 25.93939               5.800000        19.19355      \n",
       "  20060506_dyf7pJIM20 20060516_mi57 20060516_mir_57 20060627_cnd1_4-2\n",
       "1  4.933333                  NA            NA             NA         \n",
       "2  0.000000           0.0000000            NA         0.0000         \n",
       "3 34.588235           1.6666667     1.7142857        41.3125         \n",
       "4  0.000000           1.0000000     0.5294118       102.0588         \n",
       "5 11.500000           0.8518519     0.9583333       163.0000         \n",
       "6 14.424242           2.8965517     0.8571429       496.0000         \n",
       "  20060628_cnd1_4-2 20060629_pha4_b2 ... 20090812_C05D10_1b_3_L1\n",
       "1   0.000000               NA        ...       NA               \n",
       "2 271.692308         21.57143        ...  0.00000               \n",
       "3 214.142857          0.00000        ... 40.30000               \n",
       "4 159.941176         50.05556        ... 11.63636               \n",
       "5   8.730769        106.68000        ...  0.00000               \n",
       "6 221.642857         41.10345        ... 32.00000               \n",
       "  20090813_nhr-49b_5_L1 20091023_dpy-31_3_L2 20091113_mel-28_2_L1\n",
       "1        NA                   NA                    NA           \n",
       "2 16.571429              0.00000               0.00000           \n",
       "3 31.727273             13.27273              41.55556           \n",
       "4  0.000000              0.00000              10.58333           \n",
       "5  5.235294             41.82353              92.05882           \n",
       "6 16.956522             33.30000             111.00000           \n",
       "  20091116_F17C11_5_12_L1 20091117_tag-185_b_6_L1 20091118_T22C8_3_11_L1\n",
       "1       NA                        NA                0.00000             \n",
       "2  0.00000                 2.4000000              114.62500             \n",
       "3 11.12500                37.2222222               19.22222             \n",
       "4 28.72727                 0.2727273                0.00000             \n",
       "5 19.27778                 9.0000000               26.94118             \n",
       "6  0.00000                61.0526316              102.00000             \n",
       "  20091119_lir-2_OP175_L1 20091119_unc-130_9E1_4_L1 20091127_pgp-2_5_L2\n",
       "1         NA                     NA                        NA          \n",
       "2   6.714286              0.0000000                 47.857143          \n",
       "3  32.200000              0.0000000                 31.333333          \n",
       "4  38.307692              0.0000000                  0.000000          \n",
       "5 149.722222              0.0000000                  6.750000          \n",
       "6 496.173913              0.4444444                  9.210526          "
      ]
     },
     "metadata": {},
     "output_type": "display_data"
    }
   ],
   "source": [
    "head(cell.df)"
   ]
  },
  {
   "cell_type": "code",
   "execution_count": 378,
   "metadata": {},
   "outputs": [],
   "source": [
    "write.table(cell.df,file = \"20171207EPIC_cell_geneExpression.csv\",sep = \"\\t\", row.names = FALSE)"
   ]
  },
  {
   "cell_type": "markdown",
   "metadata": {},
   "source": [
    "### For different genes, keep only representative one listed in EPIC "
   ]
  },
  {
   "cell_type": "code",
   "execution_count": 367,
   "metadata": {},
   "outputs": [],
   "source": [
    "ks.epic.df <- read.csv(fname.epic,sep = \"\\t\")"
   ]
  },
  {
   "cell_type": "code",
   "execution_count": 368,
   "metadata": {},
   "outputs": [
    {
     "data": {
      "text/html": [
       "<table>\n",
       "<thead><tr><th scope=col>expression.tree</th><th scope=col>gene</th><th scope=col>total.series</th><th scope=col>series.shown</th><th scope=col>movie</th></tr></thead>\n",
       "<tbody>\n",
       "\t<tr><td>tree thumb              </td><td>alr-1 R08B4.2           </td><td>2                       </td><td>20081016_alr-1_10A2_3_L1</td><td>gif                     </td></tr>\n",
       "\t<tr><td>tree thumb              </td><td>ama-1 F36A4.7           </td><td>1                       </td><td>20080412_ama-1_3A3_5    </td><td>gif                     </td></tr>\n",
       "\t<tr><td>tree thumb              </td><td>B0310.2 B0310.2         </td><td>4                       </td><td>20080905_B0310_2_13_L1  </td><td>gif                     </td></tr>\n",
       "\t<tr><td>tree thumb              </td><td>B0336.3 B0336.3         </td><td>4                       </td><td>20090505_B0336_3_13_L1  </td><td>gif                     </td></tr>\n",
       "\t<tr><td>tree thumb              </td><td>C05D10.1 C05D10.1       </td><td>2                       </td><td>20090812_C05D10_1b_3_L1 </td><td>gif                     </td></tr>\n",
       "\t<tr><td>tree thumb              </td><td>C08B11.3 C08B11.3       </td><td>2                       </td><td>20071013_C08B11_3_6     </td><td>gif                     </td></tr>\n",
       "</tbody>\n",
       "</table>\n"
      ],
      "text/latex": [
       "\\begin{tabular}{r|lllll}\n",
       " expression.tree & gene & total.series & series.shown & movie\\\\\n",
       "\\hline\n",
       "\t tree thumb                       & alr-1 R08B4.2                    & 2                                & 20081016\\_alr-1\\_10A2\\_3\\_L1 & gif                             \\\\\n",
       "\t tree thumb                     & ama-1 F36A4.7                  & 1                              & 20080412\\_ama-1\\_3A3\\_5     & gif                           \\\\\n",
       "\t tree thumb                       & B0310.2 B0310.2                  & 4                                & 20080905\\_B0310\\_2\\_13\\_L1   & gif                             \\\\\n",
       "\t tree thumb                       & B0336.3 B0336.3                  & 4                                & 20090505\\_B0336\\_3\\_13\\_L1   & gif                             \\\\\n",
       "\t tree thumb                       & C05D10.1 C05D10.1                & 2                                & 20090812\\_C05D10\\_1b\\_3\\_L1  & gif                             \\\\\n",
       "\t tree thumb                     & C08B11.3 C08B11.3              & 2                              & 20071013\\_C08B11\\_3\\_6      & gif                           \\\\\n",
       "\\end{tabular}\n"
      ],
      "text/markdown": [
       "\n",
       "expression.tree | gene | total.series | series.shown | movie | \n",
       "|---|---|---|---|---|---|\n",
       "| tree thumb               | alr-1 R08B4.2            | 2                        | 20081016_alr-1_10A2_3_L1 | gif                      | \n",
       "| tree thumb               | ama-1 F36A4.7            | 1                        | 20080412_ama-1_3A3_5     | gif                      | \n",
       "| tree thumb               | B0310.2 B0310.2          | 4                        | 20080905_B0310_2_13_L1   | gif                      | \n",
       "| tree thumb               | B0336.3 B0336.3          | 4                        | 20090505_B0336_3_13_L1   | gif                      | \n",
       "| tree thumb               | C05D10.1 C05D10.1        | 2                        | 20090812_C05D10_1b_3_L1  | gif                      | \n",
       "| tree thumb               | C08B11.3 C08B11.3        | 2                        | 20071013_C08B11_3_6      | gif                      | \n",
       "\n",
       "\n"
      ],
      "text/plain": [
       "  expression.tree gene              total.series series.shown             movie\n",
       "1 tree thumb      alr-1 R08B4.2     2            20081016_alr-1_10A2_3_L1 gif  \n",
       "2 tree thumb      ama-1 F36A4.7     1            20080412_ama-1_3A3_5     gif  \n",
       "3 tree thumb      B0310.2 B0310.2   4            20080905_B0310_2_13_L1   gif  \n",
       "4 tree thumb      B0336.3 B0336.3   4            20090505_B0336_3_13_L1   gif  \n",
       "5 tree thumb      C05D10.1 C05D10.1 2            20090812_C05D10_1b_3_L1  gif  \n",
       "6 tree thumb      C08B11.3 C08B11.3 2            20071013_C08B11_3_6      gif  "
      ]
     },
     "metadata": {},
     "output_type": "display_data"
    }
   ],
   "source": [
    "head(ks.epic.df)"
   ]
  },
  {
   "cell_type": "code",
   "execution_count": 379,
   "metadata": {},
   "outputs": [],
   "source": [
    "gene.use <- intersect(colnames(cell.df), ks.epic.df$series.shown)"
   ]
  },
  {
   "cell_type": "code",
   "execution_count": 385,
   "metadata": {},
   "outputs": [],
   "source": [
    "cell.df.use <- cell.df[,c(\"cell\", gene.use)]"
   ]
  },
  {
   "cell_type": "code",
   "execution_count": 386,
   "metadata": {},
   "outputs": [
    {
     "data": {
      "text/html": [
       "<ol class=list-inline>\n",
       "\t<li>814</li>\n",
       "\t<li>120</li>\n",
       "</ol>\n"
      ],
      "text/latex": [
       "\\begin{enumerate*}\n",
       "\\item 814\n",
       "\\item 120\n",
       "\\end{enumerate*}\n"
      ],
      "text/markdown": [
       "1. 814\n",
       "2. 120\n",
       "\n",
       "\n"
      ],
      "text/plain": [
       "[1] 814 120"
      ]
     },
     "metadata": {},
     "output_type": "display_data"
    }
   ],
   "source": [
    "dim(cell.df.use)"
   ]
  },
  {
   "cell_type": "code",
   "execution_count": 387,
   "metadata": {},
   "outputs": [
    {
     "data": {
      "text/html": [
       "<table>\n",
       "<thead><tr><th scope=col>cell</th><th scope=col>011605_5a_bright</th><th scope=col>030906_dyf7red</th><th scope=col>20060516_mi57</th><th scope=col>20060627_cnd1_4-2</th><th scope=col>20060629_pha4_b2</th><th scope=col>20060719_lin1_10</th><th scope=col>20060915_mir61_e16</th><th scope=col>20070110_Ges1-4</th><th scope=col>20070111_hlh1_4</th><th scope=col>...</th><th scope=col>20090804_tps-2_2_L1</th><th scope=col>20090806_F58D2_1_2_L1</th><th scope=col>20090810_hmg-11_7_L1</th><th scope=col>20090812_C05D10_1b_3_L1</th><th scope=col>20090813_nhr-49b_5_L1</th><th scope=col>20091113_mel-28_2_L1</th><th scope=col>20091116_F17C11_5_12_L1</th><th scope=col>20091117_tag-185_b_6_L1</th><th scope=col>20091119_lir-2_OP175_L1</th><th scope=col>20091127_pgp-2_5_L2</th></tr></thead>\n",
       "<tbody>\n",
       "\t<tr><td>AB         </td><td>12.555556  </td><td>      NA   </td><td>       NA  </td><td>      NA   </td><td>       NA  </td><td> 44.000000 </td><td>       NA  </td><td>      NA   </td><td>      NA   </td><td>...        </td><td>       NA  </td><td>       NA  </td><td>         NA</td><td>      NA   </td><td>       NA  </td><td>       NA  </td><td>      NA   </td><td>        NA </td><td>        NA </td><td>       NA  </td></tr>\n",
       "\t<tr><td>ABa        </td><td>45.533333  </td><td> 0.00000   </td><td>0.0000000  </td><td>  0.0000   </td><td> 21.57143  </td><td> 15.857143 </td><td> 93.33333  </td><td> 0.00000   </td><td> 0.00000   </td><td>...        </td><td>208.00000  </td><td> 0.000000  </td><td>  57.250000</td><td> 0.00000   </td><td>16.571429  </td><td>  0.00000  </td><td> 0.00000   </td><td> 2.4000000 </td><td>  6.714286 </td><td>47.857143  </td></tr>\n",
       "\t<tr><td>ABal       </td><td>30.642857  </td><td>68.82353   </td><td>1.6666667  </td><td> 41.3125   </td><td>  0.00000  </td><td>  5.866667 </td><td> 23.25000  </td><td>13.06667   </td><td>51.82353   </td><td>...        </td><td> 20.60000  </td><td>14.800000  </td><td>   7.888889</td><td>40.30000   </td><td>31.727273  </td><td> 41.55556  </td><td>11.12500   </td><td>37.2222222 </td><td> 32.200000 </td><td>31.333333  </td></tr>\n",
       "\t<tr><td>ABala      </td><td> 9.411765  </td><td>35.50000   </td><td>1.0000000  </td><td>102.0588   </td><td> 50.05556  </td><td> 38.684211 </td><td> 90.15789  </td><td>83.00000   </td><td>28.17647   </td><td>...        </td><td>  0.00000  </td><td> 4.769231  </td><td>  80.909091</td><td>11.63636   </td><td> 0.000000  </td><td> 10.58333  </td><td>28.72727   </td><td> 0.2727273 </td><td> 38.307692 </td><td> 0.000000  </td></tr>\n",
       "\t<tr><td>ABalaa     </td><td>17.259259  </td><td>65.07692   </td><td>0.8518519  </td><td>163.0000   </td><td>106.68000  </td><td> 23.222222 </td><td> 85.22222  </td><td> 0.00000   </td><td>21.08000   </td><td>...        </td><td> 88.87500  </td><td> 4.166667  </td><td>  24.062500</td><td> 0.00000   </td><td> 5.235294  </td><td> 92.05882  </td><td>19.27778   </td><td> 9.0000000 </td><td>149.722222 </td><td> 6.750000  </td></tr>\n",
       "\t<tr><td>ABalaaa    </td><td> 5.800000  </td><td>19.19355   </td><td>2.8965517  </td><td>496.0000   </td><td> 41.10345  </td><td>109.500000 </td><td>104.93548  </td><td>54.75000   </td><td>39.76667   </td><td>...        </td><td> 33.21053  </td><td>70.681818  </td><td>4207.800000</td><td>32.00000   </td><td>16.956522  </td><td>111.00000  </td><td> 0.00000   </td><td>61.0526316 </td><td>496.173913 </td><td> 9.210526  </td></tr>\n",
       "</tbody>\n",
       "</table>\n"
      ],
      "text/latex": [
       "\\begin{tabular}{r|llllllllllllllllllllllllllllllllllllllllllllllllllllllllllllllllllllllllllllllllllllllllllllllllllllllllllllllllllllllll}\n",
       " cell & 011605\\_5a\\_bright & 030906\\_dyf7red & 20060516\\_mi57 & 20060627\\_cnd1\\_4-2 & 20060629\\_pha4\\_b2 & 20060719\\_lin1\\_10 & 20060915\\_mir61\\_e16 & 20070110\\_Ges1-4 & 20070111\\_hlh1\\_4 & ... & 20090804\\_tps-2\\_2\\_L1 & 20090806\\_F58D2\\_1\\_2\\_L1 & 20090810\\_hmg-11\\_7\\_L1 & 20090812\\_C05D10\\_1b\\_3\\_L1 & 20090813\\_nhr-49b\\_5\\_L1 & 20091113\\_mel-28\\_2\\_L1 & 20091116\\_F17C11\\_5\\_12\\_L1 & 20091117\\_tag-185\\_b\\_6\\_L1 & 20091119\\_lir-2\\_OP175\\_L1 & 20091127\\_pgp-2\\_5\\_L2\\\\\n",
       "\\hline\n",
       "\t AB          & 12.555556   &       NA    &        NA   &       NA    &        NA   &  44.000000  &        NA   &       NA    &       NA    & ...         &        NA   &        NA   &          NA &       NA    &        NA   &        NA   &       NA    &         NA  &         NA  &        NA  \\\\\n",
       "\t ABa         & 45.533333   &  0.00000    & 0.0000000   &   0.0000    &  21.57143   &  15.857143  &  93.33333   &  0.00000    &  0.00000    & ...         & 208.00000   &  0.000000   &   57.250000 &  0.00000    & 16.571429   &   0.00000   &  0.00000    &  2.4000000  &   6.714286  & 47.857143  \\\\\n",
       "\t ABal        & 30.642857   & 68.82353    & 1.6666667   &  41.3125    &   0.00000   &   5.866667  &  23.25000   & 13.06667    & 51.82353    & ...         &  20.60000   & 14.800000   &    7.888889 & 40.30000    & 31.727273   &  41.55556   & 11.12500    & 37.2222222  &  32.200000  & 31.333333  \\\\\n",
       "\t ABala       &  9.411765   & 35.50000    & 1.0000000   & 102.0588    &  50.05556   &  38.684211  &  90.15789   & 83.00000    & 28.17647    & ...         &   0.00000   &  4.769231   &   80.909091 & 11.63636    &  0.000000   &  10.58333   & 28.72727    &  0.2727273  &  38.307692  &  0.000000  \\\\\n",
       "\t ABalaa      & 17.259259   & 65.07692    & 0.8518519   & 163.0000    & 106.68000   &  23.222222  &  85.22222   &  0.00000    & 21.08000    & ...         &  88.87500   &  4.166667   &   24.062500 &  0.00000    &  5.235294   &  92.05882   & 19.27778    &  9.0000000  & 149.722222  &  6.750000  \\\\\n",
       "\t ABalaaa     &  5.800000   & 19.19355    & 2.8965517   & 496.0000    &  41.10345   & 109.500000  & 104.93548   & 54.75000    & 39.76667    & ...         &  33.21053   & 70.681818   & 4207.800000 & 32.00000    & 16.956522   & 111.00000   &  0.00000    & 61.0526316  & 496.173913  &  9.210526  \\\\\n",
       "\\end{tabular}\n"
      ],
      "text/markdown": [
       "\n",
       "cell | 011605_5a_bright | 030906_dyf7red | 20060516_mi57 | 20060627_cnd1_4-2 | 20060629_pha4_b2 | 20060719_lin1_10 | 20060915_mir61_e16 | 20070110_Ges1-4 | 20070111_hlh1_4 | ... | 20090804_tps-2_2_L1 | 20090806_F58D2_1_2_L1 | 20090810_hmg-11_7_L1 | 20090812_C05D10_1b_3_L1 | 20090813_nhr-49b_5_L1 | 20091113_mel-28_2_L1 | 20091116_F17C11_5_12_L1 | 20091117_tag-185_b_6_L1 | 20091119_lir-2_OP175_L1 | 20091127_pgp-2_5_L2 | \n",
       "|---|---|---|---|---|---|\n",
       "| AB          | 12.555556   |       NA    |        NA   |       NA    |        NA   |  44.000000  |        NA   |       NA    |       NA    | ...         |        NA   |        NA   |          NA |       NA    |        NA   |        NA   |       NA    |         NA  |         NA  |        NA   | \n",
       "| ABa         | 45.533333   |  0.00000    | 0.0000000   |   0.0000    |  21.57143   |  15.857143  |  93.33333   |  0.00000    |  0.00000    | ...         | 208.00000   |  0.000000   |   57.250000 |  0.00000    | 16.571429   |   0.00000   |  0.00000    |  2.4000000  |   6.714286  | 47.857143   | \n",
       "| ABal        | 30.642857   | 68.82353    | 1.6666667   |  41.3125    |   0.00000   |   5.866667  |  23.25000   | 13.06667    | 51.82353    | ...         |  20.60000   | 14.800000   |    7.888889 | 40.30000    | 31.727273   |  41.55556   | 11.12500    | 37.2222222  |  32.200000  | 31.333333   | \n",
       "| ABala       |  9.411765   | 35.50000    | 1.0000000   | 102.0588    |  50.05556   |  38.684211  |  90.15789   | 83.00000    | 28.17647    | ...         |   0.00000   |  4.769231   |   80.909091 | 11.63636    |  0.000000   |  10.58333   | 28.72727    |  0.2727273  |  38.307692  |  0.000000   | \n",
       "| ABalaa      | 17.259259   | 65.07692    | 0.8518519   | 163.0000    | 106.68000   |  23.222222  |  85.22222   |  0.00000    | 21.08000    | ...         |  88.87500   |  4.166667   |   24.062500 |  0.00000    |  5.235294   |  92.05882   | 19.27778    |  9.0000000  | 149.722222  |  6.750000   | \n",
       "| ABalaaa     |  5.800000   | 19.19355    | 2.8965517   | 496.0000    |  41.10345   | 109.500000  | 104.93548   | 54.75000    | 39.76667    | ...         |  33.21053   | 70.681818   | 4207.800000 | 32.00000    | 16.956522   | 111.00000   |  0.00000    | 61.0526316  | 496.173913  |  9.210526   | \n",
       "\n",
       "\n"
      ],
      "text/plain": [
       "  cell    011605_5a_bright 030906_dyf7red 20060516_mi57 20060627_cnd1_4-2\n",
       "1 AB      12.555556              NA              NA           NA         \n",
       "2 ABa     45.533333         0.00000       0.0000000       0.0000         \n",
       "3 ABal    30.642857        68.82353       1.6666667      41.3125         \n",
       "4 ABala    9.411765        35.50000       1.0000000     102.0588         \n",
       "5 ABalaa  17.259259        65.07692       0.8518519     163.0000         \n",
       "6 ABalaaa  5.800000        19.19355       2.8965517     496.0000         \n",
       "  20060629_pha4_b2 20060719_lin1_10 20060915_mir61_e16 20070110_Ges1-4\n",
       "1        NA         44.000000              NA                NA       \n",
       "2  21.57143         15.857143        93.33333           0.00000       \n",
       "3   0.00000          5.866667        23.25000          13.06667       \n",
       "4  50.05556         38.684211        90.15789          83.00000       \n",
       "5 106.68000         23.222222        85.22222           0.00000       \n",
       "6  41.10345        109.500000       104.93548          54.75000       \n",
       "  20070111_hlh1_4 ... 20090804_tps-2_2_L1 20090806_F58D2_1_2_L1\n",
       "1       NA        ...        NA                  NA            \n",
       "2  0.00000        ... 208.00000            0.000000            \n",
       "3 51.82353        ...  20.60000           14.800000            \n",
       "4 28.17647        ...   0.00000            4.769231            \n",
       "5 21.08000        ...  88.87500            4.166667            \n",
       "6 39.76667        ...  33.21053           70.681818            \n",
       "  20090810_hmg-11_7_L1 20090812_C05D10_1b_3_L1 20090813_nhr-49b_5_L1\n",
       "1          NA                NA                       NA            \n",
       "2   57.250000           0.00000                16.571429            \n",
       "3    7.888889          40.30000                31.727273            \n",
       "4   80.909091          11.63636                 0.000000            \n",
       "5   24.062500           0.00000                 5.235294            \n",
       "6 4207.800000          32.00000                16.956522            \n",
       "  20091113_mel-28_2_L1 20091116_F17C11_5_12_L1 20091117_tag-185_b_6_L1\n",
       "1        NA                  NA                        NA             \n",
       "2   0.00000             0.00000                 2.4000000             \n",
       "3  41.55556            11.12500                37.2222222             \n",
       "4  10.58333            28.72727                 0.2727273             \n",
       "5  92.05882            19.27778                 9.0000000             \n",
       "6 111.00000             0.00000                61.0526316             \n",
       "  20091119_lir-2_OP175_L1 20091127_pgp-2_5_L2\n",
       "1         NA                     NA          \n",
       "2   6.714286              47.857143          \n",
       "3  32.200000              31.333333          \n",
       "4  38.307692               0.000000          \n",
       "5 149.722222               6.750000          \n",
       "6 496.173913               9.210526          "
      ]
     },
     "metadata": {},
     "output_type": "display_data"
    }
   ],
   "source": [
    "head(cell.df.use)"
   ]
  },
  {
   "cell_type": "markdown",
   "metadata": {},
   "source": [
    "### convert cell code to binary"
   ]
  },
  {
   "cell_type": "code",
   "execution_count": 391,
   "metadata": {},
   "outputs": [],
   "source": [
    "  the_prefix <- c(\n",
    "    \"AB\",\n",
    "    \"Ab\",\n",
    "    \"B\",\n",
    "    \"C\",\n",
    "    \"D\",\n",
    "    \"E\",\n",
    "    \"F\",\n",
    "    \"G1\",\n",
    "    \"G2\",\n",
    "    \"H1L\",\n",
    "    \"H1R\",\n",
    "    \"H2L\",\n",
    "    \"H2R\",\n",
    "    \"K\",\n",
    "    \"M\",\n",
    "    \"MS\",\n",
    "    \"P0\",\n",
    "    \"P1\",\n",
    "    \"P10\",\n",
    "    \"P11\",\n",
    "    \"P12\",\n",
    "    \"P2\",\n",
    "    \"P3\",\n",
    "    \"P4\",\n",
    "    \"P5\",\n",
    "    \"P6\",\n",
    "    \"P7\",\n",
    "    \"P8\",\n",
    "    \"P9\",\n",
    "    \"QL\",\n",
    "    \"QR\",\n",
    "    \"TL\",\n",
    "    \"TR\",\n",
    "    \"U\",\n",
    "    \"V1L\",\n",
    "    \"V1R\",\n",
    "    \"V2L\",\n",
    "    \"V2R\",\n",
    "    \"V3L\",\n",
    "    \"V3R\",\n",
    "    \"V4L\",\n",
    "    \"V4R\",\n",
    "    \"V5L\",\n",
    "    \"V5R\",\n",
    "    \"V6L\",\n",
    "    \"V6R\",\n",
    "    \"W\",\n",
    "    \"Y\",\n",
    "    \"Z\",\n",
    "    \"Z1\",\n",
    "    \"Z4\",\n",
    "    \"Z2\",\n",
    "    \"Z3\",\n",
    "    \"EMS\"\n",
    "  )\n",
    "  \n",
    "  #########\n",
    " \n",
    "   the_true_prefix <- c(\n",
    "    \"Za\",\n",
    "    \"Za\",\n",
    "    \"Zaprppppapa\",\n",
    "    \"Zppa\",\n",
    "    \"Zpppa\",\n",
    "    \"Zpap\",\n",
    "    \"Zaplppppapp\",\n",
    "    \"Zaprpaaaapa\",\n",
    "    \"Zaplapaapa\",\n",
    "    \"Zaplaaappp\",\n",
    "    \"Zaarpapppp\",\n",
    "    \"Zaarppaaap\",\n",
    "    \"Zaarpppaap\",\n",
    "    \"Zaplpapppaa\",\n",
    "    \"Zpaaapaapp\",\n",
    "    \"Zpaa\",\n",
    "    \"Z\",\n",
    "    \"Zp\",#P1(CXL:\"Zaplapaapp\"->YM:\"Zp\")\n",
    "    \"Zaprapapap\", #P10\n",
    "    \"Zaplapappa\", #P11\n",
    "    \"Zaprapappa\", #P12\n",
    "    \"Zpp\",#P2(CXL:\"Zaprapaapp\"->YM:\"Zpp\")\n",
    "    \"Zppp\", #P3(CXL: \"Zaplappaaa\"->YM:\"Zppp\")\n",
    "    \"Zpppp\",#P4(CXL:\"Zaprappaaa\"->YM:\"Zpppp\")\n",
    "    \"Zaplappaap\",\n",
    "    \"Zaprappaap\",\n",
    "    \"Zaplappapp\",\n",
    "    \"Zaprappapp\",\n",
    "    \"Zaplapapap\",\n",
    "    \"Zaplapapaaa\",\n",
    "    \"Zaprapapaaa\",\n",
    "    \"Zaplappppp\",\n",
    "    \"Zaprappppp\",\n",
    "    \"Zaplppppapa\",\n",
    "    \"Zaarppapaa\",\n",
    "    \"Zaarppppaa\",\n",
    "    \"Zaarppapap\",\n",
    "    \"Zaarppppap\",\n",
    "    \"Zaplappapa\",\n",
    "    \"Zaprappapa\",\n",
    "    \"Zaarppappa\",\n",
    "    \"Zaarpppppa\",\n",
    "    \"Zaplapapaap\",\n",
    "    \"Zaprapapaap\",\n",
    "    \"Zaarppappp\",\n",
    "    \"Zaarpppppp\",\n",
    "    \"Zaprapaapa\",\n",
    "    \"Zaprpppaaaa\",\n",
    "    \"Z\",\n",
    "    \"Zpaapppaap\",\n",
    "    \"Zpaaappaap\",\n",
    "    \"Zppppp\",\n",
    "    \"Zppppa\",\n",
    "    \"Zpa\"\n",
    "  )\n",
    "the_prefix.df <- data.frame(Prefix = the_prefix, TruePrefix = the_true_prefix, stringsAsFactors = FALSE)"
   ]
  },
  {
   "cell_type": "code",
   "execution_count": 433,
   "metadata": {},
   "outputs": [
    {
     "data": {
      "text/html": [
       "<table>\n",
       "<thead><tr><th scope=col>Prefix</th><th scope=col>TruePrefix</th></tr></thead>\n",
       "<tbody>\n",
       "\t<tr><td>AB         </td><td>Za         </td></tr>\n",
       "\t<tr><td>Ab         </td><td>Za         </td></tr>\n",
       "\t<tr><td>B          </td><td>Zaprppppapa</td></tr>\n",
       "\t<tr><td>C          </td><td>Zppa       </td></tr>\n",
       "\t<tr><td>D          </td><td>Zpppa      </td></tr>\n",
       "\t<tr><td>E          </td><td>Zpap       </td></tr>\n",
       "</tbody>\n",
       "</table>\n"
      ],
      "text/latex": [
       "\\begin{tabular}{r|ll}\n",
       " Prefix & TruePrefix\\\\\n",
       "\\hline\n",
       "\t AB          & Za         \\\\\n",
       "\t Ab          & Za         \\\\\n",
       "\t B           & Zaprppppapa\\\\\n",
       "\t C           & Zppa       \\\\\n",
       "\t D           & Zpppa      \\\\\n",
       "\t E           & Zpap       \\\\\n",
       "\\end{tabular}\n"
      ],
      "text/markdown": [
       "\n",
       "Prefix | TruePrefix | \n",
       "|---|---|---|---|---|---|\n",
       "| AB          | Za          | \n",
       "| Ab          | Za          | \n",
       "| B           | Zaprppppapa | \n",
       "| C           | Zppa        | \n",
       "| D           | Zpppa       | \n",
       "| E           | Zpap        | \n",
       "\n",
       "\n"
      ],
      "text/plain": [
       "  Prefix TruePrefix \n",
       "1 AB     Za         \n",
       "2 Ab     Za         \n",
       "3 B      Zaprppppapa\n",
       "4 C      Zppa       \n",
       "5 D      Zpppa      \n",
       "6 E      Zpap       "
      ]
     },
     "metadata": {},
     "output_type": "display_data"
    }
   ],
   "source": [
    "head(the_prefix.df)"
   ]
  },
  {
   "cell_type": "code",
   "execution_count": 401,
   "metadata": {},
   "outputs": [
    {
     "data": {
      "text/plain": [
       "\n",
       " AB   C   D   E EMS  MS  P1  P2  P3  P4  Z2  Z3 \n",
       "549  63  31  31   1 133   1   1   1   1   1   1 "
      ]
     },
     "metadata": {},
     "output_type": "display_data"
    }
   ],
   "source": [
    "the_prefix.use <- table(regmatches(cell.namesMorethan10, regexpr(\"[A-Z0-9]+\", cell.namesMorethan10)))\n",
    "the_prefix.use"
   ]
  },
  {
   "cell_type": "code",
   "execution_count": 400,
   "metadata": {},
   "outputs": [
    {
     "data": {
      "text/plain": [
       "\n",
       "  AB    C    D    E  EMS   MS    N   P0   P1   P2   P3   P4   Z2   Z3 \n",
       "2099  123   67   75    1  395    2    1    1    1    1    1    1    1 "
      ]
     },
     "metadata": {},
     "output_type": "display_data"
    }
   ],
   "source": [
    "table(regmatches(cell.names, regexpr(\"[A-Z0-9]+\", cell.names)))"
   ]
  },
  {
   "cell_type": "code",
   "execution_count": 407,
   "metadata": {},
   "outputs": [
    {
     "data": {
      "text/html": [
       "<table>\n",
       "<thead><tr><th></th><th scope=col>Prefix</th><th scope=col>TruePrefix</th></tr></thead>\n",
       "<tbody>\n",
       "\t<tr><th scope=row>1</th><td>AB    </td><td>Za    </td></tr>\n",
       "\t<tr><th scope=row>4</th><td>C     </td><td>Zppa  </td></tr>\n",
       "\t<tr><th scope=row>5</th><td>D     </td><td>Zpppa </td></tr>\n",
       "\t<tr><th scope=row>6</th><td>E     </td><td>Zpap  </td></tr>\n",
       "\t<tr><th scope=row>16</th><td>MS    </td><td>Zpaa  </td></tr>\n",
       "\t<tr><th scope=row>18</th><td>P1    </td><td>Zp    </td></tr>\n",
       "\t<tr><th scope=row>22</th><td>P2    </td><td>Zpp   </td></tr>\n",
       "\t<tr><th scope=row>23</th><td>P3    </td><td>Zppp  </td></tr>\n",
       "\t<tr><th scope=row>24</th><td>P4    </td><td>Zpppp </td></tr>\n",
       "\t<tr><th scope=row>52</th><td>Z2    </td><td>Zppppp</td></tr>\n",
       "\t<tr><th scope=row>53</th><td>Z3    </td><td>Zppppa</td></tr>\n",
       "\t<tr><th scope=row>54</th><td>EMS   </td><td>Zpa   </td></tr>\n",
       "</tbody>\n",
       "</table>\n"
      ],
      "text/latex": [
       "\\begin{tabular}{r|ll}\n",
       "  & Prefix & TruePrefix\\\\\n",
       "\\hline\n",
       "\t1 & AB     & Za    \\\\\n",
       "\t4 & C      & Zppa  \\\\\n",
       "\t5 & D      & Zpppa \\\\\n",
       "\t6 & E      & Zpap  \\\\\n",
       "\t16 & MS     & Zpaa  \\\\\n",
       "\t18 & P1     & Zp    \\\\\n",
       "\t22 & P2     & Zpp   \\\\\n",
       "\t23 & P3     & Zppp  \\\\\n",
       "\t24 & P4     & Zpppp \\\\\n",
       "\t52 & Z2     & Zppppp\\\\\n",
       "\t53 & Z3     & Zppppa\\\\\n",
       "\t54 & EMS    & Zpa   \\\\\n",
       "\\end{tabular}\n"
      ],
      "text/markdown": [
       "\n",
       "| <!--/--> | Prefix | TruePrefix | \n",
       "|---|---|---|---|---|---|---|---|---|---|---|---|\n",
       "| 1 | AB     | Za     | \n",
       "| 4 | C      | Zppa   | \n",
       "| 5 | D      | Zpppa  | \n",
       "| 6 | E      | Zpap   | \n",
       "| 16 | MS     | Zpaa   | \n",
       "| 18 | P1     | Zp     | \n",
       "| 22 | P2     | Zpp    | \n",
       "| 23 | P3     | Zppp   | \n",
       "| 24 | P4     | Zpppp  | \n",
       "| 52 | Z2     | Zppppp | \n",
       "| 53 | Z3     | Zppppa | \n",
       "| 54 | EMS    | Zpa    | \n",
       "\n",
       "\n"
      ],
      "text/plain": [
       "   Prefix TruePrefix\n",
       "1  AB     Za        \n",
       "4  C      Zppa      \n",
       "5  D      Zpppa     \n",
       "6  E      Zpap      \n",
       "16 MS     Zpaa      \n",
       "18 P1     Zp        \n",
       "22 P2     Zpp       \n",
       "23 P3     Zppp      \n",
       "24 P4     Zpppp     \n",
       "52 Z2     Zppppp    \n",
       "53 Z3     Zppppa    \n",
       "54 EMS    Zpa       "
      ]
     },
     "metadata": {},
     "output_type": "display_data"
    }
   ],
   "source": [
    "the_prefix.df.use <- the_prefix.df[the_prefix.df$Prefix %in% names(the_prefix.use),]\n",
    "the_prefix.df.use"
   ]
  },
  {
   "cell_type": "code",
   "execution_count": 408,
   "metadata": {
    "scrolled": true
   },
   "outputs": [
    {
     "data": {
      "text/html": [
       "<dl class=dl-horizontal>\n",
       "\t<dt>AB</dt>\n",
       "\t\t<dd>'Za'</dd>\n",
       "\t<dt>C</dt>\n",
       "\t\t<dd>'Zppa'</dd>\n",
       "\t<dt>D</dt>\n",
       "\t\t<dd>'Zpppa'</dd>\n",
       "\t<dt>E</dt>\n",
       "\t\t<dd>'Zpap'</dd>\n",
       "\t<dt>MS</dt>\n",
       "\t\t<dd>'Zpaa'</dd>\n",
       "\t<dt>P1</dt>\n",
       "\t\t<dd>'Zp'</dd>\n",
       "\t<dt>P2</dt>\n",
       "\t\t<dd>'Zpp'</dd>\n",
       "\t<dt>P3</dt>\n",
       "\t\t<dd>'Zppp'</dd>\n",
       "\t<dt>P4</dt>\n",
       "\t\t<dd>'Zpppp'</dd>\n",
       "\t<dt>Z2</dt>\n",
       "\t\t<dd>'Zppppp'</dd>\n",
       "\t<dt>Z3</dt>\n",
       "\t\t<dd>'Zppppa'</dd>\n",
       "\t<dt>EMS</dt>\n",
       "\t\t<dd>'Zpa'</dd>\n",
       "</dl>\n"
      ],
      "text/latex": [
       "\\begin{description*}\n",
       "\\item[AB] 'Za'\n",
       "\\item[C] 'Zppa'\n",
       "\\item[D] 'Zpppa'\n",
       "\\item[E] 'Zpap'\n",
       "\\item[MS] 'Zpaa'\n",
       "\\item[P1] 'Zp'\n",
       "\\item[P2] 'Zpp'\n",
       "\\item[P3] 'Zppp'\n",
       "\\item[P4] 'Zpppp'\n",
       "\\item[Z2] 'Zppppp'\n",
       "\\item[Z3] 'Zppppa'\n",
       "\\item[EMS] 'Zpa'\n",
       "\\end{description*}\n"
      ],
      "text/markdown": [
       "AB\n",
       ":   'Za'C\n",
       ":   'Zppa'D\n",
       ":   'Zpppa'E\n",
       ":   'Zpap'MS\n",
       ":   'Zpaa'P1\n",
       ":   'Zp'P2\n",
       ":   'Zpp'P3\n",
       ":   'Zppp'P4\n",
       ":   'Zpppp'Z2\n",
       ":   'Zppppp'Z3\n",
       ":   'Zppppa'EMS\n",
       ":   'Zpa'\n",
       "\n"
      ],
      "text/plain": [
       "      AB        C        D        E       MS       P1       P2       P3 \n",
       "    \"Za\"   \"Zppa\"  \"Zpppa\"   \"Zpap\"   \"Zpaa\"     \"Zp\"    \"Zpp\"   \"Zppp\" \n",
       "      P4       Z2       Z3      EMS \n",
       " \"Zpppp\" \"Zppppp\" \"Zppppa\"    \"Zpa\" "
      ]
     },
     "metadata": {},
     "output_type": "display_data"
    }
   ],
   "source": [
    "the_prefix.vec.use = the_prefix.df.use$TruePrefix\n",
    "names(the_prefix.vec.use) <- the_prefix.df.use$Prefix\n",
    "the_prefix.vec.use"
   ]
  },
  {
   "cell_type": "code",
   "execution_count": 419,
   "metadata": {},
   "outputs": [
    {
     "data": {
      "text/html": [
       "<dl class=dl-horizontal>\n",
       "\t<dt>Z</dt>\n",
       "\t\t<dd>''</dd>\n",
       "\t<dt>a</dt>\n",
       "\t\t<dd>'0'</dd>\n",
       "\t<dt>l</dt>\n",
       "\t\t<dd>'0'</dd>\n",
       "\t<dt>d</dt>\n",
       "\t\t<dd>'0'</dd>\n",
       "\t<dt>p</dt>\n",
       "\t\t<dd>'1'</dd>\n",
       "\t<dt>r</dt>\n",
       "\t\t<dd>'1'</dd>\n",
       "\t<dt>v</dt>\n",
       "\t\t<dd>'1'</dd>\n",
       "</dl>\n"
      ],
      "text/latex": [
       "\\begin{description*}\n",
       "\\item[Z] ''\n",
       "\\item[a] '0'\n",
       "\\item[l] '0'\n",
       "\\item[d] '0'\n",
       "\\item[p] '1'\n",
       "\\item[r] '1'\n",
       "\\item[v] '1'\n",
       "\\end{description*}\n"
      ],
      "text/markdown": [
       "Z\n",
       ":   ''a\n",
       ":   '0'l\n",
       ":   '0'd\n",
       ":   '0'p\n",
       ":   '1'r\n",
       ":   '1'v\n",
       ":   '1'\n",
       "\n"
      ],
      "text/plain": [
       "  Z   a   l   d   p   r   v \n",
       " \"\" \"0\" \"0\" \"0\" \"1\" \"1\" \"1\" "
      ]
     },
     "metadata": {},
     "output_type": "display_data"
    }
   ],
   "source": [
    "ref.binary <- setNames(c(\"\",\"0\",\"0\",\"0\",\"1\",\"1\",\"1\"),c(\"Z\",\"a\",\"l\",\"d\",\"p\",\"r\",\"v\"))\n",
    "ref.binary"
   ]
  },
  {
   "cell_type": "code",
   "execution_count": 423,
   "metadata": {},
   "outputs": [],
   "source": [
    "ConvertCellNameToBinary <- function(name){\n",
    "    #name is like ABalaaa, convert it to binary code in 01\n",
    "    name.prefix  <- regmatches(name, regexpr(\"[A-Z0-9]+\", name))\n",
    "    name.postfix <- regmatches(name, regexpr(\"[aldprv]+\", name))\n",
    "    name.converted <- paste0(the_prefix.vec.use[name.prefix],name.postfix)\n",
    "    name.vector <- strsplit(name.converted,\"\")[[1]]\n",
    "    name.vectorBin <- ref.binary[name.vector]\n",
    "    name.bin = paste0(name.vectorBin,collapse = \"\")\n",
    "    return(name.bin)\n",
    "}"
   ]
  },
  {
   "cell_type": "code",
   "execution_count": 424,
   "metadata": {},
   "outputs": [
    {
     "data": {
      "text/html": [
       "'00'"
      ],
      "text/latex": [
       "'00'"
      ],
      "text/markdown": [
       "'00'"
      ],
      "text/plain": [
       "[1] \"00\""
      ]
     },
     "metadata": {},
     "output_type": "display_data"
    }
   ],
   "source": [
    "ConvertCellNameToBinary(\"ABa\")"
   ]
  },
  {
   "cell_type": "code",
   "execution_count": 427,
   "metadata": {},
   "outputs": [],
   "source": [
    "cell.df.use$Bin <- unlist(lapply(cell.df.use$cell, ConvertCellNameToBinary))"
   ]
  },
  {
   "cell_type": "code",
   "execution_count": 431,
   "metadata": {},
   "outputs": [],
   "source": [
    "rownames(cell.df.use) <- cell.df.use$Bin"
   ]
  },
  {
   "cell_type": "code",
   "execution_count": 432,
   "metadata": {},
   "outputs": [
    {
     "data": {
      "text/html": [
       "<table>\n",
       "<thead><tr><th></th><th scope=col>cell</th><th scope=col>011605_5a_bright</th><th scope=col>030906_dyf7red</th><th scope=col>20060516_mi57</th><th scope=col>20060627_cnd1_4-2</th><th scope=col>20060629_pha4_b2</th><th scope=col>20060719_lin1_10</th><th scope=col>20060915_mir61_e16</th><th scope=col>20070110_Ges1-4</th><th scope=col>20070111_hlh1_4</th><th scope=col>...</th><th scope=col>20090806_F58D2_1_2_L1</th><th scope=col>20090810_hmg-11_7_L1</th><th scope=col>20090812_C05D10_1b_3_L1</th><th scope=col>20090813_nhr-49b_5_L1</th><th scope=col>20091113_mel-28_2_L1</th><th scope=col>20091116_F17C11_5_12_L1</th><th scope=col>20091117_tag-185_b_6_L1</th><th scope=col>20091119_lir-2_OP175_L1</th><th scope=col>20091127_pgp-2_5_L2</th><th scope=col>Bin</th></tr></thead>\n",
       "<tbody>\n",
       "\t<tr><th scope=row>0</th><td>AB         </td><td>12.555556  </td><td>      NA   </td><td>       NA  </td><td>      NA   </td><td>       NA  </td><td> 44.000000 </td><td>       NA  </td><td>      NA   </td><td>      NA   </td><td>...        </td><td>       NA  </td><td>         NA</td><td>      NA   </td><td>       NA  </td><td>       NA  </td><td>      NA   </td><td>        NA </td><td>        NA </td><td>       NA  </td><td>0          </td></tr>\n",
       "\t<tr><th scope=row>00</th><td>ABa        </td><td>45.533333  </td><td> 0.00000   </td><td>0.0000000  </td><td>  0.0000   </td><td> 21.57143  </td><td> 15.857143 </td><td> 93.33333  </td><td> 0.00000   </td><td> 0.00000   </td><td>...        </td><td> 0.000000  </td><td>  57.250000</td><td> 0.00000   </td><td>16.571429  </td><td>  0.00000  </td><td> 0.00000   </td><td> 2.4000000 </td><td>  6.714286 </td><td>47.857143  </td><td>00         </td></tr>\n",
       "\t<tr><th scope=row>000</th><td>ABal       </td><td>30.642857  </td><td>68.82353   </td><td>1.6666667  </td><td> 41.3125   </td><td>  0.00000  </td><td>  5.866667 </td><td> 23.25000  </td><td>13.06667   </td><td>51.82353   </td><td>...        </td><td>14.800000  </td><td>   7.888889</td><td>40.30000   </td><td>31.727273  </td><td> 41.55556  </td><td>11.12500   </td><td>37.2222222 </td><td> 32.200000 </td><td>31.333333  </td><td>000        </td></tr>\n",
       "\t<tr><th scope=row>0000</th><td>ABala      </td><td> 9.411765  </td><td>35.50000   </td><td>1.0000000  </td><td>102.0588   </td><td> 50.05556  </td><td> 38.684211 </td><td> 90.15789  </td><td>83.00000   </td><td>28.17647   </td><td>...        </td><td> 4.769231  </td><td>  80.909091</td><td>11.63636   </td><td> 0.000000  </td><td> 10.58333  </td><td>28.72727   </td><td> 0.2727273 </td><td> 38.307692 </td><td> 0.000000  </td><td>0000       </td></tr>\n",
       "\t<tr><th scope=row>00000</th><td>ABalaa     </td><td>17.259259  </td><td>65.07692   </td><td>0.8518519  </td><td>163.0000   </td><td>106.68000  </td><td> 23.222222 </td><td> 85.22222  </td><td> 0.00000   </td><td>21.08000   </td><td>...        </td><td> 4.166667  </td><td>  24.062500</td><td> 0.00000   </td><td> 5.235294  </td><td> 92.05882  </td><td>19.27778   </td><td> 9.0000000 </td><td>149.722222 </td><td> 6.750000  </td><td>00000      </td></tr>\n",
       "\t<tr><th scope=row>000000</th><td>ABalaaa    </td><td> 5.800000  </td><td>19.19355   </td><td>2.8965517  </td><td>496.0000   </td><td> 41.10345  </td><td>109.500000 </td><td>104.93548  </td><td>54.75000   </td><td>39.76667   </td><td>...        </td><td>70.681818  </td><td>4207.800000</td><td>32.00000   </td><td>16.956522  </td><td>111.00000  </td><td> 0.00000   </td><td>61.0526316 </td><td>496.173913 </td><td> 9.210526  </td><td>000000     </td></tr>\n",
       "</tbody>\n",
       "</table>\n"
      ],
      "text/latex": [
       "\\begin{tabular}{r|lllllllllllllllllllllllllllllllllllllllllllllllllllllllllllllllllllllllllllllllllllllllllllllllllllllllllllllllllllllllll}\n",
       "  & cell & 011605\\_5a\\_bright & 030906\\_dyf7red & 20060516\\_mi57 & 20060627\\_cnd1\\_4-2 & 20060629\\_pha4\\_b2 & 20060719\\_lin1\\_10 & 20060915\\_mir61\\_e16 & 20070110\\_Ges1-4 & 20070111\\_hlh1\\_4 & ... & 20090806\\_F58D2\\_1\\_2\\_L1 & 20090810\\_hmg-11\\_7\\_L1 & 20090812\\_C05D10\\_1b\\_3\\_L1 & 20090813\\_nhr-49b\\_5\\_L1 & 20091113\\_mel-28\\_2\\_L1 & 20091116\\_F17C11\\_5\\_12\\_L1 & 20091117\\_tag-185\\_b\\_6\\_L1 & 20091119\\_lir-2\\_OP175\\_L1 & 20091127\\_pgp-2\\_5\\_L2 & Bin\\\\\n",
       "\\hline\n",
       "\t0 & AB          & 12.555556   &       NA    &        NA   &       NA    &        NA   &  44.000000  &        NA   &       NA    &       NA    & ...         &        NA   &          NA &       NA    &        NA   &        NA   &       NA    &         NA  &         NA  &        NA   & 0          \\\\\n",
       "\t00 & ABa         & 45.533333   &  0.00000    & 0.0000000   &   0.0000    &  21.57143   &  15.857143  &  93.33333   &  0.00000    &  0.00000    & ...         &  0.000000   &   57.250000 &  0.00000    & 16.571429   &   0.00000   &  0.00000    &  2.4000000  &   6.714286  & 47.857143   & 00         \\\\\n",
       "\t000 & ABal        & 30.642857   & 68.82353    & 1.6666667   &  41.3125    &   0.00000   &   5.866667  &  23.25000   & 13.06667    & 51.82353    & ...         & 14.800000   &    7.888889 & 40.30000    & 31.727273   &  41.55556   & 11.12500    & 37.2222222  &  32.200000  & 31.333333   & 000        \\\\\n",
       "\t0000 & ABala       &  9.411765   & 35.50000    & 1.0000000   & 102.0588    &  50.05556   &  38.684211  &  90.15789   & 83.00000    & 28.17647    & ...         &  4.769231   &   80.909091 & 11.63636    &  0.000000   &  10.58333   & 28.72727    &  0.2727273  &  38.307692  &  0.000000   & 0000       \\\\\n",
       "\t00000 & ABalaa      & 17.259259   & 65.07692    & 0.8518519   & 163.0000    & 106.68000   &  23.222222  &  85.22222   &  0.00000    & 21.08000    & ...         &  4.166667   &   24.062500 &  0.00000    &  5.235294   &  92.05882   & 19.27778    &  9.0000000  & 149.722222  &  6.750000   & 00000      \\\\\n",
       "\t000000 & ABalaaa     &  5.800000   & 19.19355    & 2.8965517   & 496.0000    &  41.10345   & 109.500000  & 104.93548   & 54.75000    & 39.76667    & ...         & 70.681818   & 4207.800000 & 32.00000    & 16.956522   & 111.00000   &  0.00000    & 61.0526316  & 496.173913  &  9.210526   & 000000     \\\\\n",
       "\\end{tabular}\n"
      ],
      "text/markdown": [
       "\n",
       "| <!--/--> | cell | 011605_5a_bright | 030906_dyf7red | 20060516_mi57 | 20060627_cnd1_4-2 | 20060629_pha4_b2 | 20060719_lin1_10 | 20060915_mir61_e16 | 20070110_Ges1-4 | 20070111_hlh1_4 | ... | 20090806_F58D2_1_2_L1 | 20090810_hmg-11_7_L1 | 20090812_C05D10_1b_3_L1 | 20090813_nhr-49b_5_L1 | 20091113_mel-28_2_L1 | 20091116_F17C11_5_12_L1 | 20091117_tag-185_b_6_L1 | 20091119_lir-2_OP175_L1 | 20091127_pgp-2_5_L2 | Bin | \n",
       "|---|---|---|---|---|---|\n",
       "| 0 | AB          | 12.555556   |       NA    |        NA   |       NA    |        NA   |  44.000000  |        NA   |       NA    |       NA    | ...         |        NA   |          NA |       NA    |        NA   |        NA   |       NA    |         NA  |         NA  |        NA   | 0           | \n",
       "| 00 | ABa         | 45.533333   |  0.00000    | 0.0000000   |   0.0000    |  21.57143   |  15.857143  |  93.33333   |  0.00000    |  0.00000    | ...         |  0.000000   |   57.250000 |  0.00000    | 16.571429   |   0.00000   |  0.00000    |  2.4000000  |   6.714286  | 47.857143   | 00          | \n",
       "| 000 | ABal        | 30.642857   | 68.82353    | 1.6666667   |  41.3125    |   0.00000   |   5.866667  |  23.25000   | 13.06667    | 51.82353    | ...         | 14.800000   |    7.888889 | 40.30000    | 31.727273   |  41.55556   | 11.12500    | 37.2222222  |  32.200000  | 31.333333   | 000         | \n",
       "| 0000 | ABala       |  9.411765   | 35.50000    | 1.0000000   | 102.0588    |  50.05556   |  38.684211  |  90.15789   | 83.00000    | 28.17647    | ...         |  4.769231   |   80.909091 | 11.63636    |  0.000000   |  10.58333   | 28.72727    |  0.2727273  |  38.307692  |  0.000000   | 0000        | \n",
       "| 00000 | ABalaa      | 17.259259   | 65.07692    | 0.8518519   | 163.0000    | 106.68000   |  23.222222  |  85.22222   |  0.00000    | 21.08000    | ...         |  4.166667   |   24.062500 |  0.00000    |  5.235294   |  92.05882   | 19.27778    |  9.0000000  | 149.722222  |  6.750000   | 00000       | \n",
       "| 000000 | ABalaaa     |  5.800000   | 19.19355    | 2.8965517   | 496.0000    |  41.10345   | 109.500000  | 104.93548   | 54.75000    | 39.76667    | ...         | 70.681818   | 4207.800000 | 32.00000    | 16.956522   | 111.00000   |  0.00000    | 61.0526316  | 496.173913  |  9.210526   | 000000      | \n",
       "\n",
       "\n"
      ],
      "text/plain": [
       "       cell    011605_5a_bright 030906_dyf7red 20060516_mi57 20060627_cnd1_4-2\n",
       "0      AB      12.555556              NA              NA           NA         \n",
       "00     ABa     45.533333         0.00000       0.0000000       0.0000         \n",
       "000    ABal    30.642857        68.82353       1.6666667      41.3125         \n",
       "0000   ABala    9.411765        35.50000       1.0000000     102.0588         \n",
       "00000  ABalaa  17.259259        65.07692       0.8518519     163.0000         \n",
       "000000 ABalaaa  5.800000        19.19355       2.8965517     496.0000         \n",
       "       20060629_pha4_b2 20060719_lin1_10 20060915_mir61_e16 20070110_Ges1-4\n",
       "0             NA         44.000000              NA                NA       \n",
       "00      21.57143         15.857143        93.33333           0.00000       \n",
       "000      0.00000          5.866667        23.25000          13.06667       \n",
       "0000    50.05556         38.684211        90.15789          83.00000       \n",
       "00000  106.68000         23.222222        85.22222           0.00000       \n",
       "000000  41.10345        109.500000       104.93548          54.75000       \n",
       "       20070111_hlh1_4 ... 20090806_F58D2_1_2_L1 20090810_hmg-11_7_L1\n",
       "0            NA        ...        NA                      NA         \n",
       "00      0.00000        ...  0.000000               57.250000         \n",
       "000    51.82353        ... 14.800000                7.888889         \n",
       "0000   28.17647        ...  4.769231               80.909091         \n",
       "00000  21.08000        ...  4.166667               24.062500         \n",
       "000000 39.76667        ... 70.681818             4207.800000         \n",
       "       20090812_C05D10_1b_3_L1 20090813_nhr-49b_5_L1 20091113_mel-28_2_L1\n",
       "0            NA                       NA                    NA           \n",
       "00      0.00000                16.571429               0.00000           \n",
       "000    40.30000                31.727273              41.55556           \n",
       "0000   11.63636                 0.000000              10.58333           \n",
       "00000   0.00000                 5.235294              92.05882           \n",
       "000000 32.00000                16.956522             111.00000           \n",
       "       20091116_F17C11_5_12_L1 20091117_tag-185_b_6_L1 20091119_lir-2_OP175_L1\n",
       "0            NA                        NA                      NA             \n",
       "00      0.00000                 2.4000000                6.714286             \n",
       "000    11.12500                37.2222222               32.200000             \n",
       "0000   28.72727                 0.2727273               38.307692             \n",
       "00000  19.27778                 9.0000000              149.722222             \n",
       "000000  0.00000                61.0526316              496.173913             \n",
       "       20091127_pgp-2_5_L2 Bin   \n",
       "0             NA           0     \n",
       "00     47.857143           00    \n",
       "000    31.333333           000   \n",
       "0000    0.000000           0000  \n",
       "00000   6.750000           00000 \n",
       "000000  9.210526           000000"
      ]
     },
     "metadata": {},
     "output_type": "display_data"
    }
   ],
   "source": [
    "head(cell.df.use)"
   ]
  },
  {
   "cell_type": "markdown",
   "metadata": {},
   "source": [
    "### prepare the data.frame for tree-alignments"
   ]
  },
  {
   "cell_type": "code",
   "execution_count": 441,
   "metadata": {},
   "outputs": [
    {
     "data": {
      "text/html": [
       "<table>\n",
       "<thead><tr><th></th><th scope=col>011605_5a_bright</th><th scope=col>030906_dyf7red</th><th scope=col>20060516_mi57</th><th scope=col>20060627_cnd1_4-2</th><th scope=col>20060629_pha4_b2</th><th scope=col>20060719_lin1_10</th><th scope=col>20060915_mir61_e16</th><th scope=col>20070110_Ges1-4</th><th scope=col>20070111_hlh1_4</th><th scope=col>20070308_eft3</th><th scope=col>...</th><th scope=col>20090804_tps-2_2_L1</th><th scope=col>20090806_F58D2_1_2_L1</th><th scope=col>20090810_hmg-11_7_L1</th><th scope=col>20090812_C05D10_1b_3_L1</th><th scope=col>20090813_nhr-49b_5_L1</th><th scope=col>20091113_mel-28_2_L1</th><th scope=col>20091116_F17C11_5_12_L1</th><th scope=col>20091117_tag-185_b_6_L1</th><th scope=col>20091119_lir-2_OP175_L1</th><th scope=col>20091127_pgp-2_5_L2</th></tr></thead>\n",
       "<tbody>\n",
       "\t<tr><th scope=row>0</th><td>12.555556  </td><td>      NA   </td><td>       NA  </td><td>      NA   </td><td>       NA  </td><td> 44.000000 </td><td>       NA  </td><td>      NA   </td><td>      NA   </td><td>      NA   </td><td>...        </td><td>       NA  </td><td>       NA  </td><td>         NA</td><td>      NA   </td><td>       NA  </td><td>       NA  </td><td>      NA   </td><td>        NA </td><td>        NA </td><td>       NA  </td></tr>\n",
       "\t<tr><th scope=row>00</th><td>45.533333  </td><td> 0.00000   </td><td>0.0000000  </td><td>  0.0000   </td><td> 21.57143  </td><td> 15.857143 </td><td> 93.33333  </td><td> 0.00000   </td><td> 0.00000   </td><td> 0.00000   </td><td>...        </td><td>208.00000  </td><td> 0.000000  </td><td>  57.250000</td><td> 0.00000   </td><td>16.571429  </td><td>  0.00000  </td><td> 0.00000   </td><td> 2.4000000 </td><td>  6.714286 </td><td>47.857143  </td></tr>\n",
       "\t<tr><th scope=row>000</th><td>30.642857  </td><td>68.82353   </td><td>1.6666667  </td><td> 41.3125   </td><td>  0.00000  </td><td>  5.866667 </td><td> 23.25000  </td><td>13.06667   </td><td>51.82353   </td><td>16.47059   </td><td>...        </td><td> 20.60000  </td><td>14.800000  </td><td>   7.888889</td><td>40.30000   </td><td>31.727273  </td><td> 41.55556  </td><td>11.12500   </td><td>37.2222222 </td><td> 32.200000 </td><td>31.333333  </td></tr>\n",
       "\t<tr><th scope=row>0000</th><td> 9.411765  </td><td>35.50000   </td><td>1.0000000  </td><td>102.0588   </td><td> 50.05556  </td><td> 38.684211 </td><td> 90.15789  </td><td>83.00000   </td><td>28.17647   </td><td>68.95238   </td><td>...        </td><td>  0.00000  </td><td> 4.769231  </td><td>  80.909091</td><td>11.63636   </td><td> 0.000000  </td><td> 10.58333  </td><td>28.72727   </td><td> 0.2727273 </td><td> 38.307692 </td><td> 0.000000  </td></tr>\n",
       "\t<tr><th scope=row>00000</th><td>17.259259  </td><td>65.07692   </td><td>0.8518519  </td><td>163.0000   </td><td>106.68000  </td><td> 23.222222 </td><td> 85.22222  </td><td> 0.00000   </td><td>21.08000   </td><td>24.42308   </td><td>...        </td><td> 88.87500  </td><td> 4.166667  </td><td>  24.062500</td><td> 0.00000   </td><td> 5.235294  </td><td> 92.05882  </td><td>19.27778   </td><td> 9.0000000 </td><td>149.722222 </td><td> 6.750000  </td></tr>\n",
       "\t<tr><th scope=row>000000</th><td> 5.800000  </td><td>19.19355   </td><td>2.8965517  </td><td>496.0000   </td><td> 41.10345  </td><td>109.500000 </td><td>104.93548  </td><td>54.75000   </td><td>39.76667   </td><td>85.74194   </td><td>...        </td><td> 33.21053  </td><td>70.681818  </td><td>4207.800000</td><td>32.00000   </td><td>16.956522  </td><td>111.00000  </td><td> 0.00000   </td><td>61.0526316 </td><td>496.173913 </td><td> 9.210526  </td></tr>\n",
       "</tbody>\n",
       "</table>\n"
      ],
      "text/latex": [
       "\\begin{tabular}{r|lllllllllllllllllllllllllllllllllllllllllllllllllllllllllllllllllllllllllllllllllllllllllllllllllllllllllllllllllllllll}\n",
       "  & 011605\\_5a\\_bright & 030906\\_dyf7red & 20060516\\_mi57 & 20060627\\_cnd1\\_4-2 & 20060629\\_pha4\\_b2 & 20060719\\_lin1\\_10 & 20060915\\_mir61\\_e16 & 20070110\\_Ges1-4 & 20070111\\_hlh1\\_4 & 20070308\\_eft3 & ... & 20090804\\_tps-2\\_2\\_L1 & 20090806\\_F58D2\\_1\\_2\\_L1 & 20090810\\_hmg-11\\_7\\_L1 & 20090812\\_C05D10\\_1b\\_3\\_L1 & 20090813\\_nhr-49b\\_5\\_L1 & 20091113\\_mel-28\\_2\\_L1 & 20091116\\_F17C11\\_5\\_12\\_L1 & 20091117\\_tag-185\\_b\\_6\\_L1 & 20091119\\_lir-2\\_OP175\\_L1 & 20091127\\_pgp-2\\_5\\_L2\\\\\n",
       "\\hline\n",
       "\t0 & 12.555556   &       NA    &        NA   &       NA    &        NA   &  44.000000  &        NA   &       NA    &       NA    &       NA    & ...         &        NA   &        NA   &          NA &       NA    &        NA   &        NA   &       NA    &         NA  &         NA  &        NA  \\\\\n",
       "\t00 & 45.533333   &  0.00000    & 0.0000000   &   0.0000    &  21.57143   &  15.857143  &  93.33333   &  0.00000    &  0.00000    &  0.00000    & ...         & 208.00000   &  0.000000   &   57.250000 &  0.00000    & 16.571429   &   0.00000   &  0.00000    &  2.4000000  &   6.714286  & 47.857143  \\\\\n",
       "\t000 & 30.642857   & 68.82353    & 1.6666667   &  41.3125    &   0.00000   &   5.866667  &  23.25000   & 13.06667    & 51.82353    & 16.47059    & ...         &  20.60000   & 14.800000   &    7.888889 & 40.30000    & 31.727273   &  41.55556   & 11.12500    & 37.2222222  &  32.200000  & 31.333333  \\\\\n",
       "\t0000 &  9.411765   & 35.50000    & 1.0000000   & 102.0588    &  50.05556   &  38.684211  &  90.15789   & 83.00000    & 28.17647    & 68.95238    & ...         &   0.00000   &  4.769231   &   80.909091 & 11.63636    &  0.000000   &  10.58333   & 28.72727    &  0.2727273  &  38.307692  &  0.000000  \\\\\n",
       "\t00000 & 17.259259   & 65.07692    & 0.8518519   & 163.0000    & 106.68000   &  23.222222  &  85.22222   &  0.00000    & 21.08000    & 24.42308    & ...         &  88.87500   &  4.166667   &   24.062500 &  0.00000    &  5.235294   &  92.05882   & 19.27778    &  9.0000000  & 149.722222  &  6.750000  \\\\\n",
       "\t000000 &  5.800000   & 19.19355    & 2.8965517   & 496.0000    &  41.10345   & 109.500000  & 104.93548   & 54.75000    & 39.76667    & 85.74194    & ...         &  33.21053   & 70.681818   & 4207.800000 & 32.00000    & 16.956522   & 111.00000   &  0.00000    & 61.0526316  & 496.173913  &  9.210526  \\\\\n",
       "\\end{tabular}\n"
      ],
      "text/markdown": [
       "\n",
       "| <!--/--> | 011605_5a_bright | 030906_dyf7red | 20060516_mi57 | 20060627_cnd1_4-2 | 20060629_pha4_b2 | 20060719_lin1_10 | 20060915_mir61_e16 | 20070110_Ges1-4 | 20070111_hlh1_4 | 20070308_eft3 | ... | 20090804_tps-2_2_L1 | 20090806_F58D2_1_2_L1 | 20090810_hmg-11_7_L1 | 20090812_C05D10_1b_3_L1 | 20090813_nhr-49b_5_L1 | 20091113_mel-28_2_L1 | 20091116_F17C11_5_12_L1 | 20091117_tag-185_b_6_L1 | 20091119_lir-2_OP175_L1 | 20091127_pgp-2_5_L2 | \n",
       "|---|---|---|---|---|---|\n",
       "| 0 | 12.555556   |       NA    |        NA   |       NA    |        NA   |  44.000000  |        NA   |       NA    |       NA    |       NA    | ...         |        NA   |        NA   |          NA |       NA    |        NA   |        NA   |       NA    |         NA  |         NA  |        NA   | \n",
       "| 00 | 45.533333   |  0.00000    | 0.0000000   |   0.0000    |  21.57143   |  15.857143  |  93.33333   |  0.00000    |  0.00000    |  0.00000    | ...         | 208.00000   |  0.000000   |   57.250000 |  0.00000    | 16.571429   |   0.00000   |  0.00000    |  2.4000000  |   6.714286  | 47.857143   | \n",
       "| 000 | 30.642857   | 68.82353    | 1.6666667   |  41.3125    |   0.00000   |   5.866667  |  23.25000   | 13.06667    | 51.82353    | 16.47059    | ...         |  20.60000   | 14.800000   |    7.888889 | 40.30000    | 31.727273   |  41.55556   | 11.12500    | 37.2222222  |  32.200000  | 31.333333   | \n",
       "| 0000 |  9.411765   | 35.50000    | 1.0000000   | 102.0588    |  50.05556   |  38.684211  |  90.15789   | 83.00000    | 28.17647    | 68.95238    | ...         |   0.00000   |  4.769231   |   80.909091 | 11.63636    |  0.000000   |  10.58333   | 28.72727    |  0.2727273  |  38.307692  |  0.000000   | \n",
       "| 00000 | 17.259259   | 65.07692    | 0.8518519   | 163.0000    | 106.68000   |  23.222222  |  85.22222   |  0.00000    | 21.08000    | 24.42308    | ...         |  88.87500   |  4.166667   |   24.062500 |  0.00000    |  5.235294   |  92.05882   | 19.27778    |  9.0000000  | 149.722222  |  6.750000   | \n",
       "| 000000 |  5.800000   | 19.19355    | 2.8965517   | 496.0000    |  41.10345   | 109.500000  | 104.93548   | 54.75000    | 39.76667    | 85.74194    | ...         |  33.21053   | 70.681818   | 4207.800000 | 32.00000    | 16.956522   | 111.00000   |  0.00000    | 61.0526316  | 496.173913  |  9.210526   | \n",
       "\n",
       "\n"
      ],
      "text/plain": [
       "       011605_5a_bright 030906_dyf7red 20060516_mi57 20060627_cnd1_4-2\n",
       "0      12.555556              NA              NA           NA         \n",
       "00     45.533333         0.00000       0.0000000       0.0000         \n",
       "000    30.642857        68.82353       1.6666667      41.3125         \n",
       "0000    9.411765        35.50000       1.0000000     102.0588         \n",
       "00000  17.259259        65.07692       0.8518519     163.0000         \n",
       "000000  5.800000        19.19355       2.8965517     496.0000         \n",
       "       20060629_pha4_b2 20060719_lin1_10 20060915_mir61_e16 20070110_Ges1-4\n",
       "0             NA         44.000000              NA                NA       \n",
       "00      21.57143         15.857143        93.33333           0.00000       \n",
       "000      0.00000          5.866667        23.25000          13.06667       \n",
       "0000    50.05556         38.684211        90.15789          83.00000       \n",
       "00000  106.68000         23.222222        85.22222           0.00000       \n",
       "000000  41.10345        109.500000       104.93548          54.75000       \n",
       "       20070111_hlh1_4 20070308_eft3 ... 20090804_tps-2_2_L1\n",
       "0            NA              NA      ...        NA          \n",
       "00      0.00000         0.00000      ... 208.00000          \n",
       "000    51.82353        16.47059      ...  20.60000          \n",
       "0000   28.17647        68.95238      ...   0.00000          \n",
       "00000  21.08000        24.42308      ...  88.87500          \n",
       "000000 39.76667        85.74194      ...  33.21053          \n",
       "       20090806_F58D2_1_2_L1 20090810_hmg-11_7_L1 20090812_C05D10_1b_3_L1\n",
       "0             NA                      NA                NA               \n",
       "00      0.000000               57.250000           0.00000               \n",
       "000    14.800000                7.888889          40.30000               \n",
       "0000    4.769231               80.909091          11.63636               \n",
       "00000   4.166667               24.062500           0.00000               \n",
       "000000 70.681818             4207.800000          32.00000               \n",
       "       20090813_nhr-49b_5_L1 20091113_mel-28_2_L1 20091116_F17C11_5_12_L1\n",
       "0             NA                    NA                  NA               \n",
       "00     16.571429               0.00000             0.00000               \n",
       "000    31.727273              41.55556            11.12500               \n",
       "0000    0.000000              10.58333            28.72727               \n",
       "00000   5.235294              92.05882            19.27778               \n",
       "000000 16.956522             111.00000             0.00000               \n",
       "       20091117_tag-185_b_6_L1 20091119_lir-2_OP175_L1 20091127_pgp-2_5_L2\n",
       "0              NA                      NA                     NA          \n",
       "00      2.4000000                6.714286              47.857143          \n",
       "000    37.2222222               32.200000              31.333333          \n",
       "0000    0.2727273               38.307692               0.000000          \n",
       "00000   9.0000000              149.722222               6.750000          \n",
       "000000 61.0526316              496.173913               9.210526          "
      ]
     },
     "metadata": {},
     "output_type": "display_data"
    }
   ],
   "source": [
    "cell.df.exp <- cell.df.use[ ,-c(1,length(cell.df.use))]\n",
    "head(cell.df.exp)"
   ]
  },
  {
   "cell_type": "code",
   "execution_count": 442,
   "metadata": {},
   "outputs": [
    {
     "data": {
      "text/html": [
       "<table>\n",
       "<thead><tr><th></th><th scope=col>011605_5a_bright</th><th scope=col>030906_dyf7red</th><th scope=col>20060516_mi57</th><th scope=col>20060627_cnd1_4-2</th><th scope=col>20060629_pha4_b2</th><th scope=col>20060719_lin1_10</th><th scope=col>20060915_mir61_e16</th><th scope=col>20070110_Ges1-4</th><th scope=col>20070111_hlh1_4</th><th scope=col>20070308_eft3</th><th scope=col>...</th><th scope=col>20090804_tps-2_2_L1</th><th scope=col>20090806_F58D2_1_2_L1</th><th scope=col>20090810_hmg-11_7_L1</th><th scope=col>20090812_C05D10_1b_3_L1</th><th scope=col>20090813_nhr-49b_5_L1</th><th scope=col>20091113_mel-28_2_L1</th><th scope=col>20091116_F17C11_5_12_L1</th><th scope=col>20091117_tag-185_b_6_L1</th><th scope=col>20091119_lir-2_OP175_L1</th><th scope=col>20091127_pgp-2_5_L2</th></tr></thead>\n",
       "<tbody>\n",
       "\t<tr><th scope=row>0</th><td>3.760812 </td><td>      NA </td><td>       NA</td><td>      NA </td><td>      NA </td><td>5.491853 </td><td>      NA </td><td>      NA </td><td>      NA </td><td>      NA </td><td>...      </td><td>      NA </td><td>      NA </td><td>       NA</td><td>      NA </td><td>      NA </td><td>      NA </td><td>      NA </td><td>       NA</td><td>      NA </td><td>      NA </td></tr>\n",
       "\t<tr><th scope=row>00</th><td>5.540193 </td><td>0.000000 </td><td>0.0000000</td><td>0.000000 </td><td>4.496426 </td><td>4.075288 </td><td>6.559696 </td><td>0.000000 </td><td>0.000000 </td><td>0.000000 </td><td>...      </td><td>7.707359 </td><td>0.000000 </td><td> 5.864186</td><td>0.000000 </td><td>4.135160 </td><td>0.000000 </td><td>0.000000 </td><td>1.7655347</td><td>2.947533 </td><td>5.610498 </td></tr>\n",
       "\t<tr><th scope=row>000</th><td>4.983808 </td><td>6.125641 </td><td>1.4150375</td><td>5.403012 </td><td>0.000000 </td><td>2.779610 </td><td>4.599913 </td><td>3.814209 </td><td>5.723109 </td><td>4.126856 </td><td>...      </td><td>4.432959 </td><td>3.981853 </td><td> 3.152003</td><td>5.368070 </td><td>5.032421 </td><td>5.411276 </td><td>3.599913 </td><td>5.2563398</td><td>5.053111 </td><td>5.014950 </td></tr>\n",
       "\t<tr><th scope=row>0000</th><td>3.380143 </td><td>5.189825 </td><td>1.0000000</td><td>6.687324 </td><td>5.673996 </td><td>5.310493 </td><td>6.510296 </td><td>6.392317 </td><td>4.866733 </td><td>6.128301 </td><td>...      </td><td>0.000000 </td><td>2.528379 </td><td> 6.355952</td><td>3.659509 </td><td>0.000000 </td><td>3.533979 </td><td>4.893715 </td><td>0.3479233</td><td>5.296740 </td><td>0.000000 </td></tr>\n",
       "\t<tr><th scope=row>00000</th><td>4.190556 </td><td>6.046075 </td><td>0.8889687</td><td>7.357552 </td><td>6.750607 </td><td>4.598259 </td><td>6.429988 </td><td>0.000000 </td><td>4.464668 </td><td>4.668067 </td><td>...      </td><td>6.489848 </td><td>2.369234 </td><td> 4.647458</td><td>0.000000 </td><td>2.640458 </td><td>6.540071 </td><td>4.341828 </td><td>3.3219281</td><td>7.235748 </td><td>2.954196 </td></tr>\n",
       "\t<tr><th scope=row>000000</th><td>2.765535 </td><td>4.335823 </td><td>1.9621980</td><td>8.957102 </td><td>5.395866 </td><td>6.787903 </td><td>6.727042 </td><td>5.800900 </td><td>5.349318 </td><td>6.438658 </td><td>...      </td><td>5.096368 </td><td>6.163535 </td><td>12.039193</td><td>5.044394 </td><td>4.166436 </td><td>6.807355 </td><td>0.000000 </td><td>5.9554205</td><td>8.957607 </td><td>3.351985 </td></tr>\n",
       "</tbody>\n",
       "</table>\n"
      ],
      "text/latex": [
       "\\begin{tabular}{r|lllllllllllllllllllllllllllllllllllllllllllllllllllllllllllllllllllllllllllllllllllllllllllllllllllllllllllllllllllllll}\n",
       "  & 011605\\_5a\\_bright & 030906\\_dyf7red & 20060516\\_mi57 & 20060627\\_cnd1\\_4-2 & 20060629\\_pha4\\_b2 & 20060719\\_lin1\\_10 & 20060915\\_mir61\\_e16 & 20070110\\_Ges1-4 & 20070111\\_hlh1\\_4 & 20070308\\_eft3 & ... & 20090804\\_tps-2\\_2\\_L1 & 20090806\\_F58D2\\_1\\_2\\_L1 & 20090810\\_hmg-11\\_7\\_L1 & 20090812\\_C05D10\\_1b\\_3\\_L1 & 20090813\\_nhr-49b\\_5\\_L1 & 20091113\\_mel-28\\_2\\_L1 & 20091116\\_F17C11\\_5\\_12\\_L1 & 20091117\\_tag-185\\_b\\_6\\_L1 & 20091119\\_lir-2\\_OP175\\_L1 & 20091127\\_pgp-2\\_5\\_L2\\\\\n",
       "\\hline\n",
       "\t0 & 3.760812  &       NA  &        NA &       NA  &       NA  & 5.491853  &       NA  &       NA  &       NA  &       NA  & ...       &       NA  &       NA  &        NA &       NA  &       NA  &       NA  &       NA  &        NA &       NA  &       NA \\\\\n",
       "\t00 & 5.540193  & 0.000000  & 0.0000000 & 0.000000  & 4.496426  & 4.075288  & 6.559696  & 0.000000  & 0.000000  & 0.000000  & ...       & 7.707359  & 0.000000  &  5.864186 & 0.000000  & 4.135160  & 0.000000  & 0.000000  & 1.7655347 & 2.947533  & 5.610498 \\\\\n",
       "\t000 & 4.983808  & 6.125641  & 1.4150375 & 5.403012  & 0.000000  & 2.779610  & 4.599913  & 3.814209  & 5.723109  & 4.126856  & ...       & 4.432959  & 3.981853  &  3.152003 & 5.368070  & 5.032421  & 5.411276  & 3.599913  & 5.2563398 & 5.053111  & 5.014950 \\\\\n",
       "\t0000 & 3.380143  & 5.189825  & 1.0000000 & 6.687324  & 5.673996  & 5.310493  & 6.510296  & 6.392317  & 4.866733  & 6.128301  & ...       & 0.000000  & 2.528379  &  6.355952 & 3.659509  & 0.000000  & 3.533979  & 4.893715  & 0.3479233 & 5.296740  & 0.000000 \\\\\n",
       "\t00000 & 4.190556  & 6.046075  & 0.8889687 & 7.357552  & 6.750607  & 4.598259  & 6.429988  & 0.000000  & 4.464668  & 4.668067  & ...       & 6.489848  & 2.369234  &  4.647458 & 0.000000  & 2.640458  & 6.540071  & 4.341828  & 3.3219281 & 7.235748  & 2.954196 \\\\\n",
       "\t000000 & 2.765535  & 4.335823  & 1.9621980 & 8.957102  & 5.395866  & 6.787903  & 6.727042  & 5.800900  & 5.349318  & 6.438658  & ...       & 5.096368  & 6.163535  & 12.039193 & 5.044394  & 4.166436  & 6.807355  & 0.000000  & 5.9554205 & 8.957607  & 3.351985 \\\\\n",
       "\\end{tabular}\n"
      ],
      "text/markdown": [
       "\n",
       "| <!--/--> | 011605_5a_bright | 030906_dyf7red | 20060516_mi57 | 20060627_cnd1_4-2 | 20060629_pha4_b2 | 20060719_lin1_10 | 20060915_mir61_e16 | 20070110_Ges1-4 | 20070111_hlh1_4 | 20070308_eft3 | ... | 20090804_tps-2_2_L1 | 20090806_F58D2_1_2_L1 | 20090810_hmg-11_7_L1 | 20090812_C05D10_1b_3_L1 | 20090813_nhr-49b_5_L1 | 20091113_mel-28_2_L1 | 20091116_F17C11_5_12_L1 | 20091117_tag-185_b_6_L1 | 20091119_lir-2_OP175_L1 | 20091127_pgp-2_5_L2 | \n",
       "|---|---|---|---|---|---|\n",
       "| 0 | 3.760812  |       NA  |        NA |       NA  |       NA  | 5.491853  |       NA  |       NA  |       NA  |       NA  | ...       |       NA  |       NA  |        NA |       NA  |       NA  |       NA  |       NA  |        NA |       NA  |       NA  | \n",
       "| 00 | 5.540193  | 0.000000  | 0.0000000 | 0.000000  | 4.496426  | 4.075288  | 6.559696  | 0.000000  | 0.000000  | 0.000000  | ...       | 7.707359  | 0.000000  |  5.864186 | 0.000000  | 4.135160  | 0.000000  | 0.000000  | 1.7655347 | 2.947533  | 5.610498  | \n",
       "| 000 | 4.983808  | 6.125641  | 1.4150375 | 5.403012  | 0.000000  | 2.779610  | 4.599913  | 3.814209  | 5.723109  | 4.126856  | ...       | 4.432959  | 3.981853  |  3.152003 | 5.368070  | 5.032421  | 5.411276  | 3.599913  | 5.2563398 | 5.053111  | 5.014950  | \n",
       "| 0000 | 3.380143  | 5.189825  | 1.0000000 | 6.687324  | 5.673996  | 5.310493  | 6.510296  | 6.392317  | 4.866733  | 6.128301  | ...       | 0.000000  | 2.528379  |  6.355952 | 3.659509  | 0.000000  | 3.533979  | 4.893715  | 0.3479233 | 5.296740  | 0.000000  | \n",
       "| 00000 | 4.190556  | 6.046075  | 0.8889687 | 7.357552  | 6.750607  | 4.598259  | 6.429988  | 0.000000  | 4.464668  | 4.668067  | ...       | 6.489848  | 2.369234  |  4.647458 | 0.000000  | 2.640458  | 6.540071  | 4.341828  | 3.3219281 | 7.235748  | 2.954196  | \n",
       "| 000000 | 2.765535  | 4.335823  | 1.9621980 | 8.957102  | 5.395866  | 6.787903  | 6.727042  | 5.800900  | 5.349318  | 6.438658  | ...       | 5.096368  | 6.163535  | 12.039193 | 5.044394  | 4.166436  | 6.807355  | 0.000000  | 5.9554205 | 8.957607  | 3.351985  | \n",
       "\n",
       "\n"
      ],
      "text/plain": [
       "       011605_5a_bright 030906_dyf7red 20060516_mi57 20060627_cnd1_4-2\n",
       "0      3.760812               NA              NA           NA         \n",
       "00     5.540193         0.000000       0.0000000     0.000000         \n",
       "000    4.983808         6.125641       1.4150375     5.403012         \n",
       "0000   3.380143         5.189825       1.0000000     6.687324         \n",
       "00000  4.190556         6.046075       0.8889687     7.357552         \n",
       "000000 2.765535         4.335823       1.9621980     8.957102         \n",
       "       20060629_pha4_b2 20060719_lin1_10 20060915_mir61_e16 20070110_Ges1-4\n",
       "0            NA         5.491853               NA                 NA       \n",
       "00     4.496426         4.075288         6.559696           0.000000       \n",
       "000    0.000000         2.779610         4.599913           3.814209       \n",
       "0000   5.673996         5.310493         6.510296           6.392317       \n",
       "00000  6.750607         4.598259         6.429988           0.000000       \n",
       "000000 5.395866         6.787903         6.727042           5.800900       \n",
       "       20070111_hlh1_4 20070308_eft3 ... 20090804_tps-2_2_L1\n",
       "0            NA              NA      ...       NA           \n",
       "00     0.000000        0.000000      ... 7.707359           \n",
       "000    5.723109        4.126856      ... 4.432959           \n",
       "0000   4.866733        6.128301      ... 0.000000           \n",
       "00000  4.464668        4.668067      ... 6.489848           \n",
       "000000 5.349318        6.438658      ... 5.096368           \n",
       "       20090806_F58D2_1_2_L1 20090810_hmg-11_7_L1 20090812_C05D10_1b_3_L1\n",
       "0            NA                     NA                  NA               \n",
       "00     0.000000               5.864186            0.000000               \n",
       "000    3.981853               3.152003            5.368070               \n",
       "0000   2.528379               6.355952            3.659509               \n",
       "00000  2.369234               4.647458            0.000000               \n",
       "000000 6.163535              12.039193            5.044394               \n",
       "       20090813_nhr-49b_5_L1 20091113_mel-28_2_L1 20091116_F17C11_5_12_L1\n",
       "0            NA                    NA                   NA               \n",
       "00     4.135160              0.000000             0.000000               \n",
       "000    5.032421              5.411276             3.599913               \n",
       "0000   0.000000              3.533979             4.893715               \n",
       "00000  2.640458              6.540071             4.341828               \n",
       "000000 4.166436              6.807355             0.000000               \n",
       "       20091117_tag-185_b_6_L1 20091119_lir-2_OP175_L1 20091127_pgp-2_5_L2\n",
       "0             NA                     NA                      NA           \n",
       "00     1.7655347               2.947533                5.610498           \n",
       "000    5.2563398               5.053111                5.014950           \n",
       "0000   0.3479233               5.296740                0.000000           \n",
       "00000  3.3219281               7.235748                2.954196           \n",
       "000000 5.9554205               8.957607                3.351985           "
      ]
     },
     "metadata": {},
     "output_type": "display_data"
    }
   ],
   "source": [
    "cell.df.expLog2 <- log2(cell.df.exp+1)\n",
    "head(cell.df.expLog2)"
   ]
  },
  {
   "cell_type": "markdown",
   "metadata": {},
   "source": [
    "### use alignments with more than 1 nodes"
   ]
  },
  {
   "cell_type": "code",
   "execution_count": 446,
   "metadata": {},
   "outputs": [],
   "source": [
    "alignments.test <- alignments.1more[1000,]"
   ]
  },
  {
   "cell_type": "code",
   "execution_count": 447,
   "metadata": {},
   "outputs": [
    {
     "data": {
      "text/html": [
       "<table>\n",
       "<thead><tr><th></th><th scope=col>id</th><th scope=col>Score</th><th scope=col>RootS</th><th scope=col>RootT</th><th scope=col>PruneS</th><th scope=col>PruneT</th><th scope=col>MatchS</th><th scope=col>MatchT</th><th scope=col>MatchLength</th><th scope=col>matchLength</th><th scope=col>symPairsL</th><th scope=col>symPairs</th></tr></thead>\n",
       "<tbody>\n",
       "\t<tr><th scope=row>1000</th><td>1000                                                                                                                                          </td><td>10                                                                                                                                            </td><td>0000111                                                                                                                                       </td><td>0111011                                                                                                                                       </td><td>00001110101 00001111001                                                                                                                       </td><td>                                                                                                                                              </td><td>00001110  , 00001111  , 000011100 , 000011101 , 000011110 , 000011111 , 0000111000, 0000111001, 0000111010, 0000111011, 0000111100, 0000111101</td><td>01110110  , 01110111  , 011101100 , 011101101 , 011101110 , 011101111 , 0111011000, 0111011001, 0111011010, 0111011011, 0111011100, 0111011101</td><td>12                                                                                                                                            </td><td>13                                                                                                                                            </td><td>0                                                                                                                                             </td><td>NULL                                                                                                                                          </td></tr>\n",
       "</tbody>\n",
       "</table>\n"
      ],
      "text/latex": [
       "\\begin{tabular}{r|llllllllllll}\n",
       "  & id & Score & RootS & RootT & PruneS & PruneT & MatchS & MatchT & MatchLength & matchLength & symPairsL & symPairs\\\\\n",
       "\\hline\n",
       "\t1000 & 1000                                                                                                                                           & 10                                                                                                                                             & 0000111                                                                                                                                        & 0111011                                                                                                                                        & 00001110101 00001111001                                                                                                                        &                                                                                                                                                & 00001110  , 00001111  , 000011100 , 000011101 , 000011110 , 000011111 , 0000111000, 0000111001, 0000111010, 0000111011, 0000111100, 0000111101 & 01110110  , 01110111  , 011101100 , 011101101 , 011101110 , 011101111 , 0111011000, 0111011001, 0111011010, 0111011011, 0111011100, 0111011101 & 12                                                                                                                                             & 13                                                                                                                                             & 0                                                                                                                                              & NULL                                                                                                                                          \\\\\n",
       "\\end{tabular}\n"
      ],
      "text/markdown": [
       "\n",
       "| <!--/--> | id | Score | RootS | RootT | PruneS | PruneT | MatchS | MatchT | MatchLength | matchLength | symPairsL | symPairs | \n",
       "|---|\n",
       "| 1000 | 1000                                                                                                                                           | 10                                                                                                                                             | 0000111                                                                                                                                        | 0111011                                                                                                                                        | 00001110101 00001111001                                                                                                                        |                                                                                                                                                | 00001110  , 00001111  , 000011100 , 000011101 , 000011110 , 000011111 , 0000111000, 0000111001, 0000111010, 0000111011, 0000111100, 0000111101 | 01110110  , 01110111  , 011101100 , 011101101 , 011101110 , 011101111 , 0111011000, 0111011001, 0111011010, 0111011011, 0111011100, 0111011101 | 12                                                                                                                                             | 13                                                                                                                                             | 0                                                                                                                                              | NULL                                                                                                                                           | \n",
       "\n",
       "\n"
      ],
      "text/plain": [
       "     id   Score RootS   RootT   PruneS                   PruneT\n",
       "1000 1000 10    0000111 0111011 00001110101 00001111001        \n",
       "     MatchS                                                                                                                                        \n",
       "1000 00001110  , 00001111  , 000011100 , 000011101 , 000011110 , 000011111 , 0000111000, 0000111001, 0000111010, 0000111011, 0000111100, 0000111101\n",
       "     MatchT                                                                                                                                        \n",
       "1000 01110110  , 01110111  , 011101100 , 011101101 , 011101110 , 011101111 , 0111011000, 0111011001, 0111011010, 0111011011, 0111011100, 0111011101\n",
       "     MatchLength matchLength symPairsL symPairs\n",
       "1000 12          13          0         NULL    "
      ]
     },
     "metadata": {},
     "output_type": "display_data"
    }
   ],
   "source": [
    "alignments.test"
   ]
  },
  {
   "cell_type": "code",
   "execution_count": 454,
   "metadata": {},
   "outputs": [
    {
     "data": {
      "text/html": [
       "<ol class=list-inline>\n",
       "\t<li>12</li>\n",
       "\t<li>119</li>\n",
       "</ol>\n"
      ],
      "text/latex": [
       "\\begin{enumerate*}\n",
       "\\item 12\n",
       "\\item 119\n",
       "\\end{enumerate*}\n"
      ],
      "text/markdown": [
       "1. 12\n",
       "2. 119\n",
       "\n",
       "\n"
      ],
      "text/plain": [
       "[1]  12 119"
      ]
     },
     "metadata": {},
     "output_type": "display_data"
    }
   ],
   "source": [
    "dim(cell.df.expLog2[alignments.test$MatchS[[1]],])"
   ]
  },
  {
   "cell_type": "code",
   "execution_count": 504,
   "metadata": {},
   "outputs": [],
   "source": [
    "CalculateCorrelation <- function(x){\n",
    "    # x is one row of alignments.1more\n",
    "    Ts <- unlist(cell.df.expLog2[x$MatchS[[1]],])\n",
    "    Tt <- unlist(cell.df.expLog2[x$MatchT[[1]],])\n",
    "    if (sum(!(is.na(Ts) | is.na(Tt))) == 0) {\n",
    "        return(NA)\n",
    "    } else {\n",
    "        return(cor(Ts,Tt, use = \"complete.obs\"))\n",
    "    }\n",
    "}"
   ]
  },
  {
   "cell_type": "code",
   "execution_count": 497,
   "metadata": {},
   "outputs": [
    {
     "data": {
      "text/html": [
       "0.807882800068036"
      ],
      "text/latex": [
       "0.807882800068036"
      ],
      "text/markdown": [
       "0.807882800068036"
      ],
      "text/plain": [
       "[1] 0.8078828"
      ]
     },
     "metadata": {},
     "output_type": "display_data"
    }
   ],
   "source": [
    "CalculateCorrelation(alignments.1more[2,])"
   ]
  },
  {
   "cell_type": "code",
   "execution_count": 499,
   "metadata": {},
   "outputs": [
    {
     "data": {
      "text/html": [
       "<ol class=list-inline>\n",
       "\t<li>12105</li>\n",
       "\t<li>12</li>\n",
       "</ol>\n"
      ],
      "text/latex": [
       "\\begin{enumerate*}\n",
       "\\item 12105\n",
       "\\item 12\n",
       "\\end{enumerate*}\n"
      ],
      "text/markdown": [
       "1. 12105\n",
       "2. 12\n",
       "\n",
       "\n"
      ],
      "text/plain": [
       "[1] 12105    12"
      ]
     },
     "metadata": {},
     "output_type": "display_data"
    }
   ],
   "source": [
    "dim(alignments.1more)"
   ]
  },
  {
   "cell_type": "code",
   "execution_count": 505,
   "metadata": {},
   "outputs": [],
   "source": [
    "ks.PearsonCor <- rep(0,dim(alignments.1more)[1])\n",
    "for (i in 1:dim(alignments.1more)[1]){\n",
    "    x <- alignments.1more[i,]\n",
    "    ks.PearsonCor[i] <-  CalculateCorrelation(x)\n",
    "}"
   ]
  },
  {
   "cell_type": "code",
   "execution_count": 510,
   "metadata": {},
   "outputs": [
    {
     "data": {
      "image/png": "[encoded data removed]",
      "text/plain": [
       "Plot with title \"Pearson's Correlation of all Trees\""
      ]
     },
     "metadata": {},
     "output_type": "display_data"
    }
   ],
   "source": [
    "hist(ks.PearsonCor, main = \"Pearson's Correlation of all Trees\")"
   ]
  },
  {
   "cell_type": "code",
   "execution_count": 509,
   "metadata": {},
   "outputs": [
    {
     "data": {
      "image/png": "[encoded data removed]",
      "text/plain": [
       "Plot with title \"Pearson's Correlation of Top 100 Trees\""
      ]
     },
     "metadata": {},
     "output_type": "display_data"
    }
   ],
   "source": [
    "hist(ks.PearsonCor[1:100], main = \"Pearson's Correlation of Top 100 Trees\")"
   ]
  },
  {
   "cell_type": "code",
   "execution_count": 513,
   "metadata": {},
   "outputs": [
    {
     "data": {
      "image/png": "[encoded data removed]",
      "text/plain": [
       "Plot with title \"Pearson's Correlation of Top 100 Trees\""
      ]
     },
     "metadata": {},
     "output_type": "display_data"
    }
   ],
   "source": [
    "plot(ks.PearsonCor[1:100], main = \"Pearson's Correlation of Top 100 Trees\")"
   ]
  },
  {
   "cell_type": "code",
   "execution_count": 522,
   "metadata": {},
   "outputs": [],
   "source": [
    "ks.df.Corr <- data.frame(Rank = 1:length(ks.PearsonCor),Score = alignments.1more$Score, Cor = ks.PearsonCor)"
   ]
  },
  {
   "cell_type": "code",
   "execution_count": 526,
   "metadata": {},
   "outputs": [
    {
     "data": {
      "text/html": [
       "<ol class=list-inline>\n",
       "\t<li>12105</li>\n",
       "\t<li>3</li>\n",
       "</ol>\n"
      ],
      "text/latex": [
       "\\begin{enumerate*}\n",
       "\\item 12105\n",
       "\\item 3\n",
       "\\end{enumerate*}\n"
      ],
      "text/markdown": [
       "1. 12105\n",
       "2. 3\n",
       "\n",
       "\n"
      ],
      "text/plain": [
       "[1] 12105     3"
      ]
     },
     "metadata": {},
     "output_type": "display_data"
    },
    {
     "data": {
      "text/html": [
       "<table>\n",
       "<thead><tr><th scope=col>Rank</th><th scope=col>Score</th><th scope=col>Cor</th></tr></thead>\n",
       "<tbody>\n",
       "\t<tr><td>1        </td><td>1342     </td><td>1.0000000</td></tr>\n",
       "\t<tr><td>2        </td><td> 268     </td><td>0.8078828</td></tr>\n",
       "\t<tr><td>3        </td><td> 268     </td><td>0.8078828</td></tr>\n",
       "\t<tr><td>4        </td><td> 206     </td><td>0.9200453</td></tr>\n",
       "\t<tr><td>5        </td><td> 206     </td><td>0.9200453</td></tr>\n",
       "\t<tr><td>6        </td><td> 114     </td><td>0.7918450</td></tr>\n",
       "</tbody>\n",
       "</table>\n"
      ],
      "text/latex": [
       "\\begin{tabular}{r|lll}\n",
       " Rank & Score & Cor\\\\\n",
       "\\hline\n",
       "\t 1         & 1342      & 1.0000000\\\\\n",
       "\t 2         &  268      & 0.8078828\\\\\n",
       "\t 3         &  268      & 0.8078828\\\\\n",
       "\t 4         &  206      & 0.9200453\\\\\n",
       "\t 5         &  206      & 0.9200453\\\\\n",
       "\t 6         &  114      & 0.7918450\\\\\n",
       "\\end{tabular}\n"
      ],
      "text/markdown": [
       "\n",
       "Rank | Score | Cor | \n",
       "|---|---|---|---|---|---|\n",
       "| 1         | 1342      | 1.0000000 | \n",
       "| 2         |  268      | 0.8078828 | \n",
       "| 3         |  268      | 0.8078828 | \n",
       "| 4         |  206      | 0.9200453 | \n",
       "| 5         |  206      | 0.9200453 | \n",
       "| 6         |  114      | 0.7918450 | \n",
       "\n",
       "\n"
      ],
      "text/plain": [
       "  Rank Score Cor      \n",
       "1 1    1342  1.0000000\n",
       "2 2     268  0.8078828\n",
       "3 3     268  0.8078828\n",
       "4 4     206  0.9200453\n",
       "5 5     206  0.9200453\n",
       "6 6     114  0.7918450"
      ]
     },
     "metadata": {},
     "output_type": "display_data"
    }
   ],
   "source": [
    "dim(ks.df.Corr)\n",
    "head(ks.df.Corr)"
   ]
  },
  {
   "cell_type": "code",
   "execution_count": 518,
   "metadata": {},
   "outputs": [
    {
     "data": {
      "text/plain": [
       "\n",
       "\tPearson's product-moment correlation\n",
       "\n",
       "data:  ks.df.Corr$Score and ks.df.Corr$Cor\n",
       "t = 5.9381, df = 6164, p-value = 3.04e-09\n",
       "alternative hypothesis: true correlation is not equal to 0\n",
       "95 percent confidence interval:\n",
       " 0.05055272 0.10019092\n",
       "sample estimates:\n",
       "       cor \n",
       "0.07541854 \n"
      ]
     },
     "metadata": {},
     "output_type": "display_data"
    }
   ],
   "source": [
    "cor.test(ks.df.Corr$Score, ks.df.Corr$Cor)"
   ]
  },
  {
   "cell_type": "code",
   "execution_count": 542,
   "metadata": {},
   "outputs": [
    {
     "name": "stderr",
     "output_type": "stream",
     "text": [
      "Warning message:\n",
      "\"Removed 5939 rows containing missing values (geom_point).\""
     ]
    },
    {
     "data": {},
     "metadata": {},
     "output_type": "display_data"
    },
    {
     "data": {
      "image/png": "[encoded data removed]",
      "text/plain": [
       "plot without title"
      ]
     },
     "metadata": {},
     "output_type": "display_data"
    }
   ],
   "source": [
    "ggplot(ks.df.Corr, aes(x = Rank, y = Cor)) + geom_point(color = \"blue\", alpha = 0.2)"
   ]
  },
  {
   "cell_type": "code",
   "execution_count": 533,
   "metadata": {},
   "outputs": [
    {
     "name": "stderr",
     "output_type": "stream",
     "text": [
      "Warning message:\n",
      "\"Removed 5939 rows containing missing values (geom_point).\""
     ]
    },
    {
     "data": {},
     "metadata": {},
     "output_type": "display_data"
    },
    {
     "data": {
      "image/png": "[encoded data removed]",
      "text/plain": [
       "plot without title"
      ]
     },
     "metadata": {},
     "output_type": "display_data"
    }
   ],
   "source": [
    "ggplot(ks.df.Corr, aes(x = Score, y = Cor)) + geom_point(color = \"blue\", alpha = 0.1) + scale_x_log10()"
   ]
  },
  {
   "cell_type": "code",
   "execution_count": 537,
   "metadata": {},
   "outputs": [
    {
     "name": "stderr",
     "output_type": "stream",
     "text": [
      "Warning message:\n",
      "\"Removed 5939 rows containing non-finite values (stat_smooth).\"Warning message:\n",
      "\"Removed 5939 rows containing missing values (geom_point).\""
     ]
    },
    {
     "data": {},
     "metadata": {},
     "output_type": "display_data"
    },
    {
     "data": {
      "image/png": "[encoded data removed]",
      "text/plain": [
       "plot without title"
      ]
     },
     "metadata": {},
     "output_type": "display_data"
    }
   ],
   "source": [
    "ggplot(ks.df.Corr, aes(x = Score, y = Cor)) + geom_point(color = \"blue\", alpha = 0.1) + scale_x_log10() + \n",
    "    geom_smooth(method = \"lm\", color = \"red\")"
   ]
  },
  {
   "cell_type": "code",
   "execution_count": 540,
   "metadata": {},
   "outputs": [
    {
     "data": {
      "text/plain": [
       "\n",
       "Call:\n",
       "lm(formula = Cor ~ log10(Score), data = ks.df.Corr)\n",
       "\n",
       "Residuals:\n",
       "     Min       1Q   Median       3Q      Max \n",
       "-1.51043 -0.06065  0.00843  0.06508  0.23368 \n",
       "\n",
       "Coefficients:\n",
       "             Estimate Std. Error t value Pr(>|t|)    \n",
       "(Intercept)  0.695781   0.004697   148.1   <2e-16 ***\n",
       "log10(Score) 0.085716   0.005790    14.8   <2e-16 ***\n",
       "---\n",
       "Signif. codes:  0 '***' 0.001 '**' 0.01 '*' 0.05 '.' 0.1 ' ' 1\n",
       "\n",
       "Residual standard error: 0.1132 on 6164 degrees of freedom\n",
       "  (5939 observations deleted due to missingness)\n",
       "Multiple R-squared:  0.03433,\tAdjusted R-squared:  0.03418 \n",
       "F-statistic: 219.2 on 1 and 6164 DF,  p-value: < 2.2e-16\n"
      ]
     },
     "metadata": {},
     "output_type": "display_data"
    }
   ],
   "source": [
    "summary(lm(Cor~log10(Score), ks.df.Corr))"
   ]
  }
 ],
 "metadata": {
  "kernelspec": {
   "display_name": "R",
   "language": "R",
   "name": "ir"
  },
  "language_info": {
   "codemirror_mode": "r",
   "file_extension": ".r",
   "mimetype": "text/x-r-source",
   "name": "R",
   "pygments_lexer": "r",
   "version": "3.4.2"
  }
 },
 "nbformat": 4,
 "nbformat_minor": 2
}
