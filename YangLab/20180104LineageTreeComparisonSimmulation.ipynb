{
 "cells": [
  {
   "cell_type": "markdown",
   "metadata": {},
   "source": [
    "# Lineage Tree comparison, simulate trees to test HSA program"
   ]
  },
  {
   "cell_type": "markdown",
   "metadata": {},
   "source": [
    "## 1 load required packages"
   ]
  },
  {
   "cell_type": "code",
   "execution_count": 1,
   "metadata": {},
   "outputs": [
    {
     "name": "stderr",
     "output_type": "stream",
     "text": [
      "Warning message:\n",
      "\"package 'data.tree' was built under R version 3.4.3\""
     ]
    }
   ],
   "source": [
    "library(data.tree)"
   ]
  },
  {
   "cell_type": "code",
   "execution_count": 2,
   "metadata": {},
   "outputs": [],
   "source": [
    "library(parallel)"
   ]
  },
  {
   "cell_type": "markdown",
   "metadata": {},
   "source": [
    "## 2 functions to use"
   ]
  },
  {
   "cell_type": "markdown",
   "metadata": {},
   "source": [
    "### 2.1 sigmoid function, F.sigmoid(x,a=100). \n",
    "Help determine whether a gene is on or off.\n",
    "\n",
    "$f(x) = 2/(1 + e^{-ax}) -1$\n",
    "* x: input value\n",
    "* a: activation constant. default: 100"
   ]
  },
  {
   "cell_type": "code",
   "execution_count": 3,
   "metadata": {},
   "outputs": [],
   "source": [
    "F.sigmoid <- function(x, a=100){\n",
    "  return (2 / (1 + exp(-a*x)) -1)\n",
    "}"
   ]
  },
  {
   "cell_type": "markdown",
   "metadata": {},
   "source": [
    "### 2.2 gene.level to gene.OF\n",
    "\n",
    "F.geneOF(gene.level)\n",
    "\n",
    "gene.level is a vector with length N. gene.level = c(s1, s2, ..., si, ..., sN), where -1<= xi <= 1. \n",
    "\n",
    "return a gene.OF vector of the same length. Gene *i* is ON when 0< si <=1, and OFF when -1<= si <=0. 1 for ON and 0 for OFF. \n",
    "\n",
    " F.geneOF(c(0.1, 1, -0.5, 0)). Return c(1,1,0,0). \n",
    "* N: number of genes. "
   ]
  },
  {
   "cell_type": "code",
   "execution_count": 4,
   "metadata": {},
   "outputs": [],
   "source": [
    "F.geneOF <- function(gene.level){\n",
    "    if (any(gene.level > 1) || any(gene.level < -1)){\n",
    "        print(\"warning! some gene.level is outside the value limit of -1<= gene.level <= 1\")\n",
    "    }\n",
    "    return (as.numeric(gene.level > 0))\n",
    "}"
   ]
  },
  {
   "cell_type": "markdown",
   "metadata": {},
   "source": [
    "### 2.3 cell divide. F.divide(gene.level)\n",
    "gene.level is a vector with length N. gene.level = c(s1, s2, ..., si, ..., sN), where -1<= xi <= 1\n",
    "\n",
    "return a data.frame with two columns, L and R, for the two offsprings. \n",
    "* N: number of genes. \n",
    "* Gene 1 is a cell-cycle regulator. If gene 1 is ON, the cell divides instantaneously, and gene 1 is turned OFF in both daughter cells. \n",
    "* Gene 2 is a asymmetric cell division gene. When gene 1 is ON:\n",
    "    * if gene 2 is ON, the cell divides asymmetrically. The product of gene 2 segregates asymmetrically among the daughter cells: it is turned OFF in the left daughter, S2L = -1, and stays ON in the right daughter cell, at the same expression level.\n",
    "    * if gene 2 is OFF, then the cell divides aymmetrically and both daughter cells retain the gene expression pattern of the mother cell.\n",
    "    \n",
    "Example:\n",
    "* (0.9, 0.8, -0.8, 1) -> (-1, -1, -0.8, 1), (-1, 1, -0.8, 1). Divide asymmetrically.\n",
    "* (-0.9, 0.8, -0.8, 1) -> NULL. Do not divide.\n",
    "* (0.9, -0.8, -0.8, 1) -> (-1, -0.8, -0.8, 1), (-1, -0.8, -0.8, 1). Divide symmetrically."
   ]
  },
  {
   "cell_type": "code",
   "execution_count": 5,
   "metadata": {},
   "outputs": [],
   "source": [
    "F.divide <- function(gene.level){\n",
    "    if (gene.level[1] > 0){\n",
    "        L <-  gene.level\n",
    "        R <- gene.level\n",
    "        L[1] <- -1\n",
    "        R[1] <- -1\n",
    "        if (gene.level[2] >0) L[2] <- -1\n",
    "        return (data.frame(L,R))\n",
    "    }\n",
    "    return (NULL)\n",
    "}"
   ]
  },
  {
   "cell_type": "markdown",
   "metadata": {},
   "source": [
    "### 2.4 cell grow\n",
    "\n",
    "The gene expression pattern in a cell at time t during development is represented by a state vector S(t), whose elements $s_{i}(t)$ described the expression states of genes i=1, 2, ..., N. $-1 <= s_{i}(t) <= 1$.\n",
    "\n",
    "$s_{i}(t+1) = f [\\sum_{j=1}^{N}r_{ij}s_{j}(t)]$\n",
    "\n",
    "where $f(x) = 2/(1 + e^{-ax}) -1$, as defined by F.sigmoid.\n",
    "\n",
    "R is the matrix of $r_{ij}$, which represents gene interaction network (**gene.network**). Given a S(t), calculate S(t+1).\n",
    "\n",
    "For example. \n",
    "\n",
    "$R = \\begin {vmatrix} \n",
    "            0 & 0 & 1.7 & 0 \\\\ \n",
    "            -0.3 & -0.9 & 0 & -0.8 \\\\  \n",
    "            -1.2 & 0.7 & 0.2 & 0 \\\\\n",
    "            0 & -0.8 & 0 & -0.8 \\\\\n",
    "            \\end {vmatrix}$\n",
    "\n",
    "$S(t) = \\begin {vmatrix} 1 \\\\ 1\\\\ 1\\\\ 1\\\\ \\end {vmatrix}$. After **cell divide**, two daughter cells are born, which are $S_{L}(t)=\\begin {vmatrix} -1 \\\\ -1\\\\ 1\\\\ 1\\\\ \\end {vmatrix}$ and $S_{R}(t)=\\begin {vmatrix} -1 \\\\ 1\\\\ 1\\\\ 1\\\\ \\end {vmatrix}$. \n",
    "\n",
    "At time **t+1**, $S_{L}(t+1)=f(R*S_{L}(t))$\n",
    "\n",
    "**F.grow(gene.level, gene.network, a=100); a; activation constant.**"
   ]
  },
  {
   "cell_type": "code",
   "execution_count": 6,
   "metadata": {},
   "outputs": [],
   "source": [
    "F.grow <- function(gene.level, gene.network, a = 100){\n",
    "    return (F.sigmoid(as.vector(gene.network %*% gene.level), a))\n",
    "}"
   ]
  },
  {
   "cell_type": "markdown",
   "metadata": {},
   "source": [
    "### 2.5 generate random gene interaction network (gene.network)\n",
    "\n",
    "gene.network is a N\\*N matrix. Of N\\*N values, N\\*K are normal random variates.\n",
    "* N: number of genes\n",
    "* K: average in-degree, which means average interations per gene.\n",
    "* digits: number of digits to round after the decimal point. No rounding under default setting;\n",
    "\n",
    "F.randNetwork(N,K,digits = NULL)"
   ]
  },
  {
   "cell_type": "code",
   "execution_count": 7,
   "metadata": {},
   "outputs": [],
   "source": [
    "F.randNetwork <- function(N,K,digits = NULL){\n",
    "    gene.interactions = rnorm(N*K)\n",
    "    gene.network = c(gene.interactions, rep(0, N*(N-K)))\n",
    "    if (is.null(digits))\n",
    "        return (matrix(sample(gene.network), ncol = N, nrow = N))\n",
    "    else\n",
    "        return (round((matrix(sample(gene.network), ncol = N, nrow = N)), digits))\n",
    "}"
   ]
  },
  {
   "cell_type": "markdown",
   "metadata": {},
   "source": [
    "### 2.6 generate random initial gene expression status (gene.init)\n",
    "\n",
    "An initial gene expression pattern, S(0), is created by setting $s_{1} = -1$ and randomly setting each $s_{i}(0)$ for i = 2, 3, ..., N to either -1 or 1\n",
    "\n",
    "F.randInit(N)\n",
    "* N number of genes\n",
    "* F.randInt(4), return c(-1, (-1 or 1), (-1 or 1), (-1 or 1))."
   ]
  },
  {
   "cell_type": "code",
   "execution_count": 8,
   "metadata": {},
   "outputs": [],
   "source": [
    "F.randInit <- function(N){\n",
    "    randInit <- c(-1,sample(c(1,-1), size = N-1, replace = TRUE))\n",
    "    return (randInit)\n",
    "}"
   ]
  },
  {
   "cell_type": "markdown",
   "metadata": {},
   "source": [
    "### 2.7 develop the tree based on a given gene.init and gene.network\n",
    "\n",
    "return a data.tree variable.\n",
    "\n",
    "F.develop(gene.init, gene.network, tmax = 50, Dmax = 10)\n",
    "\n",
    "Each node with five fields, which are DAge, tAge, Lineage, gene.level, gene.OF.\n",
    "\n",
    "Use a simplified simmulation method, not the one used in the paper (Rolf Lohaus *et al.*, 2007). \n",
    "* In the paper\n",
    "    * Development stops when all the cells have differentiated or the first undifferentiated cell have completed Dmax rounds of cell division.\n",
    "    * Gene expression pattern were calculated differently for undifferentiated and differentiated cells.\n",
    "* Here\n",
    "    * Development stops when the first undifferentiated cell have completed Dmax rounds of cell divison, or development time reached tmax.\n",
    "    * Gene expression level were the same as generated when the program ends.\n",
    "\n",
    "The cells presentat the end of development are defined as terminal.\n",
    "\n",
    "max tAge is tmax, and max DAge is Dmax. tAge: develop time. DAge: division times."
   ]
  },
  {
   "cell_type": "code",
   "execution_count": 9,
   "metadata": {},
   "outputs": [],
   "source": [
    "F.develop <- function(gene.init, gene.network, tmax = 50, Dmax = 10, a = 100){\n",
    "    gene.OF <- F.geneOF(gene.init)\n",
    "    cell.tree  <- Node$new(name = \"Root\", DAge = 0, tAge = 0, Lineage=\"\", Gene.level = gene.init, Gene.OF = gene.OF)\n",
    "    tAge = 0\n",
    "    DAge = 0\n",
    "    while (TRUE){\n",
    "        if (tAge > tmax || DAge > Dmax) break\n",
    "        for (cell.leaf in cell.tree$leaves){\n",
    "            cell.divide = F.divide(cell.leaf$Gene.level)\n",
    "            if (is.null(cell.divide)){\n",
    "                tAge  <- cell.leaf$tAge + 1\n",
    "                if (tAge > tmax || DAge > Dmax) break\n",
    "                name  <- \"LR\"\n",
    "                DAge <- cell.leaf$DAge\n",
    "                Lineage <- cell.leaf$Lineage\n",
    "                Gene.level <- F.grow(cell.leaf$Gene.level, gene.network = gene.network, a = a)\n",
    "                Gene.OF <- F.geneOF(Gene.level)\n",
    "#                 cell.leaf$AddChild(name = name, DAge = DAge, tAge = tAge, \n",
    "#                                    Lineage = Lineage, Gene.level = Gene.level, Gene.OF = Gene.OF)\n",
    "                \n",
    "#                 cell.leaf$name <- name\n",
    "                cell.leaf$DAge <- DAge\n",
    "                cell.leaf$tAge <- tAge\n",
    "                cell.leaf$Lineage <- Lineage\n",
    "                cell.leaf$Gene.level <- Gene.level\n",
    "                cell.leaf$Gene.OF <- Gene.OF\n",
    "            }\n",
    "            else {\n",
    "                tAge <- cell.leaf$tAge + 1\n",
    "                DAge <- cell.leaf$DAge + 1\n",
    "                if (tAge > tmax || DAge > Dmax) break\n",
    "                Lname <- \"L\"\n",
    "                LLineage <- paste0(cell.leaf$Lineage,\"0\")\n",
    "                Rname <- \"R\"\n",
    "                RLineage <- paste0(cell.leaf$Lineage,\"1\")\n",
    "                LRinit <- F.divide(cell.leaf$Gene.level)\n",
    "                LGene.level <- F.grow(LRinit$L, gene.network = gene.network, a = a)\n",
    "                RGene.level <- F.grow(LRinit$R, gene.network = gene.network, a = a)\n",
    "                LGene.OF  <- F.geneOF(LGene.level)\n",
    "                RGene.OF <- F.geneOF(RGene.level)\n",
    "                cell.leaf$AddChild(name = Lname, DAge = DAge, tAge = tAge, \n",
    "                                   Lineage = LLineage, Gene.level = LGene.level, Gene.OF = LGene.OF)\n",
    "                cell.leaf$AddChild(name = Rname, DAge = DAge, tAge = tAge, \n",
    "                                   Lineage = RLineage, Gene.level = RGene.level, Gene.OF = RGene.OF)\n",
    "            }\n",
    "        }\n",
    "    }\n",
    "    return (cell.tree)\n",
    "}"
   ]
  },
  {
   "cell_type": "markdown",
   "metadata": {},
   "source": [
    "### 2.8 Save the Random Tree Generated by F.develop\n",
    "\n",
    "F.saveRandomTree(cell.tree, score = \"common\",class = \"Gene.OF\",outfilePrefix = \"\")\n",
    "\n",
    "Four files will be written.\n",
    "* \"cell.tree.all\": data.frame of cell.tree\n",
    "* \"cell.tree.network\": interaction network of genes.\n",
    "* \"cell.tree.leaves\": text file to be used by HSA program. Lineage is the Lineage in cell.tree. \n",
    "    * Name is the name. Class is the \"Gene.OF\", unless other values were assigned.\n",
    "* \"cell.tree.score\": text file to be used by HSA program. \n",
    "    * three columns. treeS cell class, treeT cell class, score (integer).\n",
    "    * If score == \"common\", the score for two cell classes is based on the number of common \"ON\"/\"OFF\" genes. 1011,1010, score 3.\n",
    "    * If score == \"same\", the score is 2 if cell classes the same or 0 if not.\n",
    "    * If score == \"norm\", the average score will be 1. score from the \"common\" method.   \n",
    "        calculate z-score. round (z-score+1) to integer. \n",
    "        (0,4,16) will become (0.2, 0.7, 2.1), then round to (0,1,2). (sd caluclated by R, denominator n-1)"
   ]
  },
  {
   "cell_type": "code",
   "execution_count": 10,
   "metadata": {},
   "outputs": [],
   "source": [
    "F.saveRandomTree <- function(cell.tree, network = NULL, score = \"common\", \n",
    "                             class = \"Gene.OF\", outfilePrefix = \"\",silent = FALSE) {\n",
    "    cell.tree.dfAll <- ToDataFrameTree(cell.tree,\"pathString\",\"level\",\"name\",'Lineage', 'DAge','tAge',\n",
    "                                     Gene.OF = function(node) paste0(node$Gene.OF, collapse = ''),\n",
    "                                     Gene.level = function(node) paste0(node$Gene.level, collapse = ';'),\n",
    "                                     isLeaf = function(node) node$isLeaf)\n",
    "    outfile.cell.tree.all <- paste0(outfilePrefix, \"cell.tree.all\")\n",
    "    write.table(cell.tree.dfAll, outfile.cell.tree.all, sep=\"\\t\", row.names = FALSE)\n",
    "    if (!silent) print(paste0(\"write the all details for the tree to file \", outfile.cell.tree.all))\n",
    "    \n",
    "    cell.tree.dfLeaf <- ToDataFrameTable(cell.tree,\"pathString\",\"level\",\"name\",'Lineage', 'DAge','tAge',\n",
    "                                         Gene.OF = function(node) paste0(node$Gene.OF, collapse = ''))\n",
    "    cell.tree.Leaf <- cell.tree.dfLeaf[,c(\"Lineage\",\"name\",\"Gene.OF\")]\n",
    "    outfile.cell.tree.leaves <- paste0(outfilePrefix, \"cell.tree.leaves\")\n",
    "    write.table(cell.tree.Leaf, outfile.cell.tree.leaves,sep = \"\\t\", row.names = FALSE, quote = FALSE)\n",
    "    #remove the last newline symbol in outfile.cell.tree.leaves\n",
    "    txt <- readChar(outfile.cell.tree.leaves,file.info(outfile.cell.tree.leaves)$size,useByte = TRUE)\n",
    "    txt <- gsub(\"\\r\",\"\",txt)\n",
    "    if (substr(txt,nchar(txt),nchar(txt)) == \"\\n\")\n",
    "        cat(substr(txt,1,nchar(txt)-1), file = outfile.cell.tree.leaves)\n",
    "    if (!silent) print(paste0(\"write the leaves file for HSA to \", outfile.cell.tree.leaves))\n",
    "    \n",
    "    outfile.cell.tree.score <- paste0(outfilePrefix, \"cell.tree.score\")\n",
    "    gene.OF <- cell.tree.dfLeaf$Gene.OF\n",
    "    if (length(unique(gene.OF)) > 2)\n",
    "        gene.OF.pairs <- combn(unique(gene.OF),2)\n",
    "    else\n",
    "        gene.OF.pairs <- NULL\n",
    "    dfscore <- data.frame(S=c(unique(gene.OF),gene.OF.pairs[1,]), T=c(unique(gene.OF),gene.OF.pairs[2,]))\n",
    "    if (score == \"common\")\n",
    "        dfscore$Score <- apply(dfscore,1,function(x) sum(unlist(strsplit(x[\"S\"],\"\")) == unlist(strsplit(x[\"T\"],\"\"))))\n",
    "    else if (score == \"same\")\n",
    "        dfscore$Score <- (dfscore$S == dfscore$T)*2\n",
    "    else if (score == \"norm\"){\n",
    "        dfscore$Score <- apply(dfscore,1,function(x) sum(unlist(strsplit(x[\"S\"],\"\")) == unlist(strsplit(x[\"T\"],\"\"))))\n",
    "        dfscore$Score <- round((dfscore$Score - mean(dfscore$Score))/sd(dfscore$Score)) + 1\n",
    "    } else if (!silent) print(\"invalid value for score, score can be same, common or norm\")\n",
    "        \n",
    "    write.table(dfscore, outfile.cell.tree.score, sep = \"\\t\", row.names = FALSE, col.names = FALSE, quote = FALSE)\n",
    "    if (!silent) print(paste0(\"write the score file to \", outfile.cell.tree.score))\n",
    "    \n",
    "    if (!is.null(network)) {\n",
    "        outfile.network  <- paste0(outfilePrefix, \"cell.tree.network\")\n",
    "        write.table(network, outfile.network, sep = \"\\t\", row.names = FALSE, col.names = FALSE, quote = FALSE)\n",
    "        print(paste0(\"write the interaction network to file \", outfile.network))\n",
    "    }\n",
    "    else if (!silent) print(\"You need to provide Network in order to save it!\")\n",
    "}"
   ]
  },
  {
   "cell_type": "markdown",
   "metadata": {},
   "source": [
    "### 2.9 generate a tree with a, N, K, Dmax and tmax\n",
    "\n",
    "Given a Dmax and tmax, return list with **gene.init, gene.network, cell.tree**.\n",
    "\n",
    "Use generate the randome gene interacton network and initial gene expression status"
   ]
  },
  {
   "cell_type": "code",
   "execution_count": 11,
   "metadata": {},
   "outputs": [],
   "source": [
    "F.generateRandTree <- function(a, N, K, Dmax, tmax, digits = 3){\n",
    "    gene.init  <- F.randInit(N)\n",
    "    gene.network <- F.randNetwork(N, K, digits = digits)\n",
    "    cell.tree <- F.develop(gene.init, gene.network, tmax = tmax, Dmax = Dmax, a = a)\n",
    "    return(list(gene.init = gene.init, gene.network = gene.network, cell.tree = cell.tree))\n",
    "}"
   ]
  },
  {
   "cell_type": "markdown",
   "metadata": {},
   "source": [
    "### 2.10 count cell types based on gene.OF for a cell.tree"
   ]
  },
  {
   "cell_type": "code",
   "execution_count": 12,
   "metadata": {},
   "outputs": [],
   "source": [
    "F.treeCellType <- function(tree1){\n",
    "    gene.OF <- lapply(tree1$leaves, function(node) paste0(node$Gene.OF,collapse = \"\"))\n",
    "    return(length(unique(unlist(gene.OF))))\n",
    "}"
   ]
  },
  {
   "cell_type": "markdown",
   "metadata": {},
   "source": [
    "### 2.11 helper function to filter the generated trees\n",
    "\n",
    "the same as function F.generateRandTree.  \n",
    "return normal result if leafTypeCount >= leafTypeMin and leafCount >= leafCountMin.  \n",
    "add the field \"leafCount\" and \"leafTypeCount\".  \n",
    "else, try again (total trying times <= tryMax), until leafTypeCount >= leafTypeMin and leafCout >= leafCountMin.   \n",
    "else, return NULL"
   ]
  },
  {
   "cell_type": "code",
   "execution_count": 13,
   "metadata": {},
   "outputs": [],
   "source": [
    "F.generateRandTreeWithFilter  <- function(a, N, K, Dmax, tmax, digits = 3, \n",
    "                                          leafTypeMin = 6, leafCountMin = 500, tryMax = 100){\n",
    "    for (i in 1:tryMax){\n",
    "        celltree <- F.generateRandTree(a = a, N = N, K=K, Dmax = Dmax, tmax = tmax, digits = digits)\n",
    "        leafTypeCount <- F.treeCellType(celltree[[\"cell.tree\"]])\n",
    "        leafCount <- celltree[[\"cell.tree\"]]$leafCount\n",
    "        celltree$leafTypeCount <- leafTypeCount\n",
    "        celltree$leafCount <- leafCount\n",
    "        if (leafCount >= leafCountMin && leafTypeCount >= leafTypeMin){\n",
    "            return(celltree)\n",
    "        }\n",
    "    }\n",
    "    print(paste0(\"tried \", tryMax, \" times. Still No good. return NULL\"))\n",
    "    return(NULL)\n",
    "}"
   ]
  },
  {
   "cell_type": "markdown",
   "metadata": {},
   "source": [
    "## 3 Generate Some Random Tree"
   ]
  },
  {
   "cell_type": "markdown",
   "metadata": {},
   "source": [
    "### 3.1 set up some costant values\n",
    "* N: number of genes\n",
    "* K: average in-degree, which means average interations per gene.\n",
    "* Dmax: max rounds of cell division\n",
    "* a: activation constant\n",
    "* tmax: critical period of time used to establish whether a cell divides or differentiates"
   ]
  },
  {
   "cell_type": "code",
   "execution_count": 14,
   "metadata": {},
   "outputs": [],
   "source": [
    "N = 8\n",
    "K = 4\n",
    "Dmax = 10\n",
    "tmax = 50\n",
    "a = 100"
   ]
  },
  {
   "cell_type": "markdown",
   "metadata": {},
   "source": [
    "### 3.2 test some function"
   ]
  },
  {
   "cell_type": "code",
   "execution_count": 15,
   "metadata": {},
   "outputs": [],
   "source": [
    "gene.init <-  F.randInit(N)\n",
    "gene.network <- F.randNetwork(N,K)\n",
    "gene.OF <- F.geneOF(gene.init)\n",
    "cell.tree  <- Node$new(name = \"Root\", DAge = 0, tAge = 0, Lineage=\"1\", Gene.level = gene.init, Gene.OF = gene.OF)"
   ]
  },
  {
   "cell_type": "code",
   "execution_count": 16,
   "metadata": {},
   "outputs": [
    {
     "name": "stdout",
     "output_type": "stream",
     "text": [
      "  levelName\n",
      "1      Root\n"
     ]
    }
   ],
   "source": [
    "for (cell.leaf in cell.tree$leaves) print(cell.leaf)"
   ]
  },
  {
   "cell_type": "code",
   "execution_count": 17,
   "metadata": {},
   "outputs": [
    {
     "data": {
      "text/html": [
       "<table>\n",
       "<tbody>\n",
       "\t<tr><td>-3.1954806 </td><td> 0.00000000</td><td> 0.5032026 </td><td>-1.1328098 </td><td>-0.7284462 </td><td> 0.2098176 </td><td> 0.0000000 </td><td> 0.00000000</td></tr>\n",
       "\t<tr><td>-0.8196165 </td><td> 0.09483462</td><td>-0.3003173 </td><td>-0.3271960 </td><td> 0.0000000 </td><td> 1.2279651 </td><td>-0.3345758 </td><td>-0.23817403</td></tr>\n",
       "\t<tr><td> 0.0000000 </td><td> 0.00000000</td><td> 0.0000000 </td><td> 0.0000000 </td><td> 0.0000000 </td><td> 0.0000000 </td><td>-2.2967978 </td><td>-2.03706139</td></tr>\n",
       "\t<tr><td> 0.0000000 </td><td> 0.00000000</td><td> 0.0000000 </td><td> 0.5442188 </td><td> 2.3236564 </td><td> 0.0000000 </td><td> 0.0000000 </td><td> 1.00036413</td></tr>\n",
       "\t<tr><td> 0.6271605 </td><td> 1.40670111</td><td> 0.0000000 </td><td> 1.1659624 </td><td>-0.6417234 </td><td>-0.9287871 </td><td>-0.8501125 </td><td> 0.00000000</td></tr>\n",
       "\t<tr><td> 0.0000000 </td><td>-0.39291016</td><td> 0.0000000 </td><td> 0.0000000 </td><td> 0.0000000 </td><td> 0.0000000 </td><td> 0.9945757 </td><td> 0.06981529</td></tr>\n",
       "\t<tr><td>-0.4398823 </td><td> 0.08964650</td><td> 0.0000000 </td><td>-1.3721335 </td><td> 0.0000000 </td><td> 0.0000000 </td><td> 0.1552225 </td><td> 0.00000000</td></tr>\n",
       "\t<tr><td> 0.0000000 </td><td> 0.00000000</td><td> 0.0000000 </td><td> 1.3676845 </td><td> 0.0000000 </td><td>-1.7279009 </td><td> 0.0000000 </td><td> 0.00000000</td></tr>\n",
       "</tbody>\n",
       "</table>\n"
      ],
      "text/latex": [
       "\\begin{tabular}{llllllll}\n",
       "\t -3.1954806  &  0.00000000 &  0.5032026  & -1.1328098  & -0.7284462  &  0.2098176  &  0.0000000  &  0.00000000\\\\\n",
       "\t -0.8196165  &  0.09483462 & -0.3003173  & -0.3271960  &  0.0000000  &  1.2279651  & -0.3345758  & -0.23817403\\\\\n",
       "\t  0.0000000  &  0.00000000 &  0.0000000  &  0.0000000  &  0.0000000  &  0.0000000  & -2.2967978  & -2.03706139\\\\\n",
       "\t  0.0000000  &  0.00000000 &  0.0000000  &  0.5442188  &  2.3236564  &  0.0000000  &  0.0000000  &  1.00036413\\\\\n",
       "\t  0.6271605  &  1.40670111 &  0.0000000  &  1.1659624  & -0.6417234  & -0.9287871  & -0.8501125  &  0.00000000\\\\\n",
       "\t  0.0000000  & -0.39291016 &  0.0000000  &  0.0000000  &  0.0000000  &  0.0000000  &  0.9945757  &  0.06981529\\\\\n",
       "\t -0.4398823  &  0.08964650 &  0.0000000  & -1.3721335  &  0.0000000  &  0.0000000  &  0.1552225  &  0.00000000\\\\\n",
       "\t  0.0000000  &  0.00000000 &  0.0000000  &  1.3676845  &  0.0000000  & -1.7279009  &  0.0000000  &  0.00000000\\\\\n",
       "\\end{tabular}\n"
      ],
      "text/markdown": [
       "\n",
       "| -3.1954806  |  0.00000000 |  0.5032026  | -1.1328098  | -0.7284462  |  0.2098176  |  0.0000000  |  0.00000000 | \n",
       "| -0.8196165  |  0.09483462 | -0.3003173  | -0.3271960  |  0.0000000  |  1.2279651  | -0.3345758  | -0.23817403 | \n",
       "|  0.0000000  |  0.00000000 |  0.0000000  |  0.0000000  |  0.0000000  |  0.0000000  | -2.2967978  | -2.03706139 | \n",
       "|  0.0000000  |  0.00000000 |  0.0000000  |  0.5442188  |  2.3236564  |  0.0000000  |  0.0000000  |  1.00036413 | \n",
       "|  0.6271605  |  1.40670111 |  0.0000000  |  1.1659624  | -0.6417234  | -0.9287871  | -0.8501125  |  0.00000000 | \n",
       "|  0.0000000  | -0.39291016 |  0.0000000  |  0.0000000  |  0.0000000  |  0.0000000  |  0.9945757  |  0.06981529 | \n",
       "| -0.4398823  |  0.08964650 |  0.0000000  | -1.3721335  |  0.0000000  |  0.0000000  |  0.1552225  |  0.00000000 | \n",
       "|  0.0000000  |  0.00000000 |  0.0000000  |  1.3676845  |  0.0000000  | -1.7279009  |  0.0000000  |  0.00000000 | \n",
       "\n",
       "\n"
      ],
      "text/plain": [
       "     [,1]       [,2]        [,3]       [,4]       [,5]       [,6]      \n",
       "[1,] -3.1954806  0.00000000  0.5032026 -1.1328098 -0.7284462  0.2098176\n",
       "[2,] -0.8196165  0.09483462 -0.3003173 -0.3271960  0.0000000  1.2279651\n",
       "[3,]  0.0000000  0.00000000  0.0000000  0.0000000  0.0000000  0.0000000\n",
       "[4,]  0.0000000  0.00000000  0.0000000  0.5442188  2.3236564  0.0000000\n",
       "[5,]  0.6271605  1.40670111  0.0000000  1.1659624 -0.6417234 -0.9287871\n",
       "[6,]  0.0000000 -0.39291016  0.0000000  0.0000000  0.0000000  0.0000000\n",
       "[7,] -0.4398823  0.08964650  0.0000000 -1.3721335  0.0000000  0.0000000\n",
       "[8,]  0.0000000  0.00000000  0.0000000  1.3676845  0.0000000 -1.7279009\n",
       "     [,7]       [,8]       \n",
       "[1,]  0.0000000  0.00000000\n",
       "[2,] -0.3345758 -0.23817403\n",
       "[3,] -2.2967978 -2.03706139\n",
       "[4,]  0.0000000  1.00036413\n",
       "[5,] -0.8501125  0.00000000\n",
       "[6,]  0.9945757  0.06981529\n",
       "[7,]  0.1552225  0.00000000\n",
       "[8,]  0.0000000  0.00000000"
      ]
     },
     "metadata": {},
     "output_type": "display_data"
    }
   ],
   "source": [
    "gene.network"
   ]
  },
  {
   "cell_type": "code",
   "execution_count": 18,
   "metadata": {},
   "outputs": [
    {
     "data": {
      "text/html": [
       "<ol class=list-inline>\n",
       "\t<li>-1</li>\n",
       "\t<li>1</li>\n",
       "\t<li>-1</li>\n",
       "\t<li>-1</li>\n",
       "\t<li>1</li>\n",
       "\t<li>1</li>\n",
       "\t<li>1</li>\n",
       "\t<li>-1</li>\n",
       "</ol>\n"
      ],
      "text/latex": [
       "\\begin{enumerate*}\n",
       "\\item -1\n",
       "\\item 1\n",
       "\\item -1\n",
       "\\item -1\n",
       "\\item 1\n",
       "\\item 1\n",
       "\\item 1\n",
       "\\item -1\n",
       "\\end{enumerate*}\n"
      ],
      "text/markdown": [
       "1. -1\n",
       "2. 1\n",
       "3. -1\n",
       "4. -1\n",
       "5. 1\n",
       "6. 1\n",
       "7. 1\n",
       "8. -1\n",
       "\n",
       "\n"
      ],
      "text/plain": [
       "[1] -1  1 -1 -1  1  1  1 -1"
      ]
     },
     "metadata": {},
     "output_type": "display_data"
    }
   ],
   "source": [
    "gene.init"
   ]
  },
  {
   "cell_type": "markdown",
   "metadata": {},
   "source": [
    "### 3.3 generate one Randome Tree and view"
   ]
  },
  {
   "cell_type": "code",
   "execution_count": 19,
   "metadata": {
    "scrolled": false
   },
   "outputs": [
    {
     "name": "stdout",
     "output_type": "stream",
     "text": [
      "  levelName Lineage DAge tAge  Gene.OF\n",
      "1     Root             0    2 10011010\n",
      "2      |--L       0    1   10 01101011\n",
      "3      °--R       1    1   10 01101011\n"
     ]
    },
    {
     "data": {
      "text/html": [
       "2"
      ],
      "text/latex": [
       "2"
      ],
      "text/markdown": [
       "2"
      ],
      "text/plain": [
       "[1] 2"
      ]
     },
     "metadata": {},
     "output_type": "display_data"
    }
   ],
   "source": [
    "gene.init <-  F.randInit(N)\n",
    "gene.network <- F.randNetwork(N,K)\n",
    "tree1 <- F.develop(gene.init = gene.init, gene.network = gene.network,tmax = 10, Dmax = 5)\n",
    "print(tree1,\"Lineage\",\"DAge\",\"tAge\",Gene.OF = function(node) paste0(node$Gene.OF, collapse = ''))\n",
    "tree1$leafCount"
   ]
  },
  {
   "cell_type": "markdown",
   "metadata": {},
   "source": [
    "### 3.4 test the function of ToDataFrameTree"
   ]
  },
  {
   "cell_type": "code",
   "execution_count": 20,
   "metadata": {},
   "outputs": [
    {
     "data": {
      "text/html": [
       "<table>\n",
       "<thead><tr><th scope=col>levelName</th><th scope=col>pathString</th><th scope=col>level</th><th scope=col>name</th><th scope=col>Lineage</th><th scope=col>DAge</th><th scope=col>tAge</th><th scope=col>Gene.OF</th><th scope=col>Gene.level</th><th scope=col>isLeaf</th></tr></thead>\n",
       "<tbody>\n",
       "\t<tr><td>Root                               </td><td>Root                               </td><td>1                                  </td><td>Root                               </td><td>                                   </td><td>0                                  </td><td> 2                                 </td><td>10011010                           </td><td>1;-1;-1;0.999107794099984;1;-1;1;-1</td><td>FALSE                              </td></tr>\n",
       "\t<tr><td> |--L                              </td><td>Root/L                             </td><td>2                                  </td><td>L                                  </td><td>0                                  </td><td>1                                  </td><td>10                                 </td><td>01101011                           </td><td>-1;1;1;-1;1;-0.99999379408902;1;1  </td><td> TRUE                              </td></tr>\n",
       "\t<tr><td> °--R                              </td><td>Root/R                             </td><td>2                                  </td><td>R                                  </td><td>1                                  </td><td>1                                  </td><td>10                                 </td><td>01101011                           </td><td>-1;1;1;-1;1;-0.99999379408902;1;1  </td><td> TRUE                              </td></tr>\n",
       "</tbody>\n",
       "</table>\n"
      ],
      "text/latex": [
       "\\begin{tabular}{r|llllllllll}\n",
       " levelName & pathString & level & name & Lineage & DAge & tAge & Gene.OF & Gene.level & isLeaf\\\\\n",
       "\\hline\n",
       "\t Root                                & Root                                & 1                                   & Root                                &                                     & 0                                   &  2                                  & 10011010                            & 1;-1;-1;0.999107794099984;1;-1;1;-1 & FALSE                              \\\\\n",
       "\t  \\textbar{}--L                     & Root/L                              & 2                                   & L                                   & 0                                   & 1                                   & 10                                  & 01101011                            & -1;1;1;-1;1;-0.99999379408902;1;1   &  TRUE                              \\\\\n",
       "\t  °--R                               & Root/R                              & 2                                   & R                                   & 1                                   & 1                                   & 10                                  & 01101011                            & -1;1;1;-1;1;-0.99999379408902;1;1   &  TRUE                              \\\\\n",
       "\\end{tabular}\n"
      ],
      "text/markdown": [
       "\n",
       "levelName | pathString | level | name | Lineage | DAge | tAge | Gene.OF | Gene.level | isLeaf | \n",
       "|---|---|---|\n",
       "| Root                                | Root                                | 1                                   | Root                                |                                     | 0                                   |  2                                  | 10011010                            | 1;-1;-1;0.999107794099984;1;-1;1;-1 | FALSE                               | \n",
       "|  |--L                               | Root/L                              | 2                                   | L                                   | 0                                   | 1                                   | 10                                  | 01101011                            | -1;1;1;-1;1;-0.99999379408902;1;1   |  TRUE                               | \n",
       "|  °--R                               | Root/R                              | 2                                   | R                                   | 1                                   | 1                                   | 10                                  | 01101011                            | -1;1;1;-1;1;-0.99999379408902;1;1   |  TRUE                               | \n",
       "\n",
       "\n"
      ],
      "text/plain": [
       "  levelName pathString level name Lineage DAge tAge Gene.OF \n",
       "1 Root      Root       1     Root         0     2   10011010\n",
       "2  |--L     Root/L     2     L    0       1    10   01101011\n",
       "3  °--R     Root/R     2     R    1       1    10   01101011\n",
       "  Gene.level                          isLeaf\n",
       "1 1;-1;-1;0.999107794099984;1;-1;1;-1 FALSE \n",
       "2 -1;1;1;-1;1;-0.99999379408902;1;1    TRUE \n",
       "3 -1;1;1;-1;1;-0.99999379408902;1;1    TRUE "
      ]
     },
     "metadata": {},
     "output_type": "display_data"
    }
   ],
   "source": [
    "ToDataFrameTree(tree1,\"pathString\",\"level\",\"name\",'Lineage', 'DAge','tAge',\n",
    "                 Gene.OF = function(node) paste0(node$Gene.OF, collapse = ''),\n",
    "                 Gene.level = function(node) paste0(node$Gene.level, collapse = ';'),\n",
    "                 isLeaf = function(node) node$isLeaf)"
   ]
  },
  {
   "cell_type": "code",
   "execution_count": 21,
   "metadata": {},
   "outputs": [],
   "source": [
    "tree1.df <- ToDataFrameTree(tree1,\"pathString\",\"level\",\"name\",'Lineage', 'DAge','tAge',\n",
    "                 Gene.OF = function(node) paste0(node$Gene.OF, collapse = ''),\n",
    "                 Gene.level = function(node) paste0(node$Gene.level, collapse = ';'),\n",
    "                 isLeaf = function(node) node$isLeaf)"
   ]
  },
  {
   "cell_type": "code",
   "execution_count": 22,
   "metadata": {
    "scrolled": true
   },
   "outputs": [
    {
     "data": {
      "text/html": [
       "'C:/Users/ATPs/Documents/GitHub/XCProject/YangLab'"
      ],
      "text/latex": [
       "'C:/Users/ATPs/Documents/GitHub/XCProject/YangLab'"
      ],
      "text/markdown": [
       "'C:/Users/ATPs/Documents/GitHub/XCProject/YangLab'"
      ],
      "text/plain": [
       "[1] \"C:/Users/ATPs/Documents/GitHub/XCProject/YangLab\""
      ]
     },
     "metadata": {},
     "output_type": "display_data"
    }
   ],
   "source": [
    "getwd()\n",
    "# write.table(tree1.df,\"test.cell.tree.all\",sep = \"\\t\",row.names = FALSE)"
   ]
  },
  {
   "cell_type": "markdown",
   "metadata": {},
   "source": [
    "### 3.5 test the function of ToDataFrameTable\n",
    "\n",
    "only the leaves were saved in this case"
   ]
  },
  {
   "cell_type": "code",
   "execution_count": 23,
   "metadata": {
    "scrolled": false
   },
   "outputs": [
    {
     "data": {
      "text/html": [
       "<table>\n",
       "<thead><tr><th scope=col>pathString</th><th scope=col>level</th><th scope=col>name</th><th scope=col>Lineage</th><th scope=col>DAge</th><th scope=col>tAge</th><th scope=col>Gene.OF</th></tr></thead>\n",
       "<tbody>\n",
       "\t<tr><td>Root/L  </td><td>2       </td><td>L       </td><td>0       </td><td>1       </td><td>10      </td><td>01101011</td></tr>\n",
       "\t<tr><td>Root/R  </td><td>2       </td><td>R       </td><td>1       </td><td>1       </td><td>10      </td><td>01101011</td></tr>\n",
       "</tbody>\n",
       "</table>\n"
      ],
      "text/latex": [
       "\\begin{tabular}{r|lllllll}\n",
       " pathString & level & name & Lineage & DAge & tAge & Gene.OF\\\\\n",
       "\\hline\n",
       "\t Root/L   & 2        & L        & 0        & 1        & 10       & 01101011\\\\\n",
       "\t Root/R   & 2        & R        & 1        & 1        & 10       & 01101011\\\\\n",
       "\\end{tabular}\n"
      ],
      "text/markdown": [
       "\n",
       "pathString | level | name | Lineage | DAge | tAge | Gene.OF | \n",
       "|---|---|\n",
       "| Root/L   | 2        | L        | 0        | 1        | 10       | 01101011 | \n",
       "| Root/R   | 2        | R        | 1        | 1        | 10       | 01101011 | \n",
       "\n",
       "\n"
      ],
      "text/plain": [
       "  pathString level name Lineage DAge tAge Gene.OF \n",
       "1 Root/L     2     L    0       1    10   01101011\n",
       "2 Root/R     2     R    1       1    10   01101011"
      ]
     },
     "metadata": {},
     "output_type": "display_data"
    }
   ],
   "source": [
    "ToDataFrameTable(tree1,\"pathString\",\"level\",\"name\",'Lineage', 'DAge','tAge',\n",
    "                 Gene.OF = function(node) paste0(node$Gene.OF, collapse = ''))"
   ]
  },
  {
   "cell_type": "markdown",
   "metadata": {},
   "source": [
    "### 3.5 count cell types"
   ]
  },
  {
   "cell_type": "code",
   "execution_count": 24,
   "metadata": {},
   "outputs": [
    {
     "data": {
      "text/html": [
       "1"
      ],
      "text/latex": [
       "1"
      ],
      "text/markdown": [
       "1"
      ],
      "text/plain": [
       "[1] 1"
      ]
     },
     "metadata": {},
     "output_type": "display_data"
    }
   ],
   "source": [
    "F.treeCellType(tree1)"
   ]
  },
  {
   "cell_type": "markdown",
   "metadata": {},
   "source": [
    "### 3.6 generate a data.frame for HSA program"
   ]
  },
  {
   "cell_type": "code",
   "execution_count": 25,
   "metadata": {},
   "outputs": [
    {
     "data": {
      "text/html": [
       "<table>\n",
       "<thead><tr><th scope=col>Lineage</th><th scope=col>name</th><th scope=col>Gene.OF</th></tr></thead>\n",
       "<tbody>\n",
       "\t<tr><td>0       </td><td>L       </td><td>01101011</td></tr>\n",
       "\t<tr><td>1       </td><td>R       </td><td>01101011</td></tr>\n",
       "</tbody>\n",
       "</table>\n"
      ],
      "text/latex": [
       "\\begin{tabular}{r|lll}\n",
       " Lineage & name & Gene.OF\\\\\n",
       "\\hline\n",
       "\t 0        & L        & 01101011\\\\\n",
       "\t 1        & R        & 01101011\\\\\n",
       "\\end{tabular}\n"
      ],
      "text/markdown": [
       "\n",
       "Lineage | name | Gene.OF | \n",
       "|---|---|\n",
       "| 0        | L        | 01101011 | \n",
       "| 1        | R        | 01101011 | \n",
       "\n",
       "\n"
      ],
      "text/plain": [
       "  Lineage name Gene.OF \n",
       "1 0       L    01101011\n",
       "2 1       R    01101011"
      ]
     },
     "metadata": {},
     "output_type": "display_data"
    }
   ],
   "source": [
    "tree.dfLeaf <- ToDataFrameTable(tree1,\"pathString\",\"level\",\"name\",'Lineage', 'DAge','tAge',\n",
    "                 Gene.OF = function(node) paste0(node$Gene.OF, collapse = ''))\n",
    "tree.dfLeaf[,c(\"Lineage\",\"name\",\"Gene.OF\")]"
   ]
  },
  {
   "cell_type": "code",
   "execution_count": 26,
   "metadata": {},
   "outputs": [],
   "source": [
    "# F.saveRandomTree(tree1, network = gene.network,score = \"same\")"
   ]
  },
  {
   "cell_type": "code",
   "execution_count": 27,
   "metadata": {
    "scrolled": false
   },
   "outputs": [
    {
     "data": {
      "text/plain": [
       "  levelName\n",
       "1     Root \n",
       "2      |--L\n",
       "3      °--R"
      ]
     },
     "metadata": {},
     "output_type": "display_data"
    }
   ],
   "source": [
    "tree1"
   ]
  },
  {
   "cell_type": "markdown",
   "metadata": {},
   "source": [
    "## 4 simulate trees with Dmax 12"
   ]
  },
  {
   "cell_type": "markdown",
   "metadata": {},
   "source": [
    "simulate 7 groups of lineage trees, with the following setting\n",
    "\n",
    "a   | N   |K\n",
    "--  | --  | --\n",
    "1   | 16  | 4\n",
    "10  | 16  | 4\n",
    "100 | 16  | 2\n",
    "100 | 16  | 4\n",
    "100 | 16  | 8\n",
    "100 | 8   | 4\n",
    "100 | 32  | 4\n",
    "\n",
    "* a: activation constant\n",
    "* N: number of genes\n",
    "* K: average in-degree, which means average interations per gene.\n",
    "\n",
    "Dmax: max dividing times. Dmax = 12 (Dividing times <= Dmax)  \n",
    "tmax = 50 (maximum developint times. t <= tmax).  \n",
    "leafTypesMin = 6\n",
    "leafCountMin = 500\n",
    "\n",
    "leafTypeMin, the minimum types of leaves  \n",
    "leafCountMin, the minmum count of leaves"
   ]
  },
  {
   "cell_type": "markdown",
   "metadata": {},
   "source": [
    "### 4.1 set up the parameters"
   ]
  },
  {
   "cell_type": "code",
   "execution_count": 28,
   "metadata": {},
   "outputs": [],
   "source": [
    "df.settingD12 = data.frame(a = c(1,10,100,100,100,100,100), \n",
    "                        N = c(16,16,16,16,16,8,32),\n",
    "                        K = c(4,4,2,4,8,4,4),\n",
    "                        Dmax = rep(12,7),\n",
    "                        tmax = rep(50,7))"
   ]
  },
  {
   "cell_type": "code",
   "execution_count": 29,
   "metadata": {},
   "outputs": [
    {
     "data": {
      "text/html": [
       "<table>\n",
       "<thead><tr><th scope=col>a</th><th scope=col>N</th><th scope=col>K</th><th scope=col>Dmax</th><th scope=col>tmax</th></tr></thead>\n",
       "<tbody>\n",
       "\t<tr><td>  1</td><td>16 </td><td>4  </td><td>12 </td><td>50 </td></tr>\n",
       "\t<tr><td> 10</td><td>16 </td><td>4  </td><td>12 </td><td>50 </td></tr>\n",
       "\t<tr><td>100</td><td>16 </td><td>2  </td><td>12 </td><td>50 </td></tr>\n",
       "\t<tr><td>100</td><td>16 </td><td>4  </td><td>12 </td><td>50 </td></tr>\n",
       "\t<tr><td>100</td><td>16 </td><td>8  </td><td>12 </td><td>50 </td></tr>\n",
       "\t<tr><td>100</td><td> 8 </td><td>4  </td><td>12 </td><td>50 </td></tr>\n",
       "\t<tr><td>100</td><td>32 </td><td>4  </td><td>12 </td><td>50 </td></tr>\n",
       "</tbody>\n",
       "</table>\n"
      ],
      "text/latex": [
       "\\begin{tabular}{r|lllll}\n",
       " a & N & K & Dmax & tmax\\\\\n",
       "\\hline\n",
       "\t   1 & 16  & 4   & 12  & 50 \\\\\n",
       "\t  10 & 16  & 4   & 12  & 50 \\\\\n",
       "\t 100 & 16  & 2   & 12  & 50 \\\\\n",
       "\t 100 & 16  & 4   & 12  & 50 \\\\\n",
       "\t 100 & 16  & 8   & 12  & 50 \\\\\n",
       "\t 100 &  8  & 4   & 12  & 50 \\\\\n",
       "\t 100 & 32  & 4   & 12  & 50 \\\\\n",
       "\\end{tabular}\n"
      ],
      "text/markdown": [
       "\n",
       "a | N | K | Dmax | tmax | \n",
       "|---|---|---|---|---|---|---|\n",
       "|   1 | 16  | 4   | 12  | 50  | \n",
       "|  10 | 16  | 4   | 12  | 50  | \n",
       "| 100 | 16  | 2   | 12  | 50  | \n",
       "| 100 | 16  | 4   | 12  | 50  | \n",
       "| 100 | 16  | 8   | 12  | 50  | \n",
       "| 100 |  8  | 4   | 12  | 50  | \n",
       "| 100 | 32  | 4   | 12  | 50  | \n",
       "\n",
       "\n"
      ],
      "text/plain": [
       "  a   N  K Dmax tmax\n",
       "1   1 16 4 12   50  \n",
       "2  10 16 4 12   50  \n",
       "3 100 16 2 12   50  \n",
       "4 100 16 4 12   50  \n",
       "5 100 16 8 12   50  \n",
       "6 100  8 4 12   50  \n",
       "7 100 32 4 12   50  "
      ]
     },
     "metadata": {},
     "output_type": "display_data"
    }
   ],
   "source": [
    "df.settingD12"
   ]
  },
  {
   "cell_type": "code",
   "execution_count": 30,
   "metadata": {},
   "outputs": [],
   "source": [
    "leafTypeMin = 6\n",
    "leafCountMin = 500"
   ]
  },
  {
   "cell_type": "markdown",
   "metadata": {},
   "source": [
    "### 4.2 test one"
   ]
  },
  {
   "cell_type": "code",
   "execution_count": 31,
   "metadata": {},
   "outputs": [
    {
     "data": {
      "text/html": [
       "<table>\n",
       "<thead><tr><th scope=col>a</th><th scope=col>N</th><th scope=col>K</th><th scope=col>Dmax</th><th scope=col>tmax</th></tr></thead>\n",
       "<tbody>\n",
       "\t<tr><td>1 </td><td>16</td><td>4 </td><td>12</td><td>50</td></tr>\n",
       "</tbody>\n",
       "</table>\n"
      ],
      "text/latex": [
       "\\begin{tabular}{r|lllll}\n",
       " a & N & K & Dmax & tmax\\\\\n",
       "\\hline\n",
       "\t 1  & 16 & 4  & 12 & 50\\\\\n",
       "\\end{tabular}\n"
      ],
      "text/markdown": [
       "\n",
       "a | N | K | Dmax | tmax | \n",
       "|---|\n",
       "| 1  | 16 | 4  | 12 | 50 | \n",
       "\n",
       "\n"
      ],
      "text/plain": [
       "  a N  K Dmax tmax\n",
       "1 1 16 4 12   50  "
      ]
     },
     "metadata": {},
     "output_type": "display_data"
    }
   ],
   "source": [
    "s <- df.settingD12[1,]\n",
    "s"
   ]
  },
  {
   "cell_type": "code",
   "execution_count": 32,
   "metadata": {
    "scrolled": true
   },
   "outputs": [
    {
     "name": "stdout",
     "output_type": "stream",
     "text": [
      "  a  N K Dmax tmax\n",
      "1 1 16 4   12   50\n"
     ]
    },
    {
     "data": {
      "text/html": [
       "1152"
      ],
      "text/latex": [
       "1152"
      ],
      "text/markdown": [
       "1152"
      ],
      "text/plain": [
       "[1] 1152"
      ]
     },
     "metadata": {},
     "output_type": "display_data"
    }
   ],
   "source": [
    "celltrees = list()\n",
    "for (i in row.names(df.settingD12)) {\n",
    "    s <- df.settingD12[i,]\n",
    "    celltrees[[1]] = F.generateRandTree(a = s$a, N = s$N, K = s$K, Dmax = s$Dmax, tmax = s$tmax, digits = 4)\n",
    "    print(s)\n",
    "    break\n",
    "}\n",
    "celltrees[[1]][[\"cell.tree\"]]$leafCount\n"
   ]
  },
  {
   "cell_type": "code",
   "execution_count": 33,
   "metadata": {},
   "outputs": [
    {
     "data": {
      "text/html": [
       "<ol class=list-inline>\n",
       "\t<li>1</li>\n",
       "\t<li>1</li>\n",
       "\t<li>1</li>\n",
       "\t<li>1</li>\n",
       "\t<li>0</li>\n",
       "\t<li>0</li>\n",
       "\t<li>1</li>\n",
       "\t<li>1</li>\n",
       "\t<li>1</li>\n",
       "\t<li>0</li>\n",
       "\t<li>1</li>\n",
       "\t<li>1</li>\n",
       "\t<li>0</li>\n",
       "\t<li>0</li>\n",
       "\t<li>0</li>\n",
       "\t<li>0</li>\n",
       "</ol>\n"
      ],
      "text/latex": [
       "\\begin{enumerate*}\n",
       "\\item 1\n",
       "\\item 1\n",
       "\\item 1\n",
       "\\item 1\n",
       "\\item 0\n",
       "\\item 0\n",
       "\\item 1\n",
       "\\item 1\n",
       "\\item 1\n",
       "\\item 0\n",
       "\\item 1\n",
       "\\item 1\n",
       "\\item 0\n",
       "\\item 0\n",
       "\\item 0\n",
       "\\item 0\n",
       "\\end{enumerate*}\n"
      ],
      "text/markdown": [
       "1. 1\n",
       "2. 1\n",
       "3. 1\n",
       "4. 1\n",
       "5. 0\n",
       "6. 0\n",
       "7. 1\n",
       "8. 1\n",
       "9. 1\n",
       "10. 0\n",
       "11. 1\n",
       "12. 1\n",
       "13. 0\n",
       "14. 0\n",
       "15. 0\n",
       "16. 0\n",
       "\n",
       "\n"
      ],
      "text/plain": [
       " [1] 1 1 1 1 0 0 1 1 1 0 1 1 0 0 0 0"
      ]
     },
     "metadata": {},
     "output_type": "display_data"
    }
   ],
   "source": [
    "celltrees[[1]][[\"cell.tree\"]]$Gene.OF"
   ]
  },
  {
   "cell_type": "code",
   "execution_count": 34,
   "metadata": {
    "scrolled": true
   },
   "outputs": [
    {
     "data": {
      "text/html": [
       "4"
      ],
      "text/latex": [
       "4"
      ],
      "text/markdown": [
       "4"
      ],
      "text/plain": [
       "[1] 4"
      ]
     },
     "metadata": {},
     "output_type": "display_data"
    }
   ],
   "source": [
    "F.treeCellType(celltrees[[1]][[\"cell.tree\"]])"
   ]
  },
  {
   "cell_type": "code",
   "execution_count": 35,
   "metadata": {},
   "outputs": [],
   "source": [
    "tree1 = celltrees[[1]][[\"cell.tree\"]]"
   ]
  },
  {
   "cell_type": "markdown",
   "metadata": {},
   "source": [
    "### 4.3 generate a list to store the result\n",
    "\n",
    "However, the memory consumption is too big. only save the necessary parts, and save the tree files directly to drive."
   ]
  },
  {
   "cell_type": "code",
   "execution_count": 36,
   "metadata": {},
   "outputs": [],
   "source": [
    "celltrees <- lapply(1:2,\n",
    "                    function(x)F.generateRandTreeWithFilter(a = s$a, N = s$N, K = s$K, Dmax = s$Dmax, \n",
    "                                        tmax = s$tmax, digits = 4,\n",
    "                                        leafTypeMin = leafTypeMin,\n",
    "                                        leafCountMin = leafCountMin, tryMax = 100))"
   ]
  },
  {
   "cell_type": "code",
   "execution_count": 37,
   "metadata": {
    "scrolled": true
   },
   "outputs": [
    {
     "name": "stdout",
     "output_type": "stream",
     "text": [
      "[1] 2466   42\n",
      "[1] 4096   21\n"
     ]
    }
   ],
   "source": [
    "for (tr in celltrees) print(c(tr$leafCount, tr$leafTypeCount))"
   ]
  },
  {
   "cell_type": "code",
   "execution_count": 38,
   "metadata": {},
   "outputs": [],
   "source": [
    "tr <- celltrees[[1]]\n",
    "# F.saveRandomTree(cell.tree = tr$cell.tree, \n",
    "#                  score = \"norm\", outfilePrefix = \"X:\\\\YangLab\\\\2018simulation\\\\\", silent = TRUE)\n",
    "\n"
   ]
  },
  {
   "cell_type": "code",
   "execution_count": 39,
   "metadata": {},
   "outputs": [],
   "source": [
    "# fileTest <- \"C:\\\\Users\\\\ATPs\\\\Documents\\\\2018simulation\\\\a1N16K4\\\\test.txt\"\n",
    "# fileTestWrite <- file(fileTest,\"w\")\n",
    "# writeLines(text = c(paste0(\"ID=1;a=1;N=16;K=4;L=\",tr$leafCount,\";T=\",tr$leafTypeCount),\n",
    "#                    paste(tr$gene.init,collapse = \" \"),\n",
    "#                    paste(as.vector(tr$gene.network), collapse = \" \")), con = fileTestWrite)\n",
    "# close(fileTestWrite)"
   ]
  },
  {
   "cell_type": "code",
   "execution_count": 40,
   "metadata": {},
   "outputs": [
    {
     "data": {
      "text/html": [
       "42"
      ],
      "text/latex": [
       "42"
      ],
      "text/markdown": [
       "42"
      ],
      "text/plain": [
       "[1] 42"
      ]
     },
     "metadata": {},
     "output_type": "display_data"
    }
   ],
   "source": [
    "tr$leafTypeCount"
   ]
  },
  {
   "cell_type": "markdown",
   "metadata": {},
   "source": [
    "### 4.4 save 1000 files for a=1 N=16 K=4"
   ]
  },
  {
   "cell_type": "code",
   "execution_count": 42,
   "metadata": {},
   "outputs": [],
   "source": [
    "s <- df.settingD12[1,]#change 1 to 2,3,4,5,6,7 to simulate other cases"
   ]
  },
  {
   "cell_type": "code",
   "execution_count": 43,
   "metadata": {},
   "outputs": [],
   "source": [
    "folder <- paste0(\"X:\\\\YangLab\\\\2018simulation\\\\a\",s$a,\"N\",s$N,\"K\",s$K,\"\\\\\")"
   ]
  },
  {
   "cell_type": "code",
   "execution_count": null,
   "metadata": {},
   "outputs": [],
   "source": [
    "fileInfo <- paste0(\"X:\\\\YangLab\\\\2018simulation\\\\a\",s$a,\"N\",s$N,\"K\",s$K,\".info\")\n",
    "fileInfoWrite <- file(fileInfo,\"w\")\n",
    "for (n in 1:1000){\n",
    "    tr <- F.generateRandTreeWithFilter(a = s$a, N = s$N, K = s$K, Dmax = s$Dmax, \n",
    "                                        tmax = s$tmax, digits = 4,\n",
    "                                        leafTypeMin = leafTypeMin,\n",
    "                                        leafCountMin = leafCountMin, tryMax = 100)\n",
    "    filenamePrefix <- paste0(folder,\"a\",s$a,\"N\",s$N,\"K\",s$K,\"ID\",n)\n",
    "    F.saveRandomTree(cell.tree = tr$cell.tree, network = NULL, score = \"norm\", class = \"Gene.OF\", \n",
    "                     outfilePrefix = filenamePrefix, silent = TRUE)\n",
    "    writeLines(text = c(paste0(\"ID=\",n,\";a=\",s$a,\";N=\",s$N,\";K=\",s$K,\";L=\",tr$leafCount,\";T=\",tr$leafTypeCount),\n",
    "                   paste(tr$gene.init,collapse = \" \"),\n",
    "                   paste(as.vector(tr$gene.network), collapse = \" \")), con = fileInfoWrite)\n",
    "}\n",
    "close(fileInfoWrite)"
   ]
  },
  {
   "cell_type": "markdown",
   "metadata": {},
   "source": [
    "### the tree simulation finished by run individual Rscript processes. \n",
    "\n",
    "Finished outside this notebook"
   ]
  },
  {
   "cell_type": "markdown",
   "metadata": {},
   "source": [
    "## 5 simulate trees with Dmax 6"
   ]
  },
  {
   "cell_type": "markdown",
   "metadata": {},
   "source": [
    "### 5.1 set up the parameters"
   ]
  },
  {
   "cell_type": "code",
   "execution_count": 53,
   "metadata": {
    "scrolled": true
   },
   "outputs": [
    {
     "data": {
      "text/html": [
       "<table>\n",
       "<thead><tr><th scope=col>a</th><th scope=col>N</th><th scope=col>K</th><th scope=col>Dmax</th><th scope=col>tmax</th></tr></thead>\n",
       "<tbody>\n",
       "\t<tr><td>  1</td><td>16 </td><td>4  </td><td>6  </td><td>50 </td></tr>\n",
       "\t<tr><td> 10</td><td>16 </td><td>4  </td><td>6  </td><td>50 </td></tr>\n",
       "\t<tr><td>100</td><td>16 </td><td>2  </td><td>6  </td><td>50 </td></tr>\n",
       "\t<tr><td>100</td><td>16 </td><td>4  </td><td>6  </td><td>50 </td></tr>\n",
       "\t<tr><td>100</td><td>16 </td><td>8  </td><td>6  </td><td>50 </td></tr>\n",
       "\t<tr><td>100</td><td> 8 </td><td>4  </td><td>6  </td><td>50 </td></tr>\n",
       "\t<tr><td>100</td><td>32 </td><td>4  </td><td>6  </td><td>50 </td></tr>\n",
       "</tbody>\n",
       "</table>\n"
      ],
      "text/latex": [
       "\\begin{tabular}{r|lllll}\n",
       " a & N & K & Dmax & tmax\\\\\n",
       "\\hline\n",
       "\t   1 & 16  & 4   & 6   & 50 \\\\\n",
       "\t  10 & 16  & 4   & 6   & 50 \\\\\n",
       "\t 100 & 16  & 2   & 6   & 50 \\\\\n",
       "\t 100 & 16  & 4   & 6   & 50 \\\\\n",
       "\t 100 & 16  & 8   & 6   & 50 \\\\\n",
       "\t 100 &  8  & 4   & 6   & 50 \\\\\n",
       "\t 100 & 32  & 4   & 6   & 50 \\\\\n",
       "\\end{tabular}\n"
      ],
      "text/markdown": [
       "\n",
       "a | N | K | Dmax | tmax | \n",
       "|---|---|---|---|---|---|---|\n",
       "|   1 | 16  | 4   | 6   | 50  | \n",
       "|  10 | 16  | 4   | 6   | 50  | \n",
       "| 100 | 16  | 2   | 6   | 50  | \n",
       "| 100 | 16  | 4   | 6   | 50  | \n",
       "| 100 | 16  | 8   | 6   | 50  | \n",
       "| 100 |  8  | 4   | 6   | 50  | \n",
       "| 100 | 32  | 4   | 6   | 50  | \n",
       "\n",
       "\n"
      ],
      "text/plain": [
       "  a   N  K Dmax tmax\n",
       "1   1 16 4 6    50  \n",
       "2  10 16 4 6    50  \n",
       "3 100 16 2 6    50  \n",
       "4 100 16 4 6    50  \n",
       "5 100 16 8 6    50  \n",
       "6 100  8 4 6    50  \n",
       "7 100 32 4 6    50  "
      ]
     },
     "metadata": {},
     "output_type": "display_data"
    }
   ],
   "source": [
    "df.settingD6 = data.frame(a = c(1,10,100,100,100,100,100), \n",
    "                        N = c(16,16,16,16,16,8,32),\n",
    "                        K = c(4,4,2,4,8,4,4),\n",
    "                        Dmax = rep(6,7),\n",
    "                        tmax = rep(50,7))\n",
    "df.settingD6"
   ]
  },
  {
   "cell_type": "code",
   "execution_count": 54,
   "metadata": {},
   "outputs": [],
   "source": [
    "leafTypeMin = 4\n",
    "leafCountMin = 16"
   ]
  },
  {
   "cell_type": "markdown",
   "metadata": {},
   "source": [
    "### 5.2 test One\n",
    "\n",
    "It seems that HSA cannot run with large files. test small ones."
   ]
  },
  {
   "cell_type": "code",
   "execution_count": 73,
   "metadata": {},
   "outputs": [],
   "source": [
    "trTest <- F.generateRandTreeWithFilter(a = 1, N = 16, K = 4, Dmax = 6, \n",
    "                                        tmax = 50, digits = 4,\n",
    "                                        leafTypeMin = 6,\n",
    "                                        leafCountMin = 20, tryMax = 100)"
   ]
  },
  {
   "cell_type": "code",
   "execution_count": 74,
   "metadata": {},
   "outputs": [],
   "source": [
    "F.saveRandomTree(cell.tree = trTest$cell.tree, \n",
    "                 score = \"norm\", outfilePrefix = \"X:\\\\YangLab\\\\2018simulation\\\\\", silent = TRUE)\n",
    "\n"
   ]
  },
  {
   "cell_type": "markdown",
   "metadata": {},
   "source": [
    "### 5.3 simulate 1000 files for each condition"
   ]
  },
  {
   "cell_type": "markdown",
   "metadata": {},
   "source": [
    "#### create folders"
   ]
  },
  {
   "cell_type": "code",
   "execution_count": 55,
   "metadata": {},
   "outputs": [],
   "source": [
    "for (i in 1:7){\n",
    "    s <- df.settingD6[i,]\n",
    "    folder <- paste0(\"X:\\\\YangLab\\\\2018simulation\\\\a\",s$a,\"N\",s$N,\"K\",s$K,\"D\",s$Dmax,\"\\\\\")\n",
    "    dir.create(folder)\n",
    "}"
   ]
  },
  {
   "cell_type": "markdown",
   "metadata": {},
   "source": [
    "#### simulation of cell trees"
   ]
  },
  {
   "cell_type": "code",
   "execution_count": 57,
   "metadata": {},
   "outputs": [],
   "source": [
    "for (i in 1:7){\n",
    "    s <- df.settingD6[i,]\n",
    "    folder <- paste0(\"X:\\\\YangLab\\\\2018simulation\\\\a\",s$a,\"N\",s$N,\"K\",s$K,\"D\",s$Dmax,\"\\\\\")\n",
    "    fileInfo <- paste0(\"X:\\\\YangLab\\\\2018simulation\\\\a\",s$a,\"N\",s$N,\"K\",s$K,\"D\",s$Dmax,\".info\")\n",
    "    fileInfoWrite <- file(fileInfo,\"w\")\n",
    "    for (n in 1:1000){\n",
    "        tr <- F.generateRandTreeWithFilter(a = s$a, N = s$N, K = s$K, Dmax = s$Dmax, \n",
    "                                            tmax = s$tmax, digits = 4,\n",
    "                                            leafTypeMin = leafTypeMin,\n",
    "                                            leafCountMin = leafCountMin, tryMax = 100)\n",
    "        filenamePrefix <- paste0(folder,\"a\",s$a,\"N\",s$N,\"K\",s$K,\"D\",s$Dmax,\"ID\",n)\n",
    "        F.saveRandomTree(cell.tree = tr$cell.tree, network = NULL, score = \"norm\", class = \"Gene.OF\", \n",
    "                         outfilePrefix = filenamePrefix, silent = TRUE)\n",
    "        writeLines(text = c(paste0(\"ID=\",n,\";a=\",s$a,\";N=\",s$N,\";K=\",s$K,\";L=\",tr$leafCount,\";T=\",tr$leafTypeCount),\n",
    "                       paste(tr$gene.init,collapse = \" \"),\n",
    "                       paste(as.vector(tr$gene.network), collapse = \" \")), con = fileInfoWrite)\n",
    "    }\n",
    "    close(fileInfoWrite)\n",
    "}"
   ]
  }
 ],
 "metadata": {
  "kernelspec": {
   "display_name": "Python 3",
   "language": "python",
   "name": "python3"
  },
  "language_info": {
   "codemirror_mode": {
    "name": "ipython",
    "version": 3
   },
   "file_extension": ".py",
   "mimetype": "text/x-python",
   "name": "python",
   "nbconvert_exporter": "python",
   "pygments_lexer": "ipython3",
   "version": "3.7.3"
  },
  "toc": {
   "nav_menu": {
    "height": "550px",
    "width": "455px"
   },
   "number_sections": false,
   "sideBar": true,
   "skip_h1_title": false,
   "toc_cell": false,
   "toc_position": {
    "height": "844px",
    "left": "0px",
    "right": "auto",
    "top": "110px",
    "width": "372px"
   },
   "toc_section_display": "block",
   "toc_window_display": true
  }
 },
 "nbformat": 4,
 "nbformat_minor": 2
}
