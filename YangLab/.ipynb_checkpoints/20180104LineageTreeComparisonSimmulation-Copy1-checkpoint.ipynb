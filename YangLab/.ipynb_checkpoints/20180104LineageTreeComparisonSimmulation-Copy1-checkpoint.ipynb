{
 "cells": [
  {
   "cell_type": "markdown",
   "metadata": {},
   "source": [
    "# Lineage Tree comparison, simulate trees to test HSA program"
   ]
  },
  {
   "cell_type": "markdown",
   "metadata": {},
   "source": [
    "## 1 load required packages"
   ]
  },
  {
   "cell_type": "code",
   "execution_count": 1,
   "metadata": {},
   "outputs": [
    {
     "name": "stderr",
     "output_type": "stream",
     "text": [
      "Warning message:\n",
      "\"package 'data.tree' was built under R version 3.4.3\""
     ]
    }
   ],
   "source": [
    "library(data.tree)"
   ]
  },
  {
   "cell_type": "code",
   "execution_count": 2,
   "metadata": {},
   "outputs": [],
   "source": [
    "library(parallel)"
   ]
  },
  {
   "cell_type": "markdown",
   "metadata": {},
   "source": [
    "## 2 functions to use"
   ]
  },
  {
   "cell_type": "markdown",
   "metadata": {},
   "source": [
    "### 2.1 sigmoid function, F.sigmoid(x,a=100). \n",
    "Help determine whether a gene is on or off.\n",
    "\n",
    "$f(x) = 2/(1 + e^{-ax}) -1$\n",
    "* x: input value\n",
    "* a: activation constant. default: 100"
   ]
  },
  {
   "cell_type": "code",
   "execution_count": 3,
   "metadata": {},
   "outputs": [],
   "source": [
    "F.sigmoid <- function(x, a=100){\n",
    "  return (2 / (1 + exp(-a*x)) -1)\n",
    "}"
   ]
  },
  {
   "cell_type": "markdown",
   "metadata": {},
   "source": [
    "### 2.2 gene.level to gene.OF\n",
    "\n",
    "F.geneOF(gene.level)\n",
    "\n",
    "gene.level is a vector with length N. gene.level = c(s1, s2, ..., si, ..., sN), where -1<= xi <= 1. \n",
    "\n",
    "return a gene.OF vector of the same length. Gene *i* is ON when 0< si <=1, and OFF when -1<= si <=0. 1 for ON and 0 for OFF. \n",
    "\n",
    " F.geneOF(c(0.1, 1, -0.5, 0)). Return c(1,1,0,0). \n",
    "* N: number of genes. "
   ]
  },
  {
   "cell_type": "code",
   "execution_count": 4,
   "metadata": {},
   "outputs": [],
   "source": [
    "F.geneOF <- function(gene.level){\n",
    "    if (any(gene.level > 1) || any(gene.level < -1)){\n",
    "        print(\"warning! some gene.level is outside the value limit of -1<= gene.level <= 1\")\n",
    "    }\n",
    "    return (as.numeric(gene.level > 0))\n",
    "}"
   ]
  },
  {
   "cell_type": "markdown",
   "metadata": {},
   "source": [
    "### 2.3 cell divide. F.divide(gene.level)\n",
    "gene.level is a vector with length N. gene.level = c(s1, s2, ..., si, ..., sN), where -1<= xi <= 1\n",
    "\n",
    "return a data.frame with two columns, L and R, for the two offsprings. \n",
    "* N: number of genes. \n",
    "* Gene 1 is a cell-cycle regulator. If gene 1 is ON, the cell divides instantaneously, and gene 1 is turned OFF in both daughter cells. \n",
    "* Gene 2 is a asymmetric cell division gene. When gene 1 is ON:\n",
    "    * if gene 2 is ON, the cell divides asymmetrically. The product of gene 2 segregates asymmetrically among the daughter cells: it is turned OFF in the left daughter, S2L = -1, and stays ON in the right daughter cell, at the same expression level.\n",
    "    * if gene 2 is OFF, then the cell divides aymmetrically and both daughter cells retain the gene expression pattern of the mother cell.\n",
    "    \n",
    "Example:\n",
    "* (0.9, 0.8, -0.8, 1) -> (-1, -1, -0.8, 1), (-1, 1, -0.8, 1). Divide asymmetrically.\n",
    "* (-0.9, 0.8, -0.8, 1) -> NULL. Do not divide.\n",
    "* (0.9, -0.8, -0.8, 1) -> (-1, -0.8, -0.8, 1), (-1, -0.8, -0.8, 1). Divide symmetrically."
   ]
  },
  {
   "cell_type": "code",
   "execution_count": 5,
   "metadata": {},
   "outputs": [],
   "source": [
    "F.divide <- function(gene.level){\n",
    "    if (gene.level[1] > 0){\n",
    "        L <-  gene.level\n",
    "        R <- gene.level\n",
    "        L[1] <- -1\n",
    "        R[1] <- -1\n",
    "        if (gene.level[2] >0) L[2] <- -1\n",
    "        return (data.frame(L,R))\n",
    "    }\n",
    "    return (NULL)\n",
    "}"
   ]
  },
  {
   "cell_type": "markdown",
   "metadata": {},
   "source": [
    "### 2.4 cell grow\n",
    "\n",
    "The gene expression pattern in a cell at time t during development is represented by a state vector S(t), whose elements $s_{i}(t)$ described the expression states of genes i=1, 2, ..., N. $-1 <= s_{i}(t) <= 1$.\n",
    "\n",
    "$s_{i}(t+1) = f [\\sum_{j=1}^{N}r_{ij}s_{j}(t)]$\n",
    "\n",
    "where $f(x) = 2/(1 + e^{-ax}) -1$, as defined by F.sigmoid.\n",
    "\n",
    "R is the matrix of $r_{ij}$, which represents gene interaction network (**gene.network**). Given a S(t), calculate S(t+1).\n",
    "\n",
    "For example. \n",
    "\n",
    "$R = \\begin {vmatrix} \n",
    "            0 & 0 & 1.7 & 0 \\\\ \n",
    "            -0.3 & -0.9 & 0 & -0.8 \\\\  \n",
    "            -1.2 & 0.7 & 0.2 & 0 \\\\\n",
    "            0 & -0.8 & 0 & -0.8 \\\\\n",
    "            \\end {vmatrix}$\n",
    "\n",
    "$S(t) = \\begin {vmatrix} 1 \\\\ 1\\\\ 1\\\\ 1\\\\ \\end {vmatrix}$. After **cell divide**, two daughter cells are born, which are $S_{L}(t)=\\begin {vmatrix} -1 \\\\ -1\\\\ 1\\\\ 1\\\\ \\end {vmatrix}$ and $S_{R}(t)=\\begin {vmatrix} -1 \\\\ 1\\\\ 1\\\\ 1\\\\ \\end {vmatrix}$. \n",
    "\n",
    "At time **t+1**, $S_{L}(t+1)=f(R*S_{L}(t))$\n",
    "\n",
    "**F.grow(gene.level, gene.network, a=100); a; activation constant.**"
   ]
  },
  {
   "cell_type": "code",
   "execution_count": 6,
   "metadata": {},
   "outputs": [],
   "source": [
    "F.grow <- function(gene.level, gene.network, a = 100){\n",
    "    return (F.sigmoid(as.vector(gene.network %*% gene.level), a))\n",
    "}"
   ]
  },
  {
   "cell_type": "markdown",
   "metadata": {},
   "source": [
    "### 2.5 generate random gene interaction network (gene.network)\n",
    "\n",
    "gene.network is a N\\*N matrix. Of N\\*N values, N\\*K are normal random variates.\n",
    "* N: number of genes\n",
    "* K: average in-degree, which means average interations per gene.\n",
    "* digits: number of digits to round after the decimal point. No rounding under default setting;\n",
    "\n",
    "F.randNetwork(N,K,digits = NULL)"
   ]
  },
  {
   "cell_type": "code",
   "execution_count": 7,
   "metadata": {},
   "outputs": [],
   "source": [
    "F.randNetwork <- function(N,K,digits = NULL){\n",
    "    gene.interactions = rnorm(N*K)\n",
    "    gene.network = c(gene.interactions, rep(0, N*(N-K)))\n",
    "    if (is.null(digits))\n",
    "        return (matrix(sample(gene.network), ncol = N, nrow = N))\n",
    "    else\n",
    "        return (round((matrix(sample(gene.network), ncol = N, nrow = N)), digits))\n",
    "}"
   ]
  },
  {
   "cell_type": "markdown",
   "metadata": {},
   "source": [
    "### 2.6 generate random initial gene expression status (gene.init)\n",
    "\n",
    "An initial gene expression pattern, S(0), is created by setting $s_{1} = -1$ and randomly setting each $s_{i}(0)$ for i = 2, 3, ..., N to either -1 or 1\n",
    "\n",
    "F.randInit(N)\n",
    "* N number of genes\n",
    "* F.randInt(4), return c(-1, (-1 or 1), (-1 or 1), (-1 or 1))."
   ]
  },
  {
   "cell_type": "code",
   "execution_count": 8,
   "metadata": {},
   "outputs": [],
   "source": [
    "F.randInit <- function(N){\n",
    "    randInit <- c(-1,sample(c(1,-1), size = N-1, replace = TRUE))\n",
    "    return (randInit)\n",
    "}"
   ]
  },
  {
   "cell_type": "markdown",
   "metadata": {},
   "source": [
    "### 2.7 develop the tree based on a given gene.init and gene.network\n",
    "\n",
    "return a data.tree variable.\n",
    "\n",
    "F.develop(gene.init, gene.network, tmax = 50, Dmax = 10)\n",
    "\n",
    "Each node with five fields, which are DAge, tAge, Lineage, gene.level, gene.OF.\n",
    "\n",
    "Use a simplified simmulation method, not the one used in the paper (Rolf Lohaus *et al.*, 2007). \n",
    "* In the paper\n",
    "    * Development stops when all the cells have differentiated or the first undifferentiated cell have completed Dmax rounds of cell division.\n",
    "    * Gene expression pattern were calculated differently for undifferentiated and differentiated cells.\n",
    "* Here\n",
    "    * Development stops when the first undifferentiated cell have completed Dmax rounds of cell divison, or development time reached tmax.\n",
    "    * Gene expression level were the same as generated when the program ends.\n",
    "\n",
    "The cells presentat the end of development are defined as terminal.\n",
    "\n",
    "max tAge is tmax, and max DAge is Dmax. tAge: develop time. DAge: division times."
   ]
  },
  {
   "cell_type": "code",
   "execution_count": 9,
   "metadata": {},
   "outputs": [],
   "source": [
    "F.develop <- function(gene.init, gene.network, tmax = 50, Dmax = 10, a = 100){\n",
    "    gene.OF <- F.geneOF(gene.init)\n",
    "    cell.tree  <- Node$new(name = \"Root\", DAge = 0, tAge = 0, Lineage=\"\", Gene.level = gene.init, Gene.OF = gene.OF)\n",
    "    tAge = 0\n",
    "    DAge = 0\n",
    "    while (TRUE){\n",
    "        if (tAge > tmax || DAge > Dmax) break\n",
    "        for (cell.leaf in cell.tree$leaves){\n",
    "            cell.divide = F.divide(cell.leaf$Gene.level)\n",
    "            if (is.null(cell.divide)){\n",
    "                tAge  <- cell.leaf$tAge + 1\n",
    "                if (tAge > tmax || DAge > Dmax) break\n",
    "                name  <- \"LR\"\n",
    "                DAge <- cell.leaf$DAge\n",
    "                Lineage <- cell.leaf$Lineage\n",
    "                Gene.level <- F.grow(cell.leaf$Gene.level, gene.network = gene.network, a = a)\n",
    "                Gene.OF <- F.geneOF(Gene.level)\n",
    "#                 cell.leaf$AddChild(name = name, DAge = DAge, tAge = tAge, \n",
    "#                                    Lineage = Lineage, Gene.level = Gene.level, Gene.OF = Gene.OF)\n",
    "                \n",
    "#                 cell.leaf$name <- name\n",
    "                cell.leaf$DAge <- DAge\n",
    "                cell.leaf$tAge <- tAge\n",
    "                cell.leaf$Lineage <- Lineage\n",
    "                cell.leaf$Gene.level <- Gene.level\n",
    "                cell.leaf$Gene.OF <- Gene.OF\n",
    "            }\n",
    "            else {\n",
    "                tAge <- cell.leaf$tAge + 1\n",
    "                DAge <- cell.leaf$DAge + 1\n",
    "                if (tAge > tmax || DAge > Dmax) break\n",
    "                Lname <- \"L\"\n",
    "                LLineage <- paste0(cell.leaf$Lineage,\"0\")\n",
    "                Rname <- \"R\"\n",
    "                RLineage <- paste0(cell.leaf$Lineage,\"1\")\n",
    "                LRinit <- F.divide(cell.leaf$Gene.level)\n",
    "                LGene.level <- F.grow(LRinit$L, gene.network = gene.network, a = a)\n",
    "                RGene.level <- F.grow(LRinit$R, gene.network = gene.network, a = a)\n",
    "                LGene.OF  <- F.geneOF(LGene.level)\n",
    "                RGene.OF <- F.geneOF(RGene.level)\n",
    "                cell.leaf$AddChild(name = Lname, DAge = DAge, tAge = tAge, \n",
    "                                   Lineage = LLineage, Gene.level = LGene.level, Gene.OF = LGene.OF)\n",
    "                cell.leaf$AddChild(name = Rname, DAge = DAge, tAge = tAge, \n",
    "                                   Lineage = RLineage, Gene.level = RGene.level, Gene.OF = RGene.OF)\n",
    "            }\n",
    "        }\n",
    "    }\n",
    "    return (cell.tree)\n",
    "}"
   ]
  },
  {
   "cell_type": "markdown",
   "metadata": {},
   "source": [
    "### 2.8 Save the Random Tree Generated by F.develop\n",
    "\n",
    "F.saveRandomTree(cell.tree, score = \"common\",class = \"Gene.OF\",outfilePrefix = \"\")\n",
    "\n",
    "Four files will be written.\n",
    "* \"cell.tree.all\": data.frame of cell.tree\n",
    "* \"cell.tree.network\": interaction network of genes.\n",
    "* \"cell.tree.leaves\": text file to be used by HSA program. Lineage is the Lineage in cell.tree. \n",
    "    * Name is the name. Class is the \"Gene.OF\", unless other values were assigned.\n",
    "* \"cell.tree.score\": text file to be used by HSA program. \n",
    "    * three columns. treeS cell class, treeT cell class, score (integer).\n",
    "    * If score == \"common\", the score for two cell classes is based on the number of common \"ON\"/\"OFF\" genes. 1011,1010, score 3.\n",
    "    * If score == \"same\", the score is 2 if cell classes the same or 0 if not.\n",
    "    * If score == \"norm\", the average score will be 1. score from the \"common\" method.   \n",
    "        calculate z-score. round (z-score+1) to integer. \n",
    "        (0,4,16) will become (0.2, 0.7, 2.1), then round to (0,1,2). (sd caluclated by R, denominator n-1)"
   ]
  },
  {
   "cell_type": "code",
   "execution_count": 52,
   "metadata": {},
   "outputs": [],
   "source": [
    "F.saveRandomTree <- function(cell.tree, network = NULL, score = \"common\", \n",
    "                             class = \"Gene.OF\", outfilePrefix = \"\",silent = FALSE) {\n",
    "    cell.tree.dfAll <- ToDataFrameTree(cell.tree,\"pathString\",\"level\",\"name\",'Lineage', 'DAge','tAge',\n",
    "                                     Gene.OF = function(node) paste0(node$Gene.OF, collapse = ''),\n",
    "                                     Gene.level = function(node) paste0(node$Gene.level, collapse = ';'),\n",
    "                                     isLeaf = function(node) node$isLeaf)\n",
    "    outfile.cell.tree.all <- paste0(outfilePrefix, \"cell.tree.all\")\n",
    "    write.table(cell.tree.dfAll, outfile.cell.tree.all, sep=\"\\t\", row.names = FALSE)\n",
    "    if (!silent) print(paste0(\"write the all details for the tree to file \", outfile.cell.tree.all))\n",
    "    \n",
    "    cell.tree.dfLeaf <- ToDataFrameTable(cell.tree,\"pathString\",\"level\",\"name\",'Lineage', 'DAge','tAge',\n",
    "                                         Gene.OF = function(node) paste0(node$Gene.OF, collapse = ''))\n",
    "    cell.tree.Leaf <- cell.tree.dfLeaf[,c(\"Lineage\",\"name\",\"Gene.OF\")]\n",
    "    outfile.cell.tree.leaves <- paste0(outfilePrefix, \"cell.tree.leaves\")\n",
    "    write.table(cell.tree.Leaf, outfile.cell.tree.leaves,sep = \"\\t\", row.names = FALSE, quote = FALSE)\n",
    "    #remove the last newline symbol in outfile.cell.tree.leaves\n",
    "    txt <- readChar(outfile.cell.tree.leaves,file.info(outfile.cell.tree.leaves)$size,useByte = TRUE)\n",
    "    txt <- gsub(\"\\r\",\"\",txt)\n",
    "    if (substr(txt,nchar(txt),nchar(txt)) == \"\\n\")\n",
    "        cat(substr(txt,1,nchar(txt)-1), file = outfile.cell.tree.leaves)\n",
    "    if (!silent) print(paste0(\"write the leaves file for HSA to \", outfile.cell.tree.leaves))\n",
    "    \n",
    "    outfile.cell.tree.score <- paste0(outfilePrefix, \"cell.tree.score\")\n",
    "    gene.OF <- cell.tree.dfLeaf$Gene.OF\n",
    "    if (length(unique(gene.OF)) > 2)\n",
    "        gene.OF.pairs <- combn(unique(gene.OF),2)\n",
    "    else\n",
    "        gene.OF.pairs <- NULL\n",
    "    dfscore <- data.frame(S=c(unique(gene.OF),gene.OF.pairs[1,]), T=c(unique(gene.OF),gene.OF.pairs[2,]))\n",
    "    if (score == \"common\")\n",
    "        dfscore$Score <- apply(dfscore,1,function(x) sum(unlist(strsplit(x[\"S\"],\"\")) == unlist(strsplit(x[\"T\"],\"\"))))\n",
    "    else if (score == \"same\")\n",
    "        dfscore$Score <- (dfscore$S == dfscore$T)*2\n",
    "    else if (score == \"norm\"){\n",
    "        dfscore$Score <- apply(dfscore,1,function(x) sum(unlist(strsplit(x[\"S\"],\"\")) == unlist(strsplit(x[\"T\"],\"\"))))\n",
    "        dfscore$Score <- round((dfscore$Score - mean(dfscore$Score))/sd(dfscore$Score)) + 1\n",
    "    } else if (!silent) print(\"invalid value for score, score can be same, common or norm\")\n",
    "        \n",
    "    write.table(dfscore, outfile.cell.tree.score, sep = \"\\t\", row.names = FALSE, col.names = FALSE, quote = FALSE)\n",
    "    if (!silent) print(paste0(\"write the score file to \", outfile.cell.tree.score))\n",
    "    \n",
    "    if (!is.null(network)) {\n",
    "        outfile.network  <- paste0(outfilePrefix, \"cell.tree.network\")\n",
    "        write.table(network, outfile.network, sep = \"\\t\", row.names = FALSE, col.names = FALSE, quote = FALSE)\n",
    "        print(paste0(\"write the interaction network to file \", outfile.network))\n",
    "    }\n",
    "    else if (!silent) print(\"You need to provide Network in order to save it!\")\n",
    "}"
   ]
  },
  {
   "cell_type": "markdown",
   "metadata": {},
   "source": [
    "### 2.9 generate a tree with a, N, K, Dmax and tmax\n",
    "\n",
    "Given a Dmax and tmax, return list with **gene.init, gene.network, cell.tree**.\n",
    "\n",
    "Use generate the randome gene interacton network and initial gene expression status"
   ]
  },
  {
   "cell_type": "code",
   "execution_count": 11,
   "metadata": {},
   "outputs": [],
   "source": [
    "F.generateRandTree <- function(a, N, K, Dmax, tmax, digits = 3){\n",
    "    gene.init  <- F.randInit(N)\n",
    "    gene.network <- F.randNetwork(N, K, digits = digits)\n",
    "    cell.tree <- F.develop(gene.init, gene.network, tmax = tmax, Dmax = Dmax, a = a)\n",
    "    return(list(gene.init = gene.init, gene.network = gene.network, cell.tree = cell.tree))\n",
    "}"
   ]
  },
  {
   "cell_type": "markdown",
   "metadata": {},
   "source": [
    "### 2.10 count cell types based on gene.OF for a cell.tree"
   ]
  },
  {
   "cell_type": "code",
   "execution_count": 12,
   "metadata": {},
   "outputs": [],
   "source": [
    "F.treeCellType <- function(tree1){\n",
    "    gene.OF <- lapply(tree1$leaves, function(node) paste0(node$Gene.OF,collapse = \"\"))\n",
    "    return(length(unique(unlist(gene.OF))))\n",
    "}"
   ]
  },
  {
   "cell_type": "markdown",
   "metadata": {},
   "source": [
    "### 2.11 helper function to filter the generated trees\n",
    "\n",
    "the same as function F.generateRandTree.  \n",
    "return normal result if leafTypeCount >= leafTypeMin and leafCount >= leafCountMin.  \n",
    "add the field \"leafCount\" and \"leafTypeCount\".  \n",
    "else, try again (total trying times <= tryMax), until leafTypeCount >= leafTypeMin and leafCout >= leafCountMin.   \n",
    "else, return NULL"
   ]
  },
  {
   "cell_type": "code",
   "execution_count": 13,
   "metadata": {},
   "outputs": [],
   "source": [
    "F.generateRandTreeWithFilter  <- function(a, N, K, Dmax, tmax, digits = 3, \n",
    "                                          leafTypeMin = 6, leafCountMin = 500, tryMax = 100){\n",
    "    for (i in 1:tryMax){\n",
    "        celltree <- F.generateRandTree(a = a, N = N, K=K, Dmax = Dmax, tmax = tmax, digits = digits)\n",
    "        leafTypeCount <- F.treeCellType(celltree[[\"cell.tree\"]])\n",
    "        leafCount <- celltree[[\"cell.tree\"]]$leafCount\n",
    "        celltree$leafTypeCount <- leafTypeCount\n",
    "        celltree$leafCount <- leafCount\n",
    "        if (leafCount >= leafCountMin && leafTypeCount >= leafTypeMin){\n",
    "            return(celltree)\n",
    "        }\n",
    "    }\n",
    "    print(paste0(\"tried \", tryMax, \" times. Still No good. return NULL\"))\n",
    "    return(NULL)\n",
    "}"
   ]
  },
  {
   "cell_type": "markdown",
   "metadata": {},
   "source": [
    "## 3 Generate Some Random Tree"
   ]
  },
  {
   "cell_type": "markdown",
   "metadata": {},
   "source": [
    "### 3.1 set up some costant values\n",
    "* N: number of genes\n",
    "* K: average in-degree, which means average interations per gene.\n",
    "* Dmax: max rounds of cell division\n",
    "* a: activation constant\n",
    "* tmax: critical period of time used to establish whether a cell divides or differentiates"
   ]
  },
  {
   "cell_type": "code",
   "execution_count": 14,
   "metadata": {},
   "outputs": [],
   "source": [
    "N = 8\n",
    "K = 4\n",
    "Dmax = 10\n",
    "tmax = 50\n",
    "a = 100"
   ]
  },
  {
   "cell_type": "markdown",
   "metadata": {},
   "source": [
    "### 3.2 test some function"
   ]
  },
  {
   "cell_type": "code",
   "execution_count": 15,
   "metadata": {},
   "outputs": [],
   "source": [
    "gene.init <-  F.randInit(N)\n",
    "gene.network <- F.randNetwork(N,K)\n",
    "gene.OF <- F.geneOF(gene.init)\n",
    "cell.tree  <- Node$new(name = \"Root\", DAge = 0, tAge = 0, Lineage=\"1\", Gene.level = gene.init, Gene.OF = gene.OF)"
   ]
  },
  {
   "cell_type": "code",
   "execution_count": 16,
   "metadata": {},
   "outputs": [
    {
     "name": "stdout",
     "output_type": "stream",
     "text": [
      "  levelName\n",
      "1      Root\n"
     ]
    }
   ],
   "source": [
    "for (cell.leaf in cell.tree$leaves) print(cell.leaf)"
   ]
  },
  {
   "cell_type": "code",
   "execution_count": 17,
   "metadata": {},
   "outputs": [
    {
     "data": {
      "text/html": [
       "<table>\n",
       "<tbody>\n",
       "\t<tr><td> 0.00000000</td><td> 0.0000000 </td><td> 0.0000000 </td><td> 0.8917625 </td><td> 0.0000000 </td><td> 1.0174357 </td><td> 0.0000000 </td><td> 0.6494368 </td></tr>\n",
       "\t<tr><td> 0.04480187</td><td> 0.0000000 </td><td>-1.0098219 </td><td> 0.0000000 </td><td> 0.0000000 </td><td>-2.3199466 </td><td>-0.9720589 </td><td>-0.9549004 </td></tr>\n",
       "\t<tr><td> 0.24456846</td><td>-0.3115775 </td><td> 0.0000000 </td><td> 0.0000000 </td><td> 0.4811441 </td><td> 0.2665925 </td><td>-1.7982222 </td><td> 1.1876660 </td></tr>\n",
       "\t<tr><td> 0.00000000</td><td> 0.0000000 </td><td>-0.8959341 </td><td> 0.0000000 </td><td>-0.1488505 </td><td> 0.0000000 </td><td> 0.8352583 </td><td> 0.0725490 </td></tr>\n",
       "\t<tr><td> 0.00000000</td><td>-0.2324945 </td><td> 0.0000000 </td><td> 0.6832605 </td><td> 1.7713631 </td><td> 0.0000000 </td><td> 0.0000000 </td><td> 0.0000000 </td></tr>\n",
       "\t<tr><td> 1.31849469</td><td> 0.0000000 </td><td> 0.0000000 </td><td>-0.1198157 </td><td> 0.0000000 </td><td> 0.0000000 </td><td>-0.5639483 </td><td> 0.0000000 </td></tr>\n",
       "\t<tr><td> 0.00000000</td><td> 0.1194369 </td><td> 0.0000000 </td><td> 0.0000000 </td><td> 0.8459341 </td><td> 1.4208838 </td><td> 0.0000000 </td><td> 1.1542790 </td></tr>\n",
       "\t<tr><td>-0.25583649</td><td>-0.3744088 </td><td> 0.3047077 </td><td> 0.0000000 </td><td>-0.2998501 </td><td> 0.0000000 </td><td> 0.0000000 </td><td> 0.0000000 </td></tr>\n",
       "</tbody>\n",
       "</table>\n"
      ],
      "text/latex": [
       "\\begin{tabular}{llllllll}\n",
       "\t  0.00000000 &  0.0000000  &  0.0000000  &  0.8917625  &  0.0000000  &  1.0174357  &  0.0000000  &  0.6494368 \\\\\n",
       "\t  0.04480187 &  0.0000000  & -1.0098219  &  0.0000000  &  0.0000000  & -2.3199466  & -0.9720589  & -0.9549004 \\\\\n",
       "\t  0.24456846 & -0.3115775  &  0.0000000  &  0.0000000  &  0.4811441  &  0.2665925  & -1.7982222  &  1.1876660 \\\\\n",
       "\t  0.00000000 &  0.0000000  & -0.8959341  &  0.0000000  & -0.1488505  &  0.0000000  &  0.8352583  &  0.0725490 \\\\\n",
       "\t  0.00000000 & -0.2324945  &  0.0000000  &  0.6832605  &  1.7713631  &  0.0000000  &  0.0000000  &  0.0000000 \\\\\n",
       "\t  1.31849469 &  0.0000000  &  0.0000000  & -0.1198157  &  0.0000000  &  0.0000000  & -0.5639483  &  0.0000000 \\\\\n",
       "\t  0.00000000 &  0.1194369  &  0.0000000  &  0.0000000  &  0.8459341  &  1.4208838  &  0.0000000  &  1.1542790 \\\\\n",
       "\t -0.25583649 & -0.3744088  &  0.3047077  &  0.0000000  & -0.2998501  &  0.0000000  &  0.0000000  &  0.0000000 \\\\\n",
       "\\end{tabular}\n"
      ],
      "text/markdown": [
       "\n",
       "|  0.00000000 |  0.0000000  |  0.0000000  |  0.8917625  |  0.0000000  |  1.0174357  |  0.0000000  |  0.6494368  | \n",
       "|  0.04480187 |  0.0000000  | -1.0098219  |  0.0000000  |  0.0000000  | -2.3199466  | -0.9720589  | -0.9549004  | \n",
       "|  0.24456846 | -0.3115775  |  0.0000000  |  0.0000000  |  0.4811441  |  0.2665925  | -1.7982222  |  1.1876660  | \n",
       "|  0.00000000 |  0.0000000  | -0.8959341  |  0.0000000  | -0.1488505  |  0.0000000  |  0.8352583  |  0.0725490  | \n",
       "|  0.00000000 | -0.2324945  |  0.0000000  |  0.6832605  |  1.7713631  |  0.0000000  |  0.0000000  |  0.0000000  | \n",
       "|  1.31849469 |  0.0000000  |  0.0000000  | -0.1198157  |  0.0000000  |  0.0000000  | -0.5639483  |  0.0000000  | \n",
       "|  0.00000000 |  0.1194369  |  0.0000000  |  0.0000000  |  0.8459341  |  1.4208838  |  0.0000000  |  1.1542790  | \n",
       "| -0.25583649 | -0.3744088  |  0.3047077  |  0.0000000  | -0.2998501  |  0.0000000  |  0.0000000  |  0.0000000  | \n",
       "\n",
       "\n"
      ],
      "text/plain": [
       "     [,1]        [,2]       [,3]       [,4]       [,5]       [,6]      \n",
       "[1,]  0.00000000  0.0000000  0.0000000  0.8917625  0.0000000  1.0174357\n",
       "[2,]  0.04480187  0.0000000 -1.0098219  0.0000000  0.0000000 -2.3199466\n",
       "[3,]  0.24456846 -0.3115775  0.0000000  0.0000000  0.4811441  0.2665925\n",
       "[4,]  0.00000000  0.0000000 -0.8959341  0.0000000 -0.1488505  0.0000000\n",
       "[5,]  0.00000000 -0.2324945  0.0000000  0.6832605  1.7713631  0.0000000\n",
       "[6,]  1.31849469  0.0000000  0.0000000 -0.1198157  0.0000000  0.0000000\n",
       "[7,]  0.00000000  0.1194369  0.0000000  0.0000000  0.8459341  1.4208838\n",
       "[8,] -0.25583649 -0.3744088  0.3047077  0.0000000 -0.2998501  0.0000000\n",
       "     [,7]       [,8]      \n",
       "[1,]  0.0000000  0.6494368\n",
       "[2,] -0.9720589 -0.9549004\n",
       "[3,] -1.7982222  1.1876660\n",
       "[4,]  0.8352583  0.0725490\n",
       "[5,]  0.0000000  0.0000000\n",
       "[6,] -0.5639483  0.0000000\n",
       "[7,]  0.0000000  1.1542790\n",
       "[8,]  0.0000000  0.0000000"
      ]
     },
     "metadata": {},
     "output_type": "display_data"
    }
   ],
   "source": [
    "gene.network"
   ]
  },
  {
   "cell_type": "code",
   "execution_count": 18,
   "metadata": {},
   "outputs": [
    {
     "data": {
      "text/html": [
       "<ol class=list-inline>\n",
       "\t<li>-1</li>\n",
       "\t<li>-1</li>\n",
       "\t<li>1</li>\n",
       "\t<li>-1</li>\n",
       "\t<li>-1</li>\n",
       "\t<li>1</li>\n",
       "\t<li>1</li>\n",
       "\t<li>1</li>\n",
       "</ol>\n"
      ],
      "text/latex": [
       "\\begin{enumerate*}\n",
       "\\item -1\n",
       "\\item -1\n",
       "\\item 1\n",
       "\\item -1\n",
       "\\item -1\n",
       "\\item 1\n",
       "\\item 1\n",
       "\\item 1\n",
       "\\end{enumerate*}\n"
      ],
      "text/markdown": [
       "1. -1\n",
       "2. -1\n",
       "3. 1\n",
       "4. -1\n",
       "5. -1\n",
       "6. 1\n",
       "7. 1\n",
       "8. 1\n",
       "\n",
       "\n"
      ],
      "text/plain": [
       "[1] -1 -1  1 -1 -1  1  1  1"
      ]
     },
     "metadata": {},
     "output_type": "display_data"
    }
   ],
   "source": [
    "gene.init"
   ]
  },
  {
   "cell_type": "markdown",
   "metadata": {},
   "source": [
    "### 3.3 generate one Randome Tree and view"
   ]
  },
  {
   "cell_type": "code",
   "execution_count": 19,
   "metadata": {
    "scrolled": false
   },
   "outputs": [
    {
     "name": "stdout",
     "output_type": "stream",
     "text": [
      "           levelName Lineage DAge tAge  Gene.OF\n",
      "1  Root                         0    1 10010011\n",
      "2   |--L                   0    1    4 11000110\n",
      "3   |   |--L              00    2    7 10011011\n",
      "4   |   |   |--L         000    3    8 11000110\n",
      "5   |   |   |   |--L    0000    4   10 01101100\n",
      "6   |   |   |   °--R    0001    4   10 11000110\n",
      "7   |   |   °--R         001    3    8 11000110\n",
      "8   |   |       |--L    0010    4   10 01101100\n",
      "9   |   |       °--R    0011    4   10 11000110\n",
      "10  |   °--R              01    2    6 11000110\n",
      "11  |       |--L         010    3    9 10011011\n",
      "12  |       |   |--L    0100    4   10 11000110\n",
      "13  |       |   °--R    0101    4   10 11000110\n",
      "14  |       °--R         011    3    8 11000110\n",
      "15  |           |--L    0110    4   10 01101100\n",
      "16  |           °--R    0111    4   10 11000110\n",
      "17  °--R                   1    1    4 11000110\n",
      "18      |--L              10    2    7 10011011\n",
      "19      |   |--L         100    3    8 11000110\n",
      "20      |   |   |--L    1000    4   10 01101100\n",
      "21      |   |   °--R    1001    4   10 11000110\n",
      "22      |   °--R         101    3    8 11000110\n",
      "23      |       |--L    1010    4   10 01101100\n",
      "24      |       °--R    1011    4   10 11000110\n",
      "25      °--R              11    2    6 11000110\n",
      "26          |--L         110    3    9 10011011\n",
      "27          |   |--L    1100    4   10 11000110\n",
      "28          |   °--R    1101    4   10 11000110\n",
      "29          °--R         111    3    8 11000110\n",
      "30              |--L    1110    4   10 01101100\n",
      "31              °--R    1111    4   10 11000110\n"
     ]
    },
    {
     "data": {
      "text/html": [
       "16"
      ],
      "text/latex": [
       "16"
      ],
      "text/markdown": [
       "16"
      ],
      "text/plain": [
       "[1] 16"
      ]
     },
     "metadata": {},
     "output_type": "display_data"
    }
   ],
   "source": [
    "gene.init <-  F.randInit(N)\n",
    "gene.network <- F.randNetwork(N,K)\n",
    "tree1 <- F.develop(gene.init = gene.init, gene.network = gene.network,tmax = 10, Dmax = 5)\n",
    "print(tree1,\"Lineage\",\"DAge\",\"tAge\",Gene.OF = function(node) paste0(node$Gene.OF, collapse = ''))\n",
    "tree1$leafCount"
   ]
  },
  {
   "cell_type": "markdown",
   "metadata": {},
   "source": [
    "### 3.4 test the function of ToDataFrameTree"
   ]
  },
  {
   "cell_type": "code",
   "execution_count": 20,
   "metadata": {},
   "outputs": [
    {
     "data": {
      "text/html": [
       "<table>\n",
       "<thead><tr><th scope=col>levelName</th><th scope=col>pathString</th><th scope=col>level</th><th scope=col>name</th><th scope=col>Lineage</th><th scope=col>DAge</th><th scope=col>tAge</th><th scope=col>Gene.OF</th><th scope=col>Gene.level</th><th scope=col>isLeaf</th></tr></thead>\n",
       "<tbody>\n",
       "\t<tr><td>Root                               </td><td>Root                               </td><td>1                                  </td><td>Root                               </td><td>                                   </td><td>0                                  </td><td> 1                                 </td><td>10010011                           </td><td>1;-1;-1;1;-1;-1;1;1                </td><td>FALSE                              </td></tr>\n",
       "\t<tr><td> |--L                              </td><td>Root/L                             </td><td>2                                  </td><td>L                                  </td><td>0                                  </td><td>1                                  </td><td> 4                                 </td><td>11000110                           </td><td>1;1;-1;-1;-1;1;1;-1                </td><td>FALSE                              </td></tr>\n",
       "\t<tr><td> |   |--L                          </td><td>Root/L/L                           </td><td>3                                  </td><td>L                                  </td><td>00                                 </td><td>2                                  </td><td> 7                                 </td><td>10011011                           </td><td>1;-1;-1;1;1;-1;1;1                 </td><td>FALSE                              </td></tr>\n",
       "\t<tr><td> |   |   |--L                      </td><td>Root/L/L/L                         </td><td>4                                  </td><td>L                                  </td><td>000                                </td><td>3                                  </td><td> 8                                 </td><td>11000110                           </td><td>1;1;-1;-1;-1;1;1;-1                </td><td>FALSE                              </td></tr>\n",
       "\t<tr><td> |   |   |   |--L                  </td><td>Root/L/L/L/L                       </td><td>5                                  </td><td>L                                  </td><td>0000                               </td><td>4                                  </td><td>10                                 </td><td>01101100                           </td><td>-1;1;1;-1;1;1;-1;-1                </td><td> TRUE                              </td></tr>\n",
       "\t<tr><td> |   |   |   °--R                  </td><td>Root/L/L/L/R                       </td><td>5                                  </td><td>R                                  </td><td>0001                               </td><td>4                                  </td><td>10                                 </td><td>11000110                           </td><td>1;1;-1;-1;-1;1;1;-0.999999999718006</td><td> TRUE                              </td></tr>\n",
       "\t<tr><td> |   |   °--R                      </td><td>Root/L/L/R                         </td><td>4                                  </td><td>R                                  </td><td>001                                </td><td>3                                  </td><td> 8                                 </td><td>11000110                           </td><td>1;1;-1;-1;-1;1;1;-1                </td><td>FALSE                              </td></tr>\n",
       "\t<tr><td> |   |       |--L                  </td><td>Root/L/L/R/L                       </td><td>5                                  </td><td>L                                  </td><td>0010                               </td><td>4                                  </td><td>10                                 </td><td>01101100                           </td><td>-1;1;1;-1;1;1;-1;-1                </td><td> TRUE                              </td></tr>\n",
       "\t<tr><td> |   |       °--R                  </td><td>Root/L/L/R/R                       </td><td>5                                  </td><td>R                                  </td><td>0011                               </td><td>4                                  </td><td>10                                 </td><td>11000110                           </td><td>1;1;-1;-1;-1;1;1;-0.999999999718006</td><td> TRUE                              </td></tr>\n",
       "\t<tr><td> |   °--R                          </td><td>Root/L/R                           </td><td>3                                  </td><td>R                                  </td><td>01                                 </td><td>2                                  </td><td> 6                                 </td><td>11000110                           </td><td>1;1;-1;-1;-1;1;1;-0.999999999718006</td><td>FALSE                              </td></tr>\n",
       "\t<tr><td> |       |--L                      </td><td>Root/L/R/L                         </td><td>4                                  </td><td>L                                  </td><td>010                                </td><td>3                                  </td><td> 9                                 </td><td>10011011                           </td><td>1;-1;-1;1;1;-1;1;1                 </td><td>FALSE                              </td></tr>\n",
       "\t<tr><td> |       |   |--L                  </td><td>Root/L/R/L/L                       </td><td>5                                  </td><td>L                                  </td><td>0100                               </td><td>4                                  </td><td>10                                 </td><td>11000110                           </td><td>1;1;-1;-1;-1;1;1;-1                </td><td> TRUE                              </td></tr>\n",
       "\t<tr><td> |       |   °--R                  </td><td>Root/L/R/L/R                       </td><td>5                                  </td><td>R                                  </td><td>0101                               </td><td>4                                  </td><td>10                                 </td><td>11000110                           </td><td>1;1;-1;-1;-1;1;1;-1                </td><td> TRUE                              </td></tr>\n",
       "\t<tr><td> |       °--R                      </td><td>Root/L/R/R                         </td><td>4                                  </td><td>R                                  </td><td>011                                </td><td>3                                  </td><td> 8                                 </td><td>11000110                           </td><td>1;1;-1;-1;-1;1;1;-0.999999999718006</td><td>FALSE                              </td></tr>\n",
       "\t<tr><td> |           |--L                  </td><td>Root/L/R/R/L                       </td><td>5                                  </td><td>L                                  </td><td>0110                               </td><td>4                                  </td><td>10                                 </td><td>01101100                           </td><td>-1;1;1;-1;1;1;-1;-1                </td><td> TRUE                              </td></tr>\n",
       "\t<tr><td> |           °--R                  </td><td>Root/L/R/R/R                       </td><td>5                                  </td><td>R                                  </td><td>0111                               </td><td>4                                  </td><td>10                                 </td><td>11000110                           </td><td>1;1;-1;-1;-1;1;1;-0.999999999718006</td><td> TRUE                              </td></tr>\n",
       "\t<tr><td> °--R                              </td><td>Root/R                             </td><td>2                                  </td><td>R                                  </td><td>1                                  </td><td>1                                  </td><td> 4                                 </td><td>11000110                           </td><td>1;1;-1;-1;-1;1;1;-1                </td><td>FALSE                              </td></tr>\n",
       "\t<tr><td>     |--L                          </td><td>Root/R/L                           </td><td>3                                  </td><td>L                                  </td><td>10                                 </td><td>2                                  </td><td> 7                                 </td><td>10011011                           </td><td>1;-1;-1;1;1;-1;1;1                 </td><td>FALSE                              </td></tr>\n",
       "\t<tr><td>     |   |--L                      </td><td>Root/R/L/L                         </td><td>4                                  </td><td>L                                  </td><td>100                                </td><td>3                                  </td><td> 8                                 </td><td>11000110                           </td><td>1;1;-1;-1;-1;1;1;-1                </td><td>FALSE                              </td></tr>\n",
       "\t<tr><td>     |   |   |--L                  </td><td>Root/R/L/L/L                       </td><td>5                                  </td><td>L                                  </td><td>1000                               </td><td>4                                  </td><td>10                                 </td><td>01101100                           </td><td>-1;1;1;-1;1;1;-1;-1                </td><td> TRUE                              </td></tr>\n",
       "\t<tr><td>     |   |   °--R                  </td><td>Root/R/L/L/R                       </td><td>5                                  </td><td>R                                  </td><td>1001                               </td><td>4                                  </td><td>10                                 </td><td>11000110                           </td><td>1;1;-1;-1;-1;1;1;-0.999999999718006</td><td> TRUE                              </td></tr>\n",
       "\t<tr><td>     |   °--R                      </td><td>Root/R/L/R                         </td><td>4                                  </td><td>R                                  </td><td>101                                </td><td>3                                  </td><td> 8                                 </td><td>11000110                           </td><td>1;1;-1;-1;-1;1;1;-1                </td><td>FALSE                              </td></tr>\n",
       "\t<tr><td>     |       |--L                  </td><td>Root/R/L/R/L                       </td><td>5                                  </td><td>L                                  </td><td>1010                               </td><td>4                                  </td><td>10                                 </td><td>01101100                           </td><td>-1;1;1;-1;1;1;-1;-1                </td><td> TRUE                              </td></tr>\n",
       "\t<tr><td>     |       °--R                  </td><td>Root/R/L/R/R                       </td><td>5                                  </td><td>R                                  </td><td>1011                               </td><td>4                                  </td><td>10                                 </td><td>11000110                           </td><td>1;1;-1;-1;-1;1;1;-0.999999999718006</td><td> TRUE                              </td></tr>\n",
       "\t<tr><td>     °--R                          </td><td>Root/R/R                           </td><td>3                                  </td><td>R                                  </td><td>11                                 </td><td>2                                  </td><td> 6                                 </td><td>11000110                           </td><td>1;1;-1;-1;-1;1;1;-0.999999999718006</td><td>FALSE                              </td></tr>\n",
       "\t<tr><td>         |--L                      </td><td>Root/R/R/L                         </td><td>4                                  </td><td>L                                  </td><td>110                                </td><td>3                                  </td><td> 9                                 </td><td>10011011                           </td><td>1;-1;-1;1;1;-1;1;1                 </td><td>FALSE                              </td></tr>\n",
       "\t<tr><td>         |   |--L                  </td><td>Root/R/R/L/L                       </td><td>5                                  </td><td>L                                  </td><td>1100                               </td><td>4                                  </td><td>10                                 </td><td>11000110                           </td><td>1;1;-1;-1;-1;1;1;-1                </td><td> TRUE                              </td></tr>\n",
       "\t<tr><td>         |   °--R                  </td><td>Root/R/R/L/R                       </td><td>5                                  </td><td>R                                  </td><td>1101                               </td><td>4                                  </td><td>10                                 </td><td>11000110                           </td><td>1;1;-1;-1;-1;1;1;-1                </td><td> TRUE                              </td></tr>\n",
       "\t<tr><td>         °--R                      </td><td>Root/R/R/R                         </td><td>4                                  </td><td>R                                  </td><td>111                                </td><td>3                                  </td><td> 8                                 </td><td>11000110                           </td><td>1;1;-1;-1;-1;1;1;-0.999999999718006</td><td>FALSE                              </td></tr>\n",
       "\t<tr><td>             |--L                  </td><td>Root/R/R/R/L                       </td><td>5                                  </td><td>L                                  </td><td>1110                               </td><td>4                                  </td><td>10                                 </td><td>01101100                           </td><td>-1;1;1;-1;1;1;-1;-1                </td><td> TRUE                              </td></tr>\n",
       "\t<tr><td>             °--R                  </td><td>Root/R/R/R/R                       </td><td>5                                  </td><td>R                                  </td><td>1111                               </td><td>4                                  </td><td>10                                 </td><td>11000110                           </td><td>1;1;-1;-1;-1;1;1;-0.999999999718006</td><td> TRUE                              </td></tr>\n",
       "</tbody>\n",
       "</table>\n"
      ],
      "text/latex": [
       "\\begin{tabular}{r|llllllllll}\n",
       " levelName & pathString & level & name & Lineage & DAge & tAge & Gene.OF & Gene.level & isLeaf\\\\\n",
       "\\hline\n",
       "\t Root                                & Root                                & 1                                   & Root                                &                                     & 0                                   &  1                                  & 10010011                            & 1;-1;-1;1;-1;-1;1;1                 & FALSE                              \\\\\n",
       "\t  \\textbar{}--L                     & Root/L                              & 2                                   & L                                   & 0                                   & 1                                   &  4                                  & 11000110                            & 1;1;-1;-1;-1;1;1;-1                 & FALSE                              \\\\\n",
       "\t  \\textbar{}   \\textbar{}--L         & Root/L/L                              & 3                                     & L                                     & 00                                    & 2                                     &  7                                    & 10011011                              & 1;-1;-1;1;1;-1;1;1                    & FALSE                                \\\\\n",
       "\t  \\textbar{}   \\textbar{}   \\textbar{}--L     & Root/L/L/L                                      & 4                                               & L                                               & 000                                             & 3                                               &  8                                              & 11000110                                        & 1;1;-1;-1;-1;1;1;-1                             & FALSE                                          \\\\\n",
       "\t  \\textbar{}   \\textbar{}   \\textbar{}   \\textbar{}--L & Root/L/L/L/L                                              & 5                                                         & L                                                         & 0000                                                      & 4                                                         & 10                                                        & 01101100                                                  & -1;1;1;-1;1;1;-1;-1                                       &  TRUE                                                    \\\\\n",
       "\t  \\textbar{}   \\textbar{}   \\textbar{}   °--R & Root/L/L/L/R                                    & 5                                               & R                                               & 0001                                            & 4                                               & 10                                              & 11000110                                        & 1;1;-1;-1;-1;1;1;-0.999999999718006             &  TRUE                                          \\\\\n",
       "\t  \\textbar{}   \\textbar{}   °--R     & Root/L/L/R                            & 4                                     & R                                     & 001                                   & 3                                     &  8                                    & 11000110                              & 1;1;-1;-1;-1;1;1;-1                   & FALSE                                \\\\\n",
       "\t  \\textbar{}   \\textbar{}       \\textbar{}--L & Root/L/L/R/L                                    & 5                                               & L                                               & 0010                                            & 4                                               & 10                                              & 01101100                                        & -1;1;1;-1;1;1;-1;-1                             &  TRUE                                          \\\\\n",
       "\t  \\textbar{}   \\textbar{}       °--R & Root/L/L/R/R                          & 5                                     & R                                     & 0011                                  & 4                                     & 10                                    & 11000110                              & 1;1;-1;-1;-1;1;1;-0.999999999718006   &  TRUE                                \\\\\n",
       "\t  \\textbar{}   °--R                 & Root/L/R                            & 3                                   & R                                   & 01                                  & 2                                   &  6                                  & 11000110                            & 1;1;-1;-1;-1;1;1;-0.999999999718006 & FALSE                              \\\\\n",
       "\t  \\textbar{}       \\textbar{}--L     & Root/L/R/L                            & 4                                     & L                                     & 010                                   & 3                                     &  9                                    & 10011011                              & 1;-1;-1;1;1;-1;1;1                    & FALSE                                \\\\\n",
       "\t  \\textbar{}       \\textbar{}   \\textbar{}--L & Root/L/R/L/L                                    & 5                                               & L                                               & 0100                                            & 4                                               & 10                                              & 11000110                                        & 1;1;-1;-1;-1;1;1;-1                             &  TRUE                                          \\\\\n",
       "\t  \\textbar{}       \\textbar{}   °--R & Root/L/R/L/R                          & 5                                     & R                                     & 0101                                  & 4                                     & 10                                    & 11000110                              & 1;1;-1;-1;-1;1;1;-1                   &  TRUE                                \\\\\n",
       "\t  \\textbar{}       °--R             & Root/L/R/R                          & 4                                   & R                                   & 011                                 & 3                                   &  8                                  & 11000110                            & 1;1;-1;-1;-1;1;1;-0.999999999718006 & FALSE                              \\\\\n",
       "\t  \\textbar{}           \\textbar{}--L & Root/L/R/R/L                          & 5                                     & L                                     & 0110                                  & 4                                     & 10                                    & 01101100                              & -1;1;1;-1;1;1;-1;-1                   &  TRUE                                \\\\\n",
       "\t  \\textbar{}           °--R         & Root/L/R/R/R                        & 5                                   & R                                   & 0111                                & 4                                   & 10                                  & 11000110                            & 1;1;-1;-1;-1;1;1;-0.999999999718006 &  TRUE                              \\\\\n",
       "\t  °--R                               & Root/R                              & 2                                   & R                                   & 1                                   & 1                                   &  4                                  & 11000110                            & 1;1;-1;-1;-1;1;1;-1                 & FALSE                              \\\\\n",
       "\t      \\textbar{}--L                 & Root/R/L                            & 3                                   & L                                   & 10                                  & 2                                   &  7                                  & 10011011                            & 1;-1;-1;1;1;-1;1;1                  & FALSE                              \\\\\n",
       "\t      \\textbar{}   \\textbar{}--L     & Root/R/L/L                            & 4                                     & L                                     & 100                                   & 3                                     &  8                                    & 11000110                              & 1;1;-1;-1;-1;1;1;-1                   & FALSE                                \\\\\n",
       "\t      \\textbar{}   \\textbar{}   \\textbar{}--L & Root/R/L/L/L                                    & 5                                               & L                                               & 1000                                            & 4                                               & 10                                              & 01101100                                        & -1;1;1;-1;1;1;-1;-1                             &  TRUE                                          \\\\\n",
       "\t      \\textbar{}   \\textbar{}   °--R & Root/R/L/L/R                          & 5                                     & R                                     & 1001                                  & 4                                     & 10                                    & 11000110                              & 1;1;-1;-1;-1;1;1;-0.999999999718006   &  TRUE                                \\\\\n",
       "\t      \\textbar{}   °--R             & Root/R/L/R                          & 4                                   & R                                   & 101                                 & 3                                   &  8                                  & 11000110                            & 1;1;-1;-1;-1;1;1;-1                 & FALSE                              \\\\\n",
       "\t      \\textbar{}       \\textbar{}--L & Root/R/L/R/L                          & 5                                     & L                                     & 1010                                  & 4                                     & 10                                    & 01101100                              & -1;1;1;-1;1;1;-1;-1                   &  TRUE                                \\\\\n",
       "\t      \\textbar{}       °--R         & Root/R/L/R/R                        & 5                                   & R                                   & 1011                                & 4                                   & 10                                  & 11000110                            & 1;1;-1;-1;-1;1;1;-0.999999999718006 &  TRUE                              \\\\\n",
       "\t      °--R                           & Root/R/R                            & 3                                   & R                                   & 11                                  & 2                                   &  6                                  & 11000110                            & 1;1;-1;-1;-1;1;1;-0.999999999718006 & FALSE                              \\\\\n",
       "\t          \\textbar{}--L             & Root/R/R/L                          & 4                                   & L                                   & 110                                 & 3                                   &  9                                  & 10011011                            & 1;-1;-1;1;1;-1;1;1                  & FALSE                              \\\\\n",
       "\t          \\textbar{}   \\textbar{}--L & Root/R/R/L/L                          & 5                                     & L                                     & 1100                                  & 4                                     & 10                                    & 11000110                              & 1;1;-1;-1;-1;1;1;-1                   &  TRUE                                \\\\\n",
       "\t          \\textbar{}   °--R         & Root/R/R/L/R                        & 5                                   & R                                   & 1101                                & 4                                   & 10                                  & 11000110                            & 1;1;-1;-1;-1;1;1;-1                 &  TRUE                              \\\\\n",
       "\t          °--R                       & Root/R/R/R                          & 4                                   & R                                   & 111                                 & 3                                   &  8                                  & 11000110                            & 1;1;-1;-1;-1;1;1;-0.999999999718006 & FALSE                              \\\\\n",
       "\t              \\textbar{}--L         & Root/R/R/R/L                        & 5                                   & L                                   & 1110                                & 4                                   & 10                                  & 01101100                            & -1;1;1;-1;1;1;-1;-1                 &  TRUE                              \\\\\n",
       "\t              °--R                   & Root/R/R/R/R                        & 5                                   & R                                   & 1111                                & 4                                   & 10                                  & 11000110                            & 1;1;-1;-1;-1;1;1;-0.999999999718006 &  TRUE                              \\\\\n",
       "\\end{tabular}\n"
      ],
      "text/markdown": [
       "\n",
       "levelName | pathString | level | name | Lineage | DAge | tAge | Gene.OF | Gene.level | isLeaf | \n",
       "|---|---|---|---|---|---|---|---|---|---|---|---|---|---|---|---|---|---|---|---|---|---|---|---|---|---|---|---|---|---|---|\n",
       "| Root                                | Root                                | 1                                   | Root                                |                                     | 0                                   |  1                                  | 10010011                            | 1;-1;-1;1;-1;-1;1;1                 | FALSE                               | \n",
       "|  |--L                               | Root/L                              | 2                                   | L                                   | 0                                   | 1                                   |  4                                  | 11000110                            | 1;1;-1;-1;-1;1;1;-1                 | FALSE                               | \n",
       "|  |   |--L                           | Root/L/L                            | 3                                   | L                                   | 00                                  | 2                                   |  7                                  | 10011011                            | 1;-1;-1;1;1;-1;1;1                  | FALSE                               | \n",
       "|  |   |   |--L                       | Root/L/L/L                          | 4                                   | L                                   | 000                                 | 3                                   |  8                                  | 11000110                            | 1;1;-1;-1;-1;1;1;-1                 | FALSE                               | \n",
       "|  |   |   |   |--L                   | Root/L/L/L/L                        | 5                                   | L                                   | 0000                                | 4                                   | 10                                  | 01101100                            | -1;1;1;-1;1;1;-1;-1                 |  TRUE                               | \n",
       "|  |   |   |   °--R                   | Root/L/L/L/R                        | 5                                   | R                                   | 0001                                | 4                                   | 10                                  | 11000110                            | 1;1;-1;-1;-1;1;1;-0.999999999718006 |  TRUE                               | \n",
       "|  |   |   °--R                       | Root/L/L/R                          | 4                                   | R                                   | 001                                 | 3                                   |  8                                  | 11000110                            | 1;1;-1;-1;-1;1;1;-1                 | FALSE                               | \n",
       "|  |   |       |--L                   | Root/L/L/R/L                        | 5                                   | L                                   | 0010                                | 4                                   | 10                                  | 01101100                            | -1;1;1;-1;1;1;-1;-1                 |  TRUE                               | \n",
       "|  |   |       °--R                   | Root/L/L/R/R                        | 5                                   | R                                   | 0011                                | 4                                   | 10                                  | 11000110                            | 1;1;-1;-1;-1;1;1;-0.999999999718006 |  TRUE                               | \n",
       "|  |   °--R                           | Root/L/R                            | 3                                   | R                                   | 01                                  | 2                                   |  6                                  | 11000110                            | 1;1;-1;-1;-1;1;1;-0.999999999718006 | FALSE                               | \n",
       "|  |       |--L                       | Root/L/R/L                          | 4                                   | L                                   | 010                                 | 3                                   |  9                                  | 10011011                            | 1;-1;-1;1;1;-1;1;1                  | FALSE                               | \n",
       "|  |       |   |--L                   | Root/L/R/L/L                        | 5                                   | L                                   | 0100                                | 4                                   | 10                                  | 11000110                            | 1;1;-1;-1;-1;1;1;-1                 |  TRUE                               | \n",
       "|  |       |   °--R                   | Root/L/R/L/R                        | 5                                   | R                                   | 0101                                | 4                                   | 10                                  | 11000110                            | 1;1;-1;-1;-1;1;1;-1                 |  TRUE                               | \n",
       "|  |       °--R                       | Root/L/R/R                          | 4                                   | R                                   | 011                                 | 3                                   |  8                                  | 11000110                            | 1;1;-1;-1;-1;1;1;-0.999999999718006 | FALSE                               | \n",
       "|  |           |--L                   | Root/L/R/R/L                        | 5                                   | L                                   | 0110                                | 4                                   | 10                                  | 01101100                            | -1;1;1;-1;1;1;-1;-1                 |  TRUE                               | \n",
       "|  |           °--R                   | Root/L/R/R/R                        | 5                                   | R                                   | 0111                                | 4                                   | 10                                  | 11000110                            | 1;1;-1;-1;-1;1;1;-0.999999999718006 |  TRUE                               | \n",
       "|  °--R                               | Root/R                              | 2                                   | R                                   | 1                                   | 1                                   |  4                                  | 11000110                            | 1;1;-1;-1;-1;1;1;-1                 | FALSE                               | \n",
       "|      |--L                           | Root/R/L                            | 3                                   | L                                   | 10                                  | 2                                   |  7                                  | 10011011                            | 1;-1;-1;1;1;-1;1;1                  | FALSE                               | \n",
       "|      |   |--L                       | Root/R/L/L                          | 4                                   | L                                   | 100                                 | 3                                   |  8                                  | 11000110                            | 1;1;-1;-1;-1;1;1;-1                 | FALSE                               | \n",
       "|      |   |   |--L                   | Root/R/L/L/L                        | 5                                   | L                                   | 1000                                | 4                                   | 10                                  | 01101100                            | -1;1;1;-1;1;1;-1;-1                 |  TRUE                               | \n",
       "|      |   |   °--R                   | Root/R/L/L/R                        | 5                                   | R                                   | 1001                                | 4                                   | 10                                  | 11000110                            | 1;1;-1;-1;-1;1;1;-0.999999999718006 |  TRUE                               | \n",
       "|      |   °--R                       | Root/R/L/R                          | 4                                   | R                                   | 101                                 | 3                                   |  8                                  | 11000110                            | 1;1;-1;-1;-1;1;1;-1                 | FALSE                               | \n",
       "|      |       |--L                   | Root/R/L/R/L                        | 5                                   | L                                   | 1010                                | 4                                   | 10                                  | 01101100                            | -1;1;1;-1;1;1;-1;-1                 |  TRUE                               | \n",
       "|      |       °--R                   | Root/R/L/R/R                        | 5                                   | R                                   | 1011                                | 4                                   | 10                                  | 11000110                            | 1;1;-1;-1;-1;1;1;-0.999999999718006 |  TRUE                               | \n",
       "|      °--R                           | Root/R/R                            | 3                                   | R                                   | 11                                  | 2                                   |  6                                  | 11000110                            | 1;1;-1;-1;-1;1;1;-0.999999999718006 | FALSE                               | \n",
       "|          |--L                       | Root/R/R/L                          | 4                                   | L                                   | 110                                 | 3                                   |  9                                  | 10011011                            | 1;-1;-1;1;1;-1;1;1                  | FALSE                               | \n",
       "|          |   |--L                   | Root/R/R/L/L                        | 5                                   | L                                   | 1100                                | 4                                   | 10                                  | 11000110                            | 1;1;-1;-1;-1;1;1;-1                 |  TRUE                               | \n",
       "|          |   °--R                   | Root/R/R/L/R                        | 5                                   | R                                   | 1101                                | 4                                   | 10                                  | 11000110                            | 1;1;-1;-1;-1;1;1;-1                 |  TRUE                               | \n",
       "|          °--R                       | Root/R/R/R                          | 4                                   | R                                   | 111                                 | 3                                   |  8                                  | 11000110                            | 1;1;-1;-1;-1;1;1;-0.999999999718006 | FALSE                               | \n",
       "|              |--L                   | Root/R/R/R/L                        | 5                                   | L                                   | 1110                                | 4                                   | 10                                  | 01101100                            | -1;1;1;-1;1;1;-1;-1                 |  TRUE                               | \n",
       "|              °--R                   | Root/R/R/R/R                        | 5                                   | R                                   | 1111                                | 4                                   | 10                                  | 11000110                            | 1;1;-1;-1;-1;1;1;-0.999999999718006 |  TRUE                               | \n",
       "\n",
       "\n"
      ],
      "text/plain": [
       "   levelName         pathString   level name Lineage DAge tAge Gene.OF \n",
       "1  Root              Root         1     Root         0     1   10010011\n",
       "2   |--L             Root/L       2     L    0       1     4   11000110\n",
       "3   |   |--L         Root/L/L     3     L    00      2     7   10011011\n",
       "4   |   |   |--L     Root/L/L/L   4     L    000     3     8   11000110\n",
       "5   |   |   |   |--L Root/L/L/L/L 5     L    0000    4    10   01101100\n",
       "6   |   |   |   °--R Root/L/L/L/R 5     R    0001    4    10   11000110\n",
       "7   |   |   °--R     Root/L/L/R   4     R    001     3     8   11000110\n",
       "8   |   |       |--L Root/L/L/R/L 5     L    0010    4    10   01101100\n",
       "9   |   |       °--R Root/L/L/R/R 5     R    0011    4    10   11000110\n",
       "10  |   °--R         Root/L/R     3     R    01      2     6   11000110\n",
       "11  |       |--L     Root/L/R/L   4     L    010     3     9   10011011\n",
       "12  |       |   |--L Root/L/R/L/L 5     L    0100    4    10   11000110\n",
       "13  |       |   °--R Root/L/R/L/R 5     R    0101    4    10   11000110\n",
       "14  |       °--R     Root/L/R/R   4     R    011     3     8   11000110\n",
       "15  |           |--L Root/L/R/R/L 5     L    0110    4    10   01101100\n",
       "16  |           °--R Root/L/R/R/R 5     R    0111    4    10   11000110\n",
       "17  °--R             Root/R       2     R    1       1     4   11000110\n",
       "18      |--L         Root/R/L     3     L    10      2     7   10011011\n",
       "19      |   |--L     Root/R/L/L   4     L    100     3     8   11000110\n",
       "20      |   |   |--L Root/R/L/L/L 5     L    1000    4    10   01101100\n",
       "21      |   |   °--R Root/R/L/L/R 5     R    1001    4    10   11000110\n",
       "22      |   °--R     Root/R/L/R   4     R    101     3     8   11000110\n",
       "23      |       |--L Root/R/L/R/L 5     L    1010    4    10   01101100\n",
       "24      |       °--R Root/R/L/R/R 5     R    1011    4    10   11000110\n",
       "25      °--R         Root/R/R     3     R    11      2     6   11000110\n",
       "26          |--L     Root/R/R/L   4     L    110     3     9   10011011\n",
       "27          |   |--L Root/R/R/L/L 5     L    1100    4    10   11000110\n",
       "28          |   °--R Root/R/R/L/R 5     R    1101    4    10   11000110\n",
       "29          °--R     Root/R/R/R   4     R    111     3     8   11000110\n",
       "30              |--L Root/R/R/R/L 5     L    1110    4    10   01101100\n",
       "31              °--R Root/R/R/R/R 5     R    1111    4    10   11000110\n",
       "   Gene.level                          isLeaf\n",
       "1  1;-1;-1;1;-1;-1;1;1                 FALSE \n",
       "2  1;1;-1;-1;-1;1;1;-1                 FALSE \n",
       "3  1;-1;-1;1;1;-1;1;1                  FALSE \n",
       "4  1;1;-1;-1;-1;1;1;-1                 FALSE \n",
       "5  -1;1;1;-1;1;1;-1;-1                  TRUE \n",
       "6  1;1;-1;-1;-1;1;1;-0.999999999718006  TRUE \n",
       "7  1;1;-1;-1;-1;1;1;-1                 FALSE \n",
       "8  -1;1;1;-1;1;1;-1;-1                  TRUE \n",
       "9  1;1;-1;-1;-1;1;1;-0.999999999718006  TRUE \n",
       "10 1;1;-1;-1;-1;1;1;-0.999999999718006 FALSE \n",
       "11 1;-1;-1;1;1;-1;1;1                  FALSE \n",
       "12 1;1;-1;-1;-1;1;1;-1                  TRUE \n",
       "13 1;1;-1;-1;-1;1;1;-1                  TRUE \n",
       "14 1;1;-1;-1;-1;1;1;-0.999999999718006 FALSE \n",
       "15 -1;1;1;-1;1;1;-1;-1                  TRUE \n",
       "16 1;1;-1;-1;-1;1;1;-0.999999999718006  TRUE \n",
       "17 1;1;-1;-1;-1;1;1;-1                 FALSE \n",
       "18 1;-1;-1;1;1;-1;1;1                  FALSE \n",
       "19 1;1;-1;-1;-1;1;1;-1                 FALSE \n",
       "20 -1;1;1;-1;1;1;-1;-1                  TRUE \n",
       "21 1;1;-1;-1;-1;1;1;-0.999999999718006  TRUE \n",
       "22 1;1;-1;-1;-1;1;1;-1                 FALSE \n",
       "23 -1;1;1;-1;1;1;-1;-1                  TRUE \n",
       "24 1;1;-1;-1;-1;1;1;-0.999999999718006  TRUE \n",
       "25 1;1;-1;-1;-1;1;1;-0.999999999718006 FALSE \n",
       "26 1;-1;-1;1;1;-1;1;1                  FALSE \n",
       "27 1;1;-1;-1;-1;1;1;-1                  TRUE \n",
       "28 1;1;-1;-1;-1;1;1;-1                  TRUE \n",
       "29 1;1;-1;-1;-1;1;1;-0.999999999718006 FALSE \n",
       "30 -1;1;1;-1;1;1;-1;-1                  TRUE \n",
       "31 1;1;-1;-1;-1;1;1;-0.999999999718006  TRUE "
      ]
     },
     "metadata": {},
     "output_type": "display_data"
    }
   ],
   "source": [
    "ToDataFrameTree(tree1,\"pathString\",\"level\",\"name\",'Lineage', 'DAge','tAge',\n",
    "                 Gene.OF = function(node) paste0(node$Gene.OF, collapse = ''),\n",
    "                 Gene.level = function(node) paste0(node$Gene.level, collapse = ';'),\n",
    "                 isLeaf = function(node) node$isLeaf)"
   ]
  },
  {
   "cell_type": "code",
   "execution_count": 21,
   "metadata": {},
   "outputs": [],
   "source": [
    "tree1.df <- ToDataFrameTree(tree1,\"pathString\",\"level\",\"name\",'Lineage', 'DAge','tAge',\n",
    "                 Gene.OF = function(node) paste0(node$Gene.OF, collapse = ''),\n",
    "                 Gene.level = function(node) paste0(node$Gene.level, collapse = ';'),\n",
    "                 isLeaf = function(node) node$isLeaf)"
   ]
  },
  {
   "cell_type": "code",
   "execution_count": 22,
   "metadata": {
    "scrolled": true
   },
   "outputs": [
    {
     "data": {
      "text/html": [
       "'C:/Users/ATPs/Documents/GitHub/XCProject/YangLab'"
      ],
      "text/latex": [
       "'C:/Users/ATPs/Documents/GitHub/XCProject/YangLab'"
      ],
      "text/markdown": [
       "'C:/Users/ATPs/Documents/GitHub/XCProject/YangLab'"
      ],
      "text/plain": [
       "[1] \"C:/Users/ATPs/Documents/GitHub/XCProject/YangLab\""
      ]
     },
     "metadata": {},
     "output_type": "display_data"
    }
   ],
   "source": [
    "getwd()\n",
    "# write.table(tree1.df,\"test.cell.tree.all\",sep = \"\\t\",row.names = FALSE)"
   ]
  },
  {
   "cell_type": "markdown",
   "metadata": {},
   "source": [
    "### 3.5 test the function of ToDataFrameTable\n",
    "\n",
    "only the leaves were saved in this case"
   ]
  },
  {
   "cell_type": "code",
   "execution_count": 23,
   "metadata": {
    "scrolled": false
   },
   "outputs": [
    {
     "data": {
      "text/html": [
       "<table>\n",
       "<thead><tr><th scope=col>pathString</th><th scope=col>level</th><th scope=col>name</th><th scope=col>Lineage</th><th scope=col>DAge</th><th scope=col>tAge</th><th scope=col>Gene.OF</th></tr></thead>\n",
       "<tbody>\n",
       "\t<tr><td>Root/L/L/L/L</td><td>5           </td><td>L           </td><td>0000        </td><td>4           </td><td>10          </td><td>01101100    </td></tr>\n",
       "\t<tr><td>Root/L/L/L/R</td><td>5           </td><td>R           </td><td>0001        </td><td>4           </td><td>10          </td><td>11000110    </td></tr>\n",
       "\t<tr><td>Root/L/L/R/L</td><td>5           </td><td>L           </td><td>0010        </td><td>4           </td><td>10          </td><td>01101100    </td></tr>\n",
       "\t<tr><td>Root/L/L/R/R</td><td>5           </td><td>R           </td><td>0011        </td><td>4           </td><td>10          </td><td>11000110    </td></tr>\n",
       "\t<tr><td>Root/L/R/L/L</td><td>5           </td><td>L           </td><td>0100        </td><td>4           </td><td>10          </td><td>11000110    </td></tr>\n",
       "\t<tr><td>Root/L/R/L/R</td><td>5           </td><td>R           </td><td>0101        </td><td>4           </td><td>10          </td><td>11000110    </td></tr>\n",
       "\t<tr><td>Root/L/R/R/L</td><td>5           </td><td>L           </td><td>0110        </td><td>4           </td><td>10          </td><td>01101100    </td></tr>\n",
       "\t<tr><td>Root/L/R/R/R</td><td>5           </td><td>R           </td><td>0111        </td><td>4           </td><td>10          </td><td>11000110    </td></tr>\n",
       "\t<tr><td>Root/R/L/L/L</td><td>5           </td><td>L           </td><td>1000        </td><td>4           </td><td>10          </td><td>01101100    </td></tr>\n",
       "\t<tr><td>Root/R/L/L/R</td><td>5           </td><td>R           </td><td>1001        </td><td>4           </td><td>10          </td><td>11000110    </td></tr>\n",
       "\t<tr><td>Root/R/L/R/L</td><td>5           </td><td>L           </td><td>1010        </td><td>4           </td><td>10          </td><td>01101100    </td></tr>\n",
       "\t<tr><td>Root/R/L/R/R</td><td>5           </td><td>R           </td><td>1011        </td><td>4           </td><td>10          </td><td>11000110    </td></tr>\n",
       "\t<tr><td>Root/R/R/L/L</td><td>5           </td><td>L           </td><td>1100        </td><td>4           </td><td>10          </td><td>11000110    </td></tr>\n",
       "\t<tr><td>Root/R/R/L/R</td><td>5           </td><td>R           </td><td>1101        </td><td>4           </td><td>10          </td><td>11000110    </td></tr>\n",
       "\t<tr><td>Root/R/R/R/L</td><td>5           </td><td>L           </td><td>1110        </td><td>4           </td><td>10          </td><td>01101100    </td></tr>\n",
       "\t<tr><td>Root/R/R/R/R</td><td>5           </td><td>R           </td><td>1111        </td><td>4           </td><td>10          </td><td>11000110    </td></tr>\n",
       "</tbody>\n",
       "</table>\n"
      ],
      "text/latex": [
       "\\begin{tabular}{r|lllllll}\n",
       " pathString & level & name & Lineage & DAge & tAge & Gene.OF\\\\\n",
       "\\hline\n",
       "\t Root/L/L/L/L & 5            & L            & 0000         & 4            & 10           & 01101100    \\\\\n",
       "\t Root/L/L/L/R & 5            & R            & 0001         & 4            & 10           & 11000110    \\\\\n",
       "\t Root/L/L/R/L & 5            & L            & 0010         & 4            & 10           & 01101100    \\\\\n",
       "\t Root/L/L/R/R & 5            & R            & 0011         & 4            & 10           & 11000110    \\\\\n",
       "\t Root/L/R/L/L & 5            & L            & 0100         & 4            & 10           & 11000110    \\\\\n",
       "\t Root/L/R/L/R & 5            & R            & 0101         & 4            & 10           & 11000110    \\\\\n",
       "\t Root/L/R/R/L & 5            & L            & 0110         & 4            & 10           & 01101100    \\\\\n",
       "\t Root/L/R/R/R & 5            & R            & 0111         & 4            & 10           & 11000110    \\\\\n",
       "\t Root/R/L/L/L & 5            & L            & 1000         & 4            & 10           & 01101100    \\\\\n",
       "\t Root/R/L/L/R & 5            & R            & 1001         & 4            & 10           & 11000110    \\\\\n",
       "\t Root/R/L/R/L & 5            & L            & 1010         & 4            & 10           & 01101100    \\\\\n",
       "\t Root/R/L/R/R & 5            & R            & 1011         & 4            & 10           & 11000110    \\\\\n",
       "\t Root/R/R/L/L & 5            & L            & 1100         & 4            & 10           & 11000110    \\\\\n",
       "\t Root/R/R/L/R & 5            & R            & 1101         & 4            & 10           & 11000110    \\\\\n",
       "\t Root/R/R/R/L & 5            & L            & 1110         & 4            & 10           & 01101100    \\\\\n",
       "\t Root/R/R/R/R & 5            & R            & 1111         & 4            & 10           & 11000110    \\\\\n",
       "\\end{tabular}\n"
      ],
      "text/markdown": [
       "\n",
       "pathString | level | name | Lineage | DAge | tAge | Gene.OF | \n",
       "|---|---|---|---|---|---|---|---|---|---|---|---|---|---|---|---|\n",
       "| Root/L/L/L/L | 5            | L            | 0000         | 4            | 10           | 01101100     | \n",
       "| Root/L/L/L/R | 5            | R            | 0001         | 4            | 10           | 11000110     | \n",
       "| Root/L/L/R/L | 5            | L            | 0010         | 4            | 10           | 01101100     | \n",
       "| Root/L/L/R/R | 5            | R            | 0011         | 4            | 10           | 11000110     | \n",
       "| Root/L/R/L/L | 5            | L            | 0100         | 4            | 10           | 11000110     | \n",
       "| Root/L/R/L/R | 5            | R            | 0101         | 4            | 10           | 11000110     | \n",
       "| Root/L/R/R/L | 5            | L            | 0110         | 4            | 10           | 01101100     | \n",
       "| Root/L/R/R/R | 5            | R            | 0111         | 4            | 10           | 11000110     | \n",
       "| Root/R/L/L/L | 5            | L            | 1000         | 4            | 10           | 01101100     | \n",
       "| Root/R/L/L/R | 5            | R            | 1001         | 4            | 10           | 11000110     | \n",
       "| Root/R/L/R/L | 5            | L            | 1010         | 4            | 10           | 01101100     | \n",
       "| Root/R/L/R/R | 5            | R            | 1011         | 4            | 10           | 11000110     | \n",
       "| Root/R/R/L/L | 5            | L            | 1100         | 4            | 10           | 11000110     | \n",
       "| Root/R/R/L/R | 5            | R            | 1101         | 4            | 10           | 11000110     | \n",
       "| Root/R/R/R/L | 5            | L            | 1110         | 4            | 10           | 01101100     | \n",
       "| Root/R/R/R/R | 5            | R            | 1111         | 4            | 10           | 11000110     | \n",
       "\n",
       "\n"
      ],
      "text/plain": [
       "   pathString   level name Lineage DAge tAge Gene.OF \n",
       "1  Root/L/L/L/L 5     L    0000    4    10   01101100\n",
       "2  Root/L/L/L/R 5     R    0001    4    10   11000110\n",
       "3  Root/L/L/R/L 5     L    0010    4    10   01101100\n",
       "4  Root/L/L/R/R 5     R    0011    4    10   11000110\n",
       "5  Root/L/R/L/L 5     L    0100    4    10   11000110\n",
       "6  Root/L/R/L/R 5     R    0101    4    10   11000110\n",
       "7  Root/L/R/R/L 5     L    0110    4    10   01101100\n",
       "8  Root/L/R/R/R 5     R    0111    4    10   11000110\n",
       "9  Root/R/L/L/L 5     L    1000    4    10   01101100\n",
       "10 Root/R/L/L/R 5     R    1001    4    10   11000110\n",
       "11 Root/R/L/R/L 5     L    1010    4    10   01101100\n",
       "12 Root/R/L/R/R 5     R    1011    4    10   11000110\n",
       "13 Root/R/R/L/L 5     L    1100    4    10   11000110\n",
       "14 Root/R/R/L/R 5     R    1101    4    10   11000110\n",
       "15 Root/R/R/R/L 5     L    1110    4    10   01101100\n",
       "16 Root/R/R/R/R 5     R    1111    4    10   11000110"
      ]
     },
     "metadata": {},
     "output_type": "display_data"
    }
   ],
   "source": [
    "ToDataFrameTable(tree1,\"pathString\",\"level\",\"name\",'Lineage', 'DAge','tAge',\n",
    "                 Gene.OF = function(node) paste0(node$Gene.OF, collapse = ''))"
   ]
  },
  {
   "cell_type": "markdown",
   "metadata": {},
   "source": [
    "### 3.5 count cell types"
   ]
  },
  {
   "cell_type": "code",
   "execution_count": 24,
   "metadata": {},
   "outputs": [
    {
     "data": {
      "text/html": [
       "2"
      ],
      "text/latex": [
       "2"
      ],
      "text/markdown": [
       "2"
      ],
      "text/plain": [
       "[1] 2"
      ]
     },
     "metadata": {},
     "output_type": "display_data"
    }
   ],
   "source": [
    "F.treeCellType(tree1)"
   ]
  },
  {
   "cell_type": "markdown",
   "metadata": {},
   "source": [
    "### 3.6 generate a data.frame for HSA program"
   ]
  },
  {
   "cell_type": "code",
   "execution_count": 25,
   "metadata": {},
   "outputs": [
    {
     "data": {
      "text/html": [
       "<table>\n",
       "<thead><tr><th scope=col>Lineage</th><th scope=col>name</th><th scope=col>Gene.OF</th></tr></thead>\n",
       "<tbody>\n",
       "\t<tr><td>0000    </td><td>L       </td><td>01101100</td></tr>\n",
       "\t<tr><td>0001    </td><td>R       </td><td>11000110</td></tr>\n",
       "\t<tr><td>0010    </td><td>L       </td><td>01101100</td></tr>\n",
       "\t<tr><td>0011    </td><td>R       </td><td>11000110</td></tr>\n",
       "\t<tr><td>0100    </td><td>L       </td><td>11000110</td></tr>\n",
       "\t<tr><td>0101    </td><td>R       </td><td>11000110</td></tr>\n",
       "\t<tr><td>0110    </td><td>L       </td><td>01101100</td></tr>\n",
       "\t<tr><td>0111    </td><td>R       </td><td>11000110</td></tr>\n",
       "\t<tr><td>1000    </td><td>L       </td><td>01101100</td></tr>\n",
       "\t<tr><td>1001    </td><td>R       </td><td>11000110</td></tr>\n",
       "\t<tr><td>1010    </td><td>L       </td><td>01101100</td></tr>\n",
       "\t<tr><td>1011    </td><td>R       </td><td>11000110</td></tr>\n",
       "\t<tr><td>1100    </td><td>L       </td><td>11000110</td></tr>\n",
       "\t<tr><td>1101    </td><td>R       </td><td>11000110</td></tr>\n",
       "\t<tr><td>1110    </td><td>L       </td><td>01101100</td></tr>\n",
       "\t<tr><td>1111    </td><td>R       </td><td>11000110</td></tr>\n",
       "</tbody>\n",
       "</table>\n"
      ],
      "text/latex": [
       "\\begin{tabular}{r|lll}\n",
       " Lineage & name & Gene.OF\\\\\n",
       "\\hline\n",
       "\t 0000     & L        & 01101100\\\\\n",
       "\t 0001     & R        & 11000110\\\\\n",
       "\t 0010     & L        & 01101100\\\\\n",
       "\t 0011     & R        & 11000110\\\\\n",
       "\t 0100     & L        & 11000110\\\\\n",
       "\t 0101     & R        & 11000110\\\\\n",
       "\t 0110     & L        & 01101100\\\\\n",
       "\t 0111     & R        & 11000110\\\\\n",
       "\t 1000     & L        & 01101100\\\\\n",
       "\t 1001     & R        & 11000110\\\\\n",
       "\t 1010     & L        & 01101100\\\\\n",
       "\t 1011     & R        & 11000110\\\\\n",
       "\t 1100     & L        & 11000110\\\\\n",
       "\t 1101     & R        & 11000110\\\\\n",
       "\t 1110     & L        & 01101100\\\\\n",
       "\t 1111     & R        & 11000110\\\\\n",
       "\\end{tabular}\n"
      ],
      "text/markdown": [
       "\n",
       "Lineage | name | Gene.OF | \n",
       "|---|---|---|---|---|---|---|---|---|---|---|---|---|---|---|---|\n",
       "| 0000     | L        | 01101100 | \n",
       "| 0001     | R        | 11000110 | \n",
       "| 0010     | L        | 01101100 | \n",
       "| 0011     | R        | 11000110 | \n",
       "| 0100     | L        | 11000110 | \n",
       "| 0101     | R        | 11000110 | \n",
       "| 0110     | L        | 01101100 | \n",
       "| 0111     | R        | 11000110 | \n",
       "| 1000     | L        | 01101100 | \n",
       "| 1001     | R        | 11000110 | \n",
       "| 1010     | L        | 01101100 | \n",
       "| 1011     | R        | 11000110 | \n",
       "| 1100     | L        | 11000110 | \n",
       "| 1101     | R        | 11000110 | \n",
       "| 1110     | L        | 01101100 | \n",
       "| 1111     | R        | 11000110 | \n",
       "\n",
       "\n"
      ],
      "text/plain": [
       "   Lineage name Gene.OF \n",
       "1  0000    L    01101100\n",
       "2  0001    R    11000110\n",
       "3  0010    L    01101100\n",
       "4  0011    R    11000110\n",
       "5  0100    L    11000110\n",
       "6  0101    R    11000110\n",
       "7  0110    L    01101100\n",
       "8  0111    R    11000110\n",
       "9  1000    L    01101100\n",
       "10 1001    R    11000110\n",
       "11 1010    L    01101100\n",
       "12 1011    R    11000110\n",
       "13 1100    L    11000110\n",
       "14 1101    R    11000110\n",
       "15 1110    L    01101100\n",
       "16 1111    R    11000110"
      ]
     },
     "metadata": {},
     "output_type": "display_data"
    }
   ],
   "source": [
    "tree.dfLeaf <- ToDataFrameTable(tree1,\"pathString\",\"level\",\"name\",'Lineage', 'DAge','tAge',\n",
    "                 Gene.OF = function(node) paste0(node$Gene.OF, collapse = ''))\n",
    "tree.dfLeaf[,c(\"Lineage\",\"name\",\"Gene.OF\")]"
   ]
  },
  {
   "cell_type": "code",
   "execution_count": 26,
   "metadata": {},
   "outputs": [],
   "source": [
    "# F.saveRandomTree(tree1, network = gene.network,score = \"same\")"
   ]
  },
  {
   "cell_type": "code",
   "execution_count": 27,
   "metadata": {
    "scrolled": false
   },
   "outputs": [
    {
     "data": {
      "text/plain": [
       "           levelName\n",
       "1  Root             \n",
       "2   |--L            \n",
       "3   |   |--L        \n",
       "4   |   |   |--L    \n",
       "5   |   |   |   |--L\n",
       "6   |   |   |   °--R\n",
       "7   |   |   °--R    \n",
       "8   |   |       |--L\n",
       "9   |   |       °--R\n",
       "10  |   °--R        \n",
       "11  |       |--L    \n",
       "12  |       |   |--L\n",
       "13  |       |   °--R\n",
       "14  |       °--R    \n",
       "15  |           |--L\n",
       "16  |           °--R\n",
       "17  °--R            \n",
       "18      |--L        \n",
       "19      |   |--L    \n",
       "20      |   |   |--L\n",
       "21      |   |   °--R\n",
       "22      |   °--R    \n",
       "23      |       |--L\n",
       "24      |       °--R\n",
       "25      °--R        \n",
       "26          |--L    \n",
       "27          |   |--L\n",
       "28          |   °--R\n",
       "29          °--R    \n",
       "30              |--L\n",
       "31              °--R"
      ]
     },
     "metadata": {},
     "output_type": "display_data"
    }
   ],
   "source": [
    "tree1"
   ]
  },
  {
   "cell_type": "markdown",
   "metadata": {},
   "source": [
    "## 4 simulate trees with Dmax 12"
   ]
  },
  {
   "cell_type": "markdown",
   "metadata": {},
   "source": [
    "simulate 7 groups of lineage trees, with the following setting\n",
    "\n",
    "a   | N   |K\n",
    "--  | --  | --\n",
    "1   | 16  | 4\n",
    "10  | 16  | 4\n",
    "100 | 16  | 2\n",
    "100 | 16  | 4\n",
    "100 | 16  | 8\n",
    "100 | 8   | 4\n",
    "100 | 32  | 4\n",
    "\n",
    "* a: activation constant\n",
    "* N: number of genes\n",
    "* K: average in-degree, which means average interations per gene.\n",
    "\n",
    "Dmax: max dividing times. Dmax = 12 (Dividing times <= Dmax)  \n",
    "tmax = 50 (maximum developint times. t <= tmax).  \n",
    "leafTypesMin = 6\n",
    "leafCountMin = 500\n",
    "\n",
    "leafTypeMin, the minimum types of leaves  \n",
    "leafCountMin, the minmum count of leaves"
   ]
  },
  {
   "cell_type": "markdown",
   "metadata": {},
   "source": [
    "### 4.1 set up the parameters"
   ]
  },
  {
   "cell_type": "code",
   "execution_count": 28,
   "metadata": {},
   "outputs": [],
   "source": [
    "df.settingD12 = data.frame(a = c(1,10,100,100,100,100,100), \n",
    "                        N = c(16,16,16,16,16,8,32),\n",
    "                        K = c(4,4,2,4,8,4,4),\n",
    "                        Dmax = rep(12,7),\n",
    "                        tmax = rep(50,7))"
   ]
  },
  {
   "cell_type": "code",
   "execution_count": 29,
   "metadata": {},
   "outputs": [
    {
     "data": {
      "text/html": [
       "<table>\n",
       "<thead><tr><th scope=col>a</th><th scope=col>N</th><th scope=col>K</th><th scope=col>Dmax</th><th scope=col>tmax</th></tr></thead>\n",
       "<tbody>\n",
       "\t<tr><td>  1</td><td>16 </td><td>4  </td><td>12 </td><td>50 </td></tr>\n",
       "\t<tr><td> 10</td><td>16 </td><td>4  </td><td>12 </td><td>50 </td></tr>\n",
       "\t<tr><td>100</td><td>16 </td><td>2  </td><td>12 </td><td>50 </td></tr>\n",
       "\t<tr><td>100</td><td>16 </td><td>4  </td><td>12 </td><td>50 </td></tr>\n",
       "\t<tr><td>100</td><td>16 </td><td>8  </td><td>12 </td><td>50 </td></tr>\n",
       "\t<tr><td>100</td><td> 8 </td><td>4  </td><td>12 </td><td>50 </td></tr>\n",
       "\t<tr><td>100</td><td>32 </td><td>4  </td><td>12 </td><td>50 </td></tr>\n",
       "</tbody>\n",
       "</table>\n"
      ],
      "text/latex": [
       "\\begin{tabular}{r|lllll}\n",
       " a & N & K & Dmax & tmax\\\\\n",
       "\\hline\n",
       "\t   1 & 16  & 4   & 12  & 50 \\\\\n",
       "\t  10 & 16  & 4   & 12  & 50 \\\\\n",
       "\t 100 & 16  & 2   & 12  & 50 \\\\\n",
       "\t 100 & 16  & 4   & 12  & 50 \\\\\n",
       "\t 100 & 16  & 8   & 12  & 50 \\\\\n",
       "\t 100 &  8  & 4   & 12  & 50 \\\\\n",
       "\t 100 & 32  & 4   & 12  & 50 \\\\\n",
       "\\end{tabular}\n"
      ],
      "text/markdown": [
       "\n",
       "a | N | K | Dmax | tmax | \n",
       "|---|---|---|---|---|---|---|\n",
       "|   1 | 16  | 4   | 12  | 50  | \n",
       "|  10 | 16  | 4   | 12  | 50  | \n",
       "| 100 | 16  | 2   | 12  | 50  | \n",
       "| 100 | 16  | 4   | 12  | 50  | \n",
       "| 100 | 16  | 8   | 12  | 50  | \n",
       "| 100 |  8  | 4   | 12  | 50  | \n",
       "| 100 | 32  | 4   | 12  | 50  | \n",
       "\n",
       "\n"
      ],
      "text/plain": [
       "  a   N  K Dmax tmax\n",
       "1   1 16 4 12   50  \n",
       "2  10 16 4 12   50  \n",
       "3 100 16 2 12   50  \n",
       "4 100 16 4 12   50  \n",
       "5 100 16 8 12   50  \n",
       "6 100  8 4 12   50  \n",
       "7 100 32 4 12   50  "
      ]
     },
     "metadata": {},
     "output_type": "display_data"
    }
   ],
   "source": [
    "df.settingD12"
   ]
  },
  {
   "cell_type": "code",
   "execution_count": 30,
   "metadata": {},
   "outputs": [],
   "source": [
    "leafTypeMin = 6\n",
    "leafCountMin = 500"
   ]
  },
  {
   "cell_type": "markdown",
   "metadata": {},
   "source": [
    "### 4.2 test one"
   ]
  },
  {
   "cell_type": "code",
   "execution_count": 31,
   "metadata": {},
   "outputs": [
    {
     "data": {
      "text/html": [
       "<table>\n",
       "<thead><tr><th scope=col>a</th><th scope=col>N</th><th scope=col>K</th><th scope=col>Dmax</th><th scope=col>tmax</th></tr></thead>\n",
       "<tbody>\n",
       "\t<tr><td>1 </td><td>16</td><td>4 </td><td>12</td><td>50</td></tr>\n",
       "</tbody>\n",
       "</table>\n"
      ],
      "text/latex": [
       "\\begin{tabular}{r|lllll}\n",
       " a & N & K & Dmax & tmax\\\\\n",
       "\\hline\n",
       "\t 1  & 16 & 4  & 12 & 50\\\\\n",
       "\\end{tabular}\n"
      ],
      "text/markdown": [
       "\n",
       "a | N | K | Dmax | tmax | \n",
       "|---|\n",
       "| 1  | 16 | 4  | 12 | 50 | \n",
       "\n",
       "\n"
      ],
      "text/plain": [
       "  a N  K Dmax tmax\n",
       "1 1 16 4 12   50  "
      ]
     },
     "metadata": {},
     "output_type": "display_data"
    }
   ],
   "source": [
    "s <- df.settingD12[1,]\n",
    "s"
   ]
  },
  {
   "cell_type": "code",
   "execution_count": 32,
   "metadata": {
    "scrolled": true
   },
   "outputs": [
    {
     "name": "stdout",
     "output_type": "stream",
     "text": [
      "  a  N K Dmax tmax\n",
      "1 1 16 4   12   50\n"
     ]
    },
    {
     "data": {
      "text/html": [
       "2"
      ],
      "text/latex": [
       "2"
      ],
      "text/markdown": [
       "2"
      ],
      "text/plain": [
       "[1] 2"
      ]
     },
     "metadata": {},
     "output_type": "display_data"
    }
   ],
   "source": [
    "celltrees = list()\n",
    "for (i in row.names(df.settingD12)) {\n",
    "    s <- df.settingD12[i,]\n",
    "    celltrees[[1]] = F.generateRandTree(a = s$a, N = s$N, K = s$K, Dmax = s$Dmax, tmax = s$tmax, digits = 4)\n",
    "    print(s)\n",
    "    break\n",
    "}\n",
    "celltrees[[1]][[\"cell.tree\"]]$leafCount\n"
   ]
  },
  {
   "cell_type": "code",
   "execution_count": 33,
   "metadata": {},
   "outputs": [
    {
     "data": {
      "text/html": [
       "<ol class=list-inline>\n",
       "\t<li>1</li>\n",
       "\t<li>1</li>\n",
       "\t<li>1</li>\n",
       "\t<li>0</li>\n",
       "\t<li>1</li>\n",
       "\t<li>0</li>\n",
       "\t<li>0</li>\n",
       "\t<li>0</li>\n",
       "\t<li>0</li>\n",
       "\t<li>0</li>\n",
       "\t<li>1</li>\n",
       "\t<li>0</li>\n",
       "\t<li>0</li>\n",
       "\t<li>1</li>\n",
       "\t<li>0</li>\n",
       "\t<li>1</li>\n",
       "</ol>\n"
      ],
      "text/latex": [
       "\\begin{enumerate*}\n",
       "\\item 1\n",
       "\\item 1\n",
       "\\item 1\n",
       "\\item 0\n",
       "\\item 1\n",
       "\\item 0\n",
       "\\item 0\n",
       "\\item 0\n",
       "\\item 0\n",
       "\\item 0\n",
       "\\item 1\n",
       "\\item 0\n",
       "\\item 0\n",
       "\\item 1\n",
       "\\item 0\n",
       "\\item 1\n",
       "\\end{enumerate*}\n"
      ],
      "text/markdown": [
       "1. 1\n",
       "2. 1\n",
       "3. 1\n",
       "4. 0\n",
       "5. 1\n",
       "6. 0\n",
       "7. 0\n",
       "8. 0\n",
       "9. 0\n",
       "10. 0\n",
       "11. 1\n",
       "12. 0\n",
       "13. 0\n",
       "14. 1\n",
       "15. 0\n",
       "16. 1\n",
       "\n",
       "\n"
      ],
      "text/plain": [
       " [1] 1 1 1 0 1 0 0 0 0 0 1 0 0 1 0 1"
      ]
     },
     "metadata": {},
     "output_type": "display_data"
    }
   ],
   "source": [
    "celltrees[[1]][[\"cell.tree\"]]$Gene.OF"
   ]
  },
  {
   "cell_type": "code",
   "execution_count": 34,
   "metadata": {
    "scrolled": true
   },
   "outputs": [
    {
     "data": {
      "text/html": [
       "1"
      ],
      "text/latex": [
       "1"
      ],
      "text/markdown": [
       "1"
      ],
      "text/plain": [
       "[1] 1"
      ]
     },
     "metadata": {},
     "output_type": "display_data"
    }
   ],
   "source": [
    "F.treeCellType(celltrees[[1]][[\"cell.tree\"]])"
   ]
  },
  {
   "cell_type": "code",
   "execution_count": 35,
   "metadata": {},
   "outputs": [],
   "source": [
    "tree1 = celltrees[[1]][[\"cell.tree\"]]"
   ]
  },
  {
   "cell_type": "markdown",
   "metadata": {},
   "source": [
    "### 4.2 generate a list to store the result\n",
    "\n",
    "However, the memory consumption is too big. only save the necessary parts, and save the tree files directly to drive."
   ]
  },
  {
   "cell_type": "code",
   "execution_count": 36,
   "metadata": {},
   "outputs": [],
   "source": [
    "celltrees <- lapply(1:2,\n",
    "                    function(x)F.generateRandTreeWithFilter(a = s$a, N = s$N, K = s$K, Dmax = s$Dmax, \n",
    "                                        tmax = s$tmax, digits = 4,\n",
    "                                        leafTypeMin = leafTypeMin,\n",
    "                                        leafCountMin = leafCountMin, tryMax = 100))"
   ]
  },
  {
   "cell_type": "code",
   "execution_count": 37,
   "metadata": {
    "scrolled": true
   },
   "outputs": [
    {
     "name": "stdout",
     "output_type": "stream",
     "text": [
      "[1] 3788    8\n",
      "[1] 592  40\n"
     ]
    }
   ],
   "source": [
    "for (tr in celltrees) print(c(tr$leafCount, tr$leafTypeCount))"
   ]
  },
  {
   "cell_type": "code",
   "execution_count": 72,
   "metadata": {},
   "outputs": [],
   "source": [
    "tr <- celltrees[[1]]\n",
    "F.saveRandomTree(cell.tree = tr$cell.tree, \n",
    "                 score = \"norm\", outfilePrefix = \"X:\\\\YangLab\\\\2018simulation\\\\\", silent = TRUE)\n",
    "\n"
   ]
  },
  {
   "cell_type": "code",
   "execution_count": 58,
   "metadata": {},
   "outputs": [],
   "source": [
    "# fileTest <- \"C:\\\\Users\\\\ATPs\\\\Documents\\\\2018simulation\\\\a1N16K4\\\\test.txt\"\n",
    "# fileTestWrite <- file(fileTest,\"w\")\n",
    "# writeLines(text = c(paste0(\"ID=1;a=1;N=16;K=4;L=\",tr$leafCount,\";T=\",tr$leafTypeCount),\n",
    "#                    paste(tr$gene.init,collapse = \" \"),\n",
    "#                    paste(as.vector(tr$gene.network), collapse = \" \")), con = fileTestWrite)\n",
    "# close(fileTestWrite)"
   ]
  },
  {
   "cell_type": "code",
   "execution_count": 50,
   "metadata": {},
   "outputs": [
    {
     "data": {
      "text/html": [
       "8"
      ],
      "text/latex": [
       "8"
      ],
      "text/markdown": [
       "8"
      ],
      "text/plain": [
       "[1] 8"
      ]
     },
     "metadata": {},
     "output_type": "display_data"
    }
   ],
   "source": [
    "tr$leafTypeCount"
   ]
  },
  {
   "cell_type": "markdown",
   "metadata": {},
   "source": [
    "### 4.3 save 1000 files for a=1 N=16 K=4"
   ]
  },
  {
   "cell_type": "code",
   "execution_count": 65,
   "metadata": {},
   "outputs": [],
   "source": [
    "folder <- \"X:\\\\YangLab\\\\2018simulation\\\\a1N16K4\\\\\""
   ]
  },
  {
   "cell_type": "code",
   "execution_count": 68,
   "metadata": {},
   "outputs": [],
   "source": [
    "s <- df.settingD12[1,]"
   ]
  },
  {
   "cell_type": "code",
   "execution_count": null,
   "metadata": {},
   "outputs": [],
   "source": [
    "fileInfo <- \"X:\\\\YangLab\\\\2018simulation\\\\a1N16K4.info\"\n",
    "fileInfoWrite <- file(fileInfo,\"w\")\n",
    "for (n in 1:1000){\n",
    "    tr <- F.generateRandTreeWithFilter(a = s$a, N = s$N, K = s$K, Dmax = s$Dmax, \n",
    "                                        tmax = s$tmax, digits = 4,\n",
    "                                        leafTypeMin = leafTypeMin,\n",
    "                                        leafCountMin = leafCountMin, tryMax = 100)\n",
    "    filenamePrefix <- paste0(folder,\"a1N16K4\",\"ID\",n)\n",
    "    F.saveRandomTree(cell.tree = tr$cell.tree, network = NULL, score = \"norm\", class = \"Gene.OF\", \n",
    "                     outfilePrefix = filenamePrefix, silent = TRUE)\n",
    "    writeLines(text = c(paste0(\"ID=\",n,\";a=1;N=16;K=4;L=\",tr$leafCount,\";T=\",tr$leafTypeCount),\n",
    "                   paste(tr$gene.init,collapse = \" \"),\n",
    "                   paste(as.vector(tr$gene.network), collapse = \" \")), con = fileTestWrite)\n",
    "}\n",
    "close(fileInfoWrite)"
   ]
  },
  {
   "cell_type": "markdown",
   "metadata": {},
   "source": [
    "## 5 simulate trees with Dmax 6"
   ]
  },
  {
   "cell_type": "markdown",
   "metadata": {},
   "source": [
    "### 5.1 set up the parameters"
   ]
  },
  {
   "cell_type": "code",
   "execution_count": 38,
   "metadata": {},
   "outputs": [
    {
     "data": {
      "text/html": [
       "<table>\n",
       "<thead><tr><th scope=col>a</th><th scope=col>N</th><th scope=col>K</th><th scope=col>Dmax</th><th scope=col>tmax</th></tr></thead>\n",
       "<tbody>\n",
       "\t<tr><td>  1</td><td>16 </td><td>4  </td><td>6  </td><td>50 </td></tr>\n",
       "\t<tr><td> 10</td><td>16 </td><td>4  </td><td>6  </td><td>50 </td></tr>\n",
       "\t<tr><td>100</td><td>16 </td><td>2  </td><td>6  </td><td>50 </td></tr>\n",
       "\t<tr><td>100</td><td>16 </td><td>4  </td><td>6  </td><td>50 </td></tr>\n",
       "\t<tr><td>100</td><td>16 </td><td>8  </td><td>6  </td><td>50 </td></tr>\n",
       "\t<tr><td>100</td><td> 8 </td><td>4  </td><td>6  </td><td>50 </td></tr>\n",
       "\t<tr><td>100</td><td>32 </td><td>4  </td><td>6  </td><td>50 </td></tr>\n",
       "</tbody>\n",
       "</table>\n"
      ],
      "text/latex": [
       "\\begin{tabular}{r|lllll}\n",
       " a & N & K & Dmax & tmax\\\\\n",
       "\\hline\n",
       "\t   1 & 16  & 4   & 6   & 50 \\\\\n",
       "\t  10 & 16  & 4   & 6   & 50 \\\\\n",
       "\t 100 & 16  & 2   & 6   & 50 \\\\\n",
       "\t 100 & 16  & 4   & 6   & 50 \\\\\n",
       "\t 100 & 16  & 8   & 6   & 50 \\\\\n",
       "\t 100 &  8  & 4   & 6   & 50 \\\\\n",
       "\t 100 & 32  & 4   & 6   & 50 \\\\\n",
       "\\end{tabular}\n"
      ],
      "text/markdown": [
       "\n",
       "a | N | K | Dmax | tmax | \n",
       "|---|---|---|---|---|---|---|\n",
       "|   1 | 16  | 4   | 6   | 50  | \n",
       "|  10 | 16  | 4   | 6   | 50  | \n",
       "| 100 | 16  | 2   | 6   | 50  | \n",
       "| 100 | 16  | 4   | 6   | 50  | \n",
       "| 100 | 16  | 8   | 6   | 50  | \n",
       "| 100 |  8  | 4   | 6   | 50  | \n",
       "| 100 | 32  | 4   | 6   | 50  | \n",
       "\n",
       "\n"
      ],
      "text/plain": [
       "  a   N  K Dmax tmax\n",
       "1   1 16 4 6    50  \n",
       "2  10 16 4 6    50  \n",
       "3 100 16 2 6    50  \n",
       "4 100 16 4 6    50  \n",
       "5 100 16 8 6    50  \n",
       "6 100  8 4 6    50  \n",
       "7 100 32 4 6    50  "
      ]
     },
     "metadata": {},
     "output_type": "display_data"
    }
   ],
   "source": [
    "df.settingD6 = data.frame(a = c(1,10,100,100,100,100,100), \n",
    "                        N = c(16,16,16,16,16,8,32),\n",
    "                        K = c(4,4,2,4,8,4,4),\n",
    "                        Dmax = rep(6,7),\n",
    "                        tmax = rep(50,7))\n",
    "df.settingD6"
   ]
  },
  {
   "cell_type": "markdown",
   "metadata": {},
   "source": [
    "### 5.2 test One\n",
    "\n",
    "It seems that HSA cannot run with large files. test small ones."
   ]
  },
  {
   "cell_type": "code",
   "execution_count": 73,
   "metadata": {},
   "outputs": [],
   "source": [
    "trTest <- F.generateRandTreeWithFilter(a = 1, N = 16, K = 4, Dmax = 6, \n",
    "                                        tmax = 50, digits = 4,\n",
    "                                        leafTypeMin = 6,\n",
    "                                        leafCountMin = 20, tryMax = 100)"
   ]
  },
  {
   "cell_type": "code",
   "execution_count": 74,
   "metadata": {},
   "outputs": [],
   "source": [
    "F.saveRandomTree(cell.tree = trTest$cell.tree, \n",
    "                 score = \"norm\", outfilePrefix = \"X:\\\\YangLab\\\\2018simulation\\\\\", silent = TRUE)\n",
    "\n"
   ]
  }
 ],
 "metadata": {
  "kernelspec": {
   "display_name": "R",
   "language": "R",
   "name": "ir"
  },
  "language_info": {
   "codemirror_mode": "r",
   "file_extension": ".r",
   "mimetype": "text/x-r-source",
   "name": "R",
   "pygments_lexer": "r",
   "version": "3.4.2"
  },
  "toc": {
   "nav_menu": {
    "height": "550px",
    "width": "455px"
   },
   "number_sections": false,
   "sideBar": true,
   "skip_h1_title": false,
   "toc_cell": false,
   "toc_position": {
    "height": "844px",
    "left": "0px",
    "right": "auto",
    "top": "110px",
    "width": "372px"
   },
   "toc_section_display": "block",
   "toc_window_display": true
  }
 },
 "nbformat": 4,
 "nbformat_minor": 2
}
