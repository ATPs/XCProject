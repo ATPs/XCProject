{
 "cells": [
  {
   "cell_type": "markdown",
   "metadata": {},
   "source": [
    "# Genetic Algorithm practice\n",
    "\n",
    "http://blog.fens.me/algorithm-ga-r/"
   ]
  },
  {
   "cell_type": "markdown",
   "metadata": {},
   "source": [
    "## load the package"
   ]
  },
  {
   "cell_type": "code",
   "execution_count": 1,
   "metadata": {},
   "outputs": [
    {
     "name": "stderr",
     "output_type": "stream",
     "text": [
      "Warning message:\n",
      "\"package 'mcga' was built under R version 3.4.3\"Loading required package: GA\n",
      "Warning message:\n",
      "\"package 'GA' was built under R version 3.4.3\"Loading required package: foreach\n",
      "Loading required package: iterators\n",
      "Package 'GA' version 3.0.2\n",
      "Type 'citation(\"GA\")' for citing this R package in publications.\n",
      "Please use 'citation(\"mcga\")' for citing the R package mcga\n"
     ]
    }
   ],
   "source": [
    "library(mcga)"
   ]
  },
  {
   "cell_type": "code",
   "execution_count": 2,
   "metadata": {},
   "outputs": [
    {
     "data": {
      "text/html": [
       "<pre class=language-r><code>function (popsize, chsize, crossprob = 1, mutateprob = 0.01, \n",
       "<span style=white-space:pre-wrap>    elitism = 1, minval, maxval, maxiter = 10, evalFunc) </span>\n",
       "{\n",
       "<span style=white-space:pre-wrap>    par &lt;- as.double(rep(0, chsize))</span>\n",
       "<span style=white-space:pre-wrap>    best &lt;- as.double(rep(0, chsize))</span>\n",
       "<span style=white-space:pre-wrap>    population &lt;- as.double(rep(0, chsize * popsize))</span>\n",
       "<span style=white-space:pre-wrap>    costs &lt;- as.double(rep(0, popsize))</span>\n",
       "<span style=white-space:pre-wrap>    envv &lt;- .GlobalEnv</span>\n",
       "<span style=white-space:pre-wrap>    result &lt;- .Call(\"mcga\", popsize, chsize, crossprob, mutateprob, </span>\n",
       "<span style=white-space:pre-wrap>        elitism, minval, maxval, maxiter, par, best, evalFunc, </span>\n",
       "<span style=white-space:pre-wrap>        population, costs, envv, PACKAGE = \"mcga\")</span>\n",
       "<span style=white-space:pre-wrap>    resmat &lt;- matrix(population, ncol = chsize, nrow = popsize)</span>\n",
       "<span style=white-space:pre-wrap>    return(list(population = matrix(population, popsize, chsize, </span>\n",
       "<span style=white-space:pre-wrap>        byrow = TRUE), costs = costs, popsize = popsize, chsize = chsize, </span>\n",
       "<span style=white-space:pre-wrap>        crossprob = crossprob, mutateprob = mutateprob, elitism = elitism, </span>\n",
       "<span style=white-space:pre-wrap>        minval = minval, maxval = maxval, maxiter = maxiter))</span>\n",
       "}</code></pre>"
      ],
      "text/latex": [
       "\\begin{minted}{r}\n",
       "function (popsize, chsize, crossprob = 1, mutateprob = 0.01, \n",
       "    elitism = 1, minval, maxval, maxiter = 10, evalFunc) \n",
       "\\{\n",
       "    par <- as.double(rep(0, chsize))\n",
       "    best <- as.double(rep(0, chsize))\n",
       "    population <- as.double(rep(0, chsize * popsize))\n",
       "    costs <- as.double(rep(0, popsize))\n",
       "    envv <- .GlobalEnv\n",
       "    result <- .Call(\"mcga\", popsize, chsize, crossprob, mutateprob, \n",
       "        elitism, minval, maxval, maxiter, par, best, evalFunc, \n",
       "        population, costs, envv, PACKAGE = \"mcga\")\n",
       "    resmat <- matrix(population, ncol = chsize, nrow = popsize)\n",
       "    return(list(population = matrix(population, popsize, chsize, \n",
       "        byrow = TRUE), costs = costs, popsize = popsize, chsize = chsize, \n",
       "        crossprob = crossprob, mutateprob = mutateprob, elitism = elitism, \n",
       "        minval = minval, maxval = maxval, maxiter = maxiter))\n",
       "\\}\n",
       "\\end{minted}"
      ],
      "text/markdown": [
       "```r\n",
       "function (popsize, chsize, crossprob = 1, mutateprob = 0.01, \n",
       "    elitism = 1, minval, maxval, maxiter = 10, evalFunc) \n",
       "{\n",
       "    par <- as.double(rep(0, chsize))\n",
       "    best <- as.double(rep(0, chsize))\n",
       "    population <- as.double(rep(0, chsize * popsize))\n",
       "    costs <- as.double(rep(0, popsize))\n",
       "    envv <- .GlobalEnv\n",
       "    result <- .Call(\"mcga\", popsize, chsize, crossprob, mutateprob, \n",
       "        elitism, minval, maxval, maxiter, par, best, evalFunc, \n",
       "        population, costs, envv, PACKAGE = \"mcga\")\n",
       "    resmat <- matrix(population, ncol = chsize, nrow = popsize)\n",
       "    return(list(population = matrix(population, popsize, chsize, \n",
       "        byrow = TRUE), costs = costs, popsize = popsize, chsize = chsize, \n",
       "        crossprob = crossprob, mutateprob = mutateprob, elitism = elitism, \n",
       "        minval = minval, maxval = maxval, maxiter = maxiter))\n",
       "}\n",
       "```"
      ],
      "text/plain": [
       "function (popsize, chsize, crossprob = 1, mutateprob = 0.01, \n",
       "    elitism = 1, minval, maxval, maxiter = 10, evalFunc) \n",
       "{\n",
       "    par <- as.double(rep(0, chsize))\n",
       "    best <- as.double(rep(0, chsize))\n",
       "    population <- as.double(rep(0, chsize * popsize))\n",
       "    costs <- as.double(rep(0, popsize))\n",
       "    envv <- .GlobalEnv\n",
       "    result <- .Call(\"mcga\", popsize, chsize, crossprob, mutateprob, \n",
       "        elitism, minval, maxval, maxiter, par, best, evalFunc, \n",
       "        population, costs, envv, PACKAGE = \"mcga\")\n",
       "    resmat <- matrix(population, ncol = chsize, nrow = popsize)\n",
       "    return(list(population = matrix(population, popsize, chsize, \n",
       "        byrow = TRUE), costs = costs, popsize = popsize, chsize = chsize, \n",
       "        crossprob = crossprob, mutateprob = mutateprob, elitism = elitism, \n",
       "        minval = minval, maxval = maxval, maxiter = maxiter))\n",
       "}\n",
       "<environment: namespace:mcga>"
      ]
     },
     "metadata": {},
     "output_type": "display_data"
    }
   ],
   "source": [
    "mcga"
   ]
  },
  {
   "cell_type": "markdown",
   "metadata": {},
   "source": [
    "## define function"
   ]
  },
  {
   "cell_type": "code",
   "execution_count": 4,
   "metadata": {},
   "outputs": [],
   "source": [
    "F.func1 <- function(x1, x2, x3, x4, x5){\n",
    "    result <- (x1 - 5)^2 + (x2 - 55)^2 + (x3 - 555)^2 + (x4 - 5555)^2 + (x5 - 55555)^2\n",
    "    return(result)\n",
    "}"
   ]
  },
  {
   "cell_type": "code",
   "execution_count": 3,
   "metadata": {},
   "outputs": [],
   "source": [
    "F.func2 <- function(x){\n",
    "    result <- (x[1] - 5)^2 + (x[2] - 55)^2 + (x[3] - 555)^2 + (x[4] - 5555)^2 + (x[5] - 55555)^2\n",
    "    return(result)\n",
    "}"
   ]
  },
  {
   "cell_type": "markdown",
   "metadata": {},
   "source": [
    "## run GA"
   ]
  },
  {
   "cell_type": "code",
   "execution_count": null,
   "metadata": {},
   "outputs": [],
   "source": [
    "m <- mcga(popsize = 200,\n",
    "         chsize = 5,\n",
    "         minval = 0,\n",
    "         maxval = 999999,\n",
    "         maxiter = 2500,\n",
    "         crossprob = 1,\n",
    "         mutateprob = 0.01,\n",
    "         evalFunc = F.func2)"
   ]
  },
  {
   "cell_type": "code",
   "execution_count": null,
   "metadata": {},
   "outputs": [],
   "source": [
    "m"
   ]
  }
 ],
 "metadata": {
  "kernelspec": {
   "display_name": "R",
   "language": "R",
   "name": "ir"
  },
  "language_info": {
   "codemirror_mode": "r",
   "file_extension": ".r",
   "mimetype": "text/x-r-source",
   "name": "R",
   "pygments_lexer": "r",
   "version": "3.4.2"
  },
  "toc": {
   "nav_menu": {},
   "number_sections": true,
   "sideBar": true,
   "skip_h1_title": false,
   "toc_cell": false,
   "toc_position": {},
   "toc_section_display": "block",
   "toc_window_display": true
  }
 },
 "nbformat": 4,
 "nbformat_minor": 2
}
