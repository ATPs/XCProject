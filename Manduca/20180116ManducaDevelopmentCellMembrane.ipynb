{
 "cells": [
  {
   "cell_type": "markdown",
   "metadata": {},
   "source": [
    "# Manduca sexta Proteomics\n",
    "\n",
    "Developmental stages of hemolymph  \n",
    "cell membrane of fat body and hemocytes"
   ]
  },
  {
   "cell_type": "markdown",
   "metadata": {},
   "source": [
    "## Read in files"
   ]
  },
  {
   "cell_type": "markdown",
   "metadata": {},
   "source": [
    "###  set up files for analysis"
   ]
  },
  {
   "cell_type": "markdown",
   "metadata": {},
   "source": [
    "* fMemBand: cell membrane of hemocytes and fat body; each gel band\n",
    "* fMemGroup: cell membrane of hemocytes and fat body; each group\n",
    "* fDevBand: developmental stages of hemolymph; each gel band\n",
    "* fDevGroup: developmental stages of hemolymph; each group"
   ]
  },
  {
   "cell_type": "code",
   "execution_count": 6,
   "metadata": {},
   "outputs": [],
   "source": [
    "fMemBand = \"X:\\\\Insects\\\\2017Ms_fatbody_hemocyte_membrane\\\\raw_32group\\\\combined\\\\txt\\\\proteinGroups.txt\"\n",
    "fMemGroup = \"X:\\\\Insects\\\\2017Ms_fatbody_hemocyte_membrane\\\\raw_32group\\\\combined\\\\txt_4groupWIthPi\\\\proteinGroups.txt\"\n",
    "fDevBand = \"X:\\\\Insects\\\\1520\\\\1520_A\\\\1520_A_adult\\\\combined\\\\txt_band\\\\proteinGroups_band_develop.txt\"\n",
    "fDevGroup = \"X:\\\\Insects\\\\1520\\\\1520_A\\\\1520_A_adult\\\\combined\\\\txt_group\\\\proteinGroups_group_develop.txt\""
   ]
  },
  {
   "cell_type": "markdown",
   "metadata": {},
   "source": [
    "###  read in files as dataframe"
   ]
  },
  {
   "cell_type": "code",
   "execution_count": 7,
   "metadata": {},
   "outputs": [],
   "source": [
    "import pandas as pd\n",
    "import numpy as np\n",
    "from Bio import SeqIO"
   ]
  },
  {
   "cell_type": "code",
   "execution_count": 8,
   "metadata": {},
   "outputs": [],
   "source": [
    "dfMemBand = pd.read_csv(fMemBand, sep=\"\\t\",low_memory=False)\n",
    "dfMemGroup = pd.read_csv(fMemGroup, sep = \"\\t\", low_memory=False)\n",
    "dfDevBand = pd.read_csv(fDevBand, sep = \"\\t\", low_memory=False)\n",
    "dfDevGroup = pd.read_csv(fDevGroup, sep = \"\\t\", low_memory=False)"
   ]
  },
  {
   "cell_type": "markdown",
   "metadata": {},
   "source": [
    "## check files"
   ]
  },
  {
   "cell_type": "markdown",
   "metadata": {},
   "source": [
    "###  check shape and columns"
   ]
  },
  {
   "cell_type": "code",
   "execution_count": 9,
   "metadata": {},
   "outputs": [
    {
     "name": "stdout",
     "output_type": "stream",
     "text": [
      "dfMemBand (4419, 332)\n",
      "dfMemGroup (4419, 80)\n",
      "dfDevBand (1887, 906)\n",
      "dfDevGroup (1887, 150)\n"
     ]
    }
   ],
   "source": [
    "print(\"dfMemBand\",dfMemBand.shape)\n",
    "print(\"dfMemGroup\", dfMemGroup.shape)\n",
    "print(\"dfDevBand\", dfDevBand.shape)\n",
    "print(\"dfDevGroup\", dfDevGroup.shape)"
   ]
  },
  {
   "cell_type": "markdown",
   "metadata": {},
   "source": [
    "###  row 100 of dfMemBand"
   ]
  },
  {
   "cell_type": "code",
   "execution_count": 19,
   "metadata": {
    "scrolled": false
   },
   "outputs": [
    {
     "name": "stdout",
     "output_type": "stream",
     "text": [
      "0 \t\t Protein IDs \t\t\t\t Msex2.00140-RA;MCOT.C00176.2.0.OPO5P\n",
      "1 \t\t Majority protein IDs \t\t\t\t Msex2.00140-RA;MCOT.C00176.2.0.OPO5P\n",
      "2 \t\t Peptide counts (all) \t\t\t\t 2;2\n",
      "3 \t\t Peptide counts (razor+unique) \t\t\t\t 2;2\n",
      "4 \t\t Peptide counts (unique) \t\t\t\t 2;2\n",
      "5 \t\t Fasta headers \t\t\t\t ;\n",
      "6 \t\t Number of proteins \t\t\t\t 2\n",
      "7 \t\t Peptides \t\t\t\t 2\n",
      "8 \t\t Razor + unique peptides \t\t\t\t 2\n",
      "9 \t\t Unique peptides \t\t\t\t 2\n",
      "10 \t\t Peptides FP1 \t\t\t\t 0\n",
      "11 \t\t Peptides FP2 \t\t\t\t 0\n",
      "12 \t\t Peptides FP3 \t\t\t\t 0\n",
      "13 \t\t Peptides FP4 \t\t\t\t 0\n",
      "14 \t\t Peptides FP5 \t\t\t\t 1\n",
      "15 \t\t Peptides FP6 \t\t\t\t 0\n",
      "16 \t\t Peptides FP7 \t\t\t\t 0\n",
      "17 \t\t Peptides FP8 \t\t\t\t 0\n",
      "18 \t\t Peptides FS1 \t\t\t\t 0\n",
      "19 \t\t Peptides FS2 \t\t\t\t 0\n",
      "20 \t\t Peptides FS3 \t\t\t\t 0\n",
      "21 \t\t Peptides FS4 \t\t\t\t 0\n",
      "22 \t\t Peptides FS5 \t\t\t\t 0\n",
      "23 \t\t Peptides FS6 \t\t\t\t 2\n",
      "24 \t\t Peptides FS7 \t\t\t\t 0\n",
      "25 \t\t Peptides FS8 \t\t\t\t 0\n",
      "26 \t\t Peptides HP1 \t\t\t\t 0\n",
      "27 \t\t Peptides HP2 \t\t\t\t 0\n",
      "28 \t\t Peptides HP3 \t\t\t\t 0\n",
      "29 \t\t Peptides HP4 \t\t\t\t 0\n",
      "30 \t\t Peptides HP5 \t\t\t\t 0\n",
      "31 \t\t Peptides HP6 \t\t\t\t 0\n",
      "32 \t\t Peptides HP7 \t\t\t\t 0\n",
      "33 \t\t Peptides HP8 \t\t\t\t 0\n",
      "34 \t\t Peptides HS1 \t\t\t\t 0\n",
      "35 \t\t Peptides HS2 \t\t\t\t 0\n",
      "36 \t\t Peptides HS3 \t\t\t\t 0\n",
      "37 \t\t Peptides HS4 \t\t\t\t 0\n",
      "38 \t\t Peptides HS5 \t\t\t\t 0\n",
      "39 \t\t Peptides HS6 \t\t\t\t 0\n",
      "40 \t\t Peptides HS7 \t\t\t\t 0\n",
      "41 \t\t Peptides HS8 \t\t\t\t 0\n",
      "42 \t\t Razor + unique peptides FP1 \t\t\t\t 0\n",
      "43 \t\t Razor + unique peptides FP2 \t\t\t\t 0\n",
      "44 \t\t Razor + unique peptides FP3 \t\t\t\t 0\n",
      "45 \t\t Razor + unique peptides FP4 \t\t\t\t 0\n",
      "46 \t\t Razor + unique peptides FP5 \t\t\t\t 1\n",
      "47 \t\t Razor + unique peptides FP6 \t\t\t\t 0\n",
      "48 \t\t Razor + unique peptides FP7 \t\t\t\t 0\n",
      "49 \t\t Razor + unique peptides FP8 \t\t\t\t 0\n",
      "50 \t\t Razor + unique peptides FS1 \t\t\t\t 0\n",
      "51 \t\t Razor + unique peptides FS2 \t\t\t\t 0\n",
      "52 \t\t Razor + unique peptides FS3 \t\t\t\t 0\n",
      "53 \t\t Razor + unique peptides FS4 \t\t\t\t 0\n",
      "54 \t\t Razor + unique peptides FS5 \t\t\t\t 0\n",
      "55 \t\t Razor + unique peptides FS6 \t\t\t\t 2\n",
      "56 \t\t Razor + unique peptides FS7 \t\t\t\t 0\n",
      "57 \t\t Razor + unique peptides FS8 \t\t\t\t 0\n",
      "58 \t\t Razor + unique peptides HP1 \t\t\t\t 0\n",
      "59 \t\t Razor + unique peptides HP2 \t\t\t\t 0\n",
      "60 \t\t Razor + unique peptides HP3 \t\t\t\t 0\n",
      "61 \t\t Razor + unique peptides HP4 \t\t\t\t 0\n",
      "62 \t\t Razor + unique peptides HP5 \t\t\t\t 0\n",
      "63 \t\t Razor + unique peptides HP6 \t\t\t\t 0\n",
      "64 \t\t Razor + unique peptides HP7 \t\t\t\t 0\n",
      "65 \t\t Razor + unique peptides HP8 \t\t\t\t 0\n",
      "66 \t\t Razor + unique peptides HS1 \t\t\t\t 0\n",
      "67 \t\t Razor + unique peptides HS2 \t\t\t\t 0\n",
      "68 \t\t Razor + unique peptides HS3 \t\t\t\t 0\n",
      "69 \t\t Razor + unique peptides HS4 \t\t\t\t 0\n",
      "70 \t\t Razor + unique peptides HS5 \t\t\t\t 0\n",
      "71 \t\t Razor + unique peptides HS6 \t\t\t\t 0\n",
      "72 \t\t Razor + unique peptides HS7 \t\t\t\t 0\n",
      "73 \t\t Razor + unique peptides HS8 \t\t\t\t 0\n",
      "74 \t\t Unique peptides FP1 \t\t\t\t 0\n",
      "75 \t\t Unique peptides FP2 \t\t\t\t 0\n",
      "76 \t\t Unique peptides FP3 \t\t\t\t 0\n",
      "77 \t\t Unique peptides FP4 \t\t\t\t 0\n",
      "78 \t\t Unique peptides FP5 \t\t\t\t 1\n",
      "79 \t\t Unique peptides FP6 \t\t\t\t 0\n",
      "80 \t\t Unique peptides FP7 \t\t\t\t 0\n",
      "81 \t\t Unique peptides FP8 \t\t\t\t 0\n",
      "82 \t\t Unique peptides FS1 \t\t\t\t 0\n",
      "83 \t\t Unique peptides FS2 \t\t\t\t 0\n",
      "84 \t\t Unique peptides FS3 \t\t\t\t 0\n",
      "85 \t\t Unique peptides FS4 \t\t\t\t 0\n",
      "86 \t\t Unique peptides FS5 \t\t\t\t 0\n",
      "87 \t\t Unique peptides FS6 \t\t\t\t 2\n",
      "88 \t\t Unique peptides FS7 \t\t\t\t 0\n",
      "89 \t\t Unique peptides FS8 \t\t\t\t 0\n",
      "90 \t\t Unique peptides HP1 \t\t\t\t 0\n",
      "91 \t\t Unique peptides HP2 \t\t\t\t 0\n",
      "92 \t\t Unique peptides HP3 \t\t\t\t 0\n",
      "93 \t\t Unique peptides HP4 \t\t\t\t 0\n",
      "94 \t\t Unique peptides HP5 \t\t\t\t 0\n",
      "95 \t\t Unique peptides HP6 \t\t\t\t 0\n",
      "96 \t\t Unique peptides HP7 \t\t\t\t 0\n",
      "97 \t\t Unique peptides HP8 \t\t\t\t 0\n",
      "98 \t\t Unique peptides HS1 \t\t\t\t 0\n",
      "99 \t\t Unique peptides HS2 \t\t\t\t 0\n",
      "100 \t\t Unique peptides HS3 \t\t\t\t 0\n",
      "101 \t\t Unique peptides HS4 \t\t\t\t 0\n",
      "102 \t\t Unique peptides HS5 \t\t\t\t 0\n",
      "103 \t\t Unique peptides HS6 \t\t\t\t 0\n",
      "104 \t\t Unique peptides HS7 \t\t\t\t 0\n",
      "105 \t\t Unique peptides HS8 \t\t\t\t 0\n",
      "106 \t\t Sequence coverage [%] \t\t\t\t 9.0\n",
      "107 \t\t Unique + razor sequence coverage [%] \t\t\t\t 9.0\n",
      "108 \t\t Unique sequence coverage [%] \t\t\t\t 9.0\n",
      "109 \t\t Mol. weight [kDa] \t\t\t\t 31.826\n",
      "110 \t\t Sequence length \t\t\t\t 277\n",
      "111 \t\t Sequence lengths \t\t\t\t 277;277\n",
      "112 \t\t Fraction average \t\t\t\t 5.67\n",
      "113 \t\t Fraction 1 \t\t\t\t nan\n",
      "114 \t\t Fraction 2 \t\t\t\t nan\n",
      "115 \t\t Fraction 3 \t\t\t\t nan\n",
      "116 \t\t Fraction 4 \t\t\t\t nan\n",
      "117 \t\t Fraction 5 \t\t\t\t 1.0\n",
      "118 \t\t Fraction 6 \t\t\t\t 2.0\n",
      "119 \t\t Fraction 7 \t\t\t\t nan\n",
      "120 \t\t Fraction 8 \t\t\t\t nan\n",
      "121 \t\t Q-value \t\t\t\t 0.0\n",
      "122 \t\t Score \t\t\t\t 3.3656\n",
      "123 \t\t Identification type FP1 \t\t\t\t nan\n",
      "124 \t\t Identification type FP2 \t\t\t\t nan\n",
      "125 \t\t Identification type FP3 \t\t\t\t nan\n",
      "126 \t\t Identification type FP4 \t\t\t\t nan\n",
      "127 \t\t Identification type FP5 \t\t\t\t By matching\n",
      "128 \t\t Identification type FP6 \t\t\t\t nan\n",
      "129 \t\t Identification type FP7 \t\t\t\t nan\n",
      "130 \t\t Identification type FP8 \t\t\t\t nan\n",
      "131 \t\t Identification type FS1 \t\t\t\t nan\n",
      "132 \t\t Identification type FS2 \t\t\t\t nan\n",
      "133 \t\t Identification type FS3 \t\t\t\t nan\n",
      "134 \t\t Identification type FS4 \t\t\t\t nan\n",
      "135 \t\t Identification type FS5 \t\t\t\t nan\n",
      "136 \t\t Identification type FS6 \t\t\t\t By MS/MS\n",
      "137 \t\t Identification type FS7 \t\t\t\t nan\n",
      "138 \t\t Identification type FS8 \t\t\t\t nan\n",
      "139 \t\t Identification type HP1 \t\t\t\t nan\n",
      "140 \t\t Identification type HP2 \t\t\t\t nan\n",
      "141 \t\t Identification type HP3 \t\t\t\t nan\n",
      "142 \t\t Identification type HP4 \t\t\t\t nan\n",
      "143 \t\t Identification type HP5 \t\t\t\t nan\n",
      "144 \t\t Identification type HP6 \t\t\t\t nan\n",
      "145 \t\t Identification type HP7 \t\t\t\t nan\n",
      "146 \t\t Identification type HP8 \t\t\t\t nan\n",
      "147 \t\t Identification type HS1 \t\t\t\t nan\n",
      "148 \t\t Identification type HS2 \t\t\t\t nan\n",
      "149 \t\t Identification type HS3 \t\t\t\t nan\n",
      "150 \t\t Identification type HS4 \t\t\t\t nan\n",
      "151 \t\t Identification type HS5 \t\t\t\t nan\n",
      "152 \t\t Identification type HS6 \t\t\t\t nan\n",
      "153 \t\t Identification type HS7 \t\t\t\t nan\n",
      "154 \t\t Identification type HS8 \t\t\t\t nan\n",
      "155 \t\t Sequence coverage FP1 [%] \t\t\t\t 0.0\n",
      "156 \t\t Sequence coverage FP2 [%] \t\t\t\t 0.0\n",
      "157 \t\t Sequence coverage FP3 [%] \t\t\t\t 0.0\n",
      "158 \t\t Sequence coverage FP4 [%] \t\t\t\t 0.0\n",
      "159 \t\t Sequence coverage FP5 [%] \t\t\t\t 4.3\n",
      "160 \t\t Sequence coverage FP6 [%] \t\t\t\t 0.0\n",
      "161 \t\t Sequence coverage FP7 [%] \t\t\t\t 0.0\n",
      "162 \t\t Sequence coverage FP8 [%] \t\t\t\t 0.0\n",
      "163 \t\t Sequence coverage FS1 [%] \t\t\t\t 0.0\n",
      "164 \t\t Sequence coverage FS2 [%] \t\t\t\t 0.0\n",
      "165 \t\t Sequence coverage FS3 [%] \t\t\t\t 0.0\n",
      "166 \t\t Sequence coverage FS4 [%] \t\t\t\t 0.0\n",
      "167 \t\t Sequence coverage FS5 [%] \t\t\t\t 0.0\n",
      "168 \t\t Sequence coverage FS6 [%] \t\t\t\t 9.0\n",
      "169 \t\t Sequence coverage FS7 [%] \t\t\t\t 0.0\n",
      "170 \t\t Sequence coverage FS8 [%] \t\t\t\t 0.0\n",
      "171 \t\t Sequence coverage HP1 [%] \t\t\t\t 0.0\n",
      "172 \t\t Sequence coverage HP2 [%] \t\t\t\t 0.0\n",
      "173 \t\t Sequence coverage HP3 [%] \t\t\t\t 0.0\n",
      "174 \t\t Sequence coverage HP4 [%] \t\t\t\t 0.0\n",
      "175 \t\t Sequence coverage HP5 [%] \t\t\t\t 0.0\n",
      "176 \t\t Sequence coverage HP6 [%] \t\t\t\t 0.0\n",
      "177 \t\t Sequence coverage HP7 [%] \t\t\t\t 0.0\n",
      "178 \t\t Sequence coverage HP8 [%] \t\t\t\t 0.0\n",
      "179 \t\t Sequence coverage HS1 [%] \t\t\t\t 0.0\n",
      "180 \t\t Sequence coverage HS2 [%] \t\t\t\t 0.0\n",
      "181 \t\t Sequence coverage HS3 [%] \t\t\t\t 0.0\n",
      "182 \t\t Sequence coverage HS4 [%] \t\t\t\t 0.0\n",
      "183 \t\t Sequence coverage HS5 [%] \t\t\t\t 0.0\n",
      "184 \t\t Sequence coverage HS6 [%] \t\t\t\t 0.0\n",
      "185 \t\t Sequence coverage HS7 [%] \t\t\t\t 0.0\n",
      "186 \t\t Sequence coverage HS8 [%] \t\t\t\t 0.0\n",
      "187 \t\t Intensity \t\t\t\t 1594600\n",
      "188 \t\t Intensity FP1 \t\t\t\t 0\n",
      "189 \t\t Intensity FP2 \t\t\t\t 0\n",
      "190 \t\t Intensity FP3 \t\t\t\t 0\n",
      "191 \t\t Intensity FP4 \t\t\t\t 0\n",
      "192 \t\t Intensity FP5 \t\t\t\t 76629\n",
      "193 \t\t Intensity FP6 \t\t\t\t 0\n",
      "194 \t\t Intensity FP7 \t\t\t\t 0\n",
      "195 \t\t Intensity FP8 \t\t\t\t 0\n",
      "196 \t\t Intensity FS1 \t\t\t\t 0\n",
      "197 \t\t Intensity FS2 \t\t\t\t 0\n",
      "198 \t\t Intensity FS3 \t\t\t\t 0\n",
      "199 \t\t Intensity FS4 \t\t\t\t 0\n",
      "200 \t\t Intensity FS5 \t\t\t\t 0\n",
      "201 \t\t Intensity FS6 \t\t\t\t 1518000\n",
      "202 \t\t Intensity FS7 \t\t\t\t 0\n",
      "203 \t\t Intensity FS8 \t\t\t\t 0\n",
      "204 \t\t Intensity HP1 \t\t\t\t 0\n",
      "205 \t\t Intensity HP2 \t\t\t\t 0\n",
      "206 \t\t Intensity HP3 \t\t\t\t 0\n",
      "207 \t\t Intensity HP4 \t\t\t\t 0\n",
      "208 \t\t Intensity HP5 \t\t\t\t 0\n",
      "209 \t\t Intensity HP6 \t\t\t\t 0\n",
      "210 \t\t Intensity HP7 \t\t\t\t 0\n",
      "211 \t\t Intensity HP8 \t\t\t\t 0\n",
      "212 \t\t Intensity HS1 \t\t\t\t 0\n",
      "213 \t\t Intensity HS2 \t\t\t\t 0\n",
      "214 \t\t Intensity HS3 \t\t\t\t 0\n",
      "215 \t\t Intensity HS4 \t\t\t\t 0\n",
      "216 \t\t Intensity HS5 \t\t\t\t 0\n",
      "217 \t\t Intensity HS6 \t\t\t\t 0\n",
      "218 \t\t Intensity HS7 \t\t\t\t 0\n",
      "219 \t\t Intensity HS8 \t\t\t\t 0\n",
      "220 \t\t iBAQ \t\t\t\t 88592.0\n",
      "221 \t\t iBAQ FP1 \t\t\t\t 0.0\n",
      "222 \t\t iBAQ FP2 \t\t\t\t 0.0\n",
      "223 \t\t iBAQ FP3 \t\t\t\t 0.0\n",
      "224 \t\t iBAQ FP4 \t\t\t\t 0.0\n",
      "225 \t\t iBAQ FP5 \t\t\t\t 4257.2\n",
      "226 \t\t iBAQ FP6 \t\t\t\t 0.0\n",
      "227 \t\t iBAQ FP7 \t\t\t\t 0.0\n",
      "228 \t\t iBAQ FP8 \t\t\t\t 0.0\n",
      "229 \t\t iBAQ FS1 \t\t\t\t 0.0\n",
      "230 \t\t iBAQ FS2 \t\t\t\t 0.0\n",
      "231 \t\t iBAQ FS3 \t\t\t\t 0.0\n",
      "232 \t\t iBAQ FS4 \t\t\t\t 0.0\n",
      "233 \t\t iBAQ FS5 \t\t\t\t 0.0\n",
      "234 \t\t iBAQ FS6 \t\t\t\t 84334.0\n",
      "235 \t\t iBAQ FS7 \t\t\t\t 0.0\n",
      "236 \t\t iBAQ FS8 \t\t\t\t 0.0\n",
      "237 \t\t iBAQ HP1 \t\t\t\t 0.0\n",
      "238 \t\t iBAQ HP2 \t\t\t\t 0.0\n",
      "239 \t\t iBAQ HP3 \t\t\t\t 0.0\n",
      "240 \t\t iBAQ HP4 \t\t\t\t 0.0\n",
      "241 \t\t iBAQ HP5 \t\t\t\t 0.0\n",
      "242 \t\t iBAQ HP6 \t\t\t\t 0.0\n",
      "243 \t\t iBAQ HP7 \t\t\t\t 0.0\n",
      "244 \t\t iBAQ HP8 \t\t\t\t 0.0\n",
      "245 \t\t iBAQ HS1 \t\t\t\t 0.0\n",
      "246 \t\t iBAQ HS2 \t\t\t\t 0.0\n",
      "247 \t\t iBAQ HS3 \t\t\t\t 0.0\n",
      "248 \t\t iBAQ HS4 \t\t\t\t 0.0\n",
      "249 \t\t iBAQ HS5 \t\t\t\t 0.0\n",
      "250 \t\t iBAQ HS6 \t\t\t\t 0.0\n",
      "251 \t\t iBAQ HS7 \t\t\t\t 0.0\n",
      "252 \t\t iBAQ HS8 \t\t\t\t 0.0\n",
      "253 \t\t LFQ intensity FP1 \t\t\t\t 0\n",
      "254 \t\t LFQ intensity FP2 \t\t\t\t 0\n",
      "255 \t\t LFQ intensity FP3 \t\t\t\t 0\n",
      "256 \t\t LFQ intensity FP4 \t\t\t\t 0\n",
      "257 \t\t LFQ intensity FP5 \t\t\t\t 0\n",
      "258 \t\t LFQ intensity FP6 \t\t\t\t 0\n",
      "259 \t\t LFQ intensity FP7 \t\t\t\t 0\n",
      "260 \t\t LFQ intensity FP8 \t\t\t\t 0\n",
      "261 \t\t LFQ intensity FS1 \t\t\t\t 0\n",
      "262 \t\t LFQ intensity FS2 \t\t\t\t 0\n",
      "263 \t\t LFQ intensity FS3 \t\t\t\t 0\n",
      "264 \t\t LFQ intensity FS4 \t\t\t\t 0\n",
      "265 \t\t LFQ intensity FS5 \t\t\t\t 0\n",
      "266 \t\t LFQ intensity FS6 \t\t\t\t 3414200\n",
      "267 \t\t LFQ intensity FS7 \t\t\t\t 0\n",
      "268 \t\t LFQ intensity FS8 \t\t\t\t 0\n",
      "269 \t\t LFQ intensity HP1 \t\t\t\t 0\n",
      "270 \t\t LFQ intensity HP2 \t\t\t\t 0\n",
      "271 \t\t LFQ intensity HP3 \t\t\t\t 0\n",
      "272 \t\t LFQ intensity HP4 \t\t\t\t 0\n",
      "273 \t\t LFQ intensity HP5 \t\t\t\t 0\n",
      "274 \t\t LFQ intensity HP6 \t\t\t\t 0\n",
      "275 \t\t LFQ intensity HP7 \t\t\t\t 0\n",
      "276 \t\t LFQ intensity HP8 \t\t\t\t 0\n",
      "277 \t\t LFQ intensity HS1 \t\t\t\t 0\n",
      "278 \t\t LFQ intensity HS2 \t\t\t\t 0\n",
      "279 \t\t LFQ intensity HS3 \t\t\t\t 0\n",
      "280 \t\t LFQ intensity HS4 \t\t\t\t 0\n",
      "281 \t\t LFQ intensity HS5 \t\t\t\t 0\n",
      "282 \t\t LFQ intensity HS6 \t\t\t\t 0\n",
      "283 \t\t LFQ intensity HS7 \t\t\t\t 0\n",
      "284 \t\t LFQ intensity HS8 \t\t\t\t 0\n",
      "285 \t\t MS/MS count FP1 \t\t\t\t 0\n",
      "286 \t\t MS/MS count FP2 \t\t\t\t 0\n",
      "287 \t\t MS/MS count FP3 \t\t\t\t 0\n",
      "288 \t\t MS/MS count FP4 \t\t\t\t 0\n",
      "289 \t\t MS/MS count FP5 \t\t\t\t 0\n",
      "290 \t\t MS/MS count FP6 \t\t\t\t 0\n",
      "291 \t\t MS/MS count FP7 \t\t\t\t 0\n",
      "292 \t\t MS/MS count FP8 \t\t\t\t 0\n",
      "293 \t\t MS/MS count FS1 \t\t\t\t 0\n",
      "294 \t\t MS/MS count FS2 \t\t\t\t 0\n",
      "295 \t\t MS/MS count FS3 \t\t\t\t 0\n",
      "296 \t\t MS/MS count FS4 \t\t\t\t 0\n",
      "297 \t\t MS/MS count FS5 \t\t\t\t 0\n",
      "298 \t\t MS/MS count FS6 \t\t\t\t 3\n",
      "299 \t\t MS/MS count FS7 \t\t\t\t 0\n",
      "300 \t\t MS/MS count FS8 \t\t\t\t 0\n",
      "301 \t\t MS/MS count HP1 \t\t\t\t 0\n",
      "302 \t\t MS/MS count HP2 \t\t\t\t 0\n",
      "303 \t\t MS/MS count HP3 \t\t\t\t 0\n",
      "304 \t\t MS/MS count HP4 \t\t\t\t 0\n",
      "305 \t\t MS/MS count HP5 \t\t\t\t 0\n",
      "306 \t\t MS/MS count HP6 \t\t\t\t 0\n",
      "307 \t\t MS/MS count HP7 \t\t\t\t 0\n",
      "308 \t\t MS/MS count HP8 \t\t\t\t 0\n",
      "309 \t\t MS/MS count HS1 \t\t\t\t 0\n",
      "310 \t\t MS/MS count HS2 \t\t\t\t 0\n",
      "311 \t\t MS/MS count HS3 \t\t\t\t 0\n",
      "312 \t\t MS/MS count HS4 \t\t\t\t 0\n",
      "313 \t\t MS/MS count HS5 \t\t\t\t 0\n",
      "314 \t\t MS/MS count HS6 \t\t\t\t 0\n",
      "315 \t\t MS/MS count HS7 \t\t\t\t 0\n",
      "316 \t\t MS/MS count HS8 \t\t\t\t 0\n",
      "317 \t\t MS/MS count \t\t\t\t 3\n",
      "318 \t\t Only identified by site \t\t\t\t nan\n",
      "319 \t\t Reverse \t\t\t\t nan\n",
      "320 \t\t Potential contaminant \t\t\t\t nan\n",
      "321 \t\t id \t\t\t\t 100\n",
      "322 \t\t Peptide IDs \t\t\t\t 5443;29961\n",
      "323 \t\t Peptide is razor \t\t\t\t True;True\n",
      "324 \t\t Mod. peptide IDs \t\t\t\t 5912;32744\n",
      "325 \t\t Evidence IDs \t\t\t\t 25534;25535;135256\n",
      "326 \t\t MS/MS IDs \t\t\t\t 17106;17107;88855\n",
      "327 \t\t Best MS/MS \t\t\t\t 17107;88855\n",
      "328 \t\t Oxidation (M) site IDs \t\t\t\t nan\n",
      "329 \t\t Phospho (STY) site IDs \t\t\t\t nan\n",
      "330 \t\t Oxidation (M) site positions \t\t\t\t nan\n",
      "331 \t\t Phospho (STY) site positions \t\t\t\t nan\n"
     ]
    }
   ],
   "source": [
    "for _n,_c in enumerate(dfMemBand.columns):\n",
    "    print(_n,\"\\t\\t\", _c, \"\\t\\t\\t\\t\",dfMemBand.loc[100,_c])"
   ]
  },
  {
   "cell_type": "markdown",
   "metadata": {},
   "source": [
    "### row 100 of dfMemGroup"
   ]
  },
  {
   "cell_type": "code",
   "execution_count": 20,
   "metadata": {},
   "outputs": [
    {
     "name": "stdout",
     "output_type": "stream",
     "text": [
      "0 \t\t Protein IDs \t\t\t\t Msex2.00140-RA;MCOT.C00176.2.0.OPO5P\n",
      "1 \t\t Majority protein IDs \t\t\t\t Msex2.00140-RA;MCOT.C00176.2.0.OPO5P\n",
      "2 \t\t Peptide counts (all) \t\t\t\t 2;2\n",
      "3 \t\t Peptide counts (razor+unique) \t\t\t\t 2;2\n",
      "4 \t\t Peptide counts (unique) \t\t\t\t 2;2\n",
      "5 \t\t Fasta headers \t\t\t\t ;\n",
      "6 \t\t Number of proteins \t\t\t\t 2\n",
      "7 \t\t Peptides \t\t\t\t 2\n",
      "8 \t\t Razor + unique peptides \t\t\t\t 2\n",
      "9 \t\t Unique peptides \t\t\t\t 2\n",
      "10 \t\t Peptides FP \t\t\t\t 1\n",
      "11 \t\t Peptides FS \t\t\t\t 2\n",
      "12 \t\t Peptides HP \t\t\t\t 0\n",
      "13 \t\t Peptides HS \t\t\t\t 0\n",
      "14 \t\t Razor + unique peptides FP \t\t\t\t 1\n",
      "15 \t\t Razor + unique peptides FS \t\t\t\t 2\n",
      "16 \t\t Razor + unique peptides HP \t\t\t\t 0\n",
      "17 \t\t Razor + unique peptides HS \t\t\t\t 0\n",
      "18 \t\t Unique peptides FP \t\t\t\t 1\n",
      "19 \t\t Unique peptides FS \t\t\t\t 2\n",
      "20 \t\t Unique peptides HP \t\t\t\t 0\n",
      "21 \t\t Unique peptides HS \t\t\t\t 0\n",
      "22 \t\t Sequence coverage [%] \t\t\t\t 9.0\n",
      "23 \t\t Unique + razor sequence coverage [%] \t\t\t\t 9.0\n",
      "24 \t\t Unique sequence coverage [%] \t\t\t\t 9.0\n",
      "25 \t\t Mol. weight [kDa] \t\t\t\t 31.826\n",
      "26 \t\t Sequence length \t\t\t\t 277\n",
      "27 \t\t Sequence lengths \t\t\t\t 277;277\n",
      "28 \t\t Fraction average \t\t\t\t 5.67\n",
      "29 \t\t Fraction 1 \t\t\t\t nan\n",
      "30 \t\t Fraction 2 \t\t\t\t nan\n",
      "31 \t\t Fraction 3 \t\t\t\t nan\n",
      "32 \t\t Fraction 4 \t\t\t\t nan\n",
      "33 \t\t Fraction 5 \t\t\t\t 1.0\n",
      "34 \t\t Fraction 6 \t\t\t\t 2.0\n",
      "35 \t\t Fraction 7 \t\t\t\t nan\n",
      "36 \t\t Fraction 8 \t\t\t\t nan\n",
      "37 \t\t Q-value \t\t\t\t 0.0\n",
      "38 \t\t Score \t\t\t\t 3.3656\n",
      "39 \t\t Identification type FP \t\t\t\t By matching\n",
      "40 \t\t Identification type FS \t\t\t\t By MS/MS\n",
      "41 \t\t Identification type HP \t\t\t\t nan\n",
      "42 \t\t Identification type HS \t\t\t\t nan\n",
      "43 \t\t Sequence coverage FP [%] \t\t\t\t 4.3\n",
      "44 \t\t Sequence coverage FS [%] \t\t\t\t 9.0\n",
      "45 \t\t Sequence coverage HP [%] \t\t\t\t 0.0\n",
      "46 \t\t Sequence coverage HS [%] \t\t\t\t 0.0\n",
      "47 \t\t Intensity \t\t\t\t 1594600\n",
      "48 \t\t Intensity FP \t\t\t\t 76629\n",
      "49 \t\t Intensity FS \t\t\t\t 1518000\n",
      "50 \t\t Intensity HP \t\t\t\t 0\n",
      "51 \t\t Intensity HS \t\t\t\t 0\n",
      "52 \t\t iBAQ \t\t\t\t 88592.0\n",
      "53 \t\t iBAQ FP \t\t\t\t 4257.2\n",
      "54 \t\t iBAQ FS \t\t\t\t 84334.0\n",
      "55 \t\t iBAQ HP \t\t\t\t 0.0\n",
      "56 \t\t iBAQ HS \t\t\t\t 0.0\n",
      "57 \t\t LFQ intensity FP \t\t\t\t 0\n",
      "58 \t\t LFQ intensity FS \t\t\t\t 3828800\n",
      "59 \t\t LFQ intensity HP \t\t\t\t 0\n",
      "60 \t\t LFQ intensity HS \t\t\t\t 0\n",
      "61 \t\t MS/MS count FP \t\t\t\t 0\n",
      "62 \t\t MS/MS count FS \t\t\t\t 3\n",
      "63 \t\t MS/MS count HP \t\t\t\t 0\n",
      "64 \t\t MS/MS count HS \t\t\t\t 0\n",
      "65 \t\t MS/MS count \t\t\t\t 3\n",
      "66 \t\t Only identified by site \t\t\t\t nan\n",
      "67 \t\t Reverse \t\t\t\t nan\n",
      "68 \t\t Potential contaminant \t\t\t\t nan\n",
      "69 \t\t id \t\t\t\t 100\n",
      "70 \t\t Peptide IDs \t\t\t\t 5443;29961\n",
      "71 \t\t Peptide is razor \t\t\t\t True;True\n",
      "72 \t\t Mod. peptide IDs \t\t\t\t 5912;32744\n",
      "73 \t\t Evidence IDs \t\t\t\t 25534;25535;135256\n",
      "74 \t\t MS/MS IDs \t\t\t\t 17106;17107;88855\n",
      "75 \t\t Best MS/MS \t\t\t\t 17107;88855\n",
      "76 \t\t Oxidation (M) site IDs \t\t\t\t nan\n",
      "77 \t\t Phospho (STY) site IDs \t\t\t\t nan\n",
      "78 \t\t Oxidation (M) site positions \t\t\t\t nan\n",
      "79 \t\t Phospho (STY) site positions \t\t\t\t nan\n"
     ]
    }
   ],
   "source": [
    "for _n,_c in enumerate(dfMemGroup.columns):\n",
    "    print(_n,\"\\t\\t\", _c, \"\\t\\t\\t\\t\",dfMemGroup.loc[100,_c])"
   ]
  },
  {
   "cell_type": "markdown",
   "metadata": {},
   "source": [
    "## filter"
   ]
  },
  {
   "cell_type": "markdown",
   "metadata": {},
   "source": [
    "### remove the last 14 columns"
   ]
  },
  {
   "cell_type": "code",
   "execution_count": 21,
   "metadata": {},
   "outputs": [],
   "source": [
    "dfMemBand_filter1 = dfMemBand.iloc[:,:(dfMemBand.shape[1] - 14)]\n",
    "dfMemGroup_filter1 = dfMemGroup.iloc[:,:(dfMemGroup.shape[1] - 14)]\n",
    "dfDevBand_filter1 = dfDevBand.iloc[:,:(dfDevBand.shape[1] - 14)]\n",
    "dfDevGroup_filter1 = dfDevGroup.iloc[:,:(dfDevGroup.shape[1] - 14)]"
   ]
  },
  {
   "cell_type": "markdown",
   "metadata": {},
   "source": [
    "### remove comtaminant proteins"
   ]
  },
  {
   "cell_type": "code",
   "execution_count": 27,
   "metadata": {},
   "outputs": [],
   "source": [
    "f_filter = lambda x: x[0][:5] != \"CON__\" and x[0][:5] != \"REV__\""
   ]
  },
  {
   "cell_type": "code",
   "execution_count": 30,
   "metadata": {},
   "outputs": [],
   "source": [
    "dfMemBand_filter2 = dfMemBand_filter1[dfMemBand_filter1.apply(f_filter, axis=1)]\n",
    "dfMemGroup_filter2 = dfMemGroup_filter1[dfMemGroup_filter1.apply(f_filter, axis=1)]\n",
    "dfDevBand_filter2 = dfDevBand_filter1[dfDevBand_filter1.apply(f_filter, axis=1)]\n",
    "dfDevGroup_filter2 = dfDevGroup_filter1[dfDevGroup_filter1.apply(f_filter, axis=1)]"
   ]
  },
  {
   "cell_type": "markdown",
   "metadata": {},
   "source": [
    "## save files"
   ]
  },
  {
   "cell_type": "markdown",
   "metadata": {},
   "source": [
    "### save filter1"
   ]
  },
  {
   "cell_type": "code",
   "execution_count": 31,
   "metadata": {},
   "outputs": [],
   "source": [
    "folder = \"C:\\\\Users\\\\ATPs\\\\OneDrive\\\\Lab\\\\works\\\\2017DmSPSPH\\\\20180166ManducaMassSpectDevelopMembrane\\\\\"\n",
    "dfMemBand_filter1.to_csv(folder+\"20180118MsMemBand_filter1.csv\")\n",
    "dfMemGroup_filter1.to_csv(folder+\"20180118MsMemGroup_filter1.csv\")\n",
    "dfDevBand_filter1.to_csv(folder+\"20180118MsDevBand_filter1.csv\")\n",
    "dfDevGroup_filter1.to_csv(folder+\"20180118MsDevGroup_filter1.csv\")"
   ]
  },
  {
   "cell_type": "markdown",
   "metadata": {},
   "source": [
    "### save filter2"
   ]
  },
  {
   "cell_type": "code",
   "execution_count": 32,
   "metadata": {},
   "outputs": [],
   "source": [
    "dfMemBand_filter2.to_csv(folder+\"20180118MsMemBand_filter2.csv\")\n",
    "dfMemGroup_filter2.to_csv(folder+\"20180118MsMemGroup_filter2.csv\")\n",
    "dfDevBand_filter2.to_csv(folder+\"20180118MsDevBand_filter2.csv\")\n",
    "dfDevGroup_filter2.to_csv(folder+\"20180118MsDevGroup_filter2.csv\")"
   ]
  },
  {
   "cell_type": "code",
   "execution_count": null,
   "metadata": {},
   "outputs": [],
   "source": []
  }
 ],
 "metadata": {
  "kernelspec": {
   "display_name": "Python 3",
   "language": "python",
   "name": "python3"
  },
  "language_info": {
   "codemirror_mode": {
    "name": "ipython",
    "version": 3
   },
   "file_extension": ".py",
   "mimetype": "text/x-python",
   "name": "python",
   "nbconvert_exporter": "python",
   "pygments_lexer": "ipython3",
   "version": "3.6.2"
  },
  "toc": {
   "nav_menu": {
    "height": "201px",
    "width": "160px"
   },
   "number_sections": true,
   "sideBar": true,
   "skip_h1_title": false,
   "toc_cell": false,
   "toc_position": {
    "height": "844px",
    "left": "0px",
    "right": "auto",
    "top": "110px",
    "width": "267px"
   },
   "toc_section_display": "block",
   "toc_window_display": true
  }
 },
 "nbformat": 4,
 "nbformat_minor": 2
}
