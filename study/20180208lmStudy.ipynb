{
 "cells": [
  {
   "cell_type": "markdown",
   "metadata": {},
   "source": [
    "# Linear Regression function in R using lm() Function"
   ]
  },
  {
   "cell_type": "code",
   "execution_count": 3,
   "metadata": {},
   "outputs": [],
   "source": [
    "dataset <- read.csv(text = 'Month,Spend,Sales\n",
    "1,1000,9914\n",
    "2,4000,40487\n",
    "3,5000,54324\n",
    "4,4500,50044\n",
    "5,3000,34719\n",
    "6,4000,42551\n",
    "7,9000,94871\n",
    "8,11000,118914\n",
    "9,15000,158484\n",
    "10,12000,131348\n",
    "11,7000,78504\n",
    "12,3000,36284\n",
    "', header = T, colClasses = \"numeric\")"
   ]
  },
  {
   "cell_type": "code",
   "execution_count": 4,
   "metadata": {},
   "outputs": [
    {
     "data": {
      "text/html": [
       "<table>\n",
       "<thead><tr><th scope=col>Month</th><th scope=col>Spend</th><th scope=col>Sales</th></tr></thead>\n",
       "<tbody>\n",
       "\t<tr><td> 1    </td><td> 1000 </td><td>  9914</td></tr>\n",
       "\t<tr><td> 2    </td><td> 4000 </td><td> 40487</td></tr>\n",
       "\t<tr><td> 3    </td><td> 5000 </td><td> 54324</td></tr>\n",
       "\t<tr><td> 4    </td><td> 4500 </td><td> 50044</td></tr>\n",
       "\t<tr><td> 5    </td><td> 3000 </td><td> 34719</td></tr>\n",
       "\t<tr><td> 6    </td><td> 4000 </td><td> 42551</td></tr>\n",
       "\t<tr><td> 7    </td><td> 9000 </td><td> 94871</td></tr>\n",
       "\t<tr><td> 8    </td><td>11000 </td><td>118914</td></tr>\n",
       "\t<tr><td> 9    </td><td>15000 </td><td>158484</td></tr>\n",
       "\t<tr><td>10    </td><td>12000 </td><td>131348</td></tr>\n",
       "\t<tr><td>11    </td><td> 7000 </td><td> 78504</td></tr>\n",
       "\t<tr><td>12    </td><td> 3000 </td><td> 36284</td></tr>\n",
       "</tbody>\n",
       "</table>\n"
      ],
      "text/latex": [
       "\\begin{tabular}{r|lll}\n",
       " Month & Spend & Sales\\\\\n",
       "\\hline\n",
       "\t  1     &  1000  &   9914\\\\\n",
       "\t  2     &  4000  &  40487\\\\\n",
       "\t  3     &  5000  &  54324\\\\\n",
       "\t  4     &  4500  &  50044\\\\\n",
       "\t  5     &  3000  &  34719\\\\\n",
       "\t  6     &  4000  &  42551\\\\\n",
       "\t  7     &  9000  &  94871\\\\\n",
       "\t  8     & 11000  & 118914\\\\\n",
       "\t  9     & 15000  & 158484\\\\\n",
       "\t 10     & 12000  & 131348\\\\\n",
       "\t 11     &  7000  &  78504\\\\\n",
       "\t 12     &  3000  &  36284\\\\\n",
       "\\end{tabular}\n"
      ],
      "text/markdown": [
       "\n",
       "Month | Spend | Sales | \n",
       "|---|---|---|---|---|---|---|---|---|---|---|---|\n",
       "|  1     |  1000  |   9914 | \n",
       "|  2     |  4000  |  40487 | \n",
       "|  3     |  5000  |  54324 | \n",
       "|  4     |  4500  |  50044 | \n",
       "|  5     |  3000  |  34719 | \n",
       "|  6     |  4000  |  42551 | \n",
       "|  7     |  9000  |  94871 | \n",
       "|  8     | 11000  | 118914 | \n",
       "|  9     | 15000  | 158484 | \n",
       "| 10     | 12000  | 131348 | \n",
       "| 11     |  7000  |  78504 | \n",
       "| 12     |  3000  |  36284 | \n",
       "\n",
       "\n"
      ],
      "text/plain": [
       "   Month Spend Sales \n",
       "1   1     1000   9914\n",
       "2   2     4000  40487\n",
       "3   3     5000  54324\n",
       "4   4     4500  50044\n",
       "5   5     3000  34719\n",
       "6   6     4000  42551\n",
       "7   7     9000  94871\n",
       "8   8    11000 118914\n",
       "9   9    15000 158484\n",
       "10 10    12000 131348\n",
       "11 11     7000  78504\n",
       "12 12     3000  36284"
      ]
     },
     "metadata": {},
     "output_type": "display_data"
    }
   ],
   "source": [
    "dataset"
   ]
  },
  {
   "cell_type": "code",
   "execution_count": 5,
   "metadata": {},
   "outputs": [
    {
     "data": {
      "text/plain": [
       "\n",
       "Call:\n",
       "lm(formula = Sales ~ Spend, data = dataset)\n",
       "\n",
       "Residuals:\n",
       "   Min     1Q Median     3Q    Max \n",
       " -3385  -2097    258   1726   3034 \n",
       "\n",
       "Coefficients:\n",
       "             Estimate Std. Error t value Pr(>|t|)    \n",
       "(Intercept) 1383.4714  1255.2404   1.102    0.296    \n",
       "Spend         10.6222     0.1625  65.378 1.71e-14 ***\n",
       "---\n",
       "Signif. codes:  0 '***' 0.001 '**' 0.01 '*' 0.05 '.' 0.1 ' ' 1\n",
       "\n",
       "Residual standard error: 2313 on 10 degrees of freedom\n",
       "Multiple R-squared:  0.9977,\tAdjusted R-squared:  0.9974 \n",
       "F-statistic:  4274 on 1 and 10 DF,  p-value: 1.707e-14\n"
      ]
     },
     "metadata": {},
     "output_type": "display_data"
    }
   ],
   "source": [
    "simple.fit <- lm(Sales ~ Spend, data = dataset)\n",
    "summary(simple.fit)"
   ]
  },
  {
   "cell_type": "code",
   "execution_count": 6,
   "metadata": {},
   "outputs": [
    {
     "data": {
      "text/plain": [
       "\n",
       "Call:\n",
       "lm(formula = Sales ~ Spend + Month, data = dataset)\n",
       "\n",
       "Residuals:\n",
       "     Min       1Q   Median       3Q      Max \n",
       "-1793.73 -1558.33    -1.73  1374.19  1911.58 \n",
       "\n",
       "Coefficients:\n",
       "             Estimate Std. Error t value Pr(>|t|)    \n",
       "(Intercept) -567.6098  1041.8836  -0.545  0.59913    \n",
       "Spend         10.3825     0.1328  78.159 4.65e-14 ***\n",
       "Month        541.3736   158.1660   3.423  0.00759 ** \n",
       "---\n",
       "Signif. codes:  0 '***' 0.001 '**' 0.01 '*' 0.05 '.' 0.1 ' ' 1\n",
       "\n",
       "Residual standard error: 1607 on 9 degrees of freedom\n",
       "Multiple R-squared:  0.999,\tAdjusted R-squared:  0.9988 \n",
       "F-statistic:  4433 on 2 and 9 DF,  p-value: 3.368e-14\n"
      ]
     },
     "metadata": {},
     "output_type": "display_data"
    }
   ],
   "source": [
    "multi.fit <- lm(Sales ~ Spend + Month, data = dataset)\n",
    "summary(multi.fit)"
   ]
  },
  {
   "cell_type": "markdown",
   "metadata": {},
   "source": [
    "## Interpreting R's Regression Output\n",
    "\n",
    "* Residues: The section summarizes the residuals, the error between the prediction of the model and the actual results. Smaller residuals are better.\n",
    "* Coefficients: For each variable and the intercept, a weight is produced and that weight has other attributes like the standard error, a t-test value and significance.\n",
    "    * Estimate: This is the weight given to the variable. In the simple regression case (one variable plus the intercept), for every one dollar increase in Spend, the model predicts an increase of \\$10.6222.\n",
    "    * Std.Error: Tells you how precisely was the estimate measured. It's really only useful for calculating the t-value.\n",
    "    * t-value and Pr(>[t]): the t-value is calculated by taking the coefficient divided by the Std.Error. It is then used to test whether or not the coefficient is significantly different from zero. If it isn't significant, then the coefficient really isn't adding anything to the model and could be dropped or investigated further. Pr(>[t]) is the significance level.\n",
    "\n",
    "* Performance Measures: Three sets of measurements are provided.\n",
    "    * Residual Standard Error: This is the standard deviation of the residuals. Smaller is better.\n",
    "    * Multiple / Ajusted R-Square: For one variable, the distinction doesn't really matter. R-squared shos the amount of variance explained by the model. Adjusted R-Square takes into account the number of variables and is most useful for umltiple-regression.\n",
    "    * F-statistic: The F-test checks if at least one variable's weight is significantly different than zero. This is a global test to help asses a model. If the p-value is not significant (e.g. greater than 0.05) than your model is essentially not doing anything."
   ]
  },
  {
   "cell_type": "markdown",
   "metadata": {},
   "source": [
    "# Explaining thelm() Summary in R\n",
    "\n",
    "Summary:\n",
    "* Residual Standard Error: Essentially standard deviation of residuals / errors of your regression model.\n",
    "\n",
    "* Multiple R-Squared: Percent of the variance of Y intact after subtracting the error of the model.\n",
    "\n",
    "* Adjusted R-Squared: Same as multiple R-squared but takes into account the number of samples and variables you're using.\n",
    "\n",
    "* F-Statistic: Global test to check if your model has at least one significant variable. Takes into account number of variables and observation used.\n",
    "\n",
    "R's lm() function is fast, easy and succinct. However, when you're getting started, that brevity can be a bit of curse. I'm going to explain some of the key components to the summary() function in R for linear regression models. In addition, I'll also show you how to calculate these figures for yourself so you have a better intuition of what they mean.\n"
   ]
  },
  {
   "cell_type": "markdown",
   "metadata": {},
   "source": [
    "## Getting Started: Build a Model\n",
    "\n",
    "Before we can examine a model summary, we need to build a model. To follow along with this example, create these three variables."
   ]
  },
  {
   "cell_type": "code",
   "execution_count": 7,
   "metadata": {},
   "outputs": [],
   "source": [
    "#Anscombe's Quartet Q1 Data\n",
    "y=c(8.04,6.95,7.58,8.81,8.33,9.96,7.24,4.26,10.84,4.82,5.68)\n",
    "x1=c(10,8,13,9,11,14,6,4,12,7,5)\n",
    "#Some fake data, set the seed to be reproducible.\n",
    "set.seed(15)\n",
    "x2=sqrt(y)+rnorm(length(y))"
   ]
  },
  {
   "cell_type": "markdown",
   "metadata": {},
   "source": [
    "Now, we'll create a linear regression model using R's lm() function and we'll get the summary output using the summary() function."
   ]
  },
  {
   "cell_type": "code",
   "execution_count": 8,
   "metadata": {},
   "outputs": [
    {
     "data": {
      "text/plain": [
       "\n",
       "Call:\n",
       "lm(formula = y ~ x1 + x2)\n",
       "\n",
       "Residuals:\n",
       "     Min       1Q   Median       3Q      Max \n",
       "-1.69194 -0.61053 -0.08073  0.60553  1.61689 \n",
       "\n",
       "Coefficients:\n",
       "            Estimate Std. Error t value Pr(>|t|)   \n",
       "(Intercept)   0.8278     1.7063   0.485  0.64058   \n",
       "x1            0.5299     0.1104   4.802  0.00135 **\n",
       "x2            0.6443     0.4017   1.604  0.14744   \n",
       "---\n",
       "Signif. codes:  0 '***' 0.001 '**' 0.01 '*' 0.05 '.' 0.1 ' ' 1\n",
       "\n",
       "Residual standard error: 1.141 on 8 degrees of freedom\n",
       "Multiple R-squared:  0.7477,\tAdjusted R-squared:  0.6846 \n",
       "F-statistic: 11.85 on 2 and 8 DF,  p-value: 0.004054\n"
      ]
     },
     "metadata": {},
     "output_type": "display_data"
    }
   ],
   "source": [
    "model <- lm(y ~ x1 + x2)\n",
    "summary(model)"
   ]
  },
  {
   "cell_type": "markdown",
   "metadata": {},
   "source": [
    "# Meaning behind Each Section of Summary()"
   ]
  },
  {
   "cell_type": "markdown",
   "metadata": {},
   "source": [
    "* Call: this is an R feature that shows what function and parameters were used to create the model.\n",
    "\n",
    "* Residuals: Difference between what the model predicted and the actual value of y. You can calculate the Residuals section like so: ```summary(y - model\\$fitted.values```\n",
    "\n",
    "* Coefficients: These are the weights that minimize the sum of square of the errors.\n",
    "    * Std.Error is Residual Standard Error divided by the square root of the sum of the square of that particular x variable.\n",
    "    * t value: Estimate divided by Std.Error.\n",
    "    * Pr(>|t|): Look up your t value in a T distribution table with the degrees of freedom.\n"
   ]
  },
  {
   "cell_type": "markdown",
   "metadata": {},
   "source": [
    "## Residual Standard Error\n",
    "\n",
    "Standard deviation is the aquare root of variance. Standard Error is very similar. The only difference is that instead of dividing by n-1, you substract n minus 1 + # of variables involved."
   ]
  },
  {
   "cell_type": "code",
   "execution_count": 9,
   "metadata": {},
   "outputs": [
    {
     "data": {
      "text/html": [
       "<dl class=dl-horizontal>\n",
       "\t<dt>(Intercept)</dt>\n",
       "\t\t<dd>0.827822301039284</dd>\n",
       "\t<dt>x1</dt>\n",
       "\t\t<dd>0.529933091067165</dd>\n",
       "\t<dt>x2</dt>\n",
       "\t\t<dd>0.644272294512029</dd>\n",
       "</dl>\n"
      ],
      "text/latex": [
       "\\begin{description*}\n",
       "\\item[(Intercept)] 0.827822301039284\n",
       "\\item[x1] 0.529933091067165\n",
       "\\item[x2] 0.644272294512029\n",
       "\\end{description*}\n"
      ],
      "text/markdown": [
       "(Intercept)\n",
       ":   0.827822301039284x1\n",
       ":   0.529933091067165x2\n",
       ":   0.644272294512029\n",
       "\n"
      ],
      "text/plain": [
       "(Intercept)          x1          x2 \n",
       "  0.8278223   0.5299331   0.6442723 "
      ]
     },
     "metadata": {},
     "output_type": "display_data"
    }
   ],
   "source": [
    "model$coefficients"
   ]
  },
  {
   "cell_type": "code",
   "execution_count": 10,
   "metadata": {},
   "outputs": [
    {
     "data": {
      "text/html": [
       "1.14096530127686"
      ],
      "text/latex": [
       "1.14096530127686"
      ],
      "text/markdown": [
       "1.14096530127686"
      ],
      "text/plain": [
       "[1] 1.140965"
      ]
     },
     "metadata": {},
     "output_type": "display_data"
    }
   ],
   "source": [
    "#Residual Standard error (Like Standard Deviation)\n",
    "k <- length(model$coefficients) - 1 # substract one to ignore intercept\n",
    "SSE <- sum(model$residuals ** 2)\n",
    "n <- length(model$residuals)\n",
    "sqrt(SSE/(n-(1+k))) #Residual Standard Error"
   ]
  },
  {
   "cell_type": "markdown",
   "metadata": {},
   "source": [
    "## Multiple R-squared\n",
    "\n",
    "Also called the coefficient of determination, this is an oft-cited measurement of how well your model fits to the data. While there are many issues with using it alone, it's a quick and pre-computed check for your model.   \n",
    "R-Squared substracts the residual error from the variance in Y. The bigger the error, the worse the remaining variance will appear. "
   ]
  },
  {
   "cell_type": "code",
   "execution_count": 11,
   "metadata": {},
   "outputs": [
    {
     "data": {
      "text/html": [
       "0.747668147621351"
      ],
      "text/latex": [
       "0.747668147621351"
      ],
      "text/markdown": [
       "0.747668147621351"
      ],
      "text/plain": [
       "[1] 0.7476681"
      ]
     },
     "metadata": {},
     "output_type": "display_data"
    }
   ],
   "source": [
    "#Multiple R-Squared (Coefficient of Determination)\n",
    "SSyy <- sum((y-mean(y)) ** 2)\n",
    "SSE <- sum(model$residuals ** 2)\n",
    "(SSyy - SSE) / SSyy"
   ]
  },
  {
   "cell_type": "markdown",
   "metadata": {},
   "source": [
    "If you notice, numerator doesn't have to be positive. If the model is so bad, you can actually end up with a negative R-Squared.\n"
   ]
  },
  {
   "cell_type": "markdown",
   "metadata": {},
   "source": [
    "## Adjusted R-squared\n",
    "\n",
    "Multiple R-squared works great for simple linear (one variable) regression. However, in most cases, the model has multiple variables. The more variables you add, the more variance you're going to explain. So you have to control for the extra variables.\n",
    "\n",
    "Adjusted R-Squared normalizes Multiple R-Squared by taking into account how many samples you have and how many variables you're using."
   ]
  },
  {
   "cell_type": "code",
   "execution_count": 12,
   "metadata": {},
   "outputs": [
    {
     "data": {
      "text/html": [
       "0.684585184526689"
      ],
      "text/latex": [
       "0.684585184526689"
      ],
      "text/markdown": [
       "0.684585184526689"
      ],
      "text/plain": [
       "[1] 0.6845852"
      ]
     },
     "metadata": {},
     "output_type": "display_data"
    }
   ],
   "source": [
    "# Adjusted R-Squared\n",
    "n <- length(y)\n",
    "k <- length(model$coefficients) - 1 #substract one to ignore intercept\n",
    "SSE <- sum(model$residuals ** 2)\n",
    "SSyy <- sum((y - mean(y)) ** 2)\n",
    "1 - (SSE/SSyy) * (n - 1) / (n - (k + 1))"
   ]
  },
  {
   "cell_type": "markdown",
   "metadata": {},
   "source": [
    "Notice how k is in the denominator. If you have 100 observations (n) and 5 variables, you'll be dividing by 100 - 5 - 1 = 94. If you have 20 variables instead, you're dividing by 100 - 20 -1 = 79. As the denominator gets smaller, the results get larger: 99/94 = 1.05; 79/94 = 1.25\n",
    "\n",
    "A larger normalizing value is going to make the Adjusted R-squared worse since we're substracting its product from one.\n"
   ]
  },
  {
   "cell_type": "markdown",
   "metadata": {},
   "source": [
    "## Fstatistic\n",
    "\n",
    "Finally, the F-statistic. including the t-testes, this is the second \"test\" that the summary function produces for lm models. The F-Statistic is a \"global\" test that checks if at least one of your coefficients are nonzero."
   ]
  },
  {
   "cell_type": "code",
   "execution_count": 16,
   "metadata": {},
   "outputs": [
    {
     "data": {
      "text/html": [
       "11.8521405930061"
      ],
      "text/latex": [
       "11.8521405930061"
      ],
      "text/markdown": [
       "11.8521405930061"
      ],
      "text/plain": [
       "[1] 11.85214"
      ]
     },
     "metadata": {},
     "output_type": "display_data"
    }
   ],
   "source": [
    "#F-Statistic\n",
    "#H0: All coefficients are zero\n",
    "#Ha: At least one coefficient is nonzero\n",
    "#Compare test statistic to F Distribution table\n",
    "n <- length(y)\n",
    "SSE <- sum(model$residuals ** 2)\n",
    "SSyy <- sum((y-mean(y)) ** 2)\n",
    "k <- length(model$coefficients) - 1\n",
    "((SSyy - SSE) / k) / (SSE / (n - (k + 1)))"
   ]
  },
  {
   "cell_type": "markdown",
   "metadata": {},
   "source": [
    "The reason for this test is based on the fact that if you run multiple hypothesis test (namely, on your coefficients), you're likely to include a variable that isn't actually significant. "
   ]
  },
  {
   "cell_type": "code",
   "execution_count": null,
   "metadata": {},
   "outputs": [],
   "source": []
  }
 ],
 "metadata": {
  "kernelspec": {
   "display_name": "R",
   "language": "R",
   "name": "ir"
  },
  "language_info": {
   "codemirror_mode": "r",
   "file_extension": ".r",
   "mimetype": "text/x-r-source",
   "name": "R",
   "pygments_lexer": "r",
   "version": "3.4.2"
  },
  "toc": {
   "nav_menu": {},
   "number_sections": true,
   "sideBar": true,
   "skip_h1_title": true,
   "toc_cell": false,
   "toc_position": {},
   "toc_section_display": "block",
   "toc_window_display": true
  }
 },
 "nbformat": 4,
 "nbformat_minor": 2
}
