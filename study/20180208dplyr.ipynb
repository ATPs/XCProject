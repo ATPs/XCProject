{
 "cells": [
  {
   "cell_type": "markdown",
   "metadata": {},
   "source": [
    "# dplyr-高效的数据变换与整理工具"
   ]
  },
  {
   "cell_type": "markdown",
   "metadata": {},
   "source": [
    "## 背景简介\n",
    "\n",
    "`dplyr`包是Hadley Wickham (`ggplot2`包的作者，被称作“一个改变R的人”）的杰作，并自称a grammar of data manipulation, 他将原本`plyr`包中的`ddply`等函数进一步分离强化，专注接受`dataframe`对象，大幅提高了速度，并提供了更稳健的与其他数据对象间的接口。"
   ]
  },
  {
   "cell_type": "markdown",
   "metadata": {},
   "source": [
    "## `dplyr`包使用介绍"
   ]
  },
  {
   "cell_type": "markdown",
   "metadata": {},
   "source": [
    "### `dplyr`包的安装加载与示例数据准备"
   ]
  },
  {
   "cell_type": "code",
   "execution_count": 1,
   "metadata": {},
   "outputs": [],
   "source": [
    "# install.packages(\"dplyr\")\n",
    "# install.packages(\"hflights\")"
   ]
  },
  {
   "cell_type": "code",
   "execution_count": 2,
   "metadata": {},
   "outputs": [
    {
     "name": "stderr",
     "output_type": "stream",
     "text": [
      "\n",
      "Attaching package: 'dplyr'\n",
      "\n",
      "The following objects are masked from 'package:stats':\n",
      "\n",
      "    filter, lag\n",
      "\n",
      "The following objects are masked from 'package:base':\n",
      "\n",
      "    intersect, setdiff, setequal, union\n",
      "\n"
     ]
    }
   ],
   "source": [
    "library(dplyr)\n",
    "library(hflights)"
   ]
  },
  {
   "cell_type": "code",
   "execution_count": 3,
   "metadata": {},
   "outputs": [
    {
     "data": {
      "text/html": [
       "'data.frame'"
      ],
      "text/latex": [
       "'data.frame'"
      ],
      "text/markdown": [
       "'data.frame'"
      ],
      "text/plain": [
       "[1] \"data.frame\""
      ]
     },
     "metadata": {},
     "output_type": "display_data"
    },
    {
     "data": {
      "text/html": [
       "<ol class=list-inline>\n",
       "\t<li>227496</li>\n",
       "\t<li>21</li>\n",
       "</ol>\n"
      ],
      "text/latex": [
       "\\begin{enumerate*}\n",
       "\\item 227496\n",
       "\\item 21\n",
       "\\end{enumerate*}\n"
      ],
      "text/markdown": [
       "1. 227496\n",
       "2. 21\n",
       "\n",
       "\n"
      ],
      "text/plain": [
       "[1] 227496     21"
      ]
     },
     "metadata": {},
     "output_type": "display_data"
    }
   ],
   "source": [
    "class(hflights)\n",
    "dim(hflights)"
   ]
  },
  {
   "cell_type": "code",
   "execution_count": 4,
   "metadata": {},
   "outputs": [
    {
     "data": {
      "text/html": [
       "<table>\n",
       "<thead><tr><th></th><th scope=col>Year</th><th scope=col>Month</th><th scope=col>DayofMonth</th><th scope=col>DayOfWeek</th><th scope=col>DepTime</th><th scope=col>ArrTime</th><th scope=col>UniqueCarrier</th><th scope=col>FlightNum</th><th scope=col>TailNum</th><th scope=col>ActualElapsedTime</th><th scope=col>...</th><th scope=col>ArrDelay</th><th scope=col>DepDelay</th><th scope=col>Origin</th><th scope=col>Dest</th><th scope=col>Distance</th><th scope=col>TaxiIn</th><th scope=col>TaxiOut</th><th scope=col>Cancelled</th><th scope=col>CancellationCode</th><th scope=col>Diverted</th></tr></thead>\n",
       "<tbody>\n",
       "\t<tr><th scope=row>5424</th><td>2011  </td><td>1     </td><td>1     </td><td>6     </td><td>1400  </td><td>1500  </td><td>AA    </td><td>428   </td><td>N576AA</td><td>60    </td><td>...   </td><td>-10   </td><td> 0    </td><td>IAH   </td><td>DFW   </td><td>224   </td><td>7     </td><td>13    </td><td>0     </td><td>      </td><td>0     </td></tr>\n",
       "\t<tr><th scope=row>5425</th><td>2011  </td><td>1     </td><td>2     </td><td>7     </td><td>1401  </td><td>1501  </td><td>AA    </td><td>428   </td><td>N557AA</td><td>60    </td><td>...   </td><td> -9   </td><td> 1    </td><td>IAH   </td><td>DFW   </td><td>224   </td><td>6     </td><td> 9    </td><td>0     </td><td>      </td><td>0     </td></tr>\n",
       "\t<tr><th scope=row>5426</th><td>2011  </td><td>1     </td><td>3     </td><td>1     </td><td>1352  </td><td>1502  </td><td>AA    </td><td>428   </td><td>N541AA</td><td>70    </td><td>...   </td><td> -8   </td><td>-8    </td><td>IAH   </td><td>DFW   </td><td>224   </td><td>5     </td><td>17    </td><td>0     </td><td>      </td><td>0     </td></tr>\n",
       "\t<tr><th scope=row>5427</th><td>2011  </td><td>1     </td><td>4     </td><td>2     </td><td>1403  </td><td>1513  </td><td>AA    </td><td>428   </td><td>N403AA</td><td>70    </td><td>...   </td><td>  3   </td><td> 3    </td><td>IAH   </td><td>DFW   </td><td>224   </td><td>9     </td><td>22    </td><td>0     </td><td>      </td><td>0     </td></tr>\n",
       "\t<tr><th scope=row>5428</th><td>2011  </td><td>1     </td><td>5     </td><td>3     </td><td>1405  </td><td>1507  </td><td>AA    </td><td>428   </td><td>N492AA</td><td>62    </td><td>...   </td><td> -3   </td><td> 5    </td><td>IAH   </td><td>DFW   </td><td>224   </td><td>9     </td><td> 9    </td><td>0     </td><td>      </td><td>0     </td></tr>\n",
       "\t<tr><th scope=row>5429</th><td>2011  </td><td>1     </td><td>6     </td><td>4     </td><td>1359  </td><td>1503  </td><td>AA    </td><td>428   </td><td>N262AA</td><td>64    </td><td>...   </td><td> -7   </td><td>-1    </td><td>IAH   </td><td>DFW   </td><td>224   </td><td>6     </td><td>13    </td><td>0     </td><td>      </td><td>0     </td></tr>\n",
       "</tbody>\n",
       "</table>\n"
      ],
      "text/latex": [
       "\\begin{tabular}{r|lllllllllllllllllllll}\n",
       "  & Year & Month & DayofMonth & DayOfWeek & DepTime & ArrTime & UniqueCarrier & FlightNum & TailNum & ActualElapsedTime & ... & ArrDelay & DepDelay & Origin & Dest & Distance & TaxiIn & TaxiOut & Cancelled & CancellationCode & Diverted\\\\\n",
       "\\hline\n",
       "\t5424 & 2011   & 1      & 1      & 6      & 1400   & 1500   & AA     & 428    & N576AA & 60     & ...    & -10    &  0     & IAH    & DFW    & 224    & 7      & 13     & 0      &        & 0     \\\\\n",
       "\t5425 & 2011   & 1      & 2      & 7      & 1401   & 1501   & AA     & 428    & N557AA & 60     & ...    &  -9    &  1     & IAH    & DFW    & 224    & 6      &  9     & 0      &        & 0     \\\\\n",
       "\t5426 & 2011   & 1      & 3      & 1      & 1352   & 1502   & AA     & 428    & N541AA & 70     & ...    &  -8    & -8     & IAH    & DFW    & 224    & 5      & 17     & 0      &        & 0     \\\\\n",
       "\t5427 & 2011   & 1      & 4      & 2      & 1403   & 1513   & AA     & 428    & N403AA & 70     & ...    &   3    &  3     & IAH    & DFW    & 224    & 9      & 22     & 0      &        & 0     \\\\\n",
       "\t5428 & 2011   & 1      & 5      & 3      & 1405   & 1507   & AA     & 428    & N492AA & 62     & ...    &  -3    &  5     & IAH    & DFW    & 224    & 9      &  9     & 0      &        & 0     \\\\\n",
       "\t5429 & 2011   & 1      & 6      & 4      & 1359   & 1503   & AA     & 428    & N262AA & 64     & ...    &  -7    & -1     & IAH    & DFW    & 224    & 6      & 13     & 0      &        & 0     \\\\\n",
       "\\end{tabular}\n"
      ],
      "text/markdown": [
       "\n",
       "| <!--/--> | Year | Month | DayofMonth | DayOfWeek | DepTime | ArrTime | UniqueCarrier | FlightNum | TailNum | ActualElapsedTime | ... | ArrDelay | DepDelay | Origin | Dest | Distance | TaxiIn | TaxiOut | Cancelled | CancellationCode | Diverted | \n",
       "|---|---|---|---|---|---|\n",
       "| 5424 | 2011   | 1      | 1      | 6      | 1400   | 1500   | AA     | 428    | N576AA | 60     | ...    | -10    |  0     | IAH    | DFW    | 224    | 7      | 13     | 0      |        | 0      | \n",
       "| 5425 | 2011   | 1      | 2      | 7      | 1401   | 1501   | AA     | 428    | N557AA | 60     | ...    |  -9    |  1     | IAH    | DFW    | 224    | 6      |  9     | 0      |        | 0      | \n",
       "| 5426 | 2011   | 1      | 3      | 1      | 1352   | 1502   | AA     | 428    | N541AA | 70     | ...    |  -8    | -8     | IAH    | DFW    | 224    | 5      | 17     | 0      |        | 0      | \n",
       "| 5427 | 2011   | 1      | 4      | 2      | 1403   | 1513   | AA     | 428    | N403AA | 70     | ...    |   3    |  3     | IAH    | DFW    | 224    | 9      | 22     | 0      |        | 0      | \n",
       "| 5428 | 2011   | 1      | 5      | 3      | 1405   | 1507   | AA     | 428    | N492AA | 62     | ...    |  -3    |  5     | IAH    | DFW    | 224    | 9      |  9     | 0      |        | 0      | \n",
       "| 5429 | 2011   | 1      | 6      | 4      | 1359   | 1503   | AA     | 428    | N262AA | 64     | ...    |  -7    | -1     | IAH    | DFW    | 224    | 6      | 13     | 0      |        | 0      | \n",
       "\n",
       "\n"
      ],
      "text/plain": [
       "     Year Month DayofMonth DayOfWeek DepTime ArrTime UniqueCarrier FlightNum\n",
       "5424 2011 1     1          6         1400    1500    AA            428      \n",
       "5425 2011 1     2          7         1401    1501    AA            428      \n",
       "5426 2011 1     3          1         1352    1502    AA            428      \n",
       "5427 2011 1     4          2         1403    1513    AA            428      \n",
       "5428 2011 1     5          3         1405    1507    AA            428      \n",
       "5429 2011 1     6          4         1359    1503    AA            428      \n",
       "     TailNum ActualElapsedTime ... ArrDelay DepDelay Origin Dest Distance\n",
       "5424 N576AA  60                ... -10       0       IAH    DFW  224     \n",
       "5425 N557AA  60                ...  -9       1       IAH    DFW  224     \n",
       "5426 N541AA  70                ...  -8      -8       IAH    DFW  224     \n",
       "5427 N403AA  70                ...   3       3       IAH    DFW  224     \n",
       "5428 N492AA  62                ...  -3       5       IAH    DFW  224     \n",
       "5429 N262AA  64                ...  -7      -1       IAH    DFW  224     \n",
       "     TaxiIn TaxiOut Cancelled CancellationCode Diverted\n",
       "5424 7      13      0                          0       \n",
       "5425 6       9      0                          0       \n",
       "5426 5      17      0                          0       \n",
       "5427 9      22      0                          0       \n",
       "5428 9       9      0                          0       \n",
       "5429 6      13      0                          0       "
      ]
     },
     "metadata": {},
     "output_type": "display_data"
    }
   ],
   "source": [
    "head(hflights)"
   ]
  },
  {
   "cell_type": "code",
   "execution_count": 5,
   "metadata": {},
   "outputs": [
    {
     "data": {
      "text/plain": [
       "[1] '0.7.4'"
      ]
     },
     "metadata": {},
     "output_type": "display_data"
    }
   ],
   "source": [
    "packageVersion(\"dplyr\")"
   ]
  },
  {
   "cell_type": "code",
   "execution_count": 7,
   "metadata": {},
   "outputs": [
    {
     "data": {
      "text/html": [
       "<ol class=list-inline>\n",
       "\t<li>'tbl_df'</li>\n",
       "\t<li>'tbl'</li>\n",
       "\t<li>'data.frame'</li>\n",
       "</ol>\n"
      ],
      "text/latex": [
       "\\begin{enumerate*}\n",
       "\\item 'tbl\\_df'\n",
       "\\item 'tbl'\n",
       "\\item 'data.frame'\n",
       "\\end{enumerate*}\n"
      ],
      "text/markdown": [
       "1. 'tbl_df'\n",
       "2. 'tbl'\n",
       "3. 'data.frame'\n",
       "\n",
       "\n"
      ],
      "text/plain": [
       "[1] \"tbl_df\"     \"tbl\"        \"data.frame\""
      ]
     },
     "metadata": {},
     "output_type": "display_data"
    }
   ],
   "source": [
    "tbl_hflights <- tbl_df(hflights)\n",
    "class(tbl_hflights)"
   ]
  },
  {
   "cell_type": "code",
   "execution_count": 8,
   "metadata": {},
   "outputs": [
    {
     "name": "stdout",
     "output_type": "stream",
     "text": [
      "# A tibble: 227,496 x 21\n",
      "    Year Month DayofMonth DayOfWeek DepTime ArrTime UniqueCarrier FlightNum\n",
      " * <int> <int>      <int>     <int>   <int>   <int>         <chr>     <int>\n",
      " 1  2011     1          1         6    1400    1500            AA       428\n",
      " 2  2011     1          2         7    1401    1501            AA       428\n",
      " 3  2011     1          3         1    1352    1502            AA       428\n",
      " 4  2011     1          4         2    1403    1513            AA       428\n",
      " 5  2011     1          5         3    1405    1507            AA       428\n",
      " 6  2011     1          6         4    1359    1503            AA       428\n",
      " 7  2011     1          7         5    1359    1509            AA       428\n",
      " 8  2011     1          8         6    1355    1454            AA       428\n",
      " 9  2011     1          9         7    1443    1554            AA       428\n",
      "10  2011     1         10         1    1443    1553            AA       428\n",
      "# ... with 227,486 more rows, and 13 more variables: TailNum <chr>,\n",
      "#   ActualElapsedTime <int>, AirTime <int>, ArrDelay <int>, DepDelay <int>,\n",
      "#   Origin <chr>, Dest <chr>, Distance <int>, TaxiIn <int>, TaxiOut <int>,\n",
      "#   Cancelled <int>, CancellationCode <chr>, Diverted <int>\n"
     ]
    }
   ],
   "source": [
    "print(tbl_hflights)"
   ]
  },
  {
   "cell_type": "markdown",
   "metadata": {},
   "source": [
    "### 变量筛选`select`"
   ]
  },
  {
   "cell_type": "markdown",
   "metadata": {},
   "source": [
    "select函数可以通过指定列名选择指定的变量进行分析"
   ]
  },
  {
   "cell_type": "code",
   "execution_count": 11,
   "metadata": {},
   "outputs": [
    {
     "name": "stdout",
     "output_type": "stream",
     "text": [
      "# A tibble: 227,496 x 5\n",
      "    Year Month DayofMonth FlightNum Distance\n",
      " * <int> <int>      <int>     <int>    <int>\n",
      " 1  2011     1          1       428      224\n",
      " 2  2011     1          2       428      224\n",
      " 3  2011     1          3       428      224\n",
      " 4  2011     1          4       428      224\n",
      " 5  2011     1          5       428      224\n",
      " 6  2011     1          6       428      224\n",
      " 7  2011     1          7       428      224\n",
      " 8  2011     1          8       428      224\n",
      " 9  2011     1          9       428      224\n",
      "10  2011     1         10       428      224\n",
      "# ... with 227,486 more rows\n"
     ]
    }
   ],
   "source": [
    "tbl_hflights_select1 <- select(tbl_hflights, Year, Month, DayofMonth, FlightNum, Distance)\n",
    "print(tbl_hflights_select1)"
   ]
  },
  {
   "cell_type": "code",
   "execution_count": 12,
   "metadata": {},
   "outputs": [
    {
     "name": "stdout",
     "output_type": "stream",
     "text": [
      "# A tibble: 227,496 x 6\n",
      "    Year Month DayofMonth DayOfWeek DepTime ArrTime\n",
      " * <int> <int>      <int>     <int>   <int>   <int>\n",
      " 1  2011     1          1         6    1400    1500\n",
      " 2  2011     1          2         7    1401    1501\n",
      " 3  2011     1          3         1    1352    1502\n",
      " 4  2011     1          4         2    1403    1513\n",
      " 5  2011     1          5         3    1405    1507\n",
      " 6  2011     1          6         4    1359    1503\n",
      " 7  2011     1          7         5    1359    1509\n",
      " 8  2011     1          8         6    1355    1454\n",
      " 9  2011     1          9         7    1443    1554\n",
      "10  2011     1         10         1    1443    1553\n",
      "# ... with 227,486 more rows\n"
     ]
    }
   ],
   "source": [
    "tbl_hflights_select1 <- select(tbl_hflights, Year:ArrTime)\n",
    "print(tbl_hflights_select1)"
   ]
  },
  {
   "cell_type": "code",
   "execution_count": 13,
   "metadata": {},
   "outputs": [
    {
     "name": "stdout",
     "output_type": "stream",
     "text": [
      "# A tibble: 227,496 x 6\n",
      "   ArrTime DepTime DayOfWeek DayofMonth Month  Year\n",
      " *   <int>   <int>     <int>      <int> <int> <int>\n",
      " 1    1500    1400         6          1     1  2011\n",
      " 2    1501    1401         7          2     1  2011\n",
      " 3    1502    1352         1          3     1  2011\n",
      " 4    1513    1403         2          4     1  2011\n",
      " 5    1507    1405         3          5     1  2011\n",
      " 6    1503    1359         4          6     1  2011\n",
      " 7    1509    1359         5          7     1  2011\n",
      " 8    1454    1355         6          8     1  2011\n",
      " 9    1554    1443         7          9     1  2011\n",
      "10    1553    1443         1         10     1  2011\n",
      "# ... with 227,486 more rows\n"
     ]
    }
   ],
   "source": [
    "tbl_hflights_select1 <- select(tbl_hflights, ArrTime:Year)\n",
    "print(tbl_hflights_select1)"
   ]
  },
  {
   "cell_type": "code",
   "execution_count": 15,
   "metadata": {},
   "outputs": [
    {
     "name": "stdout",
     "output_type": "stream",
     "text": [
      "# A tibble: 227,496 x 16\n",
      "   DayOfWeek DepTime ArrTime UniqueCarrier TailNum ActualElapsedTime AirTime\n",
      " *     <int>   <int>   <int>         <chr>   <chr>             <int>   <int>\n",
      " 1         6    1400    1500            AA  N576AA                60      40\n",
      " 2         7    1401    1501            AA  N557AA                60      45\n",
      " 3         1    1352    1502            AA  N541AA                70      48\n",
      " 4         2    1403    1513            AA  N403AA                70      39\n",
      " 5         3    1405    1507            AA  N492AA                62      44\n",
      " 6         4    1359    1503            AA  N262AA                64      45\n",
      " 7         5    1359    1509            AA  N493AA                70      43\n",
      " 8         6    1355    1454            AA  N477AA                59      40\n",
      " 9         7    1443    1554            AA  N476AA                71      41\n",
      "10         1    1443    1553            AA  N504AA                70      45\n",
      "# ... with 227,486 more rows, and 9 more variables: ArrDelay <int>,\n",
      "#   DepDelay <int>, Origin <chr>, Dest <chr>, TaxiIn <int>, TaxiOut <int>,\n",
      "#   Cancelled <int>, CancellationCode <chr>, Diverted <int>\n"
     ]
    }
   ],
   "source": [
    "print(select(tbl_hflights, -Year, -Month, -DayofMonth, -FlightNum, -Distance))"
   ]
  },
  {
   "cell_type": "code",
   "execution_count": 16,
   "metadata": {},
   "outputs": [
    {
     "name": "stdout",
     "output_type": "stream",
     "text": [
      "# A tibble: 227,496 x 15\n",
      "   UniqueCarrier FlightNum TailNum ActualElapsedTime AirTime ArrDelay DepDelay\n",
      " *         <chr>     <int>   <chr>             <int>   <int>    <int>    <int>\n",
      " 1            AA       428  N576AA                60      40      -10        0\n",
      " 2            AA       428  N557AA                60      45       -9        1\n",
      " 3            AA       428  N541AA                70      48       -8       -8\n",
      " 4            AA       428  N403AA                70      39        3        3\n",
      " 5            AA       428  N492AA                62      44       -3        5\n",
      " 6            AA       428  N262AA                64      45       -7       -1\n",
      " 7            AA       428  N493AA                70      43       -1       -1\n",
      " 8            AA       428  N477AA                59      40      -16       -5\n",
      " 9            AA       428  N476AA                71      41       44       43\n",
      "10            AA       428  N504AA                70      45       43       43\n",
      "# ... with 227,486 more rows, and 8 more variables: Origin <chr>, Dest <chr>,\n",
      "#   Distance <int>, TaxiIn <int>, TaxiOut <int>, Cancelled <int>,\n",
      "#   CancellationCode <chr>, Diverted <int>\n"
     ]
    }
   ],
   "source": [
    "print(select(tbl_hflights, -(Year:ArrTime)))"
   ]
  },
  {
   "cell_type": "markdown",
   "metadata": {},
   "source": [
    "### 数据记录筛选`filter`"
   ]
  },
  {
   "cell_type": "markdown",
   "metadata": {},
   "source": [
    "`filter`函数按照指定的条件筛选符合逻辑判断要求的数据记录，类似SQL语句中的`where`语句中的筛选条件。"
   ]
  },
  {
   "cell_type": "code",
   "execution_count": 20,
   "metadata": {},
   "outputs": [
    {
     "name": "stdout",
     "output_type": "stream",
     "text": [
      "# A tibble: 14 x 21\n",
      "    Year Month DayofMonth DayOfWeek DepTime ArrTime UniqueCarrier FlightNum\n",
      "   <int> <int>      <int>     <int>   <int>   <int>         <chr>     <int>\n",
      " 1  2011     1          1         6    1400    1500            AA       428\n",
      " 2  2011     1         28         5    1400    1710            CO      1548\n",
      " 3  2011     1         16         7    1400    1702            CO      1562\n",
      " 4  2011     1          4         2    1400    1448            WN        32\n",
      " 5  2011     1          8         6    1400    1452            WN      1447\n",
      " 6  2011     1         12         3    1400    1522            WN       712\n",
      " 7  2011     1         18         2    1400    1530            WN       604\n",
      " 8  2011     1         24         1    1400    1516            WN       712\n",
      " 9  2011     1         25         2    1400    1458            WN        32\n",
      "10  2011     1         28         5    1400    1735            XE      3078\n",
      "11  2011     1         22         6    1400    1700            XE      2715\n",
      "12  2011     1         19         3    1400    1653            XE      2715\n",
      "13  2011     1         11         2    1400    1511            XE      2773\n",
      "14  2011     1          2         7    1400    1716            XE      2572\n",
      "# ... with 13 more variables: TailNum <chr>, ActualElapsedTime <int>,\n",
      "#   AirTime <int>, ArrDelay <int>, DepDelay <int>, Origin <chr>, Dest <chr>,\n",
      "#   Distance <int>, TaxiIn <int>, TaxiOut <int>, Cancelled <int>,\n",
      "#   CancellationCode <chr>, Diverted <int>\n"
     ]
    }
   ],
   "source": [
    "print(filter(tbl_hflights,Year == 2011, Month == 1, DepTime == 1400))"
   ]
  },
  {
   "cell_type": "code",
   "execution_count": 21,
   "metadata": {},
   "outputs": [
    {
     "name": "stdout",
     "output_type": "stream",
     "text": [
      "# A tibble: 14 x 21\n",
      "    Year Month DayofMonth DayOfWeek DepTime ArrTime UniqueCarrier FlightNum\n",
      "   <int> <int>      <int>     <int>   <int>   <int>         <chr>     <int>\n",
      " 1  2011     1          1         6    1400    1500            AA       428\n",
      " 2  2011     1         28         5    1400    1710            CO      1548\n",
      " 3  2011     1         16         7    1400    1702            CO      1562\n",
      " 4  2011     1          4         2    1400    1448            WN        32\n",
      " 5  2011     1          8         6    1400    1452            WN      1447\n",
      " 6  2011     1         12         3    1400    1522            WN       712\n",
      " 7  2011     1         18         2    1400    1530            WN       604\n",
      " 8  2011     1         24         1    1400    1516            WN       712\n",
      " 9  2011     1         25         2    1400    1458            WN        32\n",
      "10  2011     1         28         5    1400    1735            XE      3078\n",
      "11  2011     1         22         6    1400    1700            XE      2715\n",
      "12  2011     1         19         3    1400    1653            XE      2715\n",
      "13  2011     1         11         2    1400    1511            XE      2773\n",
      "14  2011     1          2         7    1400    1716            XE      2572\n",
      "# ... with 13 more variables: TailNum <chr>, ActualElapsedTime <int>,\n",
      "#   AirTime <int>, ArrDelay <int>, DepDelay <int>, Origin <chr>, Dest <chr>,\n",
      "#   Distance <int>, TaxiIn <int>, TaxiOut <int>, Cancelled <int>,\n",
      "#   CancellationCode <chr>, Diverted <int>\n"
     ]
    }
   ],
   "source": [
    "print(filter(tbl_hflights, Year == 2011 & Month == 1 & DepTime == 1400))"
   ]
  },
  {
   "cell_type": "code",
   "execution_count": 22,
   "metadata": {},
   "outputs": [
    {
     "name": "stdout",
     "output_type": "stream",
     "text": [
      "# A tibble: 9,068 x 21\n",
      "    Year Month DayofMonth DayOfWeek DepTime ArrTime UniqueCarrier FlightNum\n",
      "   <int> <int>      <int>     <int>   <int>   <int>         <chr>     <int>\n",
      " 1  2011     1          1         6    1400    1500            AA       428\n",
      " 2  2011     1          3         1    1352    1502            AA       428\n",
      " 3  2011     1          6         4    1359    1503            AA       428\n",
      " 4  2011     1          7         5    1359    1509            AA       428\n",
      " 5  2011     1          8         6    1355    1454            AA       428\n",
      " 6  2011     1         13         4    1358    1501            AA       428\n",
      " 7  2011     1         14         5    1357    1504            AA       428\n",
      " 8  2011     1         15         6    1359    1459            AA       428\n",
      " 9  2011     1         16         7    1359    1509            AA       428\n",
      "10  2011     1         19         3    1356    1503            AA       428\n",
      "# ... with 9,058 more rows, and 13 more variables: TailNum <chr>,\n",
      "#   ActualElapsedTime <int>, AirTime <int>, ArrDelay <int>, DepDelay <int>,\n",
      "#   Origin <chr>, Dest <chr>, Distance <int>, TaxiIn <int>, TaxiOut <int>,\n",
      "#   Cancelled <int>, CancellationCode <chr>, Diverted <int>\n"
     ]
    }
   ],
   "source": [
    "print(filter(tbl_hflights, Year == 2011 & Month == 1 & DepTime <= 1400))"
   ]
  },
  {
   "cell_type": "code",
   "execution_count": 23,
   "metadata": {},
   "outputs": [
    {
     "name": "stdout",
     "output_type": "stream",
     "text": [
      "# A tibble: 1 x 21\n",
      "   Year Month DayofMonth DayOfWeek DepTime ArrTime UniqueCarrier FlightNum\n",
      "  <int> <int>      <int>     <int>   <int>   <int>         <chr>     <int>\n",
      "1  2011     1          1         6    1400    1500            AA       428\n",
      "# ... with 13 more variables: TailNum <chr>, ActualElapsedTime <int>,\n",
      "#   AirTime <int>, ArrDelay <int>, DepDelay <int>, Origin <chr>, Dest <chr>,\n",
      "#   Distance <int>, TaxiIn <int>, TaxiOut <int>, Cancelled <int>,\n",
      "#   CancellationCode <chr>, Diverted <int>\n"
     ]
    }
   ],
   "source": [
    "print(filter(tbl_hflights, Year == 2011 & Month == 1 & (DepTime == 1400 | DepTime == 1430) & UniqueCarrier == \"AA\"))"
   ]
  },
  {
   "cell_type": "markdown",
   "metadata": {},
   "source": [
    "### 数据排序`arrange`"
   ]
  },
  {
   "cell_type": "markdown",
   "metadata": {},
   "source": [
    "`arrange`函数按给定的列名进行排序，默认为升序排列，也可以对列名加`desc()`进行降序排列。"
   ]
  },
  {
   "cell_type": "code",
   "execution_count": 25,
   "metadata": {},
   "outputs": [],
   "source": [
    "tbl_hflights_select1 <- select(filter(tbl_hflights,Year == 2011 & Month == 1 & DepTime == 1400),Year:ArrTime,AirTime)"
   ]
  },
  {
   "cell_type": "code",
   "execution_count": 27,
   "metadata": {},
   "outputs": [
    {
     "name": "stdout",
     "output_type": "stream",
     "text": [
      "# A tibble: 14 x 7\n",
      "    Year Month DayofMonth DayOfWeek DepTime ArrTime AirTime\n",
      "   <int> <int>      <int>     <int>   <int>   <int>   <int>\n",
      " 1  2011     1          1         6    1400    1500      40\n",
      " 2  2011     1         28         5    1400    1710     112\n",
      " 3  2011     1         16         7    1400    1702     104\n",
      " 4  2011     1          4         2    1400    1448      40\n",
      " 5  2011     1          8         6    1400    1452      40\n",
      " 6  2011     1         12         3    1400    1522     129\n",
      " 7  2011     1         18         2    1400    1530      65\n",
      " 8  2011     1         24         1    1400    1516     122\n",
      " 9  2011     1         25         2    1400    1458      40\n",
      "10  2011     1         28         5    1400    1735     142\n",
      "11  2011     1         22         6    1400    1700     107\n",
      "12  2011     1         19         3    1400    1653     103\n",
      "13  2011     1         11         2    1400    1511      53\n",
      "14  2011     1          2         7    1400    1716     118\n"
     ]
    }
   ],
   "source": [
    "print(tbl_hflights_select1)"
   ]
  },
  {
   "cell_type": "code",
   "execution_count": 29,
   "metadata": {},
   "outputs": [
    {
     "name": "stdout",
     "output_type": "stream",
     "text": [
      "# A tibble: 14 x 7\n",
      "    Year Month DayofMonth DayOfWeek DepTime ArrTime AirTime\n",
      "   <int> <int>      <int>     <int>   <int>   <int>   <int>\n",
      " 1  2011     1          4         2    1400    1448      40\n",
      " 2  2011     1          8         6    1400    1452      40\n",
      " 3  2011     1         25         2    1400    1458      40\n",
      " 4  2011     1          1         6    1400    1500      40\n",
      " 5  2011     1         11         2    1400    1511      53\n",
      " 6  2011     1         24         1    1400    1516     122\n",
      " 7  2011     1         12         3    1400    1522     129\n",
      " 8  2011     1         18         2    1400    1530      65\n",
      " 9  2011     1         19         3    1400    1653     103\n",
      "10  2011     1         22         6    1400    1700     107\n",
      "11  2011     1         16         7    1400    1702     104\n",
      "12  2011     1         28         5    1400    1710     112\n",
      "13  2011     1          2         7    1400    1716     118\n",
      "14  2011     1         28         5    1400    1735     142\n"
     ]
    }
   ],
   "source": [
    "print(arrange(tbl_hflights_select1, ArrTime))"
   ]
  },
  {
   "cell_type": "code",
   "execution_count": 31,
   "metadata": {},
   "outputs": [
    {
     "name": "stdout",
     "output_type": "stream",
     "text": [
      "# A tibble: 14 x 7\n",
      "    Year Month DayofMonth DayOfWeek DepTime ArrTime AirTime\n",
      "   <int> <int>      <int>     <int>   <int>   <int>   <int>\n",
      " 1  2011     1         28         5    1400    1735     142\n",
      " 2  2011     1         12         3    1400    1522     129\n",
      " 3  2011     1         24         1    1400    1516     122\n",
      " 4  2011     1          2         7    1400    1716     118\n",
      " 5  2011     1         28         5    1400    1710     112\n",
      " 6  2011     1         22         6    1400    1700     107\n",
      " 7  2011     1         16         7    1400    1702     104\n",
      " 8  2011     1         19         3    1400    1653     103\n",
      " 9  2011     1         18         2    1400    1530      65\n",
      "10  2011     1         11         2    1400    1511      53\n",
      "11  2011     1          4         2    1400    1448      40\n",
      "12  2011     1          8         6    1400    1452      40\n",
      "13  2011     1         25         2    1400    1458      40\n",
      "14  2011     1          1         6    1400    1500      40\n"
     ]
    }
   ],
   "source": [
    "print(arrange(tbl_hflights_select1,desc(AirTime), ArrTime))"
   ]
  },
  {
   "cell_type": "markdown",
   "metadata": {},
   "source": [
    "### 变量的变换/重构`mutate`"
   ]
  },
  {
   "cell_type": "markdown",
   "metadata": {},
   "source": [
    "`mutate`函数可以基于原始变量重新计算得到新的变量，在做数据分析预处理的时候经常会用到该功能。"
   ]
  },
  {
   "cell_type": "code",
   "execution_count": 32,
   "metadata": {},
   "outputs": [],
   "source": [
    "tbl_hflights2 <- mutate(tbl_hflights_select1, \n",
    "                        DurTime = (as.numeric(substr(ArrTime,1,2)) - as.numeric(substr(DepTime,1,2))) * 60 + as.numeric(substr(ArrTime,3,4)),\n",
    "                        Dur_Time1 = DurTime*60)"
   ]
  },
  {
   "cell_type": "code",
   "execution_count": 33,
   "metadata": {},
   "outputs": [
    {
     "name": "stdout",
     "output_type": "stream",
     "text": [
      "# A tibble: 14 x 9\n",
      "    Year Month DayofMonth DayOfWeek DepTime ArrTime AirTime DurTime Dur_Time1\n",
      "   <int> <int>      <int>     <int>   <int>   <int>   <int>   <dbl>     <dbl>\n",
      " 1  2011     1          1         6    1400    1500      40      60      3600\n",
      " 2  2011     1         28         5    1400    1710     112     190     11400\n",
      " 3  2011     1         16         7    1400    1702     104     182     10920\n",
      " 4  2011     1          4         2    1400    1448      40      48      2880\n",
      " 5  2011     1          8         6    1400    1452      40      52      3120\n",
      " 6  2011     1         12         3    1400    1522     129      82      4920\n",
      " 7  2011     1         18         2    1400    1530      65      90      5400\n",
      " 8  2011     1         24         1    1400    1516     122      76      4560\n",
      " 9  2011     1         25         2    1400    1458      40      58      3480\n",
      "10  2011     1         28         5    1400    1735     142     215     12900\n",
      "11  2011     1         22         6    1400    1700     107     180     10800\n",
      "12  2011     1         19         3    1400    1653     103     173     10380\n",
      "13  2011     1         11         2    1400    1511      53      71      4260\n",
      "14  2011     1          2         7    1400    1716     118     196     11760\n"
     ]
    }
   ],
   "source": [
    "print(tbl_hflights2)"
   ]
  },
  {
   "cell_type": "markdown",
   "metadata": {},
   "source": [
    "### 数据汇总`summarize`"
   ]
  },
  {
   "cell_type": "markdown",
   "metadata": {},
   "source": [
    "`summarize`函数实现对数据的汇总，比如求和，计算平均值等。"
   ]
  },
  {
   "cell_type": "code",
   "execution_count": 34,
   "metadata": {},
   "outputs": [
    {
     "data": {
      "text/html": [
       "<table>\n",
       "<thead><tr><th scope=col>avg_dur</th><th scope=col>sum_air</th></tr></thead>\n",
       "<tbody>\n",
       "\t<tr><td>119.5</td><td>1215 </td></tr>\n",
       "</tbody>\n",
       "</table>\n"
      ],
      "text/latex": [
       "\\begin{tabular}{r|ll}\n",
       " avg\\_dur & sum\\_air\\\\\n",
       "\\hline\n",
       "\t 119.5 & 1215 \\\\\n",
       "\\end{tabular}\n"
      ],
      "text/markdown": [
       "\n",
       "avg_dur | sum_air | \n",
       "|---|\n",
       "| 119.5 | 1215  | \n",
       "\n",
       "\n"
      ],
      "text/plain": [
       "  avg_dur sum_air\n",
       "1 119.5   1215   "
      ]
     },
     "metadata": {},
     "output_type": "display_data"
    }
   ],
   "source": [
    "summarize(tbl_hflights2, avg_dur = mean(DurTime), sum_air = sum(AirTime))"
   ]
  },
  {
   "cell_type": "markdown",
   "metadata": {},
   "source": [
    "### 数据分组`group_by`"
   ]
  },
  {
   "cell_type": "markdown",
   "metadata": {},
   "source": [
    "`group_by`函数实现对数据进行分组，结合`summarize`函数，可以对分组数据进行汇总攻击。"
   ]
  },
  {
   "cell_type": "code",
   "execution_count": 35,
   "metadata": {},
   "outputs": [
    {
     "data": {
      "text/html": [
       "<table>\n",
       "<thead><tr><th scope=col>UniqueCarrier</th><th scope=col>m</th><th scope=col>sd</th><th scope=col>cnt</th><th scope=col>me</th></tr></thead>\n",
       "<tbody>\n",
       "\t<tr><td>AA       </td><td> 69.65261</td><td>35.483594</td><td> 3244    </td><td> 46.0    </td></tr>\n",
       "\t<tr><td>AS       </td><td>254.18407</td><td>15.150000</td><td>  365    </td><td>253.0    </td></tr>\n",
       "\t<tr><td>B6       </td><td>183.98514</td><td>15.025170</td><td>  695    </td><td>182.0    </td></tr>\n",
       "\t<tr><td>CO       </td><td>145.45787</td><td>63.857076</td><td>70032    </td><td>148.0    </td></tr>\n",
       "\t<tr><td>DL       </td><td> 97.80124</td><td>15.174082</td><td> 2641    </td><td> 94.0    </td></tr>\n",
       "\t<tr><td>EV       </td><td>103.65677</td><td>30.060020</td><td> 2204    </td><td> 94.0    </td></tr>\n",
       "\t<tr><td>F9       </td><td>125.34135</td><td> 8.347381</td><td>  838    </td><td>125.0    </td></tr>\n",
       "\t<tr><td>FL       </td><td> 92.70630</td><td> 8.554146</td><td> 2139    </td><td> 93.0    </td></tr>\n",
       "\t<tr><td>MQ       </td><td> 93.83948</td><td>52.804255</td><td> 4648    </td><td> 55.0    </td></tr>\n",
       "\t<tr><td>OO       </td><td>113.41068</td><td>37.742644</td><td>16061    </td><td>115.0    </td></tr>\n",
       "\t<tr><td>UA       </td><td>157.40630</td><td>46.018346</td><td> 2072    </td><td>136.0    </td></tr>\n",
       "\t<tr><td>US       </td><td>133.85633</td><td>17.020565</td><td> 4082    </td><td>130.0    </td></tr>\n",
       "\t<tr><td>WN       </td><td> 86.73134</td><td>51.146657</td><td>45343    </td><td> 69.0    </td></tr>\n",
       "\t<tr><td>XE       </td><td> 83.22215</td><td>33.679941</td><td>73053    </td><td> 80.0    </td></tr>\n",
       "\t<tr><td>YV       </td><td>121.93590</td><td> 9.366062</td><td>   79    </td><td>119.5    </td></tr>\n",
       "</tbody>\n",
       "</table>\n"
      ],
      "text/latex": [
       "\\begin{tabular}{r|lllll}\n",
       " UniqueCarrier & m & sd & cnt & me\\\\\n",
       "\\hline\n",
       "\t AA        &  69.65261 & 35.483594 &  3244     &  46.0    \\\\\n",
       "\t AS        & 254.18407 & 15.150000 &   365     & 253.0    \\\\\n",
       "\t B6        & 183.98514 & 15.025170 &   695     & 182.0    \\\\\n",
       "\t CO        & 145.45787 & 63.857076 & 70032     & 148.0    \\\\\n",
       "\t DL        &  97.80124 & 15.174082 &  2641     &  94.0    \\\\\n",
       "\t EV        & 103.65677 & 30.060020 &  2204     &  94.0    \\\\\n",
       "\t F9        & 125.34135 &  8.347381 &   838     & 125.0    \\\\\n",
       "\t FL        &  92.70630 &  8.554146 &  2139     &  93.0    \\\\\n",
       "\t MQ        &  93.83948 & 52.804255 &  4648     &  55.0    \\\\\n",
       "\t OO        & 113.41068 & 37.742644 & 16061     & 115.0    \\\\\n",
       "\t UA        & 157.40630 & 46.018346 &  2072     & 136.0    \\\\\n",
       "\t US        & 133.85633 & 17.020565 &  4082     & 130.0    \\\\\n",
       "\t WN        &  86.73134 & 51.146657 & 45343     &  69.0    \\\\\n",
       "\t XE        &  83.22215 & 33.679941 & 73053     &  80.0    \\\\\n",
       "\t YV        & 121.93590 &  9.366062 &    79     & 119.5    \\\\\n",
       "\\end{tabular}\n"
      ],
      "text/markdown": [
       "\n",
       "UniqueCarrier | m | sd | cnt | me | \n",
       "|---|---|---|---|---|---|---|---|---|---|---|---|---|---|---|\n",
       "| AA        |  69.65261 | 35.483594 |  3244     |  46.0     | \n",
       "| AS        | 254.18407 | 15.150000 |   365     | 253.0     | \n",
       "| B6        | 183.98514 | 15.025170 |   695     | 182.0     | \n",
       "| CO        | 145.45787 | 63.857076 | 70032     | 148.0     | \n",
       "| DL        |  97.80124 | 15.174082 |  2641     |  94.0     | \n",
       "| EV        | 103.65677 | 30.060020 |  2204     |  94.0     | \n",
       "| F9        | 125.34135 |  8.347381 |   838     | 125.0     | \n",
       "| FL        |  92.70630 |  8.554146 |  2139     |  93.0     | \n",
       "| MQ        |  93.83948 | 52.804255 |  4648     |  55.0     | \n",
       "| OO        | 113.41068 | 37.742644 | 16061     | 115.0     | \n",
       "| UA        | 157.40630 | 46.018346 |  2072     | 136.0     | \n",
       "| US        | 133.85633 | 17.020565 |  4082     | 130.0     | \n",
       "| WN        |  86.73134 | 51.146657 | 45343     |  69.0     | \n",
       "| XE        |  83.22215 | 33.679941 | 73053     |  80.0     | \n",
       "| YV        | 121.93590 |  9.366062 |    79     | 119.5     | \n",
       "\n",
       "\n"
      ],
      "text/plain": [
       "   UniqueCarrier m         sd        cnt   me   \n",
       "1  AA             69.65261 35.483594  3244  46.0\n",
       "2  AS            254.18407 15.150000   365 253.0\n",
       "3  B6            183.98514 15.025170   695 182.0\n",
       "4  CO            145.45787 63.857076 70032 148.0\n",
       "5  DL             97.80124 15.174082  2641  94.0\n",
       "6  EV            103.65677 30.060020  2204  94.0\n",
       "7  F9            125.34135  8.347381   838 125.0\n",
       "8  FL             92.70630  8.554146  2139  93.0\n",
       "9  MQ             93.83948 52.804255  4648  55.0\n",
       "10 OO            113.41068 37.742644 16061 115.0\n",
       "11 UA            157.40630 46.018346  2072 136.0\n",
       "12 US            133.85633 17.020565  4082 130.0\n",
       "13 WN             86.73134 51.146657 45343  69.0\n",
       "14 XE             83.22215 33.679941 73053  80.0\n",
       "15 YV            121.93590  9.366062    79 119.5"
      ]
     },
     "metadata": {},
     "output_type": "display_data"
    }
   ],
   "source": [
    "summarize(group_by(tbl_hflights, UniqueCarrier), \n",
    "          m = mean(AirTime, na.rm = TRUE),\n",
    "          sd = sd(AirTime, na.rm = TRUE),\n",
    "          cnt = n(),\n",
    "          me = median(AirTime, na.rm = TRUE))"
   ]
  },
  {
   "cell_type": "markdown",
   "metadata": {},
   "source": [
    "### 多步操作连接符`%>%"
   ]
  },
  {
   "cell_type": "markdown",
   "metadata": {},
   "source": [
    "`dplyr`包里还新引进了一个操作符，`%>%`，使用时把数据集名作为开头，然后依次对数据进行多步操作。\n",
    "\n",
    "这种运算符的编写方式使得编程者可以按照数据处理时的思路写代码，一步一步操作不断叠加上，在程序上就可以非常清晰的体现数据处理的步骤与背后的逻辑。"
   ]
  },
  {
   "cell_type": "code",
   "execution_count": 36,
   "metadata": {},
   "outputs": [
    {
     "data": {
      "text/html": [
       "<table>\n",
       "<thead><tr><th scope=col>UniqueCarrier</th><th scope=col>m</th><th scope=col>sd</th></tr></thead>\n",
       "<tbody>\n",
       "\t<tr><td>AS       </td><td>254.18407</td><td>15.150000</td></tr>\n",
       "\t<tr><td>B6       </td><td>183.98514</td><td>15.025170</td></tr>\n",
       "\t<tr><td>UA       </td><td>157.40630</td><td>46.018346</td></tr>\n",
       "\t<tr><td>CO       </td><td>145.45787</td><td>63.857076</td></tr>\n",
       "\t<tr><td>US       </td><td>133.85633</td><td>17.020565</td></tr>\n",
       "\t<tr><td>F9       </td><td>125.34135</td><td> 8.347381</td></tr>\n",
       "\t<tr><td>YV       </td><td>121.93590</td><td> 9.366062</td></tr>\n",
       "\t<tr><td>OO       </td><td>113.41068</td><td>37.742644</td></tr>\n",
       "\t<tr><td>EV       </td><td>103.65677</td><td>30.060020</td></tr>\n",
       "\t<tr><td>DL       </td><td> 97.80124</td><td>15.174082</td></tr>\n",
       "</tbody>\n",
       "</table>\n"
      ],
      "text/latex": [
       "\\begin{tabular}{r|lll}\n",
       " UniqueCarrier & m & sd\\\\\n",
       "\\hline\n",
       "\t AS        & 254.18407 & 15.150000\\\\\n",
       "\t B6        & 183.98514 & 15.025170\\\\\n",
       "\t UA        & 157.40630 & 46.018346\\\\\n",
       "\t CO        & 145.45787 & 63.857076\\\\\n",
       "\t US        & 133.85633 & 17.020565\\\\\n",
       "\t F9        & 125.34135 &  8.347381\\\\\n",
       "\t YV        & 121.93590 &  9.366062\\\\\n",
       "\t OO        & 113.41068 & 37.742644\\\\\n",
       "\t EV        & 103.65677 & 30.060020\\\\\n",
       "\t DL        &  97.80124 & 15.174082\\\\\n",
       "\\end{tabular}\n"
      ],
      "text/markdown": [
       "\n",
       "UniqueCarrier | m | sd | \n",
       "|---|---|---|---|---|---|---|---|---|---|\n",
       "| AS        | 254.18407 | 15.150000 | \n",
       "| B6        | 183.98514 | 15.025170 | \n",
       "| UA        | 157.40630 | 46.018346 | \n",
       "| CO        | 145.45787 | 63.857076 | \n",
       "| US        | 133.85633 | 17.020565 | \n",
       "| F9        | 125.34135 |  8.347381 | \n",
       "| YV        | 121.93590 |  9.366062 | \n",
       "| OO        | 113.41068 | 37.742644 | \n",
       "| EV        | 103.65677 | 30.060020 | \n",
       "| DL        |  97.80124 | 15.174082 | \n",
       "\n",
       "\n"
      ],
      "text/plain": [
       "   UniqueCarrier m         sd       \n",
       "1  AS            254.18407 15.150000\n",
       "2  B6            183.98514 15.025170\n",
       "3  UA            157.40630 46.018346\n",
       "4  CO            145.45787 63.857076\n",
       "5  US            133.85633 17.020565\n",
       "6  F9            125.34135  8.347381\n",
       "7  YV            121.93590  9.366062\n",
       "8  OO            113.41068 37.742644\n",
       "9  EV            103.65677 30.060020\n",
       "10 DL             97.80124 15.174082"
      ]
     },
     "metadata": {},
     "output_type": "display_data"
    }
   ],
   "source": [
    "tbl_hflights %>%\n",
    "    group_by(UniqueCarrier) %>%\n",
    "    summarize(m = mean(AirTime, na.rm = TRUE), sd = sd(AirTime, na.rm = TRUE)) %>%\n",
    "    arrange(desc(m), sd) %>%\n",
    "    head(10)"
   ]
  },
  {
   "cell_type": "markdown",
   "metadata": {},
   "source": [
    "### 挑选随机样本`sample_n, sample_frac`"
   ]
  },
  {
   "cell_type": "markdown",
   "metadata": {},
   "source": [
    "`sample_n`随机选取指定个数（样本容量）的样本数；`sample_frac`随机选出指定百分比（占整个数据集总体百分比）的样本数。"
   ]
  },
  {
   "cell_type": "code",
   "execution_count": 38,
   "metadata": {},
   "outputs": [
    {
     "name": "stdout",
     "output_type": "stream",
     "text": [
      "# A tibble: 10 x 21\n",
      "    Year Month DayofMonth DayOfWeek DepTime ArrTime UniqueCarrier FlightNum\n",
      "   <int> <int>      <int>     <int>   <int>   <int>         <chr>     <int>\n",
      " 1  2011    12         22         4    1436    1800            CO      1439\n",
      " 2  2011    10         29         6    1919    2249            CO      1730\n",
      " 3  2011     3         21         1     846    1159            CO      1873\n",
      " 4  2011     2         24         4     726     849            UA       109\n",
      " 5  2011     1         12         3    1154    1451            DL      1512\n",
      " 6  2011     6         20         1    1515    1631            XE      2778\n",
      " 7  2011     3          8         2    1534    1622            XE      2442\n",
      " 8  2011     4          7         4    2018    2113            CO       479\n",
      " 9  2011    12          4         7    1835    2033            XE      4370\n",
      "10  2011     2         28         1    1757    1920            WN        41\n",
      "# ... with 13 more variables: TailNum <chr>, ActualElapsedTime <int>,\n",
      "#   AirTime <int>, ArrDelay <int>, DepDelay <int>, Origin <chr>, Dest <chr>,\n",
      "#   Distance <int>, TaxiIn <int>, TaxiOut <int>, Cancelled <int>,\n",
      "#   CancellationCode <chr>, Diverted <int>\n"
     ]
    }
   ],
   "source": [
    "print(sample_n(tbl_hflights,10))"
   ]
  },
  {
   "cell_type": "code",
   "execution_count": 39,
   "metadata": {},
   "outputs": [
    {
     "data": {
      "text/html": [
       "<table>\n",
       "<thead><tr><th scope=col>UniqueCarrier</th><th scope=col>m</th><th scope=col>cnt</th></tr></thead>\n",
       "<tbody>\n",
       "\t<tr><td>AS      </td><td>2106.422</td><td>  45    </td></tr>\n",
       "\t<tr><td>B6      </td><td>1685.127</td><td>  57    </td></tr>\n",
       "\t<tr><td>CO      </td><td>1656.970</td><td>7105    </td></tr>\n",
       "\t<tr><td>OO      </td><td>1622.726</td><td>1540    </td></tr>\n",
       "\t<tr><td>XE      </td><td>1582.023</td><td>7216    </td></tr>\n",
       "\t<tr><td>FL      </td><td>1576.348</td><td> 206    </td></tr>\n",
       "\t<tr><td>WN      </td><td>1505.173</td><td>4583    </td></tr>\n",
       "\t<tr><td>YV      </td><td>1478.250</td><td>   8    </td></tr>\n",
       "\t<tr><td>MQ      </td><td>1457.804</td><td> 468    </td></tr>\n",
       "\t<tr><td>UA      </td><td>1452.833</td><td> 208    </td></tr>\n",
       "\t<tr><td>EV      </td><td>1448.556</td><td> 217    </td></tr>\n",
       "\t<tr><td>DL      </td><td>1425.712</td><td> 268    </td></tr>\n",
       "\t<tr><td>AA      </td><td>1424.649</td><td> 327    </td></tr>\n",
       "\t<tr><td>US      </td><td>1392.169</td><td> 415    </td></tr>\n",
       "\t<tr><td>F9      </td><td>1298.046</td><td>  87    </td></tr>\n",
       "</tbody>\n",
       "</table>\n"
      ],
      "text/latex": [
       "\\begin{tabular}{r|lll}\n",
       " UniqueCarrier & m & cnt\\\\\n",
       "\\hline\n",
       "\t AS       & 2106.422 &   45    \\\\\n",
       "\t B6       & 1685.127 &   57    \\\\\n",
       "\t CO       & 1656.970 & 7105    \\\\\n",
       "\t OO       & 1622.726 & 1540    \\\\\n",
       "\t XE       & 1582.023 & 7216    \\\\\n",
       "\t FL       & 1576.348 &  206    \\\\\n",
       "\t WN       & 1505.173 & 4583    \\\\\n",
       "\t YV       & 1478.250 &    8    \\\\\n",
       "\t MQ       & 1457.804 &  468    \\\\\n",
       "\t UA       & 1452.833 &  208    \\\\\n",
       "\t EV       & 1448.556 &  217    \\\\\n",
       "\t DL       & 1425.712 &  268    \\\\\n",
       "\t AA       & 1424.649 &  327    \\\\\n",
       "\t US       & 1392.169 &  415    \\\\\n",
       "\t F9       & 1298.046 &   87    \\\\\n",
       "\\end{tabular}\n"
      ],
      "text/markdown": [
       "\n",
       "UniqueCarrier | m | cnt | \n",
       "|---|---|---|---|---|---|---|---|---|---|---|---|---|---|---|\n",
       "| AS       | 2106.422 |   45     | \n",
       "| B6       | 1685.127 |   57     | \n",
       "| CO       | 1656.970 | 7105     | \n",
       "| OO       | 1622.726 | 1540     | \n",
       "| XE       | 1582.023 | 7216     | \n",
       "| FL       | 1576.348 |  206     | \n",
       "| WN       | 1505.173 | 4583     | \n",
       "| YV       | 1478.250 |    8     | \n",
       "| MQ       | 1457.804 |  468     | \n",
       "| UA       | 1452.833 |  208     | \n",
       "| EV       | 1448.556 |  217     | \n",
       "| DL       | 1425.712 |  268     | \n",
       "| AA       | 1424.649 |  327     | \n",
       "| US       | 1392.169 |  415     | \n",
       "| F9       | 1298.046 |   87     | \n",
       "\n",
       "\n"
      ],
      "text/plain": [
       "   UniqueCarrier m        cnt \n",
       "1  AS            2106.422   45\n",
       "2  B6            1685.127   57\n",
       "3  CO            1656.970 7105\n",
       "4  OO            1622.726 1540\n",
       "5  XE            1582.023 7216\n",
       "6  FL            1576.348  206\n",
       "7  WN            1505.173 4583\n",
       "8  YV            1478.250    8\n",
       "9  MQ            1457.804  468\n",
       "10 UA            1452.833  208\n",
       "11 EV            1448.556  217\n",
       "12 DL            1425.712  268\n",
       "13 AA            1424.649  327\n",
       "14 US            1392.169  415\n",
       "15 F9            1298.046   87"
      ]
     },
     "metadata": {},
     "output_type": "display_data"
    }
   ],
   "source": [
    "tbl_hflights %>%\n",
    "    sample_frac(0.1) %>%\n",
    "    select(Year:UniqueCarrier) %>%\n",
    "    group_by(UniqueCarrier) %>%\n",
    "    summarise(m = mean(ArrTime, na.rm = TRUE), cnt = n()) %>%\n",
    "    arrange(desc(m))"
   ]
  }
 ],
 "metadata": {
  "kernelspec": {
   "display_name": "R",
   "language": "R",
   "name": "ir"
  },
  "language_info": {
   "codemirror_mode": "r",
   "file_extension": ".r",
   "mimetype": "text/x-r-source",
   "name": "R",
   "pygments_lexer": "r",
   "version": "3.4.2"
  },
  "toc": {
   "nav_menu": {
    "height": "292px",
    "width": "224px"
   },
   "number_sections": true,
   "sideBar": true,
   "skip_h1_title": false,
   "toc_cell": false,
   "toc_position": {
    "height": "833px",
    "left": "0px",
    "right": "auto",
    "top": "110px",
    "width": "275px"
   },
   "toc_section_display": "block",
   "toc_window_display": true
  }
 },
 "nbformat": 4,
 "nbformat_minor": 2
}
